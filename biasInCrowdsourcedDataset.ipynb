{
  "cells": [
    {
      "cell_type": "markdown",
      "metadata": {
        "id": "FzjOxYC9R39L"
      },
      "source": [
        "**Goals**\n",
        "\n",
        "Crowdsourcing annotations has become a fundamental aspect of NLP research. The goal of this hands-on exercise is to explore the ethical implications of soliciting crowdsourced data, specifically social biases that may emerge when asking for generated sentences.\n",
        "\n",
        "**Overview**\n",
        "\n",
        "In this exercise, you will perform a “bias audit” of an NLP dataset produced by crowdsourcing. You will attempt to measure the presence of social stereotypes in this dataset that may have harmful effects if used to train classifiers in downstream tasks.\n",
        "\n",
        "We will use pointwise mutual information (PMI) to find which associations are being made with identity labels. PMI can be used as a measure of word association in a corpus, i.e. how frequently two words co-occur above what might just be expected based on their frequencies.\n",
        "\n",
        "See the [PMI Wikipedia page](https://en.wikipedia.org/wiki/Pointwise_mutual_information) for more details. Here we use PMI to measure which words co-occur with labels for identities. This allows us to see associations that may perpetuate stereotypes.\n",
        "\n",
        "After this analysis, you will present specific examples from the data that you speculate could be particularly biased and problematic.\n",
        "\n",
        "Assignment design credits: [11-830 Computational Ethics in NLP Course](https://maartensap.com/11830/Spring2024/hw1.html)"
      ]
    },
    {
      "cell_type": "markdown",
      "metadata": {
        "id": "hHOWZ5v4T1Fh"
      },
      "source": [
        "**Load and prepare dataset**"
      ]
    },
    {
      "cell_type": "code",
      "execution_count": 2,
      "metadata": {
        "colab": {
          "base_uri": "https://localhost:8080/"
        },
        "id": "8CG09qhCT_my",
        "outputId": "fc84e496-482e-4183-dc68-baf1ed5ee8ef"
      },
      "outputs": [
        {
          "output_type": "stream",
          "name": "stdout",
          "text": [
            "Mounted at /content/drive\n",
            "identity_labels.txt  snli_1.0_train.jsonl\n"
          ]
        }
      ],
      "source": [
        "from google.colab import drive\n",
        "drive.mount('/content/drive')\n",
        "!ls \"/content/drive/MyDrive/Colab Notebooks/ss-data\""
      ]
    },
    {
      "cell_type": "code",
      "execution_count": 3,
      "metadata": {
        "colab": {
          "base_uri": "https://localhost:8080/"
        },
        "collapsed": true,
        "id": "9vRRv_ldU2J4",
        "outputId": "736e3f04-2080-4d1d-d70f-c5b38e274cb4"
      },
      "outputs": [
        {
          "output_type": "stream",
          "name": "stdout",
          "text": [
            "['woman', 'women', 'man', 'men', 'girl', 'girls', 'boy', 'boys', 'she', 'he', 'her', 'him', 'his', 'female', 'male', 'mother', 'father', 'sister', 'brother', 'daughter', 'son', 'feminine', 'masculine', 'androgynous', 'trans', 'transgender', 'transsexual', 'nonbinary', 'non-binary', 'two-spirit', 'hijra', 'genderqueer', 'black', 'asian', 'hispanic', 'white', 'african', 'american', 'latino', 'latina', 'caucasian', 'africans', 'middle-eastern', 'australian', 'australians', 'asians', 'european', 'europeans', 'chinese', 'indian', 'indonesian', 'brazilian', 'pakistani', 'bangladeshi', 'russian', 'nigerian', 'japanese', 'mexican', 'filipino ', 'vietnamese ', 'german', 'egyptian', 'ethiopian', 'turkish', 'iranian', 'thai', 'congolese', 'french', 'british ', 'italian', 'korean', 'burmese', 'canadian ', 'australian ', 'spanish', 'dutch', 'swiss', 'saudi', 'argentinian ', 'taiwanese ', 'swedish ', 'belgian', 'polish', 'israeli', 'irish', 'greek', 'ukrainian ', 'jamaican ', 'mongolian', 'armenian', 'disability', 'disabled', 'handicap', 'handicapped', 'mentally', 'mental', 'autistic', 'autism', 'lesbian', 'lesbians', 'gay', 'bisexual', 'pansexual', 'asexual', 'queer', 'straight', 'muslim', 'christian', 'jew', 'jewish', 'sikh', 'buddhist', 'hindu', 'atheist', 'muslims', 'christians', 'jews', 'sikhs', 'buddhists', 'hindus', 'atheists', 'old', 'elderly', 'retired', 'teenage', 'young', 'senior', 'seniors', 'teenager', 'teenagers', '']\n"
          ]
        }
      ],
      "source": [
        "#List of identity labels (based on Rudinger et al. 2017)\n",
        "#More comprehensive list can be obtained from Jain et al. 2024\n",
        "with open(\"/content/drive/MyDrive/Colab Notebooks/ss-data/identity_labels.txt\", 'r') as f:\n",
        "    identity_labels = f.read().split(\"\\n\")\n",
        "print(identity_labels)"
      ]
    },
    {
      "cell_type": "code",
      "execution_count": 4,
      "metadata": {
        "colab": {
          "base_uri": "https://localhost:8080/",
          "height": 1000
        },
        "collapsed": true,
        "id": "XWD9q-oQQ1ZI",
        "outputId": "7b413cbb-f270-4e67-fd7e-d30b490bd242"
      },
      "outputs": [
        {
          "output_type": "execute_result",
          "data": {
            "text/plain": [
              "       annotator_labels         captionID     gold_label               pairID  \\\n",
              "0             [neutral]  3416050480.jpg#4        neutral  3416050480.jpg#4r1n   \n",
              "1       [contradiction]  3416050480.jpg#4  contradiction  3416050480.jpg#4r1c   \n",
              "2          [entailment]  3416050480.jpg#4     entailment  3416050480.jpg#4r1e   \n",
              "3             [neutral]  2267923837.jpg#2        neutral  2267923837.jpg#2r1n   \n",
              "4          [entailment]  2267923837.jpg#2     entailment  2267923837.jpg#2r1e   \n",
              "...                 ...               ...            ...                  ...   \n",
              "550147  [contradiction]  2267923837.jpg#3  contradiction  2267923837.jpg#3r1c   \n",
              "550148        [neutral]  2267923837.jpg#3        neutral  2267923837.jpg#3r1n   \n",
              "550149        [neutral]  7979219683.jpg#2        neutral  7979219683.jpg#2r1n   \n",
              "550150  [contradiction]  7979219683.jpg#2  contradiction  7979219683.jpg#2r1c   \n",
              "550151     [entailment]  7979219683.jpg#2     entailment  7979219683.jpg#2r1e   \n",
              "\n",
              "                                                sentence1  \\\n",
              "0       A person on a horse jumps over a broken down a...   \n",
              "1       A person on a horse jumps over a broken down a...   \n",
              "2       A person on a horse jumps over a broken down a...   \n",
              "3                   Children smiling and waving at camera   \n",
              "4                   Children smiling and waving at camera   \n",
              "...                                                   ...   \n",
              "550147                Four dirty and barefooted children.   \n",
              "550148                Four dirty and barefooted children.   \n",
              "550149  A man is surfing in a bodysuit in beautiful bl...   \n",
              "550150  A man is surfing in a bodysuit in beautiful bl...   \n",
              "550151  A man is surfing in a bodysuit in beautiful bl...   \n",
              "\n",
              "                                   sentence1_binary_parse  \\\n",
              "0       ( ( ( A person ) ( on ( a horse ) ) ) ( ( jump...   \n",
              "1       ( ( ( A person ) ( on ( a horse ) ) ) ( ( jump...   \n",
              "2       ( ( ( A person ) ( on ( a horse ) ) ) ( ( jump...   \n",
              "3       ( Children ( ( ( smiling and ) waving ) ( at c...   \n",
              "4       ( Children ( ( ( smiling and ) waving ) ( at c...   \n",
              "...                                                   ...   \n",
              "550147  ( ( ( ( Four dirty ) and ) ( barefooted childr...   \n",
              "550148  ( ( ( ( Four dirty ) and ) ( barefooted childr...   \n",
              "550149  ( ( A man ) ( ( is ( surfing ( in ( ( a bodysu...   \n",
              "550150  ( ( A man ) ( ( is ( surfing ( in ( ( a bodysu...   \n",
              "550151  ( ( A man ) ( ( is ( surfing ( in ( ( a bodysu...   \n",
              "\n",
              "                                          sentence1_parse  \\\n",
              "0       (ROOT (S (NP (NP (DT A) (NN person)) (PP (IN o...   \n",
              "1       (ROOT (S (NP (NP (DT A) (NN person)) (PP (IN o...   \n",
              "2       (ROOT (S (NP (NP (DT A) (NN person)) (PP (IN o...   \n",
              "3       (ROOT (NP (S (NP (NNP Children)) (VP (VBG smil...   \n",
              "4       (ROOT (NP (S (NP (NNP Children)) (VP (VBG smil...   \n",
              "...                                                   ...   \n",
              "550147  (ROOT (NP (NP (CD Four) (NNS dirty)) (CC and) ...   \n",
              "550148  (ROOT (NP (NP (CD Four) (NNS dirty)) (CC and) ...   \n",
              "550149  (ROOT (S (NP (DT A) (NN man)) (VP (VBZ is) (VP...   \n",
              "550150  (ROOT (S (NP (DT A) (NN man)) (VP (VBZ is) (VP...   \n",
              "550151  (ROOT (S (NP (DT A) (NN man)) (VP (VBZ is) (VP...   \n",
              "\n",
              "                                                sentence2  \\\n",
              "0       A person is training his horse for a competition.   \n",
              "1           A person is at a diner, ordering an omelette.   \n",
              "2                       A person is outdoors, on a horse.   \n",
              "3                       They are smiling at their parents   \n",
              "4                              There are children present   \n",
              "...                                                   ...   \n",
              "550147           four kids won awards for 'cleanest feet'   \n",
              "550148  four homeless children had their shoes stolen,...   \n",
              "550149  A man in a bodysuit is competing in a surfing ...   \n",
              "550150  A man in a business suit is heading to a board...   \n",
              "550151  On the beautiful blue water there is a man in ...   \n",
              "\n",
              "                                   sentence2_binary_parse  \\\n",
              "0       ( ( A person ) ( ( is ( ( training ( his horse...   \n",
              "1       ( ( A person ) ( ( ( ( is ( at ( a diner ) ) )...   \n",
              "2       ( ( A person ) ( ( ( ( is outdoors ) , ) ( on ...   \n",
              "3       ( They ( are ( smiling ( at ( their parents ) ...   \n",
              "4                  ( There ( ( are children ) present ) )   \n",
              "...                                                   ...   \n",
              "550147  ( ( four kids ) ( ( won awards ) ( ( ( for ` )...   \n",
              "550148  ( ( ( ( ( ( four ( homeless children ) ) ( had...   \n",
              "550149  ( ( ( A man ) ( in ( a bodysuit ) ) ) ( ( is (...   \n",
              "550150  ( ( ( A man ) ( in ( a ( business suit ) ) ) )...   \n",
              "550151  ( ( On ( the ( beautiful ( blue water ) ) ) ) ...   \n",
              "\n",
              "                                          sentence2_parse  \n",
              "0       (ROOT (S (NP (DT A) (NN person)) (VP (VBZ is) ...  \n",
              "1       (ROOT (S (NP (DT A) (NN person)) (VP (VBZ is) ...  \n",
              "2       (ROOT (S (NP (DT A) (NN person)) (VP (VBZ is) ...  \n",
              "3       (ROOT (S (NP (PRP They)) (VP (VBP are) (VP (VB...  \n",
              "4       (ROOT (S (NP (EX There)) (VP (VBP are) (NP (NN...  \n",
              "...                                                   ...  \n",
              "550147  (ROOT (S (NP (CD four) (NNS kids)) (VP (VBD wo...  \n",
              "550148  (ROOT (S (S (NP (CD four) (JJ homeless) (NNS c...  \n",
              "550149  (ROOT (S (NP (NP (DT A) (NN man)) (PP (IN in) ...  \n",
              "550150  (ROOT (S (NP (NP (DT A) (NN man)) (PP (IN in) ...  \n",
              "550151  (ROOT (S (PP (IN On) (NP (DT the) (JJ beautifu...  \n",
              "\n",
              "[550152 rows x 10 columns]"
            ],
            "text/html": [
              "\n",
              "  <div id=\"df-9aeefbd5-d0c8-4a85-8871-54aca03ecc97\" class=\"colab-df-container\">\n",
              "    <div>\n",
              "<style scoped>\n",
              "    .dataframe tbody tr th:only-of-type {\n",
              "        vertical-align: middle;\n",
              "    }\n",
              "\n",
              "    .dataframe tbody tr th {\n",
              "        vertical-align: top;\n",
              "    }\n",
              "\n",
              "    .dataframe thead th {\n",
              "        text-align: right;\n",
              "    }\n",
              "</style>\n",
              "<table border=\"1\" class=\"dataframe\">\n",
              "  <thead>\n",
              "    <tr style=\"text-align: right;\">\n",
              "      <th></th>\n",
              "      <th>annotator_labels</th>\n",
              "      <th>captionID</th>\n",
              "      <th>gold_label</th>\n",
              "      <th>pairID</th>\n",
              "      <th>sentence1</th>\n",
              "      <th>sentence1_binary_parse</th>\n",
              "      <th>sentence1_parse</th>\n",
              "      <th>sentence2</th>\n",
              "      <th>sentence2_binary_parse</th>\n",
              "      <th>sentence2_parse</th>\n",
              "    </tr>\n",
              "  </thead>\n",
              "  <tbody>\n",
              "    <tr>\n",
              "      <th>0</th>\n",
              "      <td>[neutral]</td>\n",
              "      <td>3416050480.jpg#4</td>\n",
              "      <td>neutral</td>\n",
              "      <td>3416050480.jpg#4r1n</td>\n",
              "      <td>A person on a horse jumps over a broken down a...</td>\n",
              "      <td>( ( ( A person ) ( on ( a horse ) ) ) ( ( jump...</td>\n",
              "      <td>(ROOT (S (NP (NP (DT A) (NN person)) (PP (IN o...</td>\n",
              "      <td>A person is training his horse for a competition.</td>\n",
              "      <td>( ( A person ) ( ( is ( ( training ( his horse...</td>\n",
              "      <td>(ROOT (S (NP (DT A) (NN person)) (VP (VBZ is) ...</td>\n",
              "    </tr>\n",
              "    <tr>\n",
              "      <th>1</th>\n",
              "      <td>[contradiction]</td>\n",
              "      <td>3416050480.jpg#4</td>\n",
              "      <td>contradiction</td>\n",
              "      <td>3416050480.jpg#4r1c</td>\n",
              "      <td>A person on a horse jumps over a broken down a...</td>\n",
              "      <td>( ( ( A person ) ( on ( a horse ) ) ) ( ( jump...</td>\n",
              "      <td>(ROOT (S (NP (NP (DT A) (NN person)) (PP (IN o...</td>\n",
              "      <td>A person is at a diner, ordering an omelette.</td>\n",
              "      <td>( ( A person ) ( ( ( ( is ( at ( a diner ) ) )...</td>\n",
              "      <td>(ROOT (S (NP (DT A) (NN person)) (VP (VBZ is) ...</td>\n",
              "    </tr>\n",
              "    <tr>\n",
              "      <th>2</th>\n",
              "      <td>[entailment]</td>\n",
              "      <td>3416050480.jpg#4</td>\n",
              "      <td>entailment</td>\n",
              "      <td>3416050480.jpg#4r1e</td>\n",
              "      <td>A person on a horse jumps over a broken down a...</td>\n",
              "      <td>( ( ( A person ) ( on ( a horse ) ) ) ( ( jump...</td>\n",
              "      <td>(ROOT (S (NP (NP (DT A) (NN person)) (PP (IN o...</td>\n",
              "      <td>A person is outdoors, on a horse.</td>\n",
              "      <td>( ( A person ) ( ( ( ( is outdoors ) , ) ( on ...</td>\n",
              "      <td>(ROOT (S (NP (DT A) (NN person)) (VP (VBZ is) ...</td>\n",
              "    </tr>\n",
              "    <tr>\n",
              "      <th>3</th>\n",
              "      <td>[neutral]</td>\n",
              "      <td>2267923837.jpg#2</td>\n",
              "      <td>neutral</td>\n",
              "      <td>2267923837.jpg#2r1n</td>\n",
              "      <td>Children smiling and waving at camera</td>\n",
              "      <td>( Children ( ( ( smiling and ) waving ) ( at c...</td>\n",
              "      <td>(ROOT (NP (S (NP (NNP Children)) (VP (VBG smil...</td>\n",
              "      <td>They are smiling at their parents</td>\n",
              "      <td>( They ( are ( smiling ( at ( their parents ) ...</td>\n",
              "      <td>(ROOT (S (NP (PRP They)) (VP (VBP are) (VP (VB...</td>\n",
              "    </tr>\n",
              "    <tr>\n",
              "      <th>4</th>\n",
              "      <td>[entailment]</td>\n",
              "      <td>2267923837.jpg#2</td>\n",
              "      <td>entailment</td>\n",
              "      <td>2267923837.jpg#2r1e</td>\n",
              "      <td>Children smiling and waving at camera</td>\n",
              "      <td>( Children ( ( ( smiling and ) waving ) ( at c...</td>\n",
              "      <td>(ROOT (NP (S (NP (NNP Children)) (VP (VBG smil...</td>\n",
              "      <td>There are children present</td>\n",
              "      <td>( There ( ( are children ) present ) )</td>\n",
              "      <td>(ROOT (S (NP (EX There)) (VP (VBP are) (NP (NN...</td>\n",
              "    </tr>\n",
              "    <tr>\n",
              "      <th>...</th>\n",
              "      <td>...</td>\n",
              "      <td>...</td>\n",
              "      <td>...</td>\n",
              "      <td>...</td>\n",
              "      <td>...</td>\n",
              "      <td>...</td>\n",
              "      <td>...</td>\n",
              "      <td>...</td>\n",
              "      <td>...</td>\n",
              "      <td>...</td>\n",
              "    </tr>\n",
              "    <tr>\n",
              "      <th>550147</th>\n",
              "      <td>[contradiction]</td>\n",
              "      <td>2267923837.jpg#3</td>\n",
              "      <td>contradiction</td>\n",
              "      <td>2267923837.jpg#3r1c</td>\n",
              "      <td>Four dirty and barefooted children.</td>\n",
              "      <td>( ( ( ( Four dirty ) and ) ( barefooted childr...</td>\n",
              "      <td>(ROOT (NP (NP (CD Four) (NNS dirty)) (CC and) ...</td>\n",
              "      <td>four kids won awards for 'cleanest feet'</td>\n",
              "      <td>( ( four kids ) ( ( won awards ) ( ( ( for ` )...</td>\n",
              "      <td>(ROOT (S (NP (CD four) (NNS kids)) (VP (VBD wo...</td>\n",
              "    </tr>\n",
              "    <tr>\n",
              "      <th>550148</th>\n",
              "      <td>[neutral]</td>\n",
              "      <td>2267923837.jpg#3</td>\n",
              "      <td>neutral</td>\n",
              "      <td>2267923837.jpg#3r1n</td>\n",
              "      <td>Four dirty and barefooted children.</td>\n",
              "      <td>( ( ( ( Four dirty ) and ) ( barefooted childr...</td>\n",
              "      <td>(ROOT (NP (NP (CD Four) (NNS dirty)) (CC and) ...</td>\n",
              "      <td>four homeless children had their shoes stolen,...</td>\n",
              "      <td>( ( ( ( ( ( four ( homeless children ) ) ( had...</td>\n",
              "      <td>(ROOT (S (S (NP (CD four) (JJ homeless) (NNS c...</td>\n",
              "    </tr>\n",
              "    <tr>\n",
              "      <th>550149</th>\n",
              "      <td>[neutral]</td>\n",
              "      <td>7979219683.jpg#2</td>\n",
              "      <td>neutral</td>\n",
              "      <td>7979219683.jpg#2r1n</td>\n",
              "      <td>A man is surfing in a bodysuit in beautiful bl...</td>\n",
              "      <td>( ( A man ) ( ( is ( surfing ( in ( ( a bodysu...</td>\n",
              "      <td>(ROOT (S (NP (DT A) (NN man)) (VP (VBZ is) (VP...</td>\n",
              "      <td>A man in a bodysuit is competing in a surfing ...</td>\n",
              "      <td>( ( ( A man ) ( in ( a bodysuit ) ) ) ( ( is (...</td>\n",
              "      <td>(ROOT (S (NP (NP (DT A) (NN man)) (PP (IN in) ...</td>\n",
              "    </tr>\n",
              "    <tr>\n",
              "      <th>550150</th>\n",
              "      <td>[contradiction]</td>\n",
              "      <td>7979219683.jpg#2</td>\n",
              "      <td>contradiction</td>\n",
              "      <td>7979219683.jpg#2r1c</td>\n",
              "      <td>A man is surfing in a bodysuit in beautiful bl...</td>\n",
              "      <td>( ( A man ) ( ( is ( surfing ( in ( ( a bodysu...</td>\n",
              "      <td>(ROOT (S (NP (DT A) (NN man)) (VP (VBZ is) (VP...</td>\n",
              "      <td>A man in a business suit is heading to a board...</td>\n",
              "      <td>( ( ( A man ) ( in ( a ( business suit ) ) ) )...</td>\n",
              "      <td>(ROOT (S (NP (NP (DT A) (NN man)) (PP (IN in) ...</td>\n",
              "    </tr>\n",
              "    <tr>\n",
              "      <th>550151</th>\n",
              "      <td>[entailment]</td>\n",
              "      <td>7979219683.jpg#2</td>\n",
              "      <td>entailment</td>\n",
              "      <td>7979219683.jpg#2r1e</td>\n",
              "      <td>A man is surfing in a bodysuit in beautiful bl...</td>\n",
              "      <td>( ( A man ) ( ( is ( surfing ( in ( ( a bodysu...</td>\n",
              "      <td>(ROOT (S (NP (DT A) (NN man)) (VP (VBZ is) (VP...</td>\n",
              "      <td>On the beautiful blue water there is a man in ...</td>\n",
              "      <td>( ( On ( the ( beautiful ( blue water ) ) ) ) ...</td>\n",
              "      <td>(ROOT (S (PP (IN On) (NP (DT the) (JJ beautifu...</td>\n",
              "    </tr>\n",
              "  </tbody>\n",
              "</table>\n",
              "<p>550152 rows × 10 columns</p>\n",
              "</div>\n",
              "    <div class=\"colab-df-buttons\">\n",
              "\n",
              "  <div class=\"colab-df-container\">\n",
              "    <button class=\"colab-df-convert\" onclick=\"convertToInteractive('df-9aeefbd5-d0c8-4a85-8871-54aca03ecc97')\"\n",
              "            title=\"Convert this dataframe to an interactive table.\"\n",
              "            style=\"display:none;\">\n",
              "\n",
              "  <svg xmlns=\"http://www.w3.org/2000/svg\" height=\"24px\" viewBox=\"0 -960 960 960\">\n",
              "    <path d=\"M120-120v-720h720v720H120Zm60-500h600v-160H180v160Zm220 220h160v-160H400v160Zm0 220h160v-160H400v160ZM180-400h160v-160H180v160Zm440 0h160v-160H620v160ZM180-180h160v-160H180v160Zm440 0h160v-160H620v160Z\"/>\n",
              "  </svg>\n",
              "    </button>\n",
              "\n",
              "  <style>\n",
              "    .colab-df-container {\n",
              "      display:flex;\n",
              "      gap: 12px;\n",
              "    }\n",
              "\n",
              "    .colab-df-convert {\n",
              "      background-color: #E8F0FE;\n",
              "      border: none;\n",
              "      border-radius: 50%;\n",
              "      cursor: pointer;\n",
              "      display: none;\n",
              "      fill: #1967D2;\n",
              "      height: 32px;\n",
              "      padding: 0 0 0 0;\n",
              "      width: 32px;\n",
              "    }\n",
              "\n",
              "    .colab-df-convert:hover {\n",
              "      background-color: #E2EBFA;\n",
              "      box-shadow: 0px 1px 2px rgba(60, 64, 67, 0.3), 0px 1px 3px 1px rgba(60, 64, 67, 0.15);\n",
              "      fill: #174EA6;\n",
              "    }\n",
              "\n",
              "    .colab-df-buttons div {\n",
              "      margin-bottom: 4px;\n",
              "    }\n",
              "\n",
              "    [theme=dark] .colab-df-convert {\n",
              "      background-color: #3B4455;\n",
              "      fill: #D2E3FC;\n",
              "    }\n",
              "\n",
              "    [theme=dark] .colab-df-convert:hover {\n",
              "      background-color: #434B5C;\n",
              "      box-shadow: 0px 1px 3px 1px rgba(0, 0, 0, 0.15);\n",
              "      filter: drop-shadow(0px 1px 2px rgba(0, 0, 0, 0.3));\n",
              "      fill: #FFFFFF;\n",
              "    }\n",
              "  </style>\n",
              "\n",
              "    <script>\n",
              "      const buttonEl =\n",
              "        document.querySelector('#df-9aeefbd5-d0c8-4a85-8871-54aca03ecc97 button.colab-df-convert');\n",
              "      buttonEl.style.display =\n",
              "        google.colab.kernel.accessAllowed ? 'block' : 'none';\n",
              "\n",
              "      async function convertToInteractive(key) {\n",
              "        const element = document.querySelector('#df-9aeefbd5-d0c8-4a85-8871-54aca03ecc97');\n",
              "        const dataTable =\n",
              "          await google.colab.kernel.invokeFunction('convertToInteractive',\n",
              "                                                    [key], {});\n",
              "        if (!dataTable) return;\n",
              "\n",
              "        const docLinkHtml = 'Like what you see? Visit the ' +\n",
              "          '<a target=\"_blank\" href=https://colab.research.google.com/notebooks/data_table.ipynb>data table notebook</a>'\n",
              "          + ' to learn more about interactive tables.';\n",
              "        element.innerHTML = '';\n",
              "        dataTable['output_type'] = 'display_data';\n",
              "        await google.colab.output.renderOutput(dataTable, element);\n",
              "        const docLink = document.createElement('div');\n",
              "        docLink.innerHTML = docLinkHtml;\n",
              "        element.appendChild(docLink);\n",
              "      }\n",
              "    </script>\n",
              "  </div>\n",
              "\n",
              "\n",
              "<div id=\"df-c371bdcd-f534-4b42-8409-bb4b83a553c1\">\n",
              "  <button class=\"colab-df-quickchart\" onclick=\"quickchart('df-c371bdcd-f534-4b42-8409-bb4b83a553c1')\"\n",
              "            title=\"Suggest charts\"\n",
              "            style=\"display:none;\">\n",
              "\n",
              "<svg xmlns=\"http://www.w3.org/2000/svg\" height=\"24px\"viewBox=\"0 0 24 24\"\n",
              "     width=\"24px\">\n",
              "    <g>\n",
              "        <path d=\"M19 3H5c-1.1 0-2 .9-2 2v14c0 1.1.9 2 2 2h14c1.1 0 2-.9 2-2V5c0-1.1-.9-2-2-2zM9 17H7v-7h2v7zm4 0h-2V7h2v10zm4 0h-2v-4h2v4z\"/>\n",
              "    </g>\n",
              "</svg>\n",
              "  </button>\n",
              "\n",
              "<style>\n",
              "  .colab-df-quickchart {\n",
              "      --bg-color: #E8F0FE;\n",
              "      --fill-color: #1967D2;\n",
              "      --hover-bg-color: #E2EBFA;\n",
              "      --hover-fill-color: #174EA6;\n",
              "      --disabled-fill-color: #AAA;\n",
              "      --disabled-bg-color: #DDD;\n",
              "  }\n",
              "\n",
              "  [theme=dark] .colab-df-quickchart {\n",
              "      --bg-color: #3B4455;\n",
              "      --fill-color: #D2E3FC;\n",
              "      --hover-bg-color: #434B5C;\n",
              "      --hover-fill-color: #FFFFFF;\n",
              "      --disabled-bg-color: #3B4455;\n",
              "      --disabled-fill-color: #666;\n",
              "  }\n",
              "\n",
              "  .colab-df-quickchart {\n",
              "    background-color: var(--bg-color);\n",
              "    border: none;\n",
              "    border-radius: 50%;\n",
              "    cursor: pointer;\n",
              "    display: none;\n",
              "    fill: var(--fill-color);\n",
              "    height: 32px;\n",
              "    padding: 0;\n",
              "    width: 32px;\n",
              "  }\n",
              "\n",
              "  .colab-df-quickchart:hover {\n",
              "    background-color: var(--hover-bg-color);\n",
              "    box-shadow: 0 1px 2px rgba(60, 64, 67, 0.3), 0 1px 3px 1px rgba(60, 64, 67, 0.15);\n",
              "    fill: var(--button-hover-fill-color);\n",
              "  }\n",
              "\n",
              "  .colab-df-quickchart-complete:disabled,\n",
              "  .colab-df-quickchart-complete:disabled:hover {\n",
              "    background-color: var(--disabled-bg-color);\n",
              "    fill: var(--disabled-fill-color);\n",
              "    box-shadow: none;\n",
              "  }\n",
              "\n",
              "  .colab-df-spinner {\n",
              "    border: 2px solid var(--fill-color);\n",
              "    border-color: transparent;\n",
              "    border-bottom-color: var(--fill-color);\n",
              "    animation:\n",
              "      spin 1s steps(1) infinite;\n",
              "  }\n",
              "\n",
              "  @keyframes spin {\n",
              "    0% {\n",
              "      border-color: transparent;\n",
              "      border-bottom-color: var(--fill-color);\n",
              "      border-left-color: var(--fill-color);\n",
              "    }\n",
              "    20% {\n",
              "      border-color: transparent;\n",
              "      border-left-color: var(--fill-color);\n",
              "      border-top-color: var(--fill-color);\n",
              "    }\n",
              "    30% {\n",
              "      border-color: transparent;\n",
              "      border-left-color: var(--fill-color);\n",
              "      border-top-color: var(--fill-color);\n",
              "      border-right-color: var(--fill-color);\n",
              "    }\n",
              "    40% {\n",
              "      border-color: transparent;\n",
              "      border-right-color: var(--fill-color);\n",
              "      border-top-color: var(--fill-color);\n",
              "    }\n",
              "    60% {\n",
              "      border-color: transparent;\n",
              "      border-right-color: var(--fill-color);\n",
              "    }\n",
              "    80% {\n",
              "      border-color: transparent;\n",
              "      border-right-color: var(--fill-color);\n",
              "      border-bottom-color: var(--fill-color);\n",
              "    }\n",
              "    90% {\n",
              "      border-color: transparent;\n",
              "      border-bottom-color: var(--fill-color);\n",
              "    }\n",
              "  }\n",
              "</style>\n",
              "\n",
              "  <script>\n",
              "    async function quickchart(key) {\n",
              "      const quickchartButtonEl =\n",
              "        document.querySelector('#' + key + ' button');\n",
              "      quickchartButtonEl.disabled = true;  // To prevent multiple clicks.\n",
              "      quickchartButtonEl.classList.add('colab-df-spinner');\n",
              "      try {\n",
              "        const charts = await google.colab.kernel.invokeFunction(\n",
              "            'suggestCharts', [key], {});\n",
              "      } catch (error) {\n",
              "        console.error('Error during call to suggestCharts:', error);\n",
              "      }\n",
              "      quickchartButtonEl.classList.remove('colab-df-spinner');\n",
              "      quickchartButtonEl.classList.add('colab-df-quickchart-complete');\n",
              "    }\n",
              "    (() => {\n",
              "      let quickchartButtonEl =\n",
              "        document.querySelector('#df-c371bdcd-f534-4b42-8409-bb4b83a553c1 button');\n",
              "      quickchartButtonEl.style.display =\n",
              "        google.colab.kernel.accessAllowed ? 'block' : 'none';\n",
              "    })();\n",
              "  </script>\n",
              "</div>\n",
              "\n",
              "  <div id=\"id_93179a91-1d04-4b20-8747-cfff2d8314fc\">\n",
              "    <style>\n",
              "      .colab-df-generate {\n",
              "        background-color: #E8F0FE;\n",
              "        border: none;\n",
              "        border-radius: 50%;\n",
              "        cursor: pointer;\n",
              "        display: none;\n",
              "        fill: #1967D2;\n",
              "        height: 32px;\n",
              "        padding: 0 0 0 0;\n",
              "        width: 32px;\n",
              "      }\n",
              "\n",
              "      .colab-df-generate:hover {\n",
              "        background-color: #E2EBFA;\n",
              "        box-shadow: 0px 1px 2px rgba(60, 64, 67, 0.3), 0px 1px 3px 1px rgba(60, 64, 67, 0.15);\n",
              "        fill: #174EA6;\n",
              "      }\n",
              "\n",
              "      [theme=dark] .colab-df-generate {\n",
              "        background-color: #3B4455;\n",
              "        fill: #D2E3FC;\n",
              "      }\n",
              "\n",
              "      [theme=dark] .colab-df-generate:hover {\n",
              "        background-color: #434B5C;\n",
              "        box-shadow: 0px 1px 3px 1px rgba(0, 0, 0, 0.15);\n",
              "        filter: drop-shadow(0px 1px 2px rgba(0, 0, 0, 0.3));\n",
              "        fill: #FFFFFF;\n",
              "      }\n",
              "    </style>\n",
              "    <button class=\"colab-df-generate\" onclick=\"generateWithVariable('snli_data')\"\n",
              "            title=\"Generate code using this dataframe.\"\n",
              "            style=\"display:none;\">\n",
              "\n",
              "  <svg xmlns=\"http://www.w3.org/2000/svg\" height=\"24px\"viewBox=\"0 0 24 24\"\n",
              "       width=\"24px\">\n",
              "    <path d=\"M7,19H8.4L18.45,9,17,7.55,7,17.6ZM5,21V16.75L18.45,3.32a2,2,0,0,1,2.83,0l1.4,1.43a1.91,1.91,0,0,1,.58,1.4,1.91,1.91,0,0,1-.58,1.4L9.25,21ZM18.45,9,17,7.55Zm-12,3A5.31,5.31,0,0,0,4.9,8.1,5.31,5.31,0,0,0,1,6.5,5.31,5.31,0,0,0,4.9,4.9,5.31,5.31,0,0,0,6.5,1,5.31,5.31,0,0,0,8.1,4.9,5.31,5.31,0,0,0,12,6.5,5.46,5.46,0,0,0,6.5,12Z\"/>\n",
              "  </svg>\n",
              "    </button>\n",
              "    <script>\n",
              "      (() => {\n",
              "      const buttonEl =\n",
              "        document.querySelector('#id_93179a91-1d04-4b20-8747-cfff2d8314fc button.colab-df-generate');\n",
              "      buttonEl.style.display =\n",
              "        google.colab.kernel.accessAllowed ? 'block' : 'none';\n",
              "\n",
              "      buttonEl.onclick = () => {\n",
              "        google.colab.notebook.generateWithVariable('snli_data');\n",
              "      }\n",
              "      })();\n",
              "    </script>\n",
              "  </div>\n",
              "\n",
              "    </div>\n",
              "  </div>\n"
            ],
            "application/vnd.google.colaboratory.intrinsic+json": {
              "type": "dataframe",
              "variable_name": "snli_data"
            }
          },
          "metadata": {},
          "execution_count": 4
        }
      ],
      "source": [
        "#Load SNLI dataset\n",
        "import pandas as pd\n",
        "snli_data = pd.read_json(path_or_buf=\"/content/drive/MyDrive/Colab Notebooks/ss-data/snli_1.0_train.jsonl\", lines=True)\n",
        "snli_data"
      ]
    },
    {
      "cell_type": "code",
      "execution_count": 8,
      "metadata": {
        "colab": {
          "base_uri": "https://localhost:8080/"
        },
        "id": "2hBd-Fp_5EqW",
        "outputId": "d689d1de-21d8-4f4d-c330-e643738ffe48"
      },
      "outputs": [
        {
          "output_type": "stream",
          "name": "stdout",
          "text": [
            "550152\n",
            "549526\n"
          ]
        },
        {
          "output_type": "stream",
          "name": "stderr",
          "text": [
            "<ipython-input-8-6a4a8f7111ea>:4: SettingWithCopyWarning: \n",
            "A value is trying to be set on a copy of a slice from a DataFrame\n",
            "\n",
            "See the caveats in the documentation: https://pandas.pydata.org/pandas-docs/stable/user_guide/indexing.html#returning-a-view-versus-a-copy\n",
            "  snli_data_sub.drop_duplicates(subset=['sentence1', 'sentence2'], keep='last',inplace=True)\n"
          ]
        }
      ],
      "source": [
        "#De-duplicate\n",
        "snli_data_sub = snli_data[['sentence1','sentence2']]\n",
        "print(len(snli_data_sub))\n",
        "snli_data_sub.drop_duplicates(subset=['sentence1', 'sentence2'], keep='last',inplace=True)\n",
        "print(len(snli_data_sub))"
      ]
    },
    {
      "cell_type": "markdown",
      "metadata": {
        "id": "-1kH-0lkX7bx"
      },
      "source": [
        "**Data preparation**"
      ]
    },
    {
      "cell_type": "code",
      "execution_count": 9,
      "metadata": {
        "colab": {
          "base_uri": "https://localhost:8080/"
        },
        "id": "tu8bIW-9W6ic",
        "outputId": "ae056443-7912-471d-cd2d-4eb03e769906"
      },
      "outputs": [
        {
          "output_type": "stream",
          "name": "stderr",
          "text": [
            "[nltk_data] Downloading package punkt to /root/nltk_data...\n",
            "[nltk_data]   Package punkt is already up-to-date!\n",
            "[nltk_data] Downloading package stopwords to /root/nltk_data...\n",
            "[nltk_data]   Package stopwords is already up-to-date!\n"
          ]
        }
      ],
      "source": [
        "import nltk\n",
        "from nltk import word_tokenize\n",
        "from nltk.util import ngrams\n",
        "from collections import Counter\n",
        "nltk.download('punkt')\n",
        "\n",
        "from nltk.corpus import stopwords\n",
        "import string\n",
        "nltk.download('stopwords')\n",
        "\n",
        "from itertools import combinations\n",
        "from tqdm import tqdm"
      ]
    },
    {
      "cell_type": "code",
      "execution_count": 10,
      "metadata": {
        "id": "yqzAEv3o_flM"
      },
      "outputs": [],
      "source": [
        "#util functions\n",
        "stop_words = set(stopwords.words('english'))\n",
        "string.punctuation = string.punctuation +'\"'+'\"'+'-'+'''+'''+'—'\n",
        "string.punctuation\n",
        "removal_list = list(stop_words) + list(string.punctuation)+ ['lt','rt']\n",
        "removal_list\n",
        "\n",
        "def remove_stopwords(sent_tokens):\n",
        "    filtered_words = [word for word in sent_tokens if word not in removal_list]\n",
        "    return filtered_words"
      ]
    },
    {
      "cell_type": "code",
      "execution_count": 11,
      "metadata": {
        "colab": {
          "base_uri": "https://localhost:8080/",
          "height": 652
        },
        "collapsed": true,
        "id": "o8IkRKEU55a8",
        "outputId": "8b8486ef-8635-41f7-89b0-b7e43a194657"
      },
      "outputs": [
        {
          "output_type": "stream",
          "name": "stderr",
          "text": [
            "<ipython-input-11-e4d1754a863d>:2: SettingWithCopyWarning: \n",
            "A value is trying to be set on a copy of a slice from a DataFrame.\n",
            "Try using .loc[row_indexer,col_indexer] = value instead\n",
            "\n",
            "See the caveats in the documentation: https://pandas.pydata.org/pandas-docs/stable/user_guide/indexing.html#returning-a-view-versus-a-copy\n",
            "  snli_data_sub['sentence1'] = snli_data_sub['sentence1'].map(str.lower)\n",
            "<ipython-input-11-e4d1754a863d>:3: SettingWithCopyWarning: \n",
            "A value is trying to be set on a copy of a slice from a DataFrame.\n",
            "Try using .loc[row_indexer,col_indexer] = value instead\n",
            "\n",
            "See the caveats in the documentation: https://pandas.pydata.org/pandas-docs/stable/user_guide/indexing.html#returning-a-view-versus-a-copy\n",
            "  snli_data_sub['sentence2'] = snli_data_sub['sentence2'].map(str.lower)\n"
          ]
        },
        {
          "output_type": "execute_result",
          "data": {
            "text/plain": [
              "                                                sentence1  \\\n",
              "0       a person on a horse jumps over a broken down a...   \n",
              "1       a person on a horse jumps over a broken down a...   \n",
              "2       a person on a horse jumps over a broken down a...   \n",
              "3                   children smiling and waving at camera   \n",
              "4                   children smiling and waving at camera   \n",
              "...                                                   ...   \n",
              "550147                four dirty and barefooted children.   \n",
              "550148                four dirty and barefooted children.   \n",
              "550149  a man is surfing in a bodysuit in beautiful bl...   \n",
              "550150  a man is surfing in a bodysuit in beautiful bl...   \n",
              "550151  a man is surfing in a bodysuit in beautiful bl...   \n",
              "\n",
              "                                                sentence2  \n",
              "0       a person is training his horse for a competition.  \n",
              "1           a person is at a diner, ordering an omelette.  \n",
              "2                       a person is outdoors, on a horse.  \n",
              "3                       they are smiling at their parents  \n",
              "4                              there are children present  \n",
              "...                                                   ...  \n",
              "550147           four kids won awards for 'cleanest feet'  \n",
              "550148  four homeless children had their shoes stolen,...  \n",
              "550149  a man in a bodysuit is competing in a surfing ...  \n",
              "550150  a man in a business suit is heading to a board...  \n",
              "550151  on the beautiful blue water there is a man in ...  \n",
              "\n",
              "[549526 rows x 2 columns]"
            ],
            "text/html": [
              "\n",
              "  <div id=\"df-85d24dea-5b4f-4c1a-8c6b-43220cd04cb5\" class=\"colab-df-container\">\n",
              "    <div>\n",
              "<style scoped>\n",
              "    .dataframe tbody tr th:only-of-type {\n",
              "        vertical-align: middle;\n",
              "    }\n",
              "\n",
              "    .dataframe tbody tr th {\n",
              "        vertical-align: top;\n",
              "    }\n",
              "\n",
              "    .dataframe thead th {\n",
              "        text-align: right;\n",
              "    }\n",
              "</style>\n",
              "<table border=\"1\" class=\"dataframe\">\n",
              "  <thead>\n",
              "    <tr style=\"text-align: right;\">\n",
              "      <th></th>\n",
              "      <th>sentence1</th>\n",
              "      <th>sentence2</th>\n",
              "    </tr>\n",
              "  </thead>\n",
              "  <tbody>\n",
              "    <tr>\n",
              "      <th>0</th>\n",
              "      <td>a person on a horse jumps over a broken down a...</td>\n",
              "      <td>a person is training his horse for a competition.</td>\n",
              "    </tr>\n",
              "    <tr>\n",
              "      <th>1</th>\n",
              "      <td>a person on a horse jumps over a broken down a...</td>\n",
              "      <td>a person is at a diner, ordering an omelette.</td>\n",
              "    </tr>\n",
              "    <tr>\n",
              "      <th>2</th>\n",
              "      <td>a person on a horse jumps over a broken down a...</td>\n",
              "      <td>a person is outdoors, on a horse.</td>\n",
              "    </tr>\n",
              "    <tr>\n",
              "      <th>3</th>\n",
              "      <td>children smiling and waving at camera</td>\n",
              "      <td>they are smiling at their parents</td>\n",
              "    </tr>\n",
              "    <tr>\n",
              "      <th>4</th>\n",
              "      <td>children smiling and waving at camera</td>\n",
              "      <td>there are children present</td>\n",
              "    </tr>\n",
              "    <tr>\n",
              "      <th>...</th>\n",
              "      <td>...</td>\n",
              "      <td>...</td>\n",
              "    </tr>\n",
              "    <tr>\n",
              "      <th>550147</th>\n",
              "      <td>four dirty and barefooted children.</td>\n",
              "      <td>four kids won awards for 'cleanest feet'</td>\n",
              "    </tr>\n",
              "    <tr>\n",
              "      <th>550148</th>\n",
              "      <td>four dirty and barefooted children.</td>\n",
              "      <td>four homeless children had their shoes stolen,...</td>\n",
              "    </tr>\n",
              "    <tr>\n",
              "      <th>550149</th>\n",
              "      <td>a man is surfing in a bodysuit in beautiful bl...</td>\n",
              "      <td>a man in a bodysuit is competing in a surfing ...</td>\n",
              "    </tr>\n",
              "    <tr>\n",
              "      <th>550150</th>\n",
              "      <td>a man is surfing in a bodysuit in beautiful bl...</td>\n",
              "      <td>a man in a business suit is heading to a board...</td>\n",
              "    </tr>\n",
              "    <tr>\n",
              "      <th>550151</th>\n",
              "      <td>a man is surfing in a bodysuit in beautiful bl...</td>\n",
              "      <td>on the beautiful blue water there is a man in ...</td>\n",
              "    </tr>\n",
              "  </tbody>\n",
              "</table>\n",
              "<p>549526 rows × 2 columns</p>\n",
              "</div>\n",
              "    <div class=\"colab-df-buttons\">\n",
              "\n",
              "  <div class=\"colab-df-container\">\n",
              "    <button class=\"colab-df-convert\" onclick=\"convertToInteractive('df-85d24dea-5b4f-4c1a-8c6b-43220cd04cb5')\"\n",
              "            title=\"Convert this dataframe to an interactive table.\"\n",
              "            style=\"display:none;\">\n",
              "\n",
              "  <svg xmlns=\"http://www.w3.org/2000/svg\" height=\"24px\" viewBox=\"0 -960 960 960\">\n",
              "    <path d=\"M120-120v-720h720v720H120Zm60-500h600v-160H180v160Zm220 220h160v-160H400v160Zm0 220h160v-160H400v160ZM180-400h160v-160H180v160Zm440 0h160v-160H620v160ZM180-180h160v-160H180v160Zm440 0h160v-160H620v160Z\"/>\n",
              "  </svg>\n",
              "    </button>\n",
              "\n",
              "  <style>\n",
              "    .colab-df-container {\n",
              "      display:flex;\n",
              "      gap: 12px;\n",
              "    }\n",
              "\n",
              "    .colab-df-convert {\n",
              "      background-color: #E8F0FE;\n",
              "      border: none;\n",
              "      border-radius: 50%;\n",
              "      cursor: pointer;\n",
              "      display: none;\n",
              "      fill: #1967D2;\n",
              "      height: 32px;\n",
              "      padding: 0 0 0 0;\n",
              "      width: 32px;\n",
              "    }\n",
              "\n",
              "    .colab-df-convert:hover {\n",
              "      background-color: #E2EBFA;\n",
              "      box-shadow: 0px 1px 2px rgba(60, 64, 67, 0.3), 0px 1px 3px 1px rgba(60, 64, 67, 0.15);\n",
              "      fill: #174EA6;\n",
              "    }\n",
              "\n",
              "    .colab-df-buttons div {\n",
              "      margin-bottom: 4px;\n",
              "    }\n",
              "\n",
              "    [theme=dark] .colab-df-convert {\n",
              "      background-color: #3B4455;\n",
              "      fill: #D2E3FC;\n",
              "    }\n",
              "\n",
              "    [theme=dark] .colab-df-convert:hover {\n",
              "      background-color: #434B5C;\n",
              "      box-shadow: 0px 1px 3px 1px rgba(0, 0, 0, 0.15);\n",
              "      filter: drop-shadow(0px 1px 2px rgba(0, 0, 0, 0.3));\n",
              "      fill: #FFFFFF;\n",
              "    }\n",
              "  </style>\n",
              "\n",
              "    <script>\n",
              "      const buttonEl =\n",
              "        document.querySelector('#df-85d24dea-5b4f-4c1a-8c6b-43220cd04cb5 button.colab-df-convert');\n",
              "      buttonEl.style.display =\n",
              "        google.colab.kernel.accessAllowed ? 'block' : 'none';\n",
              "\n",
              "      async function convertToInteractive(key) {\n",
              "        const element = document.querySelector('#df-85d24dea-5b4f-4c1a-8c6b-43220cd04cb5');\n",
              "        const dataTable =\n",
              "          await google.colab.kernel.invokeFunction('convertToInteractive',\n",
              "                                                    [key], {});\n",
              "        if (!dataTable) return;\n",
              "\n",
              "        const docLinkHtml = 'Like what you see? Visit the ' +\n",
              "          '<a target=\"_blank\" href=https://colab.research.google.com/notebooks/data_table.ipynb>data table notebook</a>'\n",
              "          + ' to learn more about interactive tables.';\n",
              "        element.innerHTML = '';\n",
              "        dataTable['output_type'] = 'display_data';\n",
              "        await google.colab.output.renderOutput(dataTable, element);\n",
              "        const docLink = document.createElement('div');\n",
              "        docLink.innerHTML = docLinkHtml;\n",
              "        element.appendChild(docLink);\n",
              "      }\n",
              "    </script>\n",
              "  </div>\n",
              "\n",
              "\n",
              "<div id=\"df-a736087b-057b-41f9-adef-c791cbdec124\">\n",
              "  <button class=\"colab-df-quickchart\" onclick=\"quickchart('df-a736087b-057b-41f9-adef-c791cbdec124')\"\n",
              "            title=\"Suggest charts\"\n",
              "            style=\"display:none;\">\n",
              "\n",
              "<svg xmlns=\"http://www.w3.org/2000/svg\" height=\"24px\"viewBox=\"0 0 24 24\"\n",
              "     width=\"24px\">\n",
              "    <g>\n",
              "        <path d=\"M19 3H5c-1.1 0-2 .9-2 2v14c0 1.1.9 2 2 2h14c1.1 0 2-.9 2-2V5c0-1.1-.9-2-2-2zM9 17H7v-7h2v7zm4 0h-2V7h2v10zm4 0h-2v-4h2v4z\"/>\n",
              "    </g>\n",
              "</svg>\n",
              "  </button>\n",
              "\n",
              "<style>\n",
              "  .colab-df-quickchart {\n",
              "      --bg-color: #E8F0FE;\n",
              "      --fill-color: #1967D2;\n",
              "      --hover-bg-color: #E2EBFA;\n",
              "      --hover-fill-color: #174EA6;\n",
              "      --disabled-fill-color: #AAA;\n",
              "      --disabled-bg-color: #DDD;\n",
              "  }\n",
              "\n",
              "  [theme=dark] .colab-df-quickchart {\n",
              "      --bg-color: #3B4455;\n",
              "      --fill-color: #D2E3FC;\n",
              "      --hover-bg-color: #434B5C;\n",
              "      --hover-fill-color: #FFFFFF;\n",
              "      --disabled-bg-color: #3B4455;\n",
              "      --disabled-fill-color: #666;\n",
              "  }\n",
              "\n",
              "  .colab-df-quickchart {\n",
              "    background-color: var(--bg-color);\n",
              "    border: none;\n",
              "    border-radius: 50%;\n",
              "    cursor: pointer;\n",
              "    display: none;\n",
              "    fill: var(--fill-color);\n",
              "    height: 32px;\n",
              "    padding: 0;\n",
              "    width: 32px;\n",
              "  }\n",
              "\n",
              "  .colab-df-quickchart:hover {\n",
              "    background-color: var(--hover-bg-color);\n",
              "    box-shadow: 0 1px 2px rgba(60, 64, 67, 0.3), 0 1px 3px 1px rgba(60, 64, 67, 0.15);\n",
              "    fill: var(--button-hover-fill-color);\n",
              "  }\n",
              "\n",
              "  .colab-df-quickchart-complete:disabled,\n",
              "  .colab-df-quickchart-complete:disabled:hover {\n",
              "    background-color: var(--disabled-bg-color);\n",
              "    fill: var(--disabled-fill-color);\n",
              "    box-shadow: none;\n",
              "  }\n",
              "\n",
              "  .colab-df-spinner {\n",
              "    border: 2px solid var(--fill-color);\n",
              "    border-color: transparent;\n",
              "    border-bottom-color: var(--fill-color);\n",
              "    animation:\n",
              "      spin 1s steps(1) infinite;\n",
              "  }\n",
              "\n",
              "  @keyframes spin {\n",
              "    0% {\n",
              "      border-color: transparent;\n",
              "      border-bottom-color: var(--fill-color);\n",
              "      border-left-color: var(--fill-color);\n",
              "    }\n",
              "    20% {\n",
              "      border-color: transparent;\n",
              "      border-left-color: var(--fill-color);\n",
              "      border-top-color: var(--fill-color);\n",
              "    }\n",
              "    30% {\n",
              "      border-color: transparent;\n",
              "      border-left-color: var(--fill-color);\n",
              "      border-top-color: var(--fill-color);\n",
              "      border-right-color: var(--fill-color);\n",
              "    }\n",
              "    40% {\n",
              "      border-color: transparent;\n",
              "      border-right-color: var(--fill-color);\n",
              "      border-top-color: var(--fill-color);\n",
              "    }\n",
              "    60% {\n",
              "      border-color: transparent;\n",
              "      border-right-color: var(--fill-color);\n",
              "    }\n",
              "    80% {\n",
              "      border-color: transparent;\n",
              "      border-right-color: var(--fill-color);\n",
              "      border-bottom-color: var(--fill-color);\n",
              "    }\n",
              "    90% {\n",
              "      border-color: transparent;\n",
              "      border-bottom-color: var(--fill-color);\n",
              "    }\n",
              "  }\n",
              "</style>\n",
              "\n",
              "  <script>\n",
              "    async function quickchart(key) {\n",
              "      const quickchartButtonEl =\n",
              "        document.querySelector('#' + key + ' button');\n",
              "      quickchartButtonEl.disabled = true;  // To prevent multiple clicks.\n",
              "      quickchartButtonEl.classList.add('colab-df-spinner');\n",
              "      try {\n",
              "        const charts = await google.colab.kernel.invokeFunction(\n",
              "            'suggestCharts', [key], {});\n",
              "      } catch (error) {\n",
              "        console.error('Error during call to suggestCharts:', error);\n",
              "      }\n",
              "      quickchartButtonEl.classList.remove('colab-df-spinner');\n",
              "      quickchartButtonEl.classList.add('colab-df-quickchart-complete');\n",
              "    }\n",
              "    (() => {\n",
              "      let quickchartButtonEl =\n",
              "        document.querySelector('#df-a736087b-057b-41f9-adef-c791cbdec124 button');\n",
              "      quickchartButtonEl.style.display =\n",
              "        google.colab.kernel.accessAllowed ? 'block' : 'none';\n",
              "    })();\n",
              "  </script>\n",
              "</div>\n",
              "\n",
              "  <div id=\"id_4903a836-47f6-4a42-9185-0dfffaa201eb\">\n",
              "    <style>\n",
              "      .colab-df-generate {\n",
              "        background-color: #E8F0FE;\n",
              "        border: none;\n",
              "        border-radius: 50%;\n",
              "        cursor: pointer;\n",
              "        display: none;\n",
              "        fill: #1967D2;\n",
              "        height: 32px;\n",
              "        padding: 0 0 0 0;\n",
              "        width: 32px;\n",
              "      }\n",
              "\n",
              "      .colab-df-generate:hover {\n",
              "        background-color: #E2EBFA;\n",
              "        box-shadow: 0px 1px 2px rgba(60, 64, 67, 0.3), 0px 1px 3px 1px rgba(60, 64, 67, 0.15);\n",
              "        fill: #174EA6;\n",
              "      }\n",
              "\n",
              "      [theme=dark] .colab-df-generate {\n",
              "        background-color: #3B4455;\n",
              "        fill: #D2E3FC;\n",
              "      }\n",
              "\n",
              "      [theme=dark] .colab-df-generate:hover {\n",
              "        background-color: #434B5C;\n",
              "        box-shadow: 0px 1px 3px 1px rgba(0, 0, 0, 0.15);\n",
              "        filter: drop-shadow(0px 1px 2px rgba(0, 0, 0, 0.3));\n",
              "        fill: #FFFFFF;\n",
              "      }\n",
              "    </style>\n",
              "    <button class=\"colab-df-generate\" onclick=\"generateWithVariable('snli_data_sub')\"\n",
              "            title=\"Generate code using this dataframe.\"\n",
              "            style=\"display:none;\">\n",
              "\n",
              "  <svg xmlns=\"http://www.w3.org/2000/svg\" height=\"24px\"viewBox=\"0 0 24 24\"\n",
              "       width=\"24px\">\n",
              "    <path d=\"M7,19H8.4L18.45,9,17,7.55,7,17.6ZM5,21V16.75L18.45,3.32a2,2,0,0,1,2.83,0l1.4,1.43a1.91,1.91,0,0,1,.58,1.4,1.91,1.91,0,0,1-.58,1.4L9.25,21ZM18.45,9,17,7.55Zm-12,3A5.31,5.31,0,0,0,4.9,8.1,5.31,5.31,0,0,0,1,6.5,5.31,5.31,0,0,0,4.9,4.9,5.31,5.31,0,0,0,6.5,1,5.31,5.31,0,0,0,8.1,4.9,5.31,5.31,0,0,0,12,6.5,5.46,5.46,0,0,0,6.5,12Z\"/>\n",
              "  </svg>\n",
              "    </button>\n",
              "    <script>\n",
              "      (() => {\n",
              "      const buttonEl =\n",
              "        document.querySelector('#id_4903a836-47f6-4a42-9185-0dfffaa201eb button.colab-df-generate');\n",
              "      buttonEl.style.display =\n",
              "        google.colab.kernel.accessAllowed ? 'block' : 'none';\n",
              "\n",
              "      buttonEl.onclick = () => {\n",
              "        google.colab.notebook.generateWithVariable('snli_data_sub');\n",
              "      }\n",
              "      })();\n",
              "    </script>\n",
              "  </div>\n",
              "\n",
              "    </div>\n",
              "  </div>\n"
            ],
            "application/vnd.google.colaboratory.intrinsic+json": {
              "type": "dataframe",
              "variable_name": "snli_data_sub"
            }
          },
          "metadata": {},
          "execution_count": 11
        }
      ],
      "source": [
        "#Lowercase\n",
        "snli_data_sub['sentence1'] = snli_data_sub['sentence1'].map(str.lower)\n",
        "snli_data_sub['sentence2'] = snli_data_sub['sentence2'].map(str.lower)\n",
        "snli_data_sub"
      ]
    },
    {
      "cell_type": "code",
      "execution_count": 12,
      "metadata": {
        "colab": {
          "base_uri": "https://localhost:8080/",
          "height": 825
        },
        "collapsed": true,
        "id": "BFNIfzKl6rVK",
        "outputId": "28c30bab-a905-46e3-d83a-7474d9530fab"
      },
      "outputs": [
        {
          "output_type": "stream",
          "name": "stderr",
          "text": [
            "<ipython-input-12-d79b5798814b>:2: SettingWithCopyWarning: \n",
            "A value is trying to be set on a copy of a slice from a DataFrame.\n",
            "Try using .loc[row_indexer,col_indexer] = value instead\n",
            "\n",
            "See the caveats in the documentation: https://pandas.pydata.org/pandas-docs/stable/user_guide/indexing.html#returning-a-view-versus-a-copy\n",
            "  snli_data_sub['sentence1_token'] = snli_data_sub['sentence1'].apply(nltk.word_tokenize)\n",
            "<ipython-input-12-d79b5798814b>:3: SettingWithCopyWarning: \n",
            "A value is trying to be set on a copy of a slice from a DataFrame.\n",
            "Try using .loc[row_indexer,col_indexer] = value instead\n",
            "\n",
            "See the caveats in the documentation: https://pandas.pydata.org/pandas-docs/stable/user_guide/indexing.html#returning-a-view-versus-a-copy\n",
            "  snli_data_sub['sentence2_token'] = snli_data_sub['sentence2'].apply(nltk.word_tokenize)\n"
          ]
        },
        {
          "output_type": "execute_result",
          "data": {
            "text/plain": [
              "                                                sentence1  \\\n",
              "0       a person on a horse jumps over a broken down a...   \n",
              "1       a person on a horse jumps over a broken down a...   \n",
              "2       a person on a horse jumps over a broken down a...   \n",
              "3                   children smiling and waving at camera   \n",
              "4                   children smiling and waving at camera   \n",
              "...                                                   ...   \n",
              "550147                four dirty and barefooted children.   \n",
              "550148                four dirty and barefooted children.   \n",
              "550149  a man is surfing in a bodysuit in beautiful bl...   \n",
              "550150  a man is surfing in a bodysuit in beautiful bl...   \n",
              "550151  a man is surfing in a bodysuit in beautiful bl...   \n",
              "\n",
              "                                                sentence2  \\\n",
              "0       a person is training his horse for a competition.   \n",
              "1           a person is at a diner, ordering an omelette.   \n",
              "2                       a person is outdoors, on a horse.   \n",
              "3                       they are smiling at their parents   \n",
              "4                              there are children present   \n",
              "...                                                   ...   \n",
              "550147           four kids won awards for 'cleanest feet'   \n",
              "550148  four homeless children had their shoes stolen,...   \n",
              "550149  a man in a bodysuit is competing in a surfing ...   \n",
              "550150  a man in a business suit is heading to a board...   \n",
              "550151  on the beautiful blue water there is a man in ...   \n",
              "\n",
              "                                          sentence1_token  \\\n",
              "0       [a, person, on, a, horse, jumps, over, a, brok...   \n",
              "1       [a, person, on, a, horse, jumps, over, a, brok...   \n",
              "2       [a, person, on, a, horse, jumps, over, a, brok...   \n",
              "3            [children, smiling, and, waving, at, camera]   \n",
              "4            [children, smiling, and, waving, at, camera]   \n",
              "...                                                   ...   \n",
              "550147        [four, dirty, and, barefooted, children, .]   \n",
              "550148        [four, dirty, and, barefooted, children, .]   \n",
              "550149  [a, man, is, surfing, in, a, bodysuit, in, bea...   \n",
              "550150  [a, man, is, surfing, in, a, bodysuit, in, bea...   \n",
              "550151  [a, man, is, surfing, in, a, bodysuit, in, bea...   \n",
              "\n",
              "                                          sentence2_token  \n",
              "0       [a, person, is, training, his, horse, for, a, ...  \n",
              "1       [a, person, is, at, a, diner, ,, ordering, an,...  \n",
              "2           [a, person, is, outdoors, ,, on, a, horse, .]  \n",
              "3                [they, are, smiling, at, their, parents]  \n",
              "4                         [there, are, children, present]  \n",
              "...                                                   ...  \n",
              "550147  [four, kids, won, awards, for, 'cleanest, feet...  \n",
              "550148  [four, homeless, children, had, their, shoes, ...  \n",
              "550149  [a, man, in, a, bodysuit, is, competing, in, a...  \n",
              "550150  [a, man, in, a, business, suit, is, heading, t...  \n",
              "550151  [on, the, beautiful, blue, water, there, is, a...  \n",
              "\n",
              "[549526 rows x 4 columns]"
            ],
            "text/html": [
              "\n",
              "  <div id=\"df-fee63134-d941-4bb7-a288-08ba3e034204\" class=\"colab-df-container\">\n",
              "    <div>\n",
              "<style scoped>\n",
              "    .dataframe tbody tr th:only-of-type {\n",
              "        vertical-align: middle;\n",
              "    }\n",
              "\n",
              "    .dataframe tbody tr th {\n",
              "        vertical-align: top;\n",
              "    }\n",
              "\n",
              "    .dataframe thead th {\n",
              "        text-align: right;\n",
              "    }\n",
              "</style>\n",
              "<table border=\"1\" class=\"dataframe\">\n",
              "  <thead>\n",
              "    <tr style=\"text-align: right;\">\n",
              "      <th></th>\n",
              "      <th>sentence1</th>\n",
              "      <th>sentence2</th>\n",
              "      <th>sentence1_token</th>\n",
              "      <th>sentence2_token</th>\n",
              "    </tr>\n",
              "  </thead>\n",
              "  <tbody>\n",
              "    <tr>\n",
              "      <th>0</th>\n",
              "      <td>a person on a horse jumps over a broken down a...</td>\n",
              "      <td>a person is training his horse for a competition.</td>\n",
              "      <td>[a, person, on, a, horse, jumps, over, a, brok...</td>\n",
              "      <td>[a, person, is, training, his, horse, for, a, ...</td>\n",
              "    </tr>\n",
              "    <tr>\n",
              "      <th>1</th>\n",
              "      <td>a person on a horse jumps over a broken down a...</td>\n",
              "      <td>a person is at a diner, ordering an omelette.</td>\n",
              "      <td>[a, person, on, a, horse, jumps, over, a, brok...</td>\n",
              "      <td>[a, person, is, at, a, diner, ,, ordering, an,...</td>\n",
              "    </tr>\n",
              "    <tr>\n",
              "      <th>2</th>\n",
              "      <td>a person on a horse jumps over a broken down a...</td>\n",
              "      <td>a person is outdoors, on a horse.</td>\n",
              "      <td>[a, person, on, a, horse, jumps, over, a, brok...</td>\n",
              "      <td>[a, person, is, outdoors, ,, on, a, horse, .]</td>\n",
              "    </tr>\n",
              "    <tr>\n",
              "      <th>3</th>\n",
              "      <td>children smiling and waving at camera</td>\n",
              "      <td>they are smiling at their parents</td>\n",
              "      <td>[children, smiling, and, waving, at, camera]</td>\n",
              "      <td>[they, are, smiling, at, their, parents]</td>\n",
              "    </tr>\n",
              "    <tr>\n",
              "      <th>4</th>\n",
              "      <td>children smiling and waving at camera</td>\n",
              "      <td>there are children present</td>\n",
              "      <td>[children, smiling, and, waving, at, camera]</td>\n",
              "      <td>[there, are, children, present]</td>\n",
              "    </tr>\n",
              "    <tr>\n",
              "      <th>...</th>\n",
              "      <td>...</td>\n",
              "      <td>...</td>\n",
              "      <td>...</td>\n",
              "      <td>...</td>\n",
              "    </tr>\n",
              "    <tr>\n",
              "      <th>550147</th>\n",
              "      <td>four dirty and barefooted children.</td>\n",
              "      <td>four kids won awards for 'cleanest feet'</td>\n",
              "      <td>[four, dirty, and, barefooted, children, .]</td>\n",
              "      <td>[four, kids, won, awards, for, 'cleanest, feet...</td>\n",
              "    </tr>\n",
              "    <tr>\n",
              "      <th>550148</th>\n",
              "      <td>four dirty and barefooted children.</td>\n",
              "      <td>four homeless children had their shoes stolen,...</td>\n",
              "      <td>[four, dirty, and, barefooted, children, .]</td>\n",
              "      <td>[four, homeless, children, had, their, shoes, ...</td>\n",
              "    </tr>\n",
              "    <tr>\n",
              "      <th>550149</th>\n",
              "      <td>a man is surfing in a bodysuit in beautiful bl...</td>\n",
              "      <td>a man in a bodysuit is competing in a surfing ...</td>\n",
              "      <td>[a, man, is, surfing, in, a, bodysuit, in, bea...</td>\n",
              "      <td>[a, man, in, a, bodysuit, is, competing, in, a...</td>\n",
              "    </tr>\n",
              "    <tr>\n",
              "      <th>550150</th>\n",
              "      <td>a man is surfing in a bodysuit in beautiful bl...</td>\n",
              "      <td>a man in a business suit is heading to a board...</td>\n",
              "      <td>[a, man, is, surfing, in, a, bodysuit, in, bea...</td>\n",
              "      <td>[a, man, in, a, business, suit, is, heading, t...</td>\n",
              "    </tr>\n",
              "    <tr>\n",
              "      <th>550151</th>\n",
              "      <td>a man is surfing in a bodysuit in beautiful bl...</td>\n",
              "      <td>on the beautiful blue water there is a man in ...</td>\n",
              "      <td>[a, man, is, surfing, in, a, bodysuit, in, bea...</td>\n",
              "      <td>[on, the, beautiful, blue, water, there, is, a...</td>\n",
              "    </tr>\n",
              "  </tbody>\n",
              "</table>\n",
              "<p>549526 rows × 4 columns</p>\n",
              "</div>\n",
              "    <div class=\"colab-df-buttons\">\n",
              "\n",
              "  <div class=\"colab-df-container\">\n",
              "    <button class=\"colab-df-convert\" onclick=\"convertToInteractive('df-fee63134-d941-4bb7-a288-08ba3e034204')\"\n",
              "            title=\"Convert this dataframe to an interactive table.\"\n",
              "            style=\"display:none;\">\n",
              "\n",
              "  <svg xmlns=\"http://www.w3.org/2000/svg\" height=\"24px\" viewBox=\"0 -960 960 960\">\n",
              "    <path d=\"M120-120v-720h720v720H120Zm60-500h600v-160H180v160Zm220 220h160v-160H400v160Zm0 220h160v-160H400v160ZM180-400h160v-160H180v160Zm440 0h160v-160H620v160ZM180-180h160v-160H180v160Zm440 0h160v-160H620v160Z\"/>\n",
              "  </svg>\n",
              "    </button>\n",
              "\n",
              "  <style>\n",
              "    .colab-df-container {\n",
              "      display:flex;\n",
              "      gap: 12px;\n",
              "    }\n",
              "\n",
              "    .colab-df-convert {\n",
              "      background-color: #E8F0FE;\n",
              "      border: none;\n",
              "      border-radius: 50%;\n",
              "      cursor: pointer;\n",
              "      display: none;\n",
              "      fill: #1967D2;\n",
              "      height: 32px;\n",
              "      padding: 0 0 0 0;\n",
              "      width: 32px;\n",
              "    }\n",
              "\n",
              "    .colab-df-convert:hover {\n",
              "      background-color: #E2EBFA;\n",
              "      box-shadow: 0px 1px 2px rgba(60, 64, 67, 0.3), 0px 1px 3px 1px rgba(60, 64, 67, 0.15);\n",
              "      fill: #174EA6;\n",
              "    }\n",
              "\n",
              "    .colab-df-buttons div {\n",
              "      margin-bottom: 4px;\n",
              "    }\n",
              "\n",
              "    [theme=dark] .colab-df-convert {\n",
              "      background-color: #3B4455;\n",
              "      fill: #D2E3FC;\n",
              "    }\n",
              "\n",
              "    [theme=dark] .colab-df-convert:hover {\n",
              "      background-color: #434B5C;\n",
              "      box-shadow: 0px 1px 3px 1px rgba(0, 0, 0, 0.15);\n",
              "      filter: drop-shadow(0px 1px 2px rgba(0, 0, 0, 0.3));\n",
              "      fill: #FFFFFF;\n",
              "    }\n",
              "  </style>\n",
              "\n",
              "    <script>\n",
              "      const buttonEl =\n",
              "        document.querySelector('#df-fee63134-d941-4bb7-a288-08ba3e034204 button.colab-df-convert');\n",
              "      buttonEl.style.display =\n",
              "        google.colab.kernel.accessAllowed ? 'block' : 'none';\n",
              "\n",
              "      async function convertToInteractive(key) {\n",
              "        const element = document.querySelector('#df-fee63134-d941-4bb7-a288-08ba3e034204');\n",
              "        const dataTable =\n",
              "          await google.colab.kernel.invokeFunction('convertToInteractive',\n",
              "                                                    [key], {});\n",
              "        if (!dataTable) return;\n",
              "\n",
              "        const docLinkHtml = 'Like what you see? Visit the ' +\n",
              "          '<a target=\"_blank\" href=https://colab.research.google.com/notebooks/data_table.ipynb>data table notebook</a>'\n",
              "          + ' to learn more about interactive tables.';\n",
              "        element.innerHTML = '';\n",
              "        dataTable['output_type'] = 'display_data';\n",
              "        await google.colab.output.renderOutput(dataTable, element);\n",
              "        const docLink = document.createElement('div');\n",
              "        docLink.innerHTML = docLinkHtml;\n",
              "        element.appendChild(docLink);\n",
              "      }\n",
              "    </script>\n",
              "  </div>\n",
              "\n",
              "\n",
              "<div id=\"df-d06bd150-8d19-4bd4-a98a-500b9162a1a8\">\n",
              "  <button class=\"colab-df-quickchart\" onclick=\"quickchart('df-d06bd150-8d19-4bd4-a98a-500b9162a1a8')\"\n",
              "            title=\"Suggest charts\"\n",
              "            style=\"display:none;\">\n",
              "\n",
              "<svg xmlns=\"http://www.w3.org/2000/svg\" height=\"24px\"viewBox=\"0 0 24 24\"\n",
              "     width=\"24px\">\n",
              "    <g>\n",
              "        <path d=\"M19 3H5c-1.1 0-2 .9-2 2v14c0 1.1.9 2 2 2h14c1.1 0 2-.9 2-2V5c0-1.1-.9-2-2-2zM9 17H7v-7h2v7zm4 0h-2V7h2v10zm4 0h-2v-4h2v4z\"/>\n",
              "    </g>\n",
              "</svg>\n",
              "  </button>\n",
              "\n",
              "<style>\n",
              "  .colab-df-quickchart {\n",
              "      --bg-color: #E8F0FE;\n",
              "      --fill-color: #1967D2;\n",
              "      --hover-bg-color: #E2EBFA;\n",
              "      --hover-fill-color: #174EA6;\n",
              "      --disabled-fill-color: #AAA;\n",
              "      --disabled-bg-color: #DDD;\n",
              "  }\n",
              "\n",
              "  [theme=dark] .colab-df-quickchart {\n",
              "      --bg-color: #3B4455;\n",
              "      --fill-color: #D2E3FC;\n",
              "      --hover-bg-color: #434B5C;\n",
              "      --hover-fill-color: #FFFFFF;\n",
              "      --disabled-bg-color: #3B4455;\n",
              "      --disabled-fill-color: #666;\n",
              "  }\n",
              "\n",
              "  .colab-df-quickchart {\n",
              "    background-color: var(--bg-color);\n",
              "    border: none;\n",
              "    border-radius: 50%;\n",
              "    cursor: pointer;\n",
              "    display: none;\n",
              "    fill: var(--fill-color);\n",
              "    height: 32px;\n",
              "    padding: 0;\n",
              "    width: 32px;\n",
              "  }\n",
              "\n",
              "  .colab-df-quickchart:hover {\n",
              "    background-color: var(--hover-bg-color);\n",
              "    box-shadow: 0 1px 2px rgba(60, 64, 67, 0.3), 0 1px 3px 1px rgba(60, 64, 67, 0.15);\n",
              "    fill: var(--button-hover-fill-color);\n",
              "  }\n",
              "\n",
              "  .colab-df-quickchart-complete:disabled,\n",
              "  .colab-df-quickchart-complete:disabled:hover {\n",
              "    background-color: var(--disabled-bg-color);\n",
              "    fill: var(--disabled-fill-color);\n",
              "    box-shadow: none;\n",
              "  }\n",
              "\n",
              "  .colab-df-spinner {\n",
              "    border: 2px solid var(--fill-color);\n",
              "    border-color: transparent;\n",
              "    border-bottom-color: var(--fill-color);\n",
              "    animation:\n",
              "      spin 1s steps(1) infinite;\n",
              "  }\n",
              "\n",
              "  @keyframes spin {\n",
              "    0% {\n",
              "      border-color: transparent;\n",
              "      border-bottom-color: var(--fill-color);\n",
              "      border-left-color: var(--fill-color);\n",
              "    }\n",
              "    20% {\n",
              "      border-color: transparent;\n",
              "      border-left-color: var(--fill-color);\n",
              "      border-top-color: var(--fill-color);\n",
              "    }\n",
              "    30% {\n",
              "      border-color: transparent;\n",
              "      border-left-color: var(--fill-color);\n",
              "      border-top-color: var(--fill-color);\n",
              "      border-right-color: var(--fill-color);\n",
              "    }\n",
              "    40% {\n",
              "      border-color: transparent;\n",
              "      border-right-color: var(--fill-color);\n",
              "      border-top-color: var(--fill-color);\n",
              "    }\n",
              "    60% {\n",
              "      border-color: transparent;\n",
              "      border-right-color: var(--fill-color);\n",
              "    }\n",
              "    80% {\n",
              "      border-color: transparent;\n",
              "      border-right-color: var(--fill-color);\n",
              "      border-bottom-color: var(--fill-color);\n",
              "    }\n",
              "    90% {\n",
              "      border-color: transparent;\n",
              "      border-bottom-color: var(--fill-color);\n",
              "    }\n",
              "  }\n",
              "</style>\n",
              "\n",
              "  <script>\n",
              "    async function quickchart(key) {\n",
              "      const quickchartButtonEl =\n",
              "        document.querySelector('#' + key + ' button');\n",
              "      quickchartButtonEl.disabled = true;  // To prevent multiple clicks.\n",
              "      quickchartButtonEl.classList.add('colab-df-spinner');\n",
              "      try {\n",
              "        const charts = await google.colab.kernel.invokeFunction(\n",
              "            'suggestCharts', [key], {});\n",
              "      } catch (error) {\n",
              "        console.error('Error during call to suggestCharts:', error);\n",
              "      }\n",
              "      quickchartButtonEl.classList.remove('colab-df-spinner');\n",
              "      quickchartButtonEl.classList.add('colab-df-quickchart-complete');\n",
              "    }\n",
              "    (() => {\n",
              "      let quickchartButtonEl =\n",
              "        document.querySelector('#df-d06bd150-8d19-4bd4-a98a-500b9162a1a8 button');\n",
              "      quickchartButtonEl.style.display =\n",
              "        google.colab.kernel.accessAllowed ? 'block' : 'none';\n",
              "    })();\n",
              "  </script>\n",
              "</div>\n",
              "\n",
              "  <div id=\"id_cefdee70-6b01-450b-935e-d7b9284bb060\">\n",
              "    <style>\n",
              "      .colab-df-generate {\n",
              "        background-color: #E8F0FE;\n",
              "        border: none;\n",
              "        border-radius: 50%;\n",
              "        cursor: pointer;\n",
              "        display: none;\n",
              "        fill: #1967D2;\n",
              "        height: 32px;\n",
              "        padding: 0 0 0 0;\n",
              "        width: 32px;\n",
              "      }\n",
              "\n",
              "      .colab-df-generate:hover {\n",
              "        background-color: #E2EBFA;\n",
              "        box-shadow: 0px 1px 2px rgba(60, 64, 67, 0.3), 0px 1px 3px 1px rgba(60, 64, 67, 0.15);\n",
              "        fill: #174EA6;\n",
              "      }\n",
              "\n",
              "      [theme=dark] .colab-df-generate {\n",
              "        background-color: #3B4455;\n",
              "        fill: #D2E3FC;\n",
              "      }\n",
              "\n",
              "      [theme=dark] .colab-df-generate:hover {\n",
              "        background-color: #434B5C;\n",
              "        box-shadow: 0px 1px 3px 1px rgba(0, 0, 0, 0.15);\n",
              "        filter: drop-shadow(0px 1px 2px rgba(0, 0, 0, 0.3));\n",
              "        fill: #FFFFFF;\n",
              "      }\n",
              "    </style>\n",
              "    <button class=\"colab-df-generate\" onclick=\"generateWithVariable('snli_data_sub')\"\n",
              "            title=\"Generate code using this dataframe.\"\n",
              "            style=\"display:none;\">\n",
              "\n",
              "  <svg xmlns=\"http://www.w3.org/2000/svg\" height=\"24px\"viewBox=\"0 0 24 24\"\n",
              "       width=\"24px\">\n",
              "    <path d=\"M7,19H8.4L18.45,9,17,7.55,7,17.6ZM5,21V16.75L18.45,3.32a2,2,0,0,1,2.83,0l1.4,1.43a1.91,1.91,0,0,1,.58,1.4,1.91,1.91,0,0,1-.58,1.4L9.25,21ZM18.45,9,17,7.55Zm-12,3A5.31,5.31,0,0,0,4.9,8.1,5.31,5.31,0,0,0,1,6.5,5.31,5.31,0,0,0,4.9,4.9,5.31,5.31,0,0,0,6.5,1,5.31,5.31,0,0,0,8.1,4.9,5.31,5.31,0,0,0,12,6.5,5.46,5.46,0,0,0,6.5,12Z\"/>\n",
              "  </svg>\n",
              "    </button>\n",
              "    <script>\n",
              "      (() => {\n",
              "      const buttonEl =\n",
              "        document.querySelector('#id_cefdee70-6b01-450b-935e-d7b9284bb060 button.colab-df-generate');\n",
              "      buttonEl.style.display =\n",
              "        google.colab.kernel.accessAllowed ? 'block' : 'none';\n",
              "\n",
              "      buttonEl.onclick = () => {\n",
              "        google.colab.notebook.generateWithVariable('snli_data_sub');\n",
              "      }\n",
              "      })();\n",
              "    </script>\n",
              "  </div>\n",
              "\n",
              "    </div>\n",
              "  </div>\n"
            ],
            "application/vnd.google.colaboratory.intrinsic+json": {
              "type": "dataframe",
              "variable_name": "snli_data_sub"
            }
          },
          "metadata": {},
          "execution_count": 12
        }
      ],
      "source": [
        "#Tokenize\n",
        "snli_data_sub['sentence1_token'] = snli_data_sub['sentence1'].apply(nltk.word_tokenize)\n",
        "snli_data_sub['sentence2_token'] = snli_data_sub['sentence2'].apply(nltk.word_tokenize)\n",
        "\n",
        "snli_data_sub"
      ]
    },
    {
      "cell_type": "code",
      "execution_count": 13,
      "metadata": {
        "colab": {
          "base_uri": "https://localhost:8080/",
          "height": 1000
        },
        "collapsed": true,
        "id": "YuOQtgye74sk",
        "outputId": "0785d0e3-49e1-44ab-fc78-e08cd404a962"
      },
      "outputs": [
        {
          "output_type": "stream",
          "name": "stderr",
          "text": [
            "<ipython-input-13-eab9860fa455>:2: SettingWithCopyWarning: \n",
            "A value is trying to be set on a copy of a slice from a DataFrame.\n",
            "Try using .loc[row_indexer,col_indexer] = value instead\n",
            "\n",
            "See the caveats in the documentation: https://pandas.pydata.org/pandas-docs/stable/user_guide/indexing.html#returning-a-view-versus-a-copy\n",
            "  snli_data_sub['sentence1_token_nostopwords'] = snli_data_sub['sentence1_token'].apply(remove_stopwords)\n",
            "<ipython-input-13-eab9860fa455>:3: SettingWithCopyWarning: \n",
            "A value is trying to be set on a copy of a slice from a DataFrame.\n",
            "Try using .loc[row_indexer,col_indexer] = value instead\n",
            "\n",
            "See the caveats in the documentation: https://pandas.pydata.org/pandas-docs/stable/user_guide/indexing.html#returning-a-view-versus-a-copy\n",
            "  snli_data_sub['sentence2_token_nostopwords'] = snli_data_sub['sentence2_token'].apply(remove_stopwords)\n"
          ]
        },
        {
          "output_type": "execute_result",
          "data": {
            "text/plain": [
              "                                                sentence1  \\\n",
              "0       a person on a horse jumps over a broken down a...   \n",
              "1       a person on a horse jumps over a broken down a...   \n",
              "2       a person on a horse jumps over a broken down a...   \n",
              "3                   children smiling and waving at camera   \n",
              "4                   children smiling and waving at camera   \n",
              "...                                                   ...   \n",
              "550147                four dirty and barefooted children.   \n",
              "550148                four dirty and barefooted children.   \n",
              "550149  a man is surfing in a bodysuit in beautiful bl...   \n",
              "550150  a man is surfing in a bodysuit in beautiful bl...   \n",
              "550151  a man is surfing in a bodysuit in beautiful bl...   \n",
              "\n",
              "                                                sentence2  \\\n",
              "0       a person is training his horse for a competition.   \n",
              "1           a person is at a diner, ordering an omelette.   \n",
              "2                       a person is outdoors, on a horse.   \n",
              "3                       they are smiling at their parents   \n",
              "4                              there are children present   \n",
              "...                                                   ...   \n",
              "550147           four kids won awards for 'cleanest feet'   \n",
              "550148  four homeless children had their shoes stolen,...   \n",
              "550149  a man in a bodysuit is competing in a surfing ...   \n",
              "550150  a man in a business suit is heading to a board...   \n",
              "550151  on the beautiful blue water there is a man in ...   \n",
              "\n",
              "                                          sentence1_token  \\\n",
              "0       [a, person, on, a, horse, jumps, over, a, brok...   \n",
              "1       [a, person, on, a, horse, jumps, over, a, brok...   \n",
              "2       [a, person, on, a, horse, jumps, over, a, brok...   \n",
              "3            [children, smiling, and, waving, at, camera]   \n",
              "4            [children, smiling, and, waving, at, camera]   \n",
              "...                                                   ...   \n",
              "550147        [four, dirty, and, barefooted, children, .]   \n",
              "550148        [four, dirty, and, barefooted, children, .]   \n",
              "550149  [a, man, is, surfing, in, a, bodysuit, in, bea...   \n",
              "550150  [a, man, is, surfing, in, a, bodysuit, in, bea...   \n",
              "550151  [a, man, is, surfing, in, a, bodysuit, in, bea...   \n",
              "\n",
              "                                          sentence2_token  \\\n",
              "0       [a, person, is, training, his, horse, for, a, ...   \n",
              "1       [a, person, is, at, a, diner, ,, ordering, an,...   \n",
              "2           [a, person, is, outdoors, ,, on, a, horse, .]   \n",
              "3                [they, are, smiling, at, their, parents]   \n",
              "4                         [there, are, children, present]   \n",
              "...                                                   ...   \n",
              "550147  [four, kids, won, awards, for, 'cleanest, feet...   \n",
              "550148  [four, homeless, children, had, their, shoes, ...   \n",
              "550149  [a, man, in, a, bodysuit, is, competing, in, a...   \n",
              "550150  [a, man, in, a, business, suit, is, heading, t...   \n",
              "550151  [on, the, beautiful, blue, water, there, is, a...   \n",
              "\n",
              "                             sentence1_token_nostopwords  \\\n",
              "0               [person, horse, jumps, broken, airplane]   \n",
              "1               [person, horse, jumps, broken, airplane]   \n",
              "2               [person, horse, jumps, broken, airplane]   \n",
              "3                    [children, smiling, waving, camera]   \n",
              "4                    [children, smiling, waving, camera]   \n",
              "...                                                  ...   \n",
              "550147               [four, dirty, barefooted, children]   \n",
              "550148               [four, dirty, barefooted, children]   \n",
              "550149  [man, surfing, bodysuit, beautiful, blue, water]   \n",
              "550150  [man, surfing, bodysuit, beautiful, blue, water]   \n",
              "550151  [man, surfing, bodysuit, beautiful, blue, water]   \n",
              "\n",
              "                              sentence2_token_nostopwords  \n",
              "0                  [person, training, horse, competition]  \n",
              "1                     [person, diner, ordering, omelette]  \n",
              "2                               [person, outdoors, horse]  \n",
              "3                                      [smiling, parents]  \n",
              "4                                     [children, present]  \n",
              "...                                                   ...  \n",
              "550147              [four, kids, awards, 'cleanest, feet]  \n",
              "550148  [four, homeless, children, shoes, stolen, feet...  \n",
              "550149   [man, bodysuit, competing, surfing, competition]  \n",
              "550150     [man, business, suit, heading, board, meeting]  \n",
              "550151   [beautiful, blue, water, man, bodysuit, surfing]  \n",
              "\n",
              "[549526 rows x 6 columns]"
            ],
            "text/html": [
              "\n",
              "  <div id=\"df-595b6e9f-70ce-463f-8e5e-cf31ac8e2b75\" class=\"colab-df-container\">\n",
              "    <div>\n",
              "<style scoped>\n",
              "    .dataframe tbody tr th:only-of-type {\n",
              "        vertical-align: middle;\n",
              "    }\n",
              "\n",
              "    .dataframe tbody tr th {\n",
              "        vertical-align: top;\n",
              "    }\n",
              "\n",
              "    .dataframe thead th {\n",
              "        text-align: right;\n",
              "    }\n",
              "</style>\n",
              "<table border=\"1\" class=\"dataframe\">\n",
              "  <thead>\n",
              "    <tr style=\"text-align: right;\">\n",
              "      <th></th>\n",
              "      <th>sentence1</th>\n",
              "      <th>sentence2</th>\n",
              "      <th>sentence1_token</th>\n",
              "      <th>sentence2_token</th>\n",
              "      <th>sentence1_token_nostopwords</th>\n",
              "      <th>sentence2_token_nostopwords</th>\n",
              "    </tr>\n",
              "  </thead>\n",
              "  <tbody>\n",
              "    <tr>\n",
              "      <th>0</th>\n",
              "      <td>a person on a horse jumps over a broken down a...</td>\n",
              "      <td>a person is training his horse for a competition.</td>\n",
              "      <td>[a, person, on, a, horse, jumps, over, a, brok...</td>\n",
              "      <td>[a, person, is, training, his, horse, for, a, ...</td>\n",
              "      <td>[person, horse, jumps, broken, airplane]</td>\n",
              "      <td>[person, training, horse, competition]</td>\n",
              "    </tr>\n",
              "    <tr>\n",
              "      <th>1</th>\n",
              "      <td>a person on a horse jumps over a broken down a...</td>\n",
              "      <td>a person is at a diner, ordering an omelette.</td>\n",
              "      <td>[a, person, on, a, horse, jumps, over, a, brok...</td>\n",
              "      <td>[a, person, is, at, a, diner, ,, ordering, an,...</td>\n",
              "      <td>[person, horse, jumps, broken, airplane]</td>\n",
              "      <td>[person, diner, ordering, omelette]</td>\n",
              "    </tr>\n",
              "    <tr>\n",
              "      <th>2</th>\n",
              "      <td>a person on a horse jumps over a broken down a...</td>\n",
              "      <td>a person is outdoors, on a horse.</td>\n",
              "      <td>[a, person, on, a, horse, jumps, over, a, brok...</td>\n",
              "      <td>[a, person, is, outdoors, ,, on, a, horse, .]</td>\n",
              "      <td>[person, horse, jumps, broken, airplane]</td>\n",
              "      <td>[person, outdoors, horse]</td>\n",
              "    </tr>\n",
              "    <tr>\n",
              "      <th>3</th>\n",
              "      <td>children smiling and waving at camera</td>\n",
              "      <td>they are smiling at their parents</td>\n",
              "      <td>[children, smiling, and, waving, at, camera]</td>\n",
              "      <td>[they, are, smiling, at, their, parents]</td>\n",
              "      <td>[children, smiling, waving, camera]</td>\n",
              "      <td>[smiling, parents]</td>\n",
              "    </tr>\n",
              "    <tr>\n",
              "      <th>4</th>\n",
              "      <td>children smiling and waving at camera</td>\n",
              "      <td>there are children present</td>\n",
              "      <td>[children, smiling, and, waving, at, camera]</td>\n",
              "      <td>[there, are, children, present]</td>\n",
              "      <td>[children, smiling, waving, camera]</td>\n",
              "      <td>[children, present]</td>\n",
              "    </tr>\n",
              "    <tr>\n",
              "      <th>...</th>\n",
              "      <td>...</td>\n",
              "      <td>...</td>\n",
              "      <td>...</td>\n",
              "      <td>...</td>\n",
              "      <td>...</td>\n",
              "      <td>...</td>\n",
              "    </tr>\n",
              "    <tr>\n",
              "      <th>550147</th>\n",
              "      <td>four dirty and barefooted children.</td>\n",
              "      <td>four kids won awards for 'cleanest feet'</td>\n",
              "      <td>[four, dirty, and, barefooted, children, .]</td>\n",
              "      <td>[four, kids, won, awards, for, 'cleanest, feet...</td>\n",
              "      <td>[four, dirty, barefooted, children]</td>\n",
              "      <td>[four, kids, awards, 'cleanest, feet]</td>\n",
              "    </tr>\n",
              "    <tr>\n",
              "      <th>550148</th>\n",
              "      <td>four dirty and barefooted children.</td>\n",
              "      <td>four homeless children had their shoes stolen,...</td>\n",
              "      <td>[four, dirty, and, barefooted, children, .]</td>\n",
              "      <td>[four, homeless, children, had, their, shoes, ...</td>\n",
              "      <td>[four, dirty, barefooted, children]</td>\n",
              "      <td>[four, homeless, children, shoes, stolen, feet...</td>\n",
              "    </tr>\n",
              "    <tr>\n",
              "      <th>550149</th>\n",
              "      <td>a man is surfing in a bodysuit in beautiful bl...</td>\n",
              "      <td>a man in a bodysuit is competing in a surfing ...</td>\n",
              "      <td>[a, man, is, surfing, in, a, bodysuit, in, bea...</td>\n",
              "      <td>[a, man, in, a, bodysuit, is, competing, in, a...</td>\n",
              "      <td>[man, surfing, bodysuit, beautiful, blue, water]</td>\n",
              "      <td>[man, bodysuit, competing, surfing, competition]</td>\n",
              "    </tr>\n",
              "    <tr>\n",
              "      <th>550150</th>\n",
              "      <td>a man is surfing in a bodysuit in beautiful bl...</td>\n",
              "      <td>a man in a business suit is heading to a board...</td>\n",
              "      <td>[a, man, is, surfing, in, a, bodysuit, in, bea...</td>\n",
              "      <td>[a, man, in, a, business, suit, is, heading, t...</td>\n",
              "      <td>[man, surfing, bodysuit, beautiful, blue, water]</td>\n",
              "      <td>[man, business, suit, heading, board, meeting]</td>\n",
              "    </tr>\n",
              "    <tr>\n",
              "      <th>550151</th>\n",
              "      <td>a man is surfing in a bodysuit in beautiful bl...</td>\n",
              "      <td>on the beautiful blue water there is a man in ...</td>\n",
              "      <td>[a, man, is, surfing, in, a, bodysuit, in, bea...</td>\n",
              "      <td>[on, the, beautiful, blue, water, there, is, a...</td>\n",
              "      <td>[man, surfing, bodysuit, beautiful, blue, water]</td>\n",
              "      <td>[beautiful, blue, water, man, bodysuit, surfing]</td>\n",
              "    </tr>\n",
              "  </tbody>\n",
              "</table>\n",
              "<p>549526 rows × 6 columns</p>\n",
              "</div>\n",
              "    <div class=\"colab-df-buttons\">\n",
              "\n",
              "  <div class=\"colab-df-container\">\n",
              "    <button class=\"colab-df-convert\" onclick=\"convertToInteractive('df-595b6e9f-70ce-463f-8e5e-cf31ac8e2b75')\"\n",
              "            title=\"Convert this dataframe to an interactive table.\"\n",
              "            style=\"display:none;\">\n",
              "\n",
              "  <svg xmlns=\"http://www.w3.org/2000/svg\" height=\"24px\" viewBox=\"0 -960 960 960\">\n",
              "    <path d=\"M120-120v-720h720v720H120Zm60-500h600v-160H180v160Zm220 220h160v-160H400v160Zm0 220h160v-160H400v160ZM180-400h160v-160H180v160Zm440 0h160v-160H620v160ZM180-180h160v-160H180v160Zm440 0h160v-160H620v160Z\"/>\n",
              "  </svg>\n",
              "    </button>\n",
              "\n",
              "  <style>\n",
              "    .colab-df-container {\n",
              "      display:flex;\n",
              "      gap: 12px;\n",
              "    }\n",
              "\n",
              "    .colab-df-convert {\n",
              "      background-color: #E8F0FE;\n",
              "      border: none;\n",
              "      border-radius: 50%;\n",
              "      cursor: pointer;\n",
              "      display: none;\n",
              "      fill: #1967D2;\n",
              "      height: 32px;\n",
              "      padding: 0 0 0 0;\n",
              "      width: 32px;\n",
              "    }\n",
              "\n",
              "    .colab-df-convert:hover {\n",
              "      background-color: #E2EBFA;\n",
              "      box-shadow: 0px 1px 2px rgba(60, 64, 67, 0.3), 0px 1px 3px 1px rgba(60, 64, 67, 0.15);\n",
              "      fill: #174EA6;\n",
              "    }\n",
              "\n",
              "    .colab-df-buttons div {\n",
              "      margin-bottom: 4px;\n",
              "    }\n",
              "\n",
              "    [theme=dark] .colab-df-convert {\n",
              "      background-color: #3B4455;\n",
              "      fill: #D2E3FC;\n",
              "    }\n",
              "\n",
              "    [theme=dark] .colab-df-convert:hover {\n",
              "      background-color: #434B5C;\n",
              "      box-shadow: 0px 1px 3px 1px rgba(0, 0, 0, 0.15);\n",
              "      filter: drop-shadow(0px 1px 2px rgba(0, 0, 0, 0.3));\n",
              "      fill: #FFFFFF;\n",
              "    }\n",
              "  </style>\n",
              "\n",
              "    <script>\n",
              "      const buttonEl =\n",
              "        document.querySelector('#df-595b6e9f-70ce-463f-8e5e-cf31ac8e2b75 button.colab-df-convert');\n",
              "      buttonEl.style.display =\n",
              "        google.colab.kernel.accessAllowed ? 'block' : 'none';\n",
              "\n",
              "      async function convertToInteractive(key) {\n",
              "        const element = document.querySelector('#df-595b6e9f-70ce-463f-8e5e-cf31ac8e2b75');\n",
              "        const dataTable =\n",
              "          await google.colab.kernel.invokeFunction('convertToInteractive',\n",
              "                                                    [key], {});\n",
              "        if (!dataTable) return;\n",
              "\n",
              "        const docLinkHtml = 'Like what you see? Visit the ' +\n",
              "          '<a target=\"_blank\" href=https://colab.research.google.com/notebooks/data_table.ipynb>data table notebook</a>'\n",
              "          + ' to learn more about interactive tables.';\n",
              "        element.innerHTML = '';\n",
              "        dataTable['output_type'] = 'display_data';\n",
              "        await google.colab.output.renderOutput(dataTable, element);\n",
              "        const docLink = document.createElement('div');\n",
              "        docLink.innerHTML = docLinkHtml;\n",
              "        element.appendChild(docLink);\n",
              "      }\n",
              "    </script>\n",
              "  </div>\n",
              "\n",
              "\n",
              "<div id=\"df-29a4e2f6-846e-4fbf-9cfc-23932efe5b56\">\n",
              "  <button class=\"colab-df-quickchart\" onclick=\"quickchart('df-29a4e2f6-846e-4fbf-9cfc-23932efe5b56')\"\n",
              "            title=\"Suggest charts\"\n",
              "            style=\"display:none;\">\n",
              "\n",
              "<svg xmlns=\"http://www.w3.org/2000/svg\" height=\"24px\"viewBox=\"0 0 24 24\"\n",
              "     width=\"24px\">\n",
              "    <g>\n",
              "        <path d=\"M19 3H5c-1.1 0-2 .9-2 2v14c0 1.1.9 2 2 2h14c1.1 0 2-.9 2-2V5c0-1.1-.9-2-2-2zM9 17H7v-7h2v7zm4 0h-2V7h2v10zm4 0h-2v-4h2v4z\"/>\n",
              "    </g>\n",
              "</svg>\n",
              "  </button>\n",
              "\n",
              "<style>\n",
              "  .colab-df-quickchart {\n",
              "      --bg-color: #E8F0FE;\n",
              "      --fill-color: #1967D2;\n",
              "      --hover-bg-color: #E2EBFA;\n",
              "      --hover-fill-color: #174EA6;\n",
              "      --disabled-fill-color: #AAA;\n",
              "      --disabled-bg-color: #DDD;\n",
              "  }\n",
              "\n",
              "  [theme=dark] .colab-df-quickchart {\n",
              "      --bg-color: #3B4455;\n",
              "      --fill-color: #D2E3FC;\n",
              "      --hover-bg-color: #434B5C;\n",
              "      --hover-fill-color: #FFFFFF;\n",
              "      --disabled-bg-color: #3B4455;\n",
              "      --disabled-fill-color: #666;\n",
              "  }\n",
              "\n",
              "  .colab-df-quickchart {\n",
              "    background-color: var(--bg-color);\n",
              "    border: none;\n",
              "    border-radius: 50%;\n",
              "    cursor: pointer;\n",
              "    display: none;\n",
              "    fill: var(--fill-color);\n",
              "    height: 32px;\n",
              "    padding: 0;\n",
              "    width: 32px;\n",
              "  }\n",
              "\n",
              "  .colab-df-quickchart:hover {\n",
              "    background-color: var(--hover-bg-color);\n",
              "    box-shadow: 0 1px 2px rgba(60, 64, 67, 0.3), 0 1px 3px 1px rgba(60, 64, 67, 0.15);\n",
              "    fill: var(--button-hover-fill-color);\n",
              "  }\n",
              "\n",
              "  .colab-df-quickchart-complete:disabled,\n",
              "  .colab-df-quickchart-complete:disabled:hover {\n",
              "    background-color: var(--disabled-bg-color);\n",
              "    fill: var(--disabled-fill-color);\n",
              "    box-shadow: none;\n",
              "  }\n",
              "\n",
              "  .colab-df-spinner {\n",
              "    border: 2px solid var(--fill-color);\n",
              "    border-color: transparent;\n",
              "    border-bottom-color: var(--fill-color);\n",
              "    animation:\n",
              "      spin 1s steps(1) infinite;\n",
              "  }\n",
              "\n",
              "  @keyframes spin {\n",
              "    0% {\n",
              "      border-color: transparent;\n",
              "      border-bottom-color: var(--fill-color);\n",
              "      border-left-color: var(--fill-color);\n",
              "    }\n",
              "    20% {\n",
              "      border-color: transparent;\n",
              "      border-left-color: var(--fill-color);\n",
              "      border-top-color: var(--fill-color);\n",
              "    }\n",
              "    30% {\n",
              "      border-color: transparent;\n",
              "      border-left-color: var(--fill-color);\n",
              "      border-top-color: var(--fill-color);\n",
              "      border-right-color: var(--fill-color);\n",
              "    }\n",
              "    40% {\n",
              "      border-color: transparent;\n",
              "      border-right-color: var(--fill-color);\n",
              "      border-top-color: var(--fill-color);\n",
              "    }\n",
              "    60% {\n",
              "      border-color: transparent;\n",
              "      border-right-color: var(--fill-color);\n",
              "    }\n",
              "    80% {\n",
              "      border-color: transparent;\n",
              "      border-right-color: var(--fill-color);\n",
              "      border-bottom-color: var(--fill-color);\n",
              "    }\n",
              "    90% {\n",
              "      border-color: transparent;\n",
              "      border-bottom-color: var(--fill-color);\n",
              "    }\n",
              "  }\n",
              "</style>\n",
              "\n",
              "  <script>\n",
              "    async function quickchart(key) {\n",
              "      const quickchartButtonEl =\n",
              "        document.querySelector('#' + key + ' button');\n",
              "      quickchartButtonEl.disabled = true;  // To prevent multiple clicks.\n",
              "      quickchartButtonEl.classList.add('colab-df-spinner');\n",
              "      try {\n",
              "        const charts = await google.colab.kernel.invokeFunction(\n",
              "            'suggestCharts', [key], {});\n",
              "      } catch (error) {\n",
              "        console.error('Error during call to suggestCharts:', error);\n",
              "      }\n",
              "      quickchartButtonEl.classList.remove('colab-df-spinner');\n",
              "      quickchartButtonEl.classList.add('colab-df-quickchart-complete');\n",
              "    }\n",
              "    (() => {\n",
              "      let quickchartButtonEl =\n",
              "        document.querySelector('#df-29a4e2f6-846e-4fbf-9cfc-23932efe5b56 button');\n",
              "      quickchartButtonEl.style.display =\n",
              "        google.colab.kernel.accessAllowed ? 'block' : 'none';\n",
              "    })();\n",
              "  </script>\n",
              "</div>\n",
              "\n",
              "  <div id=\"id_cc9abfcb-21df-48f9-a790-01c675c20906\">\n",
              "    <style>\n",
              "      .colab-df-generate {\n",
              "        background-color: #E8F0FE;\n",
              "        border: none;\n",
              "        border-radius: 50%;\n",
              "        cursor: pointer;\n",
              "        display: none;\n",
              "        fill: #1967D2;\n",
              "        height: 32px;\n",
              "        padding: 0 0 0 0;\n",
              "        width: 32px;\n",
              "      }\n",
              "\n",
              "      .colab-df-generate:hover {\n",
              "        background-color: #E2EBFA;\n",
              "        box-shadow: 0px 1px 2px rgba(60, 64, 67, 0.3), 0px 1px 3px 1px rgba(60, 64, 67, 0.15);\n",
              "        fill: #174EA6;\n",
              "      }\n",
              "\n",
              "      [theme=dark] .colab-df-generate {\n",
              "        background-color: #3B4455;\n",
              "        fill: #D2E3FC;\n",
              "      }\n",
              "\n",
              "      [theme=dark] .colab-df-generate:hover {\n",
              "        background-color: #434B5C;\n",
              "        box-shadow: 0px 1px 3px 1px rgba(0, 0, 0, 0.15);\n",
              "        filter: drop-shadow(0px 1px 2px rgba(0, 0, 0, 0.3));\n",
              "        fill: #FFFFFF;\n",
              "      }\n",
              "    </style>\n",
              "    <button class=\"colab-df-generate\" onclick=\"generateWithVariable('snli_data_sub')\"\n",
              "            title=\"Generate code using this dataframe.\"\n",
              "            style=\"display:none;\">\n",
              "\n",
              "  <svg xmlns=\"http://www.w3.org/2000/svg\" height=\"24px\"viewBox=\"0 0 24 24\"\n",
              "       width=\"24px\">\n",
              "    <path d=\"M7,19H8.4L18.45,9,17,7.55,7,17.6ZM5,21V16.75L18.45,3.32a2,2,0,0,1,2.83,0l1.4,1.43a1.91,1.91,0,0,1,.58,1.4,1.91,1.91,0,0,1-.58,1.4L9.25,21ZM18.45,9,17,7.55Zm-12,3A5.31,5.31,0,0,0,4.9,8.1,5.31,5.31,0,0,0,1,6.5,5.31,5.31,0,0,0,4.9,4.9,5.31,5.31,0,0,0,6.5,1,5.31,5.31,0,0,0,8.1,4.9,5.31,5.31,0,0,0,12,6.5,5.46,5.46,0,0,0,6.5,12Z\"/>\n",
              "  </svg>\n",
              "    </button>\n",
              "    <script>\n",
              "      (() => {\n",
              "      const buttonEl =\n",
              "        document.querySelector('#id_cc9abfcb-21df-48f9-a790-01c675c20906 button.colab-df-generate');\n",
              "      buttonEl.style.display =\n",
              "        google.colab.kernel.accessAllowed ? 'block' : 'none';\n",
              "\n",
              "      buttonEl.onclick = () => {\n",
              "        google.colab.notebook.generateWithVariable('snli_data_sub');\n",
              "      }\n",
              "      })();\n",
              "    </script>\n",
              "  </div>\n",
              "\n",
              "    </div>\n",
              "  </div>\n"
            ],
            "application/vnd.google.colaboratory.intrinsic+json": {
              "type": "dataframe",
              "variable_name": "snli_data_sub"
            }
          },
          "metadata": {},
          "execution_count": 13
        }
      ],
      "source": [
        "#Remove stop-words\n",
        "snli_data_sub['sentence1_token_nostopwords'] = snli_data_sub['sentence1_token'].apply(remove_stopwords)\n",
        "snli_data_sub['sentence2_token_nostopwords'] = snli_data_sub['sentence2_token'].apply(remove_stopwords)\n",
        "\n",
        "snli_data_sub"
      ]
    },
    {
      "cell_type": "code",
      "execution_count": 14,
      "metadata": {
        "colab": {
          "base_uri": "https://localhost:8080/"
        },
        "collapsed": true,
        "id": "CYM5_vz484vq",
        "outputId": "6ac54a55-c98b-4d65-fdf9-3199e0238a80"
      },
      "outputs": [
        {
          "output_type": "stream",
          "name": "stdout",
          "text": [
            "549526\n"
          ]
        },
        {
          "output_type": "stream",
          "name": "stderr",
          "text": [
            "<ipython-input-14-f92728b880f2>:2: SettingWithCopyWarning: \n",
            "A value is trying to be set on a copy of a slice from a DataFrame.\n",
            "Try using .loc[row_indexer,col_indexer] = value instead\n",
            "\n",
            "See the caveats in the documentation: https://pandas.pydata.org/pandas-docs/stable/user_guide/indexing.html#returning-a-view-versus-a-copy\n",
            "  snli_data_sub['sentence1_token_nostopwords_str'] = snli_data_sub['sentence1_token_nostopwords'].apply(lambda x: ' '.join(x))\n",
            "<ipython-input-14-f92728b880f2>:3: SettingWithCopyWarning: \n",
            "A value is trying to be set on a copy of a slice from a DataFrame.\n",
            "Try using .loc[row_indexer,col_indexer] = value instead\n",
            "\n",
            "See the caveats in the documentation: https://pandas.pydata.org/pandas-docs/stable/user_guide/indexing.html#returning-a-view-versus-a-copy\n",
            "  snli_data_sub['sentence2_token_nostopwords_str'] = snli_data_sub['sentence2_token_nostopwords'].apply(lambda x: ' '.join(x))\n"
          ]
        },
        {
          "output_type": "stream",
          "name": "stdout",
          "text": [
            "547562\n"
          ]
        },
        {
          "output_type": "stream",
          "name": "stderr",
          "text": [
            "<ipython-input-14-f92728b880f2>:4: SettingWithCopyWarning: \n",
            "A value is trying to be set on a copy of a slice from a DataFrame\n",
            "\n",
            "See the caveats in the documentation: https://pandas.pydata.org/pandas-docs/stable/user_guide/indexing.html#returning-a-view-versus-a-copy\n",
            "  snli_data_sub.drop_duplicates(subset=['sentence1_token_nostopwords_str', 'sentence2_token_nostopwords_str'], keep='last', inplace=True)\n"
          ]
        }
      ],
      "source": [
        "print(len(snli_data_sub))\n",
        "snli_data_sub['sentence1_token_nostopwords_str'] = snli_data_sub['sentence1_token_nostopwords'].apply(lambda x: ' '.join(x))\n",
        "snli_data_sub['sentence2_token_nostopwords_str'] = snli_data_sub['sentence2_token_nostopwords'].apply(lambda x: ' '.join(x))\n",
        "snli_data_sub.drop_duplicates(subset=['sentence1_token_nostopwords_str', 'sentence2_token_nostopwords_str'], keep='last', inplace=True)\n",
        "print(len(snli_data_sub))"
      ]
    },
    {
      "cell_type": "markdown",
      "metadata": {
        "id": "c8JO4SEVWQO9"
      },
      "source": [
        "**Word association analysis**\n",
        "```latex\n",
        "PMI(w_i, w_j) = log_2 \\frac{p(w_i, w_j)}{P(w_i)P(w_j)} = log_2\\frac{N\\cdot c(w_i, w_j)}{c(w_i)c(w_j)}\n",
        "```\n"
      ]
    },
    {
      "cell_type": "code",
      "execution_count": 15,
      "metadata": {
        "colab": {
          "base_uri": "https://localhost:8080/"
        },
        "collapsed": true,
        "id": "ucEFurSB_ozM",
        "outputId": "eed3ca2a-238f-4674-b604-700e6bed29b4"
      },
      "outputs": [
        {
          "output_type": "execute_result",
          "data": {
            "text/plain": [
              "[('man', 265138),\n",
              " ('woman', 137105),\n",
              " ('two', 121714),\n",
              " ('people', 120802),\n",
              " ('wearing', 80592),\n",
              " ('young', 61353),\n",
              " ('men', 60820),\n",
              " ('playing', 59220),\n",
              " ('girl', 59094),\n",
              " ('boy', 58041),\n",
              " ('white', 56785),\n",
              " ('shirt', 56204),\n",
              " ('black', 54824),\n",
              " ('dog', 53690),\n",
              " ('sitting', 53544),\n",
              " ('blue', 49040),\n",
              " ('standing', 46189),\n",
              " ('red', 43129),\n",
              " ('group', 43057),\n",
              " ('walking', 38678)]"
            ]
          },
          "metadata": {},
          "execution_count": 15
        }
      ],
      "source": [
        "#Computing Unigram frequency\n",
        "corpus = []\n",
        "for sent in (snli_data_sub['sentence1_token_nostopwords'].tolist() + snli_data_sub['sentence2_token_nostopwords'].tolist()):\n",
        "  corpus+=(sent)\n",
        "unigram_frequency = Counter(corpus)\n",
        "unigram_frequency.most_common(20)"
      ]
    },
    {
      "cell_type": "code",
      "execution_count": 16,
      "metadata": {
        "colab": {
          "base_uri": "https://localhost:8080/"
        },
        "id": "ztFeh5FbYrEW",
        "outputId": "2f4cdf0e-b9fd-4807-c64c-2c3560575a2e"
      },
      "outputs": [
        {
          "output_type": "stream",
          "name": "stdout",
          "text": [
            "36420\n",
            "10662\n"
          ]
        }
      ],
      "source": [
        "#Remove words with less than 15 freq\n",
        "from itertools import dropwhile\n",
        "print(len(unigram_frequency))\n",
        "for key, count in dropwhile(lambda key_count: key_count[1] >= 15, unigram_frequency.most_common()):\n",
        "    del unigram_frequency[key]\n",
        "print(len(unigram_frequency))"
      ]
    },
    {
      "cell_type": "code",
      "execution_count": 18,
      "metadata": {
        "colab": {
          "base_uri": "https://localhost:8080/"
        },
        "id": "2mIPHn9rIv8h",
        "outputId": "2d699a60-7377-49be-8ba5-39ad4a1853b6"
      },
      "outputs": [
        {
          "output_type": "stream",
          "name": "stdout",
          "text": [
            "S1 547562\n",
            "S1 149532\n",
            "S2 547562\n",
            "S2 423589\n"
          ]
        },
        {
          "output_type": "stream",
          "name": "stderr",
          "text": [
            "100%|██████████| 573121/573121 [00:02<00:00, 209787.27it/s]\n"
          ]
        }
      ],
      "source": [
        "choice = \"separate_prem_hypo\"\n",
        "\n",
        "if choice == \"combine_prem_hypo\":\n",
        "  snli_data_sub['sentence1_sentence2_token_nostopwords'] = snli_data_sub['sentence1_token_nostopwords'] + snli_data_sub['sentence2_token_nostopwords']\n",
        "  ##MAIN\n",
        "  bigram_doc=[]\n",
        "  for ele in tqdm(snli_data_sub['sentence1_sentence2_token_nostopwords'].tolist()):\n",
        "    bigram_doc.append(list(set(list(nltk.bigrams(ele)))))\n",
        "  bigram=[]\n",
        "  for doc in bigram_doc:\n",
        "    bigram += doc\n",
        "  bigram_frequency = Counter(bigram)\n",
        "  bigram_frequency\n",
        "elif choice == \"separate_prem_hypo\":\n",
        "  ##\n",
        "  snli_data_sub_s1 = snli_data_sub[['sentence1_token_nostopwords']].copy()\n",
        "  snli_data_sub_s2 = snli_data_sub[['sentence2_token_nostopwords']].copy()\n",
        "\n",
        "  print(\"S1\",len(snli_data_sub_s1))\n",
        "  snli_data_sub_s1['sentence1_token_nostopwords_str'] = snli_data_sub_s1['sentence1_token_nostopwords'].apply(lambda x: ' '.join(x))\n",
        "  snli_data_sub_s1.drop_duplicates(subset=['sentence1_token_nostopwords_str'], keep='last',inplace=True)\n",
        "  print(\"S1\",len(snli_data_sub_s1))\n",
        "\n",
        "  print(\"S2\",len(snli_data_sub_s2))\n",
        "  snli_data_sub_s2['sentence2_token_nostopwords_str'] = snli_data_sub_s2['sentence2_token_nostopwords'].apply(lambda x: ' '.join(x))\n",
        "  snli_data_sub_s2.drop_duplicates(subset=['sentence2_token_nostopwords_str'], keep='last',inplace=True)\n",
        "  print(\"S2\",len(snli_data_sub_s2))\n",
        "  ##MAIN\n",
        "  bigram_doc=[]\n",
        "  for ele in tqdm(snli_data_sub_s1['sentence1_token_nostopwords'].tolist()+snli_data_sub_s2['sentence2_token_nostopwords'].tolist()):\n",
        "    bigram_doc.append(list(set(list(nltk.bigrams(ele)))))\n",
        "  bigram=[]\n",
        "  for doc in bigram_doc:\n",
        "    bigram += doc\n",
        "  bigram_frequency = Counter(bigram)\n",
        "  bigram_frequency"
      ]
    },
    {
      "cell_type": "code",
      "execution_count": 19,
      "metadata": {
        "colab": {
          "base_uri": "https://localhost:8080/"
        },
        "id": "e3dt_05Rb4X7",
        "outputId": "11def941-0208-4935-c13c-1bca940db614"
      },
      "outputs": [
        {
          "output_type": "stream",
          "name": "stdout",
          "text": [
            "662076\n",
            "29241\n"
          ]
        }
      ],
      "source": [
        "#Remove words-pair with less than 10 freq\n",
        "from itertools import dropwhile\n",
        "print(len(bigram_frequency))\n",
        "for key, count in dropwhile(lambda key_count: key_count[1] >= 10, bigram_frequency.most_common()):\n",
        "    del bigram_frequency[key]\n",
        "print(len(bigram_frequency))"
      ]
    },
    {
      "cell_type": "code",
      "execution_count": 20,
      "metadata": {
        "id": "XWb3Lb44Ixg9"
      },
      "outputs": [],
      "source": [
        "#Calculate PMI\n",
        "import math\n",
        "\n",
        "def pmi(word1, word2, unigram_freq, bigram_freq):\n",
        "  if word1 in unigram_freq.keys() and word2 in unigram_freq.keys():\n",
        "    if (word1, word2) in bigram_freq.keys() or (word2, word1) in bigram_freq.keys():\n",
        "      prob_word1 = unigram_freq[word1] / float(sum(unigram_freq.values()))\n",
        "      prob_word2 = unigram_freq[word2] / float(sum(unigram_freq.values()))\n",
        "      prob_word1_word2 = (bigram_freq[(word1, word2)]) / float(sum(bigram_freq.values()))\n",
        "      if prob_word1_word2 >0:\n",
        "        return math.log(prob_word1_word2/float(prob_word1*prob_word2),2)\n"
      ]
    },
    {
      "cell_type": "code",
      "execution_count": null,
      "metadata": {
        "colab": {
          "base_uri": "https://localhost:8080/"
        },
        "id": "O4Xv6_8fXkB1",
        "outputId": "9412b9b3-635d-4cdc-ee92-2cdbc3822edc"
      },
      "outputs": [
        {
          "data": {
            "text/plain": [
              "['woman',\n",
              " 'women',\n",
              " 'man',\n",
              " 'men',\n",
              " 'girl',\n",
              " 'girls',\n",
              " 'boy',\n",
              " 'boys',\n",
              " 'she',\n",
              " 'he',\n",
              " 'her',\n",
              " 'him',\n",
              " 'his',\n",
              " 'female',\n",
              " 'male',\n",
              " 'mother',\n",
              " 'father',\n",
              " 'sister',\n",
              " 'brother',\n",
              " 'daughter',\n",
              " 'son',\n",
              " 'feminine',\n",
              " 'masculine',\n",
              " 'androgynous',\n",
              " 'trans',\n",
              " 'transgender',\n",
              " 'transsexual',\n",
              " 'nonbinary',\n",
              " 'non-binary',\n",
              " 'two-spirit',\n",
              " 'hijra',\n",
              " 'genderqueer',\n",
              " 'black',\n",
              " 'asian',\n",
              " 'hispanic',\n",
              " 'white',\n",
              " 'african',\n",
              " 'american',\n",
              " 'latino',\n",
              " 'latina',\n",
              " 'caucasian',\n",
              " 'africans',\n",
              " 'middle-eastern',\n",
              " 'australian',\n",
              " 'australians',\n",
              " 'asians',\n",
              " 'european',\n",
              " 'europeans',\n",
              " 'chinese',\n",
              " 'indian',\n",
              " 'indonesian',\n",
              " 'brazilian',\n",
              " 'pakistani',\n",
              " 'bangladeshi',\n",
              " 'russian',\n",
              " 'nigerian',\n",
              " 'japanese',\n",
              " 'mexican',\n",
              " 'filipino ',\n",
              " 'vietnamese ',\n",
              " 'german',\n",
              " 'egyptian',\n",
              " 'ethiopian',\n",
              " 'turkish',\n",
              " 'iranian',\n",
              " 'thai',\n",
              " 'congolese',\n",
              " 'french',\n",
              " 'british ',\n",
              " 'italian',\n",
              " 'korean',\n",
              " 'burmese',\n",
              " 'canadian ',\n",
              " 'australian ',\n",
              " 'spanish',\n",
              " 'dutch',\n",
              " 'swiss',\n",
              " 'saudi',\n",
              " 'argentinian ',\n",
              " 'taiwanese ',\n",
              " 'swedish ',\n",
              " 'belgian',\n",
              " 'polish',\n",
              " 'israeli',\n",
              " 'irish',\n",
              " 'greek',\n",
              " 'ukrainian ',\n",
              " 'jamaican ',\n",
              " 'mongolian',\n",
              " 'armenian',\n",
              " 'disability',\n",
              " 'disabled',\n",
              " 'handicap',\n",
              " 'handicapped',\n",
              " 'mentally',\n",
              " 'mental',\n",
              " 'autistic',\n",
              " 'autism',\n",
              " 'lesbian',\n",
              " 'lesbians',\n",
              " 'gay',\n",
              " 'bisexual',\n",
              " 'pansexual',\n",
              " 'asexual',\n",
              " 'queer',\n",
              " 'straight',\n",
              " 'muslim',\n",
              " 'christian',\n",
              " 'jew',\n",
              " 'jewish',\n",
              " 'sikh',\n",
              " 'buddhist',\n",
              " 'hindu',\n",
              " 'atheist',\n",
              " 'muslims',\n",
              " 'christians',\n",
              " 'jews',\n",
              " 'sikhs',\n",
              " 'buddhists',\n",
              " 'hindus',\n",
              " 'atheists',\n",
              " 'old',\n",
              " 'elderly',\n",
              " 'retired',\n",
              " 'teenage',\n",
              " 'young',\n",
              " 'senior',\n",
              " 'seniors',\n",
              " 'teenager',\n",
              " 'teenagers',\n",
              " '']"
            ]
          },
          "execution_count": 104,
          "metadata": {},
          "output_type": "execute_result"
        }
      ],
      "source": [
        "identity_labels"
      ]
    },
    {
      "cell_type": "code",
      "execution_count": 21,
      "metadata": {
        "id": "-pu5JUuhXooV"
      },
      "outputs": [],
      "source": [
        "def Sort(tuple):\n",
        "    # reverse = None (Sorts in Ascending order)\n",
        "    return(sorted(tuple, key = lambda a: a[1], reverse = True))\n",
        "\n",
        "def get_pmi(identity_label,unigram_frequency,bigram_frequency):\n",
        "  pmi_identity_label=[]\n",
        "  for word in tqdm(unigram_frequency.keys()):\n",
        "    pmi_score = pmi(word1=identity_label.lower(), word2=word,unigram_freq=unigram_frequency,bigram_freq=bigram_frequency)\n",
        "    if pmi_score:\n",
        "      pmi_identity_label.append((word,pmi_score))\n",
        "\n",
        "  return Sort(pmi_identity_label)\n"
      ]
    },
    {
      "cell_type": "code",
      "execution_count": 23,
      "metadata": {
        "colab": {
          "base_uri": "https://localhost:8080/"
        },
        "id": "RDQyMeR-YTir",
        "outputId": "520ecf4c-4232-488a-fa18-d4c494db2db1"
      },
      "outputs": [
        {
          "output_type": "stream",
          "name": "stderr",
          "text": [
            "100%|██████████| 10662/10662 [00:03<00:00, 3129.48it/s]\n",
            "100%|██████████| 10662/10662 [00:02<00:00, 4950.71it/s]\n",
            "100%|██████████| 10662/10662 [00:00<00:00, 341598.38it/s]\n"
          ]
        }
      ],
      "source": [
        "male_pmi_data = get_pmi('man',unigram_frequency,bigram_frequency)\n",
        "female_pmi_data = get_pmi('woman',unigram_frequency,bigram_frequency)\n",
        "gay_pmi_data = get_pmi('gay',unigram_frequency,bigram_frequency)\n",
        "#young\n",
        "#old\n",
        "#caucasian\n",
        "#indian"
      ]
    },
    {
      "cell_type": "code",
      "source": [
        "\"professor\" in unigram_frequency.keys()\n",
        "professor_pmi_data = get_pmi('professor',unigram_frequency,bigram_frequency)\n",
        "\"students\" in unigram_frequency.keys()\n",
        "students_pmi_data = get_pmi('students',unigram_frequency,bigram_frequency)\n"
      ],
      "metadata": {
        "colab": {
          "base_uri": "https://localhost:8080/"
        },
        "id": "9TmVAbZo7TGN",
        "outputId": "b99a50ed-86e4-467d-d493-8fd351ab134b"
      },
      "execution_count": 35,
      "outputs": [
        {
          "output_type": "stream",
          "name": "stderr",
          "text": [
            "100%|██████████| 10662/10662 [00:00<00:00, 324594.21it/s]\n",
            "100%|██████████| 10662/10662 [00:00<00:00, 80650.09it/s]\n"
          ]
        }
      ]
    },
    {
      "cell_type": "code",
      "source": [
        "students_pmi_data"
      ],
      "metadata": {
        "colab": {
          "base_uri": "https://localhost:8080/"
        },
        "id": "VlpcJdzL70vW",
        "outputId": "32c76fe0-a820-4fab-9044-75f9f9fd8356"
      },
      "execution_count": 36,
      "outputs": [
        {
          "output_type": "execute_result",
          "data": {
            "text/plain": [
              "[('college', 10.580254617666741),\n",
              " ('studying', 9.173079236160866),\n",
              " ('classroom', 7.886767660167415),\n",
              " ('class', 7.865637797710345),\n",
              " ('arts', 7.538204438776586),\n",
              " ('learning', 7.5241380132837445),\n",
              " ('teaching', 7.346199278804712),\n",
              " ('listening', 7.153989862964642),\n",
              " ('practicing', 6.727985217348418),\n",
              " ('karate', 6.511232125539247),\n",
              " ('school', 6.361893199346405),\n",
              " ('art', 6.212683857223665),\n",
              " ('full', 5.724496231268537),\n",
              " ('sit', 5.6257161526379456),\n",
              " ('group', 5.305235507729033),\n",
              " ('asian', 5.103845925728085),\n",
              " ('taking', 4.874090704079956),\n",
              " ('waiting', 4.746199461784648),\n",
              " ('working', 4.738663159507043),\n",
              " ('work', 4.520330800014682),\n",
              " ('watch', 4.498105576312868),\n",
              " ('watching', 4.269881009588809),\n",
              " ('play', 4.215268850983738),\n",
              " ('reading', 4.141047062725456),\n",
              " ('male', 4.095230384343366),\n",
              " ('performing', 4.06204854589816),\n",
              " ('sitting', 3.8490972422013594),\n",
              " ('walk', 3.7468901108021484),\n",
              " ('four', 3.702459252727533),\n",
              " ('several', 3.6475969362446716),\n",
              " ('stand', 3.6213065169390806),\n",
              " ('eating', 3.603625406838939),\n",
              " ('three', 3.56196169384105),\n",
              " ('playing', 3.281046599279461),\n",
              " ('young', 3.1672614448488425),\n",
              " ('running', 2.6040485275181413),\n",
              " ('walking', 2.5889565551091205),\n",
              " ('two', 2.1789721177781454),\n",
              " ('outside', 1.667739472864343),\n",
              " ('standing', 1.5444245448317226),\n",
              " ('wearing', 1.1887961976170722)]"
            ]
          },
          "metadata": {},
          "execution_count": 36
        }
      ]
    },
    {
      "cell_type": "code",
      "source": [
        "professor_pmi_data"
      ],
      "metadata": {
        "colab": {
          "base_uri": "https://localhost:8080/"
        },
        "id": "oK4P3u2F787F",
        "outputId": "23566093-0ec8-474d-b864-be7a60a56b57"
      },
      "execution_count": 37,
      "outputs": [
        {
          "output_type": "execute_result",
          "data": {
            "text/plain": [
              "[('giving', 9.550262324475336)]"
            ]
          },
          "metadata": {},
          "execution_count": 37
        }
      ]
    },
    {
      "cell_type": "code",
      "source": [
        "male_pmi_set = set([ele[0] for ele in male_pmi_data if ele[1]>2])\n",
        "female_pmi_set = set([ele[0] for ele in female_pmi_data if ele[1]>2])\n",
        "gay_pmi_set = set([ele[0] for ele in gay_pmi_data if ele[1]>2])\n",
        "#"
      ],
      "metadata": {
        "id": "izVg52U6fsiD"
      },
      "execution_count": 29,
      "outputs": []
    },
    {
      "cell_type": "code",
      "execution_count": 30,
      "metadata": {
        "id": "S9P-2z_igBbJ",
        "colab": {
          "base_uri": "https://localhost:8080/"
        },
        "outputId": "9e0f2d9e-b3fa-4ed6-ca69-f3f7f0bd313b"
      },
      "outputs": [
        {
          "output_type": "execute_result",
          "data": {
            "text/plain": [
              "{'1',\n",
              " 'accepts',\n",
              " 'accidentally',\n",
              " 'acting',\n",
              " 'actually',\n",
              " 'afro',\n",
              " 'aiming',\n",
              " 'almost',\n",
              " 'amish',\n",
              " 'angrily',\n",
              " 'approaches',\n",
              " 'approaching',\n",
              " 'army',\n",
              " 'arranging',\n",
              " 'arrested',\n",
              " 'asked',\n",
              " 'asleep',\n",
              " 'ate',\n",
              " 'attempting',\n",
              " 'attempts',\n",
              " 'awake',\n",
              " 'backpack',\n",
              " 'bad',\n",
              " 'baggy',\n",
              " 'bald',\n",
              " 'balding',\n",
              " 'barbecuing',\n",
              " 'beard',\n",
              " 'bearded',\n",
              " 'beating',\n",
              " 'begging',\n",
              " 'beret',\n",
              " 'bicycling',\n",
              " 'blind',\n",
              " 'blindfolded',\n",
              " 'bowler',\n",
              " 'bowls',\n",
              " 'breakdances',\n",
              " 'breakdancing',\n",
              " 'brings',\n",
              " 'builds',\n",
              " 'buried',\n",
              " 'burning',\n",
              " 'burns',\n",
              " 'business',\n",
              " 'came',\n",
              " 'camouflage',\n",
              " 'carefully',\n",
              " 'carves',\n",
              " 'carving',\n",
              " 'cast',\n",
              " 'casual',\n",
              " 'catches',\n",
              " 'catching',\n",
              " 'caught',\n",
              " 'changes',\n",
              " 'changing',\n",
              " 'chased',\n",
              " 'checkered',\n",
              " 'cherry',\n",
              " 'chested',\n",
              " 'chiseling',\n",
              " 'chops',\n",
              " 'chubby',\n",
              " 'clearing',\n",
              " 'climbed',\n",
              " 'climbing',\n",
              " 'closes',\n",
              " 'closeup',\n",
              " 'closing',\n",
              " 'collared',\n",
              " 'collects',\n",
              " 'completely',\n",
              " 'concentrating',\n",
              " 'conducting',\n",
              " 'conducts',\n",
              " 'contemplates',\n",
              " 'contemplating',\n",
              " 'controlling',\n",
              " 'costumed',\n",
              " 'crafting',\n",
              " 'crashes',\n",
              " 'crawling',\n",
              " 'crazy',\n",
              " 'creates',\n",
              " 'crouched',\n",
              " 'curly-haired',\n",
              " 'decides',\n",
              " 'deciding',\n",
              " 'decorating',\n",
              " 'delivers',\n",
              " 'delivery',\n",
              " 'demonstrates',\n",
              " 'destroying',\n",
              " 'digging',\n",
              " 'digs',\n",
              " 'directs',\n",
              " 'dirty',\n",
              " 'disabled',\n",
              " 'drag',\n",
              " 'dragging',\n",
              " 'drags',\n",
              " 'dreadlocks',\n",
              " 'dreads',\n",
              " 'dressing',\n",
              " 'drilling',\n",
              " 'driven',\n",
              " 'drove',\n",
              " 'drowning',\n",
              " 'drunk',\n",
              " 'dumping',\n",
              " 'eastern',\n",
              " 'empties',\n",
              " 'engaging',\n",
              " 'enters',\n",
              " 'entertains',\n",
              " 'experienced',\n",
              " 'explaining',\n",
              " 'facial',\n",
              " 'fallen',\n",
              " 'fedora',\n",
              " 'feeling',\n",
              " 'feels',\n",
              " 'fills',\n",
              " 'filmed',\n",
              " 'films',\n",
              " 'finds',\n",
              " 'finishes',\n",
              " 'finishing',\n",
              " 'fishes',\n",
              " 'fishing',\n",
              " 'fit',\n",
              " 'flannel',\n",
              " 'flipping',\n",
              " 'flips',\n",
              " 'floating',\n",
              " 'followed',\n",
              " 'follows',\n",
              " 'forgot',\n",
              " 'found',\n",
              " 'fourth',\n",
              " 'fully',\n",
              " 'gestures',\n",
              " 'gesturing',\n",
              " 'girlfriend',\n",
              " 'given',\n",
              " 'goatee',\n",
              " 'good',\n",
              " 'grabs',\n",
              " 'gray',\n",
              " 'grey',\n",
              " 'grills',\n",
              " 'grinding',\n",
              " 'grinds',\n",
              " 'hammering',\n",
              " 'handicapped',\n",
              " 'handling',\n",
              " 'handstand',\n",
              " 'harvesting',\n",
              " 'hawaiian',\n",
              " 'helmeted',\n",
              " 'hikes',\n",
              " 'hooded',\n",
              " 'hopes',\n",
              " 'hoping',\n",
              " 'hunched',\n",
              " 'hunting',\n",
              " 'hurt',\n",
              " 'ignoring',\n",
              " 'injured',\n",
              " 'inspects',\n",
              " 'installing',\n",
              " 'interviewing',\n",
              " 'interviews',\n",
              " 'jean',\n",
              " 'jet',\n",
              " 'jewish',\n",
              " 'juggles',\n",
              " 'jumped',\n",
              " 'jumps',\n",
              " 'kayaks',\n",
              " 'keeping',\n",
              " 'keeps',\n",
              " 'khaki',\n",
              " 'khakis',\n",
              " 'kicking',\n",
              " 'kicks',\n",
              " 'kilt',\n",
              " 'learns',\n",
              " 'leather',\n",
              " 'licking',\n",
              " 'lifts',\n",
              " 'lime',\n",
              " 'listen',\n",
              " 'lives',\n",
              " 'loading',\n",
              " 'loads',\n",
              " 'lonely',\n",
              " 'looked',\n",
              " 'losing',\n",
              " 'lounges',\n",
              " 'marches',\n",
              " 'masked',\n",
              " 'meditating',\n",
              " 'mexican',\n",
              " 'might',\n",
              " 'military',\n",
              " 'missed',\n",
              " 'mohawk',\n",
              " 'mopping',\n",
              " 'mowing',\n",
              " 'mows',\n",
              " 'muscular',\n",
              " 'mustache',\n",
              " 'mustached',\n",
              " 'mustachioed',\n",
              " 'named',\n",
              " 'naps',\n",
              " 'navigates',\n",
              " 'navy',\n",
              " 'obese',\n",
              " 'offering',\n",
              " 'offers',\n",
              " 'olive',\n",
              " 'one',\n",
              " 'operates',\n",
              " 'orange',\n",
              " 'overalls',\n",
              " 'packing',\n",
              " 'paddles',\n",
              " 'paddling',\n",
              " 'paid',\n",
              " 'parasailing',\n",
              " 'parks',\n",
              " 'participates',\n",
              " 'pedals',\n",
              " 'peeling',\n",
              " 'peering',\n",
              " 'pets',\n",
              " 'pierced',\n",
              " 'piloting',\n",
              " 'pitching',\n",
              " 'plaid',\n",
              " 'plans',\n",
              " 'playing',\n",
              " 'ponders',\n",
              " 'poor',\n",
              " 'preforming',\n",
              " 'prepared',\n",
              " 'pretending',\n",
              " 'pretends',\n",
              " 'pro',\n",
              " 'protecting',\n",
              " 'punches',\n",
              " 'punching',\n",
              " 'races',\n",
              " 'ran',\n",
              " 'really',\n",
              " 'receives',\n",
              " 'receiving',\n",
              " 'reclining',\n",
              " 'recording',\n",
              " 'records',\n",
              " 'refueling',\n",
              " 'removing',\n",
              " 'repairs',\n",
              " 'rich',\n",
              " 'rollerblades',\n",
              " 'rows',\n",
              " 'rubbing',\n",
              " 'sailing',\n",
              " 'sawing',\n",
              " 'scaffold',\n",
              " 'scales',\n",
              " 'scaling',\n",
              " 'scared',\n",
              " 'scuba',\n",
              " 'sculpting',\n",
              " 'searches',\n",
              " 'second',\n",
              " 'seeing',\n",
              " 'seen',\n",
              " 'shakes',\n",
              " 'shaking',\n",
              " 'shaved',\n",
              " 'shaven',\n",
              " 'shaves',\n",
              " 'shines',\n",
              " 'shirted',\n",
              " 'shirtless',\n",
              " 'shoeshine',\n",
              " 'shouting',\n",
              " 'shoveling',\n",
              " 'shovels',\n",
              " 'silhouette',\n",
              " 'sipping',\n",
              " 'skateboarding',\n",
              " 'skateboards',\n",
              " 'skiing',\n",
              " 'skilled',\n",
              " 'skinned',\n",
              " 'skydiving',\n",
              " 'sledding',\n",
              " 'slices',\n",
              " 'slicing',\n",
              " 'snowboarding',\n",
              " 'solitary',\n",
              " 'sons',\n",
              " 'speedo',\n",
              " 'spending',\n",
              " 'spinning',\n",
              " 'splits',\n",
              " 'spraying',\n",
              " 'sprays',\n",
              " 'sprinting',\n",
              " 'squats',\n",
              " 'stacking',\n",
              " 'starting',\n",
              " 'starts',\n",
              " 'steals',\n",
              " 'steering',\n",
              " 'steers',\n",
              " 'stilts',\n",
              " 'stole',\n",
              " 'straw',\n",
              " 'striped',\n",
              " 'strolling',\n",
              " 'strolls',\n",
              " 'strong',\n",
              " 'struggles',\n",
              " 'struggling',\n",
              " 'studies',\n",
              " 'stunt',\n",
              " 'suit',\n",
              " 'surfing',\n",
              " 'surfs',\n",
              " 'surveys',\n",
              " 'sweating',\n",
              " 'swinging',\n",
              " 'tells',\n",
              " 'tending',\n",
              " 'tends',\n",
              " 'testing',\n",
              " 'tests',\n",
              " 'thin',\n",
              " 'thinks',\n",
              " 'third',\n",
              " 'threw',\n",
              " 'thrown',\n",
              " 'ties',\n",
              " 'tosses',\n",
              " 'tossing',\n",
              " 'transporting',\n",
              " 'trench',\n",
              " 'tricks',\n",
              " 'tried',\n",
              " 'trimming',\n",
              " 'trips',\n",
              " 'trouble',\n",
              " 'tuning',\n",
              " 'turban',\n",
              " 'tuxedo',\n",
              " 'underwear',\n",
              " 'uniformed',\n",
              " 'unloading',\n",
              " 'videotaping',\n",
              " 'visits',\n",
              " 'wakeboard',\n",
              " 'wakeboarding',\n",
              " 'wanted',\n",
              " 'watched',\n",
              " 'watering',\n",
              " 'waterskiing',\n",
              " 'welding',\n",
              " 'welds',\n",
              " 'well-dressed',\n",
              " 'wetsuit',\n",
              " 'wheelie',\n",
              " 'white',\n",
              " 'white-haired',\n",
              " 'whose',\n",
              " 'wife',\n",
              " 'wins',\n",
              " 'wipes',\n",
              " 'wiping',\n",
              " 'without',\n",
              " 'worked',\n",
              " 'yells',\n",
              " 'zombie'}"
            ]
          },
          "metadata": {},
          "execution_count": 30
        }
      ],
      "source": [
        "male_pmi_set - female_pmi_set"
      ]
    },
    {
      "cell_type": "code",
      "source": [
        "female_pmi_set - male_pmi_set"
      ],
      "metadata": {
        "colab": {
          "base_uri": "https://localhost:8080/"
        },
        "id": "OKpHUJK2gUfc",
        "outputId": "88f587b0-2009-4db4-bf6c-bcf452c79302"
      },
      "execution_count": 31,
      "outputs": [
        {
          "output_type": "execute_result",
          "data": {
            "text/plain": [
              "{'african',\n",
              " 'alone',\n",
              " 'also',\n",
              " 'applies',\n",
              " 'applying',\n",
              " 'attractive',\n",
              " 'balances',\n",
              " 'ballet',\n",
              " 'barefoot',\n",
              " 'bathing',\n",
              " 'bikini',\n",
              " 'blond',\n",
              " 'blond-hair',\n",
              " 'blond-haired',\n",
              " 'blow',\n",
              " 'braids',\n",
              " 'bright',\n",
              " 'brunette',\n",
              " 'brushes',\n",
              " 'celebrating',\n",
              " 'chasing',\n",
              " 'chatting',\n",
              " 'cheering',\n",
              " 'clad',\n",
              " 'considering',\n",
              " 'conversing',\n",
              " 'covering',\n",
              " 'crossing',\n",
              " 'crying',\n",
              " 'curly',\n",
              " 'dance',\n",
              " 'date',\n",
              " 'displaying',\n",
              " 'displays',\n",
              " 'dress',\n",
              " 'dries',\n",
              " 'drops',\n",
              " 'drying',\n",
              " 'embrace',\n",
              " 'embracing',\n",
              " 'ethnic',\n",
              " 'exiting',\n",
              " 'fancy',\n",
              " 'floral',\n",
              " 'flowered',\n",
              " 'formal',\n",
              " 'green',\n",
              " 'hanging',\n",
              " 'headscarf',\n",
              " 'heels',\n",
              " 'hold',\n",
              " 'horseback',\n",
              " 'hospital',\n",
              " 'hula',\n",
              " 'husband',\n",
              " 'kimono',\n",
              " 'kiss',\n",
              " 'knees',\n",
              " 'knit',\n",
              " 'knits',\n",
              " 'know',\n",
              " 'laugh',\n",
              " 'laughing',\n",
              " 'laundry',\n",
              " 'leopard',\n",
              " 'maroon',\n",
              " 'modeling',\n",
              " 'multicolored',\n",
              " 'muslim',\n",
              " 'native',\n",
              " 'ordered',\n",
              " 'pajamas',\n",
              " 'passing',\n",
              " 'photographed',\n",
              " 'pink',\n",
              " 'posing',\n",
              " 'pregnant',\n",
              " 'pretty',\n",
              " 'purple',\n",
              " 'put',\n",
              " 'read',\n",
              " 'red',\n",
              " 'red-hair',\n",
              " 'redheaded',\n",
              " 'rolling',\n",
              " 'saying',\n",
              " 'screaming',\n",
              " 'share',\n",
              " 'shares',\n",
              " 'sharing',\n",
              " 'shopping',\n",
              " 'sing',\n",
              " 'sit',\n",
              " 'siting',\n",
              " 'skates',\n",
              " 'smiling',\n",
              " 'stirs',\n",
              " 'stopped',\n",
              " 'sweatpants',\n",
              " 'swimsuit',\n",
              " 'talk',\n",
              " 'tanning',\n",
              " 'teal',\n",
              " 'tight',\n",
              " 'traditional',\n",
              " 'turquoise',\n",
              " 'vacation',\n",
              " 'way',\n",
              " 'wear',\n",
              " 'weaves',\n",
              " 'wonder',\n",
              " 'yoga'}"
            ]
          },
          "metadata": {},
          "execution_count": 31
        }
      ]
    },
    {
      "cell_type": "code",
      "execution_count": 24,
      "metadata": {
        "id": "EjmUJlJOf8Si",
        "colab": {
          "base_uri": "https://localhost:8080/",
          "height": 237
        },
        "outputId": "edafeb0e-5520-4a29-fce6-98ce8f2ba806"
      },
      "outputs": [
        {
          "output_type": "execute_result",
          "data": {
            "text/plain": [
              "                                                          sentence1  \\\n",
              "175440  the little boy looks like he is saying, let me out of jail.   \n",
              "175441  the little boy looks like he is saying, let me out of jail.   \n",
              "175442  the little boy looks like he is saying, let me out of jail.   \n",
              "441087  an attractive police lady and a jailbird pose for a photo.    \n",
              "441088  an attractive police lady and a jailbird pose for a photo.    \n",
              "441089  an attractive police lady and a jailbird pose for a photo.    \n",
              "\n",
              "                                                                     sentence2  \n",
              "175440  he is talking to his parents                                            \n",
              "175441  the little girl cried                                                   \n",
              "175442  the little boy is talking                                               \n",
              "441087  a cat and a dog hugging.                                                \n",
              "441088  two friends who went into very different lines of work take a picture.  \n",
              "441089  a police officer and prisoner taking a photo.                           "
            ],
            "text/html": [
              "\n",
              "  <div id=\"df-87974a57-3f8e-419d-ba6e-5db89dd07ad0\" class=\"colab-df-container\">\n",
              "    <div>\n",
              "<style scoped>\n",
              "    .dataframe tbody tr th:only-of-type {\n",
              "        vertical-align: middle;\n",
              "    }\n",
              "\n",
              "    .dataframe tbody tr th {\n",
              "        vertical-align: top;\n",
              "    }\n",
              "\n",
              "    .dataframe thead th {\n",
              "        text-align: right;\n",
              "    }\n",
              "</style>\n",
              "<table border=\"1\" class=\"dataframe\">\n",
              "  <thead>\n",
              "    <tr style=\"text-align: right;\">\n",
              "      <th></th>\n",
              "      <th>sentence1</th>\n",
              "      <th>sentence2</th>\n",
              "    </tr>\n",
              "  </thead>\n",
              "  <tbody>\n",
              "    <tr>\n",
              "      <th>175440</th>\n",
              "      <td>the little boy looks like he is saying, let me out of jail.</td>\n",
              "      <td>he is talking to his parents</td>\n",
              "    </tr>\n",
              "    <tr>\n",
              "      <th>175441</th>\n",
              "      <td>the little boy looks like he is saying, let me out of jail.</td>\n",
              "      <td>the little girl cried</td>\n",
              "    </tr>\n",
              "    <tr>\n",
              "      <th>175442</th>\n",
              "      <td>the little boy looks like he is saying, let me out of jail.</td>\n",
              "      <td>the little boy is talking</td>\n",
              "    </tr>\n",
              "    <tr>\n",
              "      <th>441087</th>\n",
              "      <td>an attractive police lady and a jailbird pose for a photo.</td>\n",
              "      <td>a cat and a dog hugging.</td>\n",
              "    </tr>\n",
              "    <tr>\n",
              "      <th>441088</th>\n",
              "      <td>an attractive police lady and a jailbird pose for a photo.</td>\n",
              "      <td>two friends who went into very different lines of work take a picture.</td>\n",
              "    </tr>\n",
              "    <tr>\n",
              "      <th>441089</th>\n",
              "      <td>an attractive police lady and a jailbird pose for a photo.</td>\n",
              "      <td>a police officer and prisoner taking a photo.</td>\n",
              "    </tr>\n",
              "  </tbody>\n",
              "</table>\n",
              "</div>\n",
              "    <div class=\"colab-df-buttons\">\n",
              "\n",
              "  <div class=\"colab-df-container\">\n",
              "    <button class=\"colab-df-convert\" onclick=\"convertToInteractive('df-87974a57-3f8e-419d-ba6e-5db89dd07ad0')\"\n",
              "            title=\"Convert this dataframe to an interactive table.\"\n",
              "            style=\"display:none;\">\n",
              "\n",
              "  <svg xmlns=\"http://www.w3.org/2000/svg\" height=\"24px\" viewBox=\"0 -960 960 960\">\n",
              "    <path d=\"M120-120v-720h720v720H120Zm60-500h600v-160H180v160Zm220 220h160v-160H400v160Zm0 220h160v-160H400v160ZM180-400h160v-160H180v160Zm440 0h160v-160H620v160ZM180-180h160v-160H180v160Zm440 0h160v-160H620v160Z\"/>\n",
              "  </svg>\n",
              "    </button>\n",
              "\n",
              "  <style>\n",
              "    .colab-df-container {\n",
              "      display:flex;\n",
              "      gap: 12px;\n",
              "    }\n",
              "\n",
              "    .colab-df-convert {\n",
              "      background-color: #E8F0FE;\n",
              "      border: none;\n",
              "      border-radius: 50%;\n",
              "      cursor: pointer;\n",
              "      display: none;\n",
              "      fill: #1967D2;\n",
              "      height: 32px;\n",
              "      padding: 0 0 0 0;\n",
              "      width: 32px;\n",
              "    }\n",
              "\n",
              "    .colab-df-convert:hover {\n",
              "      background-color: #E2EBFA;\n",
              "      box-shadow: 0px 1px 2px rgba(60, 64, 67, 0.3), 0px 1px 3px 1px rgba(60, 64, 67, 0.15);\n",
              "      fill: #174EA6;\n",
              "    }\n",
              "\n",
              "    .colab-df-buttons div {\n",
              "      margin-bottom: 4px;\n",
              "    }\n",
              "\n",
              "    [theme=dark] .colab-df-convert {\n",
              "      background-color: #3B4455;\n",
              "      fill: #D2E3FC;\n",
              "    }\n",
              "\n",
              "    [theme=dark] .colab-df-convert:hover {\n",
              "      background-color: #434B5C;\n",
              "      box-shadow: 0px 1px 3px 1px rgba(0, 0, 0, 0.15);\n",
              "      filter: drop-shadow(0px 1px 2px rgba(0, 0, 0, 0.3));\n",
              "      fill: #FFFFFF;\n",
              "    }\n",
              "  </style>\n",
              "\n",
              "    <script>\n",
              "      const buttonEl =\n",
              "        document.querySelector('#df-87974a57-3f8e-419d-ba6e-5db89dd07ad0 button.colab-df-convert');\n",
              "      buttonEl.style.display =\n",
              "        google.colab.kernel.accessAllowed ? 'block' : 'none';\n",
              "\n",
              "      async function convertToInteractive(key) {\n",
              "        const element = document.querySelector('#df-87974a57-3f8e-419d-ba6e-5db89dd07ad0');\n",
              "        const dataTable =\n",
              "          await google.colab.kernel.invokeFunction('convertToInteractive',\n",
              "                                                    [key], {});\n",
              "        if (!dataTable) return;\n",
              "\n",
              "        const docLinkHtml = 'Like what you see? Visit the ' +\n",
              "          '<a target=\"_blank\" href=https://colab.research.google.com/notebooks/data_table.ipynb>data table notebook</a>'\n",
              "          + ' to learn more about interactive tables.';\n",
              "        element.innerHTML = '';\n",
              "        dataTable['output_type'] = 'display_data';\n",
              "        await google.colab.output.renderOutput(dataTable, element);\n",
              "        const docLink = document.createElement('div');\n",
              "        docLink.innerHTML = docLinkHtml;\n",
              "        element.appendChild(docLink);\n",
              "      }\n",
              "    </script>\n",
              "  </div>\n",
              "\n",
              "\n",
              "<div id=\"df-e03b012b-8fb2-420a-8dc3-f1ea757663cb\">\n",
              "  <button class=\"colab-df-quickchart\" onclick=\"quickchart('df-e03b012b-8fb2-420a-8dc3-f1ea757663cb')\"\n",
              "            title=\"Suggest charts\"\n",
              "            style=\"display:none;\">\n",
              "\n",
              "<svg xmlns=\"http://www.w3.org/2000/svg\" height=\"24px\"viewBox=\"0 0 24 24\"\n",
              "     width=\"24px\">\n",
              "    <g>\n",
              "        <path d=\"M19 3H5c-1.1 0-2 .9-2 2v14c0 1.1.9 2 2 2h14c1.1 0 2-.9 2-2V5c0-1.1-.9-2-2-2zM9 17H7v-7h2v7zm4 0h-2V7h2v10zm4 0h-2v-4h2v4z\"/>\n",
              "    </g>\n",
              "</svg>\n",
              "  </button>\n",
              "\n",
              "<style>\n",
              "  .colab-df-quickchart {\n",
              "      --bg-color: #E8F0FE;\n",
              "      --fill-color: #1967D2;\n",
              "      --hover-bg-color: #E2EBFA;\n",
              "      --hover-fill-color: #174EA6;\n",
              "      --disabled-fill-color: #AAA;\n",
              "      --disabled-bg-color: #DDD;\n",
              "  }\n",
              "\n",
              "  [theme=dark] .colab-df-quickchart {\n",
              "      --bg-color: #3B4455;\n",
              "      --fill-color: #D2E3FC;\n",
              "      --hover-bg-color: #434B5C;\n",
              "      --hover-fill-color: #FFFFFF;\n",
              "      --disabled-bg-color: #3B4455;\n",
              "      --disabled-fill-color: #666;\n",
              "  }\n",
              "\n",
              "  .colab-df-quickchart {\n",
              "    background-color: var(--bg-color);\n",
              "    border: none;\n",
              "    border-radius: 50%;\n",
              "    cursor: pointer;\n",
              "    display: none;\n",
              "    fill: var(--fill-color);\n",
              "    height: 32px;\n",
              "    padding: 0;\n",
              "    width: 32px;\n",
              "  }\n",
              "\n",
              "  .colab-df-quickchart:hover {\n",
              "    background-color: var(--hover-bg-color);\n",
              "    box-shadow: 0 1px 2px rgba(60, 64, 67, 0.3), 0 1px 3px 1px rgba(60, 64, 67, 0.15);\n",
              "    fill: var(--button-hover-fill-color);\n",
              "  }\n",
              "\n",
              "  .colab-df-quickchart-complete:disabled,\n",
              "  .colab-df-quickchart-complete:disabled:hover {\n",
              "    background-color: var(--disabled-bg-color);\n",
              "    fill: var(--disabled-fill-color);\n",
              "    box-shadow: none;\n",
              "  }\n",
              "\n",
              "  .colab-df-spinner {\n",
              "    border: 2px solid var(--fill-color);\n",
              "    border-color: transparent;\n",
              "    border-bottom-color: var(--fill-color);\n",
              "    animation:\n",
              "      spin 1s steps(1) infinite;\n",
              "  }\n",
              "\n",
              "  @keyframes spin {\n",
              "    0% {\n",
              "      border-color: transparent;\n",
              "      border-bottom-color: var(--fill-color);\n",
              "      border-left-color: var(--fill-color);\n",
              "    }\n",
              "    20% {\n",
              "      border-color: transparent;\n",
              "      border-left-color: var(--fill-color);\n",
              "      border-top-color: var(--fill-color);\n",
              "    }\n",
              "    30% {\n",
              "      border-color: transparent;\n",
              "      border-left-color: var(--fill-color);\n",
              "      border-top-color: var(--fill-color);\n",
              "      border-right-color: var(--fill-color);\n",
              "    }\n",
              "    40% {\n",
              "      border-color: transparent;\n",
              "      border-right-color: var(--fill-color);\n",
              "      border-top-color: var(--fill-color);\n",
              "    }\n",
              "    60% {\n",
              "      border-color: transparent;\n",
              "      border-right-color: var(--fill-color);\n",
              "    }\n",
              "    80% {\n",
              "      border-color: transparent;\n",
              "      border-right-color: var(--fill-color);\n",
              "      border-bottom-color: var(--fill-color);\n",
              "    }\n",
              "    90% {\n",
              "      border-color: transparent;\n",
              "      border-bottom-color: var(--fill-color);\n",
              "    }\n",
              "  }\n",
              "</style>\n",
              "\n",
              "  <script>\n",
              "    async function quickchart(key) {\n",
              "      const quickchartButtonEl =\n",
              "        document.querySelector('#' + key + ' button');\n",
              "      quickchartButtonEl.disabled = true;  // To prevent multiple clicks.\n",
              "      quickchartButtonEl.classList.add('colab-df-spinner');\n",
              "      try {\n",
              "        const charts = await google.colab.kernel.invokeFunction(\n",
              "            'suggestCharts', [key], {});\n",
              "      } catch (error) {\n",
              "        console.error('Error during call to suggestCharts:', error);\n",
              "      }\n",
              "      quickchartButtonEl.classList.remove('colab-df-spinner');\n",
              "      quickchartButtonEl.classList.add('colab-df-quickchart-complete');\n",
              "    }\n",
              "    (() => {\n",
              "      let quickchartButtonEl =\n",
              "        document.querySelector('#df-e03b012b-8fb2-420a-8dc3-f1ea757663cb button');\n",
              "      quickchartButtonEl.style.display =\n",
              "        google.colab.kernel.accessAllowed ? 'block' : 'none';\n",
              "    })();\n",
              "  </script>\n",
              "</div>\n",
              "\n",
              "    </div>\n",
              "  </div>\n"
            ],
            "application/vnd.google.colaboratory.intrinsic+json": {
              "type": "dataframe",
              "summary": "{\n  \"name\": \"snli_data_sub[mask][[\\\"sentence1\\\",\\\"sentence2\\\"]]\",\n  \"rows\": 6,\n  \"fields\": [\n    {\n      \"column\": \"sentence1\",\n      \"properties\": {\n        \"dtype\": \"category\",\n        \"num_unique_values\": 2,\n        \"samples\": [\n          \"an attractive police lady and a jailbird pose for a photo.\",\n          \"the little boy looks like he is saying, let me out of jail.\"\n        ],\n        \"semantic_type\": \"\",\n        \"description\": \"\"\n      }\n    },\n    {\n      \"column\": \"sentence2\",\n      \"properties\": {\n        \"dtype\": \"string\",\n        \"num_unique_values\": 6,\n        \"samples\": [\n          \"he is talking to his parents\",\n          \"the little girl cried\"\n        ],\n        \"semantic_type\": \"\",\n        \"description\": \"\"\n      }\n    }\n  ]\n}"
            }
          },
          "metadata": {},
          "execution_count": 24
        }
      ],
      "source": [
        "search_term = \"jail\"\n",
        "mask = snli_data_sub[\"sentence1\"].str.contains(search_term, case=False, na=False)\n",
        "pd.set_option('display.max_colwidth', 0)\n",
        "snli_data_sub[mask][[\"sentence1\",\"sentence2\"]]"
      ]
    },
    {
      "cell_type": "code",
      "execution_count": 25,
      "metadata": {
        "colab": {
          "base_uri": "https://localhost:8080/"
        },
        "id": "-Y6jdWFYIxkf",
        "outputId": "73546a95-6031-4f63-f90c-29905132876d"
      },
      "outputs": [
        {
          "output_type": "stream",
          "name": "stdout",
          "text": [
            "woman\n"
          ]
        },
        {
          "output_type": "stream",
          "name": "stderr",
          "text": [
            "100%|██████████| 10662/10662 [00:02<00:00, 4900.38it/s]\n"
          ]
        },
        {
          "output_type": "stream",
          "name": "stdout",
          "text": [
            "women\n"
          ]
        },
        {
          "output_type": "stream",
          "name": "stderr",
          "text": [
            "100%|██████████| 10662/10662 [00:00<00:00, 13427.18it/s]\n"
          ]
        },
        {
          "output_type": "stream",
          "name": "stdout",
          "text": [
            "man\n"
          ]
        },
        {
          "output_type": "stream",
          "name": "stderr",
          "text": [
            "100%|██████████| 10662/10662 [00:03<00:00, 3182.95it/s]\n"
          ]
        },
        {
          "output_type": "stream",
          "name": "stdout",
          "text": [
            "men\n"
          ]
        },
        {
          "output_type": "stream",
          "name": "stderr",
          "text": [
            "100%|██████████| 10662/10662 [00:01<00:00, 7561.43it/s]\n"
          ]
        },
        {
          "output_type": "stream",
          "name": "stdout",
          "text": [
            "girl\n"
          ]
        },
        {
          "output_type": "stream",
          "name": "stderr",
          "text": [
            "100%|██████████| 10662/10662 [00:01<00:00, 6291.27it/s]\n"
          ]
        },
        {
          "output_type": "stream",
          "name": "stdout",
          "text": [
            "girls\n"
          ]
        },
        {
          "output_type": "stream",
          "name": "stderr",
          "text": [
            "100%|██████████| 10662/10662 [00:00<00:00, 15623.33it/s]\n"
          ]
        },
        {
          "output_type": "stream",
          "name": "stdout",
          "text": [
            "boy\n"
          ]
        },
        {
          "output_type": "stream",
          "name": "stderr",
          "text": [
            "100%|██████████| 10662/10662 [00:01<00:00, 6217.02it/s]\n"
          ]
        },
        {
          "output_type": "stream",
          "name": "stdout",
          "text": [
            "boys\n"
          ]
        },
        {
          "output_type": "stream",
          "name": "stderr",
          "text": [
            "100%|██████████| 10662/10662 [00:00<00:00, 19487.71it/s]\n"
          ]
        },
        {
          "output_type": "stream",
          "name": "stdout",
          "text": [
            "she\n"
          ]
        },
        {
          "output_type": "stream",
          "name": "stderr",
          "text": [
            "100%|██████████| 10662/10662 [00:00<00:00, 473519.65it/s]\n"
          ]
        },
        {
          "output_type": "stream",
          "name": "stdout",
          "text": [
            "he\n"
          ]
        },
        {
          "output_type": "stream",
          "name": "stderr",
          "text": [
            "100%|██████████| 10662/10662 [00:00<00:00, 611852.25it/s]\n"
          ]
        },
        {
          "output_type": "stream",
          "name": "stdout",
          "text": [
            "her\n"
          ]
        },
        {
          "output_type": "stream",
          "name": "stderr",
          "text": [
            "100%|██████████| 10662/10662 [00:00<00:00, 594510.43it/s]\n"
          ]
        },
        {
          "output_type": "stream",
          "name": "stdout",
          "text": [
            "him\n"
          ]
        },
        {
          "output_type": "stream",
          "name": "stderr",
          "text": [
            "100%|██████████| 10662/10662 [00:00<00:00, 585527.58it/s]\n"
          ]
        },
        {
          "output_type": "stream",
          "name": "stdout",
          "text": [
            "his\n"
          ]
        },
        {
          "output_type": "stream",
          "name": "stderr",
          "text": [
            "100%|██████████| 10662/10662 [00:00<00:00, 551699.64it/s]\n"
          ]
        },
        {
          "output_type": "stream",
          "name": "stdout",
          "text": [
            "female\n"
          ]
        },
        {
          "output_type": "stream",
          "name": "stderr",
          "text": [
            "100%|██████████| 10662/10662 [00:00<00:00, 26467.86it/s]\n"
          ]
        },
        {
          "output_type": "stream",
          "name": "stdout",
          "text": [
            "male\n"
          ]
        },
        {
          "output_type": "stream",
          "name": "stderr",
          "text": [
            "100%|██████████| 10662/10662 [00:00<00:00, 26670.59it/s]\n"
          ]
        },
        {
          "output_type": "stream",
          "name": "stdout",
          "text": [
            "mother\n"
          ]
        },
        {
          "output_type": "stream",
          "name": "stderr",
          "text": [
            "100%|██████████| 10662/10662 [00:00<00:00, 55655.74it/s]\n"
          ]
        },
        {
          "output_type": "stream",
          "name": "stdout",
          "text": [
            "father\n"
          ]
        },
        {
          "output_type": "stream",
          "name": "stderr",
          "text": [
            "100%|██████████| 10662/10662 [00:00<00:00, 67452.92it/s]\n"
          ]
        },
        {
          "output_type": "stream",
          "name": "stdout",
          "text": [
            "sister\n"
          ]
        },
        {
          "output_type": "stream",
          "name": "stderr",
          "text": [
            "100%|██████████| 10662/10662 [00:00<00:00, 156257.58it/s]\n"
          ]
        },
        {
          "output_type": "stream",
          "name": "stdout",
          "text": [
            "brother\n"
          ]
        },
        {
          "output_type": "stream",
          "name": "stderr",
          "text": [
            "100%|██████████| 10662/10662 [00:00<00:00, 150205.62it/s]\n"
          ]
        },
        {
          "output_type": "stream",
          "name": "stdout",
          "text": [
            "daughter\n"
          ]
        },
        {
          "output_type": "stream",
          "name": "stderr",
          "text": [
            "100%|██████████| 10662/10662 [00:00<00:00, 66341.98it/s]\n"
          ]
        },
        {
          "output_type": "stream",
          "name": "stdout",
          "text": [
            "son\n"
          ]
        },
        {
          "output_type": "stream",
          "name": "stderr",
          "text": [
            "100%|██████████| 10662/10662 [00:00<00:00, 48261.80it/s]\n"
          ]
        },
        {
          "output_type": "stream",
          "name": "stdout",
          "text": [
            "feminine\n"
          ]
        },
        {
          "output_type": "stream",
          "name": "stderr",
          "text": [
            "100%|██████████| 10662/10662 [00:00<00:00, 667258.57it/s]\n"
          ]
        },
        {
          "output_type": "stream",
          "name": "stdout",
          "text": [
            "masculine\n"
          ]
        },
        {
          "output_type": "stream",
          "name": "stderr",
          "text": [
            "100%|██████████| 10662/10662 [00:00<00:00, 562214.54it/s]\n"
          ]
        },
        {
          "output_type": "stream",
          "name": "stdout",
          "text": [
            "androgynous\n"
          ]
        },
        {
          "output_type": "stream",
          "name": "stderr",
          "text": [
            "100%|██████████| 10662/10662 [00:00<00:00, 449859.86it/s]\n"
          ]
        },
        {
          "output_type": "stream",
          "name": "stdout",
          "text": [
            "trans\n"
          ]
        },
        {
          "output_type": "stream",
          "name": "stderr",
          "text": [
            "100%|██████████| 10662/10662 [00:00<00:00, 552265.13it/s]\n"
          ]
        },
        {
          "output_type": "stream",
          "name": "stdout",
          "text": [
            "transgender\n"
          ]
        },
        {
          "output_type": "stream",
          "name": "stderr",
          "text": [
            "100%|██████████| 10662/10662 [00:00<00:00, 560088.04it/s]\n"
          ]
        },
        {
          "output_type": "stream",
          "name": "stdout",
          "text": [
            "transsexual\n"
          ]
        },
        {
          "output_type": "stream",
          "name": "stderr",
          "text": [
            "100%|██████████| 10662/10662 [00:00<00:00, 549665.30it/s]\n"
          ]
        },
        {
          "output_type": "stream",
          "name": "stdout",
          "text": [
            "nonbinary\n"
          ]
        },
        {
          "output_type": "stream",
          "name": "stderr",
          "text": [
            "100%|██████████| 10662/10662 [00:00<00:00, 572543.68it/s]\n"
          ]
        },
        {
          "output_type": "stream",
          "name": "stdout",
          "text": [
            "non-binary\n"
          ]
        },
        {
          "output_type": "stream",
          "name": "stderr",
          "text": [
            "100%|██████████| 10662/10662 [00:00<00:00, 477075.96it/s]\n"
          ]
        },
        {
          "output_type": "stream",
          "name": "stdout",
          "text": [
            "two-spirit\n"
          ]
        },
        {
          "output_type": "stream",
          "name": "stderr",
          "text": [
            "100%|██████████| 10662/10662 [00:00<00:00, 514243.80it/s]\n"
          ]
        },
        {
          "output_type": "stream",
          "name": "stdout",
          "text": [
            "hijra\n"
          ]
        },
        {
          "output_type": "stream",
          "name": "stderr",
          "text": [
            "100%|██████████| 10662/10662 [00:00<00:00, 572521.69it/s]\n"
          ]
        },
        {
          "output_type": "stream",
          "name": "stdout",
          "text": [
            "genderqueer\n"
          ]
        },
        {
          "output_type": "stream",
          "name": "stderr",
          "text": [
            "100%|██████████| 10662/10662 [00:00<00:00, 534828.31it/s]\n"
          ]
        },
        {
          "output_type": "stream",
          "name": "stdout",
          "text": [
            "black\n"
          ]
        },
        {
          "output_type": "stream",
          "name": "stderr",
          "text": [
            "100%|██████████| 10662/10662 [00:00<00:00, 11513.69it/s]\n"
          ]
        },
        {
          "output_type": "stream",
          "name": "stdout",
          "text": [
            "asian\n"
          ]
        },
        {
          "output_type": "stream",
          "name": "stderr",
          "text": [
            "100%|██████████| 10662/10662 [00:00<00:00, 41035.24it/s]\n"
          ]
        },
        {
          "output_type": "stream",
          "name": "stdout",
          "text": [
            "hispanic\n"
          ]
        },
        {
          "output_type": "stream",
          "name": "stderr",
          "text": [
            "100%|██████████| 10662/10662 [00:00<00:00, 240141.71it/s]\n"
          ]
        },
        {
          "output_type": "stream",
          "name": "stdout",
          "text": [
            "white\n"
          ]
        },
        {
          "output_type": "stream",
          "name": "stderr",
          "text": [
            "100%|██████████| 10662/10662 [00:00<00:00, 11703.98it/s]\n"
          ]
        },
        {
          "output_type": "stream",
          "name": "stdout",
          "text": [
            "african\n"
          ]
        },
        {
          "output_type": "stream",
          "name": "stderr",
          "text": [
            "100%|██████████| 10662/10662 [00:00<00:00, 146576.21it/s]\n"
          ]
        },
        {
          "output_type": "stream",
          "name": "stdout",
          "text": [
            "american\n"
          ]
        },
        {
          "output_type": "stream",
          "name": "stderr",
          "text": [
            "100%|██████████| 10662/10662 [00:00<00:00, 126122.60it/s]\n"
          ]
        },
        {
          "output_type": "stream",
          "name": "stdout",
          "text": [
            "latino\n"
          ]
        },
        {
          "output_type": "stream",
          "name": "stderr",
          "text": [
            "100%|██████████| 10662/10662 [00:00<00:00, 526578.38it/s]\n"
          ]
        },
        {
          "output_type": "stream",
          "name": "stdout",
          "text": [
            "latina\n"
          ]
        },
        {
          "output_type": "stream",
          "name": "stderr",
          "text": [
            "100%|██████████| 10662/10662 [00:00<00:00, 436034.22it/s]\n"
          ]
        },
        {
          "output_type": "stream",
          "name": "stdout",
          "text": [
            "caucasian\n"
          ]
        },
        {
          "output_type": "stream",
          "name": "stderr",
          "text": [
            "100%|██████████| 10662/10662 [00:00<00:00, 186455.48it/s]\n"
          ]
        },
        {
          "output_type": "stream",
          "name": "stdout",
          "text": [
            "africans\n"
          ]
        },
        {
          "output_type": "stream",
          "name": "stderr",
          "text": [
            "100%|██████████| 10662/10662 [00:00<00:00, 476562.47it/s]\n"
          ]
        },
        {
          "output_type": "stream",
          "name": "stdout",
          "text": [
            "middle-eastern\n"
          ]
        },
        {
          "output_type": "stream",
          "name": "stderr",
          "text": [
            "100%|██████████| 10662/10662 [00:00<00:00, 374257.62it/s]\n"
          ]
        },
        {
          "output_type": "stream",
          "name": "stdout",
          "text": [
            "australian\n"
          ]
        },
        {
          "output_type": "stream",
          "name": "stderr",
          "text": [
            "100%|██████████| 10662/10662 [00:00<00:00, 454930.51it/s]\n"
          ]
        },
        {
          "output_type": "stream",
          "name": "stdout",
          "text": [
            "australians\n"
          ]
        },
        {
          "output_type": "stream",
          "name": "stderr",
          "text": [
            "100%|██████████| 10662/10662 [00:00<00:00, 797355.25it/s]\n"
          ]
        },
        {
          "output_type": "stream",
          "name": "stdout",
          "text": [
            "asians\n"
          ]
        },
        {
          "output_type": "stream",
          "name": "stderr",
          "text": [
            "100%|██████████| 10662/10662 [00:00<00:00, 300862.96it/s]\n"
          ]
        },
        {
          "output_type": "stream",
          "name": "stdout",
          "text": [
            "european\n"
          ]
        },
        {
          "output_type": "stream",
          "name": "stderr",
          "text": [
            "100%|██████████| 10662/10662 [00:00<00:00, 422333.90it/s]\n"
          ]
        },
        {
          "output_type": "stream",
          "name": "stdout",
          "text": [
            "europeans\n"
          ]
        },
        {
          "output_type": "stream",
          "name": "stderr",
          "text": [
            "100%|██████████| 10662/10662 [00:00<00:00, 744781.65it/s]\n"
          ]
        },
        {
          "output_type": "stream",
          "name": "stdout",
          "text": [
            "chinese\n"
          ]
        },
        {
          "output_type": "stream",
          "name": "stderr",
          "text": [
            "100%|██████████| 10662/10662 [00:00<00:00, 127800.06it/s]\n"
          ]
        },
        {
          "output_type": "stream",
          "name": "stdout",
          "text": [
            "indian\n"
          ]
        },
        {
          "output_type": "stream",
          "name": "stderr",
          "text": [
            "100%|██████████| 10662/10662 [00:00<00:00, 163202.13it/s]\n"
          ]
        },
        {
          "output_type": "stream",
          "name": "stdout",
          "text": [
            "indonesian\n"
          ]
        },
        {
          "output_type": "stream",
          "name": "stderr",
          "text": [
            "100%|██████████| 10662/10662 [00:00<00:00, 747033.55it/s]\n"
          ]
        },
        {
          "output_type": "stream",
          "name": "stdout",
          "text": [
            "brazilian\n"
          ]
        },
        {
          "output_type": "stream",
          "name": "stderr",
          "text": [
            "100%|██████████| 10662/10662 [00:00<00:00, 510889.26it/s]\n"
          ]
        },
        {
          "output_type": "stream",
          "name": "stdout",
          "text": [
            "pakistani\n"
          ]
        },
        {
          "output_type": "stream",
          "name": "stderr",
          "text": [
            "100%|██████████| 10662/10662 [00:00<00:00, 405275.04it/s]\n"
          ]
        },
        {
          "output_type": "stream",
          "name": "stdout",
          "text": [
            "bangladeshi\n"
          ]
        },
        {
          "output_type": "stream",
          "name": "stderr",
          "text": [
            "100%|██████████| 10662/10662 [00:00<00:00, 582613.56it/s]\n"
          ]
        },
        {
          "output_type": "stream",
          "name": "stdout",
          "text": [
            "russian\n"
          ]
        },
        {
          "output_type": "stream",
          "name": "stderr",
          "text": [
            "100%|██████████| 10662/10662 [00:00<00:00, 439682.52it/s]\n"
          ]
        },
        {
          "output_type": "stream",
          "name": "stdout",
          "text": [
            "nigerian\n"
          ]
        },
        {
          "output_type": "stream",
          "name": "stderr",
          "text": [
            "100%|██████████| 10662/10662 [00:00<00:00, 610899.41it/s]\n"
          ]
        },
        {
          "output_type": "stream",
          "name": "stdout",
          "text": [
            "japanese\n"
          ]
        },
        {
          "output_type": "stream",
          "name": "stderr",
          "text": [
            "100%|██████████| 10662/10662 [00:00<00:00, 236409.37it/s]\n"
          ]
        },
        {
          "output_type": "stream",
          "name": "stdout",
          "text": [
            "mexican\n"
          ]
        },
        {
          "output_type": "stream",
          "name": "stderr",
          "text": [
            "100%|██████████| 10662/10662 [00:00<00:00, 283197.20it/s]\n"
          ]
        },
        {
          "output_type": "stream",
          "name": "stdout",
          "text": [
            "filipino \n"
          ]
        },
        {
          "output_type": "stream",
          "name": "stderr",
          "text": [
            "100%|██████████| 10662/10662 [00:00<00:00, 618324.06it/s]\n"
          ]
        },
        {
          "output_type": "stream",
          "name": "stdout",
          "text": [
            "vietnamese \n"
          ]
        },
        {
          "output_type": "stream",
          "name": "stderr",
          "text": [
            "100%|██████████| 10662/10662 [00:00<00:00, 529076.58it/s]\n"
          ]
        },
        {
          "output_type": "stream",
          "name": "stdout",
          "text": [
            "german\n"
          ]
        },
        {
          "output_type": "stream",
          "name": "stderr",
          "text": [
            "100%|██████████| 10662/10662 [00:00<00:00, 319423.93it/s]\n"
          ]
        },
        {
          "output_type": "stream",
          "name": "stdout",
          "text": [
            "egyptian\n"
          ]
        },
        {
          "output_type": "stream",
          "name": "stderr",
          "text": [
            "100%|██████████| 10662/10662 [00:00<00:00, 475478.13it/s]\n"
          ]
        },
        {
          "output_type": "stream",
          "name": "stdout",
          "text": [
            "ethiopian\n"
          ]
        },
        {
          "output_type": "stream",
          "name": "stderr",
          "text": [
            "100%|██████████| 10662/10662 [00:00<00:00, 610041.05it/s]\n"
          ]
        },
        {
          "output_type": "stream",
          "name": "stdout",
          "text": [
            "turkish\n"
          ]
        },
        {
          "output_type": "stream",
          "name": "stderr",
          "text": [
            "100%|██████████| 10662/10662 [00:00<00:00, 767930.58it/s]\n"
          ]
        },
        {
          "output_type": "stream",
          "name": "stdout",
          "text": [
            "iranian\n"
          ]
        },
        {
          "output_type": "stream",
          "name": "stderr",
          "text": [
            "100%|██████████| 10662/10662 [00:00<00:00, 739216.96it/s]\n"
          ]
        },
        {
          "output_type": "stream",
          "name": "stdout",
          "text": [
            "thai\n"
          ]
        },
        {
          "output_type": "stream",
          "name": "stderr",
          "text": [
            "100%|██████████| 10662/10662 [00:00<00:00, 267086.75it/s]\n"
          ]
        },
        {
          "output_type": "stream",
          "name": "stdout",
          "text": [
            "congolese\n"
          ]
        },
        {
          "output_type": "stream",
          "name": "stderr",
          "text": [
            "100%|██████████| 10662/10662 [00:00<00:00, 628244.07it/s]\n"
          ]
        },
        {
          "output_type": "stream",
          "name": "stdout",
          "text": [
            "french\n"
          ]
        },
        {
          "output_type": "stream",
          "name": "stderr",
          "text": [
            "100%|██████████| 10662/10662 [00:00<00:00, 200283.36it/s]\n"
          ]
        },
        {
          "output_type": "stream",
          "name": "stdout",
          "text": [
            "british \n"
          ]
        },
        {
          "output_type": "stream",
          "name": "stderr",
          "text": [
            "100%|██████████| 10662/10662 [00:00<00:00, 525353.54it/s]\n"
          ]
        },
        {
          "output_type": "stream",
          "name": "stdout",
          "text": [
            "italian\n"
          ]
        },
        {
          "output_type": "stream",
          "name": "stderr",
          "text": [
            "100%|██████████| 10662/10662 [00:00<00:00, 263129.63it/s]\n"
          ]
        },
        {
          "output_type": "stream",
          "name": "stdout",
          "text": [
            "korean\n"
          ]
        },
        {
          "output_type": "stream",
          "name": "stderr",
          "text": [
            "100%|██████████| 10662/10662 [00:00<00:00, 304120.27it/s]\n"
          ]
        },
        {
          "output_type": "stream",
          "name": "stdout",
          "text": [
            "burmese\n"
          ]
        },
        {
          "output_type": "stream",
          "name": "stderr",
          "text": [
            "100%|██████████| 10662/10662 [00:00<00:00, 647388.70it/s]\n"
          ]
        },
        {
          "output_type": "stream",
          "name": "stdout",
          "text": [
            "canadian \n"
          ]
        },
        {
          "output_type": "stream",
          "name": "stderr",
          "text": [
            "100%|██████████| 10662/10662 [00:00<00:00, 715205.74it/s]\n"
          ]
        },
        {
          "output_type": "stream",
          "name": "stdout",
          "text": [
            "australian \n"
          ]
        },
        {
          "output_type": "stream",
          "name": "stderr",
          "text": [
            "100%|██████████| 10662/10662 [00:00<00:00, 634861.86it/s]\n"
          ]
        },
        {
          "output_type": "stream",
          "name": "stdout",
          "text": [
            "spanish\n"
          ]
        },
        {
          "output_type": "stream",
          "name": "stderr",
          "text": [
            "100%|██████████| 10662/10662 [00:00<00:00, 372912.52it/s]\n"
          ]
        },
        {
          "output_type": "stream",
          "name": "stdout",
          "text": [
            "dutch\n"
          ]
        },
        {
          "output_type": "stream",
          "name": "stderr",
          "text": [
            "100%|██████████| 10662/10662 [00:00<00:00, 611467.41it/s]\n"
          ]
        },
        {
          "output_type": "stream",
          "name": "stdout",
          "text": [
            "swiss\n"
          ]
        },
        {
          "output_type": "stream",
          "name": "stderr",
          "text": [
            "100%|██████████| 10662/10662 [00:00<00:00, 402310.87it/s]\n"
          ]
        },
        {
          "output_type": "stream",
          "name": "stdout",
          "text": [
            "saudi\n"
          ]
        },
        {
          "output_type": "stream",
          "name": "stderr",
          "text": [
            "100%|██████████| 10662/10662 [00:00<00:00, 634915.94it/s]\n"
          ]
        },
        {
          "output_type": "stream",
          "name": "stdout",
          "text": [
            "argentinian \n"
          ]
        },
        {
          "output_type": "stream",
          "name": "stderr",
          "text": [
            "100%|██████████| 10662/10662 [00:00<00:00, 535173.94it/s]\n"
          ]
        },
        {
          "output_type": "stream",
          "name": "stdout",
          "text": [
            "taiwanese \n"
          ]
        },
        {
          "output_type": "stream",
          "name": "stderr",
          "text": [
            "100%|██████████| 10662/10662 [00:00<00:00, 750544.10it/s]\n"
          ]
        },
        {
          "output_type": "stream",
          "name": "stdout",
          "text": [
            "swedish \n"
          ]
        },
        {
          "output_type": "stream",
          "name": "stderr",
          "text": [
            "100%|██████████| 10662/10662 [00:00<00:00, 595785.63it/s]\n"
          ]
        },
        {
          "output_type": "stream",
          "name": "stdout",
          "text": [
            "belgian\n"
          ]
        },
        {
          "output_type": "stream",
          "name": "stderr",
          "text": [
            "100%|██████████| 10662/10662 [00:00<00:00, 726393.17it/s]\n"
          ]
        },
        {
          "output_type": "stream",
          "name": "stdout",
          "text": [
            "polish\n"
          ]
        },
        {
          "output_type": "stream",
          "name": "stderr",
          "text": [
            "100%|██████████| 10662/10662 [00:00<00:00, 289832.26it/s]\n"
          ]
        },
        {
          "output_type": "stream",
          "name": "stdout",
          "text": [
            "israeli\n"
          ]
        },
        {
          "output_type": "stream",
          "name": "stderr",
          "text": [
            "100%|██████████| 10662/10662 [00:00<00:00, 354313.43it/s]\n"
          ]
        },
        {
          "output_type": "stream",
          "name": "stdout",
          "text": [
            "irish\n"
          ]
        },
        {
          "output_type": "stream",
          "name": "stderr",
          "text": [
            "100%|██████████| 10662/10662 [00:00<00:00, 393133.04it/s]\n"
          ]
        },
        {
          "output_type": "stream",
          "name": "stdout",
          "text": [
            "greek\n"
          ]
        },
        {
          "output_type": "stream",
          "name": "stderr",
          "text": [
            "100%|██████████| 10662/10662 [00:00<00:00, 417091.06it/s]\n"
          ]
        },
        {
          "output_type": "stream",
          "name": "stdout",
          "text": [
            "ukrainian \n"
          ]
        },
        {
          "output_type": "stream",
          "name": "stderr",
          "text": [
            "100%|██████████| 10662/10662 [00:00<00:00, 542747.37it/s]\n"
          ]
        },
        {
          "output_type": "stream",
          "name": "stdout",
          "text": [
            "jamaican \n"
          ]
        },
        {
          "output_type": "stream",
          "name": "stderr",
          "text": [
            "100%|██████████| 10662/10662 [00:00<00:00, 651510.33it/s]\n"
          ]
        },
        {
          "output_type": "stream",
          "name": "stdout",
          "text": [
            "mongolian\n"
          ]
        },
        {
          "output_type": "stream",
          "name": "stderr",
          "text": [
            "100%|██████████| 10662/10662 [00:00<00:00, 364338.77it/s]\n"
          ]
        },
        {
          "output_type": "stream",
          "name": "stdout",
          "text": [
            "armenian\n"
          ]
        },
        {
          "output_type": "stream",
          "name": "stderr",
          "text": [
            "100%|██████████| 10662/10662 [00:00<00:00, 353856.44it/s]\n"
          ]
        },
        {
          "output_type": "stream",
          "name": "stdout",
          "text": [
            "disability\n"
          ]
        },
        {
          "output_type": "stream",
          "name": "stderr",
          "text": [
            "100%|██████████| 10662/10662 [00:00<00:00, 641500.90it/s]\n"
          ]
        },
        {
          "output_type": "stream",
          "name": "stdout",
          "text": [
            "disabled\n"
          ]
        },
        {
          "output_type": "stream",
          "name": "stderr",
          "text": [
            "100%|██████████| 10662/10662 [00:00<00:00, 354072.17it/s]\n"
          ]
        },
        {
          "output_type": "stream",
          "name": "stdout",
          "text": [
            "handicap\n"
          ]
        },
        {
          "output_type": "stream",
          "name": "stderr",
          "text": [
            "100%|██████████| 10662/10662 [00:00<00:00, 475079.08it/s]\n"
          ]
        },
        {
          "output_type": "stream",
          "name": "stdout",
          "text": [
            "handicapped\n"
          ]
        },
        {
          "output_type": "stream",
          "name": "stderr",
          "text": [
            "100%|██████████| 10662/10662 [00:00<00:00, 454847.22it/s]\n"
          ]
        },
        {
          "output_type": "stream",
          "name": "stdout",
          "text": [
            "mentally\n"
          ]
        },
        {
          "output_type": "stream",
          "name": "stderr",
          "text": [
            "100%|██████████| 10662/10662 [00:00<00:00, 577586.95it/s]\n"
          ]
        },
        {
          "output_type": "stream",
          "name": "stdout",
          "text": [
            "mental\n"
          ]
        },
        {
          "output_type": "stream",
          "name": "stderr",
          "text": [
            "100%|██████████| 10662/10662 [00:00<00:00, 452774.88it/s]\n"
          ]
        },
        {
          "output_type": "stream",
          "name": "stdout",
          "text": [
            "autistic\n"
          ]
        },
        {
          "output_type": "stream",
          "name": "stderr",
          "text": [
            "100%|██████████| 10662/10662 [00:00<00:00, 698232.07it/s]\n"
          ]
        },
        {
          "output_type": "stream",
          "name": "stdout",
          "text": [
            "autism\n"
          ]
        },
        {
          "output_type": "stream",
          "name": "stderr",
          "text": [
            "100%|██████████| 10662/10662 [00:00<00:00, 709149.38it/s]\n"
          ]
        },
        {
          "output_type": "stream",
          "name": "stdout",
          "text": [
            "lesbian\n"
          ]
        },
        {
          "output_type": "stream",
          "name": "stderr",
          "text": [
            "100%|██████████| 10662/10662 [00:00<00:00, 337150.70it/s]\n"
          ]
        },
        {
          "output_type": "stream",
          "name": "stdout",
          "text": [
            "lesbians\n"
          ]
        },
        {
          "output_type": "stream",
          "name": "stderr",
          "text": [
            "100%|██████████| 10662/10662 [00:00<00:00, 349342.39it/s]\n"
          ]
        },
        {
          "output_type": "stream",
          "name": "stdout",
          "text": [
            "gay\n"
          ]
        },
        {
          "output_type": "stream",
          "name": "stderr",
          "text": [
            "100%|██████████| 10662/10662 [00:00<00:00, 293677.03it/s]\n"
          ]
        },
        {
          "output_type": "stream",
          "name": "stdout",
          "text": [
            "bisexual\n"
          ]
        },
        {
          "output_type": "stream",
          "name": "stderr",
          "text": [
            "100%|██████████| 10662/10662 [00:00<00:00, 860026.72it/s]\n"
          ]
        },
        {
          "output_type": "stream",
          "name": "stdout",
          "text": [
            "pansexual\n"
          ]
        },
        {
          "output_type": "stream",
          "name": "stderr",
          "text": [
            "100%|██████████| 10662/10662 [00:00<00:00, 617751.78it/s]\n"
          ]
        },
        {
          "output_type": "stream",
          "name": "stdout",
          "text": [
            "asexual\n"
          ]
        },
        {
          "output_type": "stream",
          "name": "stderr",
          "text": [
            "100%|██████████| 10662/10662 [00:00<00:00, 658397.42it/s]\n"
          ]
        },
        {
          "output_type": "stream",
          "name": "stdout",
          "text": [
            "queer\n"
          ]
        },
        {
          "output_type": "stream",
          "name": "stderr",
          "text": [
            "100%|██████████| 10662/10662 [00:00<00:00, 611174.92it/s]\n"
          ]
        },
        {
          "output_type": "stream",
          "name": "stdout",
          "text": [
            "straight\n"
          ]
        },
        {
          "output_type": "stream",
          "name": "stderr",
          "text": [
            "100%|██████████| 10662/10662 [00:00<00:00, 264909.69it/s]\n"
          ]
        },
        {
          "output_type": "stream",
          "name": "stdout",
          "text": [
            "muslim\n"
          ]
        },
        {
          "output_type": "stream",
          "name": "stderr",
          "text": [
            "100%|██████████| 10662/10662 [00:00<00:00, 375842.92it/s]\n"
          ]
        },
        {
          "output_type": "stream",
          "name": "stdout",
          "text": [
            "christian\n"
          ]
        },
        {
          "output_type": "stream",
          "name": "stderr",
          "text": [
            "100%|██████████| 10662/10662 [00:00<00:00, 292549.29it/s]\n"
          ]
        },
        {
          "output_type": "stream",
          "name": "stdout",
          "text": [
            "jew\n"
          ]
        },
        {
          "output_type": "stream",
          "name": "stderr",
          "text": [
            "100%|██████████| 10662/10662 [00:00<00:00, 640068.55it/s]\n"
          ]
        },
        {
          "output_type": "stream",
          "name": "stdout",
          "text": [
            "jewish\n"
          ]
        },
        {
          "output_type": "stream",
          "name": "stderr",
          "text": [
            "100%|██████████| 10662/10662 [00:00<00:00, 354684.37it/s]\n"
          ]
        },
        {
          "output_type": "stream",
          "name": "stdout",
          "text": [
            "sikh\n"
          ]
        },
        {
          "output_type": "stream",
          "name": "stderr",
          "text": [
            "100%|██████████| 10662/10662 [00:00<00:00, 653271.04it/s]\n"
          ]
        },
        {
          "output_type": "stream",
          "name": "stdout",
          "text": [
            "buddhist\n"
          ]
        },
        {
          "output_type": "stream",
          "name": "stderr",
          "text": [
            "100%|██████████| 10662/10662 [00:00<00:00, 263859.32it/s]\n"
          ]
        },
        {
          "output_type": "stream",
          "name": "stdout",
          "text": [
            "hindu\n"
          ]
        },
        {
          "output_type": "stream",
          "name": "stderr",
          "text": [
            "100%|██████████| 10662/10662 [00:00<00:00, 413833.44it/s]\n"
          ]
        },
        {
          "output_type": "stream",
          "name": "stdout",
          "text": [
            "atheist\n"
          ]
        },
        {
          "output_type": "stream",
          "name": "stderr",
          "text": [
            "100%|██████████| 10662/10662 [00:00<00:00, 631259.27it/s]\n"
          ]
        },
        {
          "output_type": "stream",
          "name": "stdout",
          "text": [
            "muslims\n"
          ]
        },
        {
          "output_type": "stream",
          "name": "stderr",
          "text": [
            "100%|██████████| 10662/10662 [00:00<00:00, 352831.82it/s]\n"
          ]
        },
        {
          "output_type": "stream",
          "name": "stdout",
          "text": [
            "christians\n"
          ]
        },
        {
          "output_type": "stream",
          "name": "stderr",
          "text": [
            "100%|██████████| 10662/10662 [00:00<00:00, 393433.94it/s]\n"
          ]
        },
        {
          "output_type": "stream",
          "name": "stdout",
          "text": [
            "jews\n"
          ]
        },
        {
          "output_type": "stream",
          "name": "stderr",
          "text": [
            "100%|██████████| 10662/10662 [00:00<00:00, 597161.98it/s]\n"
          ]
        },
        {
          "output_type": "stream",
          "name": "stdout",
          "text": [
            "sikhs\n"
          ]
        },
        {
          "output_type": "stream",
          "name": "stderr",
          "text": [
            "100%|██████████| 10662/10662 [00:00<00:00, 621149.65it/s]\n"
          ]
        },
        {
          "output_type": "stream",
          "name": "stdout",
          "text": [
            "buddhists\n"
          ]
        },
        {
          "output_type": "stream",
          "name": "stderr",
          "text": [
            "100%|██████████| 10662/10662 [00:00<00:00, 585773.01it/s]\n"
          ]
        },
        {
          "output_type": "stream",
          "name": "stdout",
          "text": [
            "hindus\n"
          ]
        },
        {
          "output_type": "stream",
          "name": "stderr",
          "text": [
            "100%|██████████| 10662/10662 [00:00<00:00, 420352.95it/s]\n"
          ]
        },
        {
          "output_type": "stream",
          "name": "stdout",
          "text": [
            "atheists\n"
          ]
        },
        {
          "output_type": "stream",
          "name": "stderr",
          "text": [
            "100%|██████████| 10662/10662 [00:00<00:00, 706349.12it/s]\n"
          ]
        },
        {
          "output_type": "stream",
          "name": "stdout",
          "text": [
            "old\n"
          ]
        },
        {
          "output_type": "stream",
          "name": "stderr",
          "text": [
            "100%|██████████| 10662/10662 [00:00<00:00, 46053.85it/s]\n"
          ]
        },
        {
          "output_type": "stream",
          "name": "stdout",
          "text": [
            "elderly\n"
          ]
        },
        {
          "output_type": "stream",
          "name": "stderr",
          "text": [
            "100%|██████████| 10662/10662 [00:00<00:00, 126726.98it/s]\n"
          ]
        },
        {
          "output_type": "stream",
          "name": "stdout",
          "text": [
            "retired\n"
          ]
        },
        {
          "output_type": "stream",
          "name": "stderr",
          "text": [
            "100%|██████████| 10662/10662 [00:00<00:00, 317724.12it/s]\n"
          ]
        },
        {
          "output_type": "stream",
          "name": "stdout",
          "text": [
            "teenage\n"
          ]
        },
        {
          "output_type": "stream",
          "name": "stderr",
          "text": [
            "100%|██████████| 10662/10662 [00:00<00:00, 212673.32it/s]\n"
          ]
        },
        {
          "output_type": "stream",
          "name": "stdout",
          "text": [
            "young\n"
          ]
        },
        {
          "output_type": "stream",
          "name": "stderr",
          "text": [
            "100%|██████████| 10662/10662 [00:00<00:00, 30659.50it/s]\n"
          ]
        },
        {
          "output_type": "stream",
          "name": "stdout",
          "text": [
            "senior\n"
          ]
        },
        {
          "output_type": "stream",
          "name": "stderr",
          "text": [
            "100%|██████████| 10662/10662 [00:00<00:00, 349437.94it/s]\n"
          ]
        },
        {
          "output_type": "stream",
          "name": "stdout",
          "text": [
            "seniors\n"
          ]
        },
        {
          "output_type": "stream",
          "name": "stderr",
          "text": [
            "100%|██████████| 10662/10662 [00:00<00:00, 434847.04it/s]\n"
          ]
        },
        {
          "output_type": "stream",
          "name": "stdout",
          "text": [
            "teenager\n"
          ]
        },
        {
          "output_type": "stream",
          "name": "stderr",
          "text": [
            "100%|██████████| 10662/10662 [00:00<00:00, 306811.86it/s]\n"
          ]
        },
        {
          "output_type": "stream",
          "name": "stdout",
          "text": [
            "teenagers\n"
          ]
        },
        {
          "output_type": "stream",
          "name": "stderr",
          "text": [
            "100%|██████████| 10662/10662 [00:00<00:00, 186112.50it/s]\n"
          ]
        },
        {
          "output_type": "stream",
          "name": "stdout",
          "text": [
            "\n"
          ]
        },
        {
          "output_type": "stream",
          "name": "stderr",
          "text": [
            "100%|██████████| 10662/10662 [00:00<00:00, 721692.39it/s]\n"
          ]
        }
      ],
      "source": [
        "from collections import defaultdict as dd\n",
        "pmi_identity_label = dd(list)\n",
        "for identity_label in (identity_labels):\n",
        "  print(identity_label)\n",
        "  for word in tqdm(unigram_frequency.keys()):\n",
        "    pmi_score = pmi(word1=identity_label, word2=word,unigram_freq=unigram_frequency,bigram_freq=bigram_frequency)\n",
        "    #print(\"PMI:\",pmi_score)\n",
        "    if pmi_score:\n",
        "      pmi_identity_label[identity_label].append((word,pmi_score))"
      ]
    },
    {
      "cell_type": "code",
      "execution_count": null,
      "metadata": {
        "id": "3vbiB7PlV3Ny"
      },
      "outputs": [],
      "source": [
        "for identity in pmi_identity_label.keys():\n",
        "    pmi_identity_label[identity] = Sort(pmi_identity_label[identity])\n"
      ]
    },
    {
      "cell_type": "code",
      "source": [
        "for key in pmi_identity_label.keys():\n",
        "    print(key, pmi_identity_label[key][:20])"
      ],
      "metadata": {
        "colab": {
          "base_uri": "https://localhost:8080/"
        },
        "id": "XSUapOFojhWC",
        "outputId": "05144bc3-8362-4082-d0fc-215f6a42a0de"
      },
      "execution_count": null,
      "outputs": [
        {
          "output_type": "stream",
          "name": "stdout",
          "text": [
            "woman [('marble-looking', 3.9246229431677464), ('edwards', 3.9246229431677464), ('bandidos', 3.9246229431677464), ('leaf-strewn', 3.9246229431677464), ('leaf-lined', 3.9246229431677464), ('leave-like', 3.9246229431677464), ('mirthlessly', 3.9246229431677464), ('coke-a-cola', 3.9246229431677464), ('ruts', 3.9246229431677464), ('wearubg', 3.9246229431677464), ('tableau', 3.9246229431677464), ('radishes', 3.9246229431677464), ('pull-overs', 3.9246229431677464), ('denomination', 3.9246229431677464), ('t-short', 3.9246229431677464), ('lavendar', 3.9246229431677464), ('buzzes', 3.9246229431677464), ('homemade-looking', 3.9246229431677464), ('event-', 3.9246229431677464), ('spheres', 3.9246229431677464)]\n",
            "women [('disbelieving', 5.925517637795422), ('marley', 5.925517637795422), ('partially-drunk', 5.925517637795422), ('futon-style', 5.925517637795422), ('footrest', 5.925517637795422), ('hand-crafting', 5.925517637795422), ('headwraps', 5.861387300375705), ('blanked', 5.832408233403941), ('well-stocked', 5.832408233403941), ('tedious', 5.832408233403941), ('spaulding', 5.832408233403941), ('rose-colored', 5.832408233403941), ('white-rimmed', 5.825981964244508), ('fayre', 5.744945392153602), ('saris', 5.634286340130976), ('stethoscopes', 5.603589542908059), ('culturally', 5.603589542908059), ('headscarves', 5.59294229870855), ('notepads', 5.5844807199603546), ('sanded', 5.5844807199603546)]\n",
            "man [('creamer', 2.9731606736518175), ('wave-crashing', 2.9731606736518175), ('realtors', 2.9731606736518175), ('military-type', 2.9731606736518175), ('entails', 2.9731606736518175), ('clay-tiled', 2.9731606736518175), ('edwards', 2.9731606736518175), ('lumps', 2.9731606736518175), ('calle', 2.9731606736518175), ('adjoining', 2.9731606736518175), ('slightly-untidy', 2.9731606736518175), ('keyboarding', 2.9731606736518175), ('questioningly', 2.9731606736518175), ('ostentatiously', 2.9731606736518175), ('backdoor', 2.9731606736518175), ('two-thumbs-up', 2.9731606736518175), ('heavier', 2.9731606736518175), ('pennsylvania', 2.9731606736518175), ('mirthlessly', 2.9731606736518175), ('silk-screened', 2.9731606736518175)]\n",
            "men [('castle-like', 5.097286406542931), ('c-u-b-s', 5.097286406542931), ('7200', 5.097286406542931), ('double-barreled', 5.097286406542931), ('partially-drunk', 5.097286406542931), ('propeller-driven', 5.097286406542931), ('wincing', 5.097286406542931), ('trunks-', 5.097286406542931), ('seated-', 5.097286406542931), ('uptop', 5.097286406542931), ('wood-paneled', 5.030172210684394), ('penzance', 5.019283894541657), ('remote-controlled', 5.009823565292591), ('vestments', 5.004177002151449), ('uniformly', 5.004177002151449), ('briefcases', 4.966041873264678), ('highlighting', 4.927361405100618), ('pseudo', 4.91671416090111), ('phone-booths', 4.91671416090111), ('tired-looking', 4.904641328600535)]\n",
            "girl [('regalia-', 5.138820566445799), ('skates-', 5.138820566445799), ('midsentence', 5.138820566445799), ('brighly', 5.138820566445799), ('well-cut', 5.138820566445799), ('whimsically', 5.138820566445799), ('prave', 5.138820566445799), ('refection', 5.138820566445799), ('three-years-old', 5.138820566445799), ('reptilian', 5.0457111620543165), ('domes', 5.0457111620543165), ('tracked', 5.0457111620543165), ('greed', 5.0457111620543165), ('bubble-blowing', 5.0457111620543165), ('band-aid', 4.958248320803977), ('grill-out', 4.958248320803977), ('magizine', 4.958248320803977), ('yellow-belt', 4.946175488503402), ('yellowish', 4.875786160612004), ('scribbled', 4.875786160612004)]\n",
            "girls [('hard-wood', 6.975088180418641), ('elementary-aged', 6.975088180418641), ('chapping', 6.88197877602716), ('potrait', 6.794515934776821), ('graded', 6.794515934776821), ('bubbling', 6.752695759082192), ('jump-rope', 6.712053774584847), ('hijabs', 6.422547157389863), ('immediate', 6.358416819970146), ('predominantly', 6.297016275306003), ('bonnets', 6.238122586252435), ('stances', 6.181539057886067), ('tinsel', 6.167733258361037), ('beg', 6.074623853969555), ('slumber', 6.049088761862417), ('bookbags', 6.045477508310039), ('ther', 5.910957842998926), ('crouch', 5.697554204889732), ('snowmen', 5.653160085531279), ('dojo', 5.653160085531279)]\n",
            "boy [('hard-wood', 5.164759846811385), ('improvises', 5.164759846811385), ('t-short', 5.164759846811385), ('gee', 5.164759846811385), ('socket', 5.164759846811385), ('streteched', 5.164759846811385), ('homey', 5.164759846811385), ('trojan', 5.164759846811385), ('u.s.a.', 5.164759846811385), ('gidday', 5.164759846811385), ('shimmering', 5.164759846811385), ('supermarkets', 5.164759846811385), ('bounded', 5.164759846811385), ('thefaceshop', 5.086757334810112), ('origins', 5.071650442419903), ('matte', 5.071650442419903), ('tentacles', 5.071650442419903), ('85', 5.071650442419903), ('cooperative', 5.071650442419903), ('kuthhoop', 5.071650442419903)]\n",
            "boys [('dish-shaped', 7.376215548090037), ('streteched', 7.376215548090037), ('elementary-aged', 7.376215548090037), ('potrait', 7.195643302448216), ('graded', 7.195643302448216), ('plums', 7.113181142256244), ('racquets', 6.935642956704056), ('landfill', 6.675775829948946), ('prehistoric', 6.4831307520065495), ('blue-tinted', 6.376215548090037), ('galoshes', 6.376215548090037), ('unicef', 6.295295552706469), ('shores', 6.238712024340102), ('attach', 6.195643302448216), ('marbles', 6.153823126753589), ('tongues', 6.096107628897301), ('pylons', 6.073652778069605), ('sergeant', 5.9977039248363075), ('grows', 5.961178048811193), ('dripping', 5.890788720919795)]\n",
            "female [('handstnad', 8.121300784756455), ('bellybutton', 8.121300784756455), ('vertically-striped', 8.121300784756455), ('abercrombie', 8.028191380364973), ('plus', 8.028191380364973), ('graced', 7.940728539114634), ('inked', 7.940728539114634), ('iv', 7.780263866921388), ('shiney', 7.780263866921388), ('back-up', 7.70626328547761), ('frisked', 7.680728193370473), ('red-and-white', 7.568759761727676), ('laces', 7.327751662223881), ('arm-in-arm', 7.273303878201505), ('columned', 7.220836458307368), ('psychic', 7.121300784756455), ('communication', 7.121300784756455), ('vinyl', 7.073995069978098), ('kiosks', 7.028191380364972), ('swiss', 7.028191380364972)]\n",
            "male [('lumps', 8.182592274250355), ('reptilian', 8.089482869858873), ('abercrombie', 8.089482869858873), ('gravelly', 7.919557868416561), ('reservoir', 7.820022194865647), ('faraway', 7.767554774971511), ('unhappy-looking', 7.767554774971511), ('shear', 7.697165447080113), ('spotters', 7.630051251221576), ('brigada', 7.630051251221576), ('consoled', 7.630051251221576), ('52', 7.56592091380186), ('receding', 7.56592091380186), ('swallower', 7.504520369137718), ('graveled', 7.23505969414449), ('amounts', 7.06711505683042), ('buttoned', 7.045088750500419), ('bump', 7.045088750500419), ('drayton', 6.960199852913907), ('dwarfed', 6.960199852913907)]\n",
            "mother [('retro-styled', 9.20777509059796), ('sneeze', 8.256684691078906), ('depot', 7.529703185485322), ('crisp', 7.307310764148874), ('flow', 7.281775672041737), ('messing', 7.183928348643592), ('refreshments', 7.160469375819603), ('goodbye', 7.0922978731780235), ('daughters', 7.0648171367559165), ('daughter', 7.0121434363377), ('lava', 6.792737591319116), ('strawberries', 6.575506875098447), ('newborn', 6.514512974529914), ('lovely', 6.4798546360347595), ('son', 6.35977818404301), ('sons', 6.186713475070131), ('transporting', 6.183928348643592), ('tightly', 6.058027971093278), ('mom', 5.89461720533833), ('destination', 5.783748808091862)]\n",
            "father [('tenderly', 9.53977690749843), ('prevents', 9.461774395497159), ('adjustment', 9.38777381405338), ('kurt', 8.802811313332224), ('masters', 8.065845719166019), ('son', 7.98772902925001), ('crisp', 7.902346986883139), ('flow', 7.876811894776002), ('planted', 7.8255313898323084), ('wander', 7.732421985440827), ('jelly', 7.732421985440827), ('lava', 7.38777381405338), ('sons', 7.279249357275212), ('wielding', 7.170543097832712), ('barbie', 7.139846300609796), ('daughter', 7.031752520497611), ('dad', 6.843453297829571), ('amused', 6.8148841456328), ('transporting', 6.778964571377857), ('teaches', 6.681181868930693)]\n",
            "sister [('brother', 9.983791748129757), ('sisters', 6.975524132146155), ('hugging', 6.052691992668616), ('younger', 5.526146178172782), ('snowy', 4.552933698253596), ('little', 4.254741525266598), ('wedding', 4.119409898168697), ('big', 3.971459759421934), (\"'s\", 3.8369204872247114), ('older', 3.828246510872709), ('girl', 3.7758517873097923), ('boy', 3.658534016695146), ('swing', 3.649094645023853), ('purple', 3.381199528221309), ('baby', 3.32058981042145), ('family', 3.2095474513208813), ('together', 3.1390950009845096), ('another', 3.020622864481199), ('kid', 2.923227800909787), ('play', 2.900044982658139)]\n",
            "brother [('dispenser', 10.409097582862428), ('sister', 9.983791748129757), ('sliced', 9.862102932340292), ('mugs', 9.495975033542395), ('footbridge', 8.781066360249385), ('soap', 7.861034664952801), ('possibly', 6.938918529391122), ('hugs', 6.93557630930501), ('younger', 6.809941200558518), ('sprinkler', 6.749588128776218), ('brothers', 5.7275832670291775), ('helping', 5.5885317870782805), ('lit', 5.278566019720202), ('closed', 5.125137338174086), ('birthday', 5.1203363519102645), ('put', 4.915920305585371), ('place', 4.5924047962254875), ('little', 4.4887835124552335), ('cake', 4.3939540966018855), ('forest', 4.234852791607404)]\n",
            "daughter [('disinterestedly', 9.972457829098373), ('farms', 9.335027908483081), ('ruler', 8.856980611678438), ('planted', 8.165102907040769), ('grandchild', 8.057154993673654), ('wielding', 7.603224019432655), ('washington', 7.065567233489854), ('measuring', 7.0549199892903465), ('father', 7.031752520497611), ('mother', 7.0121434363377), ('mom', 6.784830825922602), ('upright', 6.666649399574287), ('dad', 6.328601639323648), ('teaches', 6.265865883975685), ('grand', 5.672556040541009), ('goat', 5.650529734211011), ('hug', 5.624467437624815), ('helps', 5.5417265227143835), ('pigtails', 5.485957967262904), ('pen', 5.369877914902167)]\n",
            "son [('leaf-strewn', 9.797251787990325), ('tenderly', 9.53421738215653), ('prevents', 9.456214870155257), ('kurt', 8.797251787990325), ('bonding', 8.418740164736594), ('father', 7.98772902925001), ('crisp', 7.896787461541238), ('wander', 7.726862460098927), ('planted', 7.726862460098927), ('dad', 7.318222732018232), ('wielding', 7.164983572490811), ('transporting', 6.773405046035956), ('teaches', 6.675622343588793), ('destination', 6.466334909875707), ('mom', 6.362531922849781), ('mother', 6.35977818404301), ('razor', 6.294751447461141), ('shave', 6.280676262249418), ('upright', 6.228408952632445), ('flowing', 6.1805804275418295)]\n",
            "black [('roll-open', 5.247024630799792), ('garage-type', 5.247024630799792), ('plum-colored', 5.247024630799792), ('billed', 5.247024630799792), ('nubby', 5.247024630799792), ('handstnad', 5.247024630799792), ('bellybutton', 5.247024630799792), ('regalia-', 5.247024630799792), ('skates-', 5.247024630799792), ('zepra', 5.247024630799792), ('gauge', 5.247024630799792), ('streteched', 5.247024630799792), ('skull-and-crossbones', 5.247024630799792), ('trunks-', 5.247024630799792), ('seated-', 5.247024630799792), ('water-proof', 5.247024630799792), ('stheart', 5.247024630799792), ('reversible', 5.247024630799792), ('scatteredly', 5.247024630799792), ('concocted', 5.247024630799792)]\n",
            "asian [('slightly-untidy', 7.6062453149139175), ('keyboarding', 7.6062453149139175), ('well-cut', 7.6062453149139175), ('mid-afternoon', 7.6062453149139175), ('shimp', 7.6062453149139175), ('gray-tiled', 7.6062453149139175), ('seiko', 7.513135910522436), ('abercrombie', 7.513135910522436), ('life-size', 7.343210909080123), ('to-go', 7.343210909080123), ('i-pod', 7.26520839707885), ('yams', 7.191207815635074), ('reefs', 7.191207815635074), ('tiptoes', 7.165672723527937), ('misspelled', 7.1208184877436755), ('breaded', 7.053704291885139), ('puller', 7.053704291885139), ('wallets', 6.928173409801279), ('southeast', 6.9017011984400884), ('conical', 6.869279720747712)]\n",
            "hispanic [('jetty', 10.940966910109788), ('sundress', 9.484328506364172), ('descent', 9.357710731339035), ('perhaps', 9.290984617538221), ('possibly', 7.495555761787425), ('palm', 7.219431356513188), ('grilling', 6.875335936279939), ('individuals', 6.513988479884411), ('plants', 6.508291749714887), ('washing', 6.353448704484875), ('giant', 6.344539222895177), ('meat', 6.188354952646615), ('males', 6.145721670330178), ('waves', 5.862560564644467), ('net', 5.801197874565974), ('moving', 5.779700991259646), ('middle-aged', 5.656942717590453), ('six', 5.6477154061567125), ('fountain', 5.157933859794918), ('fish', 5.088819279095701)]\n",
            "white [('dish-shaped', 5.196322336906456), ('wolf-like', 5.196322336906456), ('edwards', 5.196322336906456), ('nubby', 5.196322336906456), ('zepra', 5.196322336906456), ('shute', 5.196322336906456), ('johannesburg', 5.196322336906456), ('fiber-like', 5.196322336906456), ('thrashes', 5.196322336906456), ('blue-plaid', 5.196322336906456), ('pull-overs', 5.196322336906456), ('square-dance', 5.196322336906456), ('rive', 5.196322336906456), ('open-toed', 5.196322336906456), ('prave', 5.196322336906456), ('authority-figure', 5.196322336906456), ('ghostlike', 5.196322336906456), ('skull-and-crossbones', 5.196322336906456), ('stheart', 5.196322336906456), ('colorless', 5.196322336906456)]\n",
            "african [('afican', 9.67382894443889), ('relevance', 9.67382894443889), ('cobs', 9.67382894443889), ('supervises', 8.673828944438888), ('headstand', 8.626523229660531), ('tribe', 8.532473095193348), ('emblem', 8.493256698797069), ('american', 8.242842401882106), ('adopted', 8.237729829632215), ('americans', 8.122419003428758), ('africa', 7.635693815552118), ('donning', 7.4862019412631176), ('direct', 7.4514365231024415), ('cells', 7.415094676038721), ('garments', 7.371266174418458), ('braiding', 7.307046613767267), ('necklaces', 7.2518720312202545), ('piercings', 7.223167535429324), ('blackboard', 7.15445478534531), ('bales', 7.137776044198679)]\n",
            "american [('afican', 9.512798398521625), ('origins', 9.419688994130142), ('matte', 9.419688994130142), ('patted', 8.998225225691865), ('tsa', 8.735190819858072), ('footballer', 8.56170799900257), ('supervises', 8.512798398521625), ('lewis', 8.419688994130142), ('emblem', 8.332226152879803), ('flung', 8.290405977185177), ('revolutionary', 8.256458645261839), ('african', 8.242842401882106), ('patriotic', 8.197296572793695), ('latin', 8.141960703153316), ('adopted', 7.989236442464612), ('unpacking', 7.834726493408987), ('footballers', 7.790332374050533), ('native', 7.646204273089344), ('pullover', 7.488951656567257), ('flag', 7.463613920447985)]\n",
            "latino [('man', 1.072696347202732)]\n",
            "caucasian [('dx', 11.685763854283989), ('sizable', 11.34472693644892), ('faraway', 11.270726355005145), ('monarch', 10.837766947729039), ('zip-up', 10.734673454764934), ('cuffs', 10.307252231030258), ('blonds', 10.200337027113745), ('frosting', 9.638458139505632), ('index', 9.116921018926108), ('slender', 9.053495638784476), ('conveyor', 8.878408932226383), ('fleece', 8.785299527834901), ('ipod', 8.49462236693198), ('silk', 8.46337143294754), ('cargo', 8.344726936448922), ('short-sleeved', 8.219064235182652), ('heavily', 8.11692101892611), ('digital', 7.621110895941734), ('meadow', 7.505191608642167), ('rolled', 7.432783113114117)]\n",
            "africans [('group', 2.3175996725001107), ('people', 1.0923094464135576)]\n",
            "middle-eastern [('embroidery', 14.187351385519266), ('aged', 10.833714430904566), ('robe', 9.462458623653633), ('gold', 8.55153251480996), ('right', 7.438413149686983), ('looking', 4.262209085354525), ('white', 3.242126026519581), ('wearing', 3.196430895053326), ('man', 1.4112817860437026)]\n",
            "australian [('shepherd', 10.700447900041102)]\n",
            "asians [('engage', 9.50170456863804), ('contest', 7.463151327868647), ('wait', 5.8301635019261555), ('asian', 5.688260889421814), ('staring', 5.676427738583174), ('eat', 5.435615378180267), ('steps', 4.9440494139126185), ('eating', 4.650606239894097), ('several', 4.201315102715484), ('group', 3.9406344001415667), ('going', 3.8616856361822545), ('train', 3.819412197207207), ('outdoors', 3.812977414337443), ('look', 3.651517730992265), ('food', 3.642452165313812), ('something', 3.3585035936481313), ('watching', 3.191330960560108), ('table', 2.8840750543659066), ('together', 2.6063817484228236), ('city', 2.548434037747224)]\n",
            "european [('faded', 11.417412851074431), ('khaki', 7.76832001293356), ('square', 6.879664988774107), ('cafe', 6.77180899901344), ('town', 6.559020773157103), ('tank', 5.806276247277242), ('toddler', 5.691969126803445), ('city', 5.000195220423826), ('walks', 4.420775313139394), ('jeans', 4.369545345588963), ('shorts', 4.302398767062078), ('street', 4.115142145991949), ('top', 3.976858235964729), ('red', 2.4064732429536733), ('people', 2.227220411920442), ('woman', 2.1338509053057466), ('boy', 1.9780591326182457), ('white', 1.931619110712044), ('blue', 1.880135611854741), ('walking', 1.6376188937105234)]\n",
            "chinese [('upper-class', 10.259923858908053), ('traditional-style', 10.259923858908053), ('elders', 8.93799576402069), ('rap', 8.701928405787164), ('lanterns', 8.575425684635983), ('counting', 8.522958264741845), ('spear', 8.363759669892593), ('washers', 8.280101740845684), ('characters', 8.24993977033543), ('gazebo', 8.185088625985463), ('bundles', 8.163062319655463), ('convenience', 7.775724335121813), ('dragon', 7.5945115257668805), ('balanced', 7.459948467216046), ('baton', 7.120859821170502), ('baggy', 7.11696590506601), ('relay', 7.111144666337289), ('japanese', 7.05072536388146), ('year', 6.928777233991311), ('swords', 6.914149022066322)]\n",
            "indian [('origin', 9.144054551516716), ('heritage', 9.140139501513332), ('extravagant', 9.119179882877686), ('clubs', 8.59722717968233), ('particular', 8.36018798238148), ('indians', 8.327766504689103), ('passionately', 8.064732098855309), ('southeast', 8.03825988749412), ('saris', 7.765887617080988), ('sari', 7.690336584073812), ('ritual', 7.578828268856822), ('descent', 7.52307682455133), ('cultural', 7.477791948693711), ('juggler', 7.234657100297623), ('scratching', 6.887193913303122), ('short-haired', 6.732156759768439), ('style', 6.724222578226223), ('traditional', 6.5961541450171035), ('native', 6.456846453854034), ('bamboo', 6.354733552289374)]\n",
            "brazilian [('homemade-looking', 15.131563607333518), ('coelho', 14.950991361691699), ('brazil', 13.546601106612362), ('handsome', 12.972365012484264), ('author', 12.92992974616387), ('scantily', 12.192964151997662), ('mime', 11.205564188777295), ('solo', 11.13758739496129), ('step', 9.94834178327775), ('racket', 9.380242720190243), ('performance', 8.618494025094147), ('streets', 8.56069593649815), ('reads', 8.12931115560214), ('wooden', 6.880475752996605), ('clothing', 6.757973392623663), ('guitar', 5.786380160145853), ('picture', 5.5559061891395505), ('sits', 5.264078930139974), ('dressed', 4.998592695697889), ('playing', 3.277766737268603)]\n",
            "russian [('red-haired', 10.100475283939817), ('orchestra', 9.746838329325117), ('outdoor', 6.927655923680459), ('cap', 6.819189173549801), ('dancing', 6.285659048401552), ('sign', 6.259620446628887), ('front', 4.108808947734598), ('red', 4.032459002672333), ('woman', 2.2899074072494905), ('man', 1.734373814064701)]\n",
            "japanese [('traditional-style', 11.581851953795415), ('ethnically', 11.429848860350365), ('spiritual', 11.228214999180715), ('shrine', 9.685687764779955), ('characters', 8.986905364501636), ('kimonos', 8.646106495514712), ('temple', 8.08999885746574), ('dragon', 7.869133905875886), ('traditional', 7.417280186847309), ('tug-of-war', 7.368072662763675), ('chinese', 7.05072536388146), ('pretending', 6.93159799282254), ('pedestrians', 5.952495333715805), ('wait', 5.343270294359636), ('taken', 5.125497538687126), ('business', 4.926023122354614), ('perform', 4.830679867130935), ('buildings', 4.808529559336173), ('nearby', 4.774370750934116), ('costume', 4.427561241949289)]\n",
            "mexican [('twirl', 11.239898606231007), ('outskirts', 11.201424458416371), ('machete', 9.910193160751927), ('flowing', 8.925790015802944), ('dig', 8.269442881845023), ('skirts', 7.486455966522696), ('knife', 7.335609805810768), ('traditional', 6.930430632332111), ('plants', 6.462087959787419), ('dancers', 6.042084207615225), ('restaurant', 5.881192255391024), ('cigarette', 5.509772757545265), ('flag', 5.305649895002027), ('parade', 4.506837466520717), ('guys', 4.334308321698248), ('food', 4.177973664676789), ('mouth', 4.062681112222339), ('going', 3.9024424437956533), ('dirt', 3.813860565608246), ('asian', 3.744124589425421)]\n",
            "german [('shepard', 11.817950780658162), ('shepherds', 11.78354074987233), ('shepherd', 11.538838166810793), ('labrador', 8.854476656683275), ('followed', 7.905300915760957), ('closely', 7.624179037261481), ('policeman', 7.13476474384888), ('chase', 6.992673950603295), ('possibly', 6.876844469711728), ('log', 6.4172847765889385), ('curb', 6.204419127740233), ('training', 5.77224571614736), ('throws', 5.3281601507853775), ('younger', 5.257541514296042), ('carries', 5.09876734017637), ('stick', 5.092842940688034), ('owner', 5.08527455758485), ('toward', 5.028743205310815), ('chasing', 4.3589290767958575), ('mouth', 4.227139204240316)]\n",
            "thai [('commerce', 14.920587230062825), ('widely', 14.16851474350641), ('dominated', 14.039231726561445), ('buddhist', 12.468075025365318), ('oncoming', 12.13509174196896), ('temple', 11.24370223990063), ('wires', 10.883112524644162), ('telephone', 10.326164400092603), ('center', 9.186947461603395), ('traffic', 8.528269807284063), ('food', 5.527902626657523), ('man', 0.7046718377259152)]\n",
            "french [('fries', 11.70183222291164), ('fry', 11.645248694545275), ('horn', 10.526000580502608), ('chopsticks', 10.044954540068128), ('picks', 8.546406791164445), ('uniform', 4.583332329431117), ('eating', 4.579478981528937), ('restaurant', 4.50509559238139), ('glasses', 4.3347003018726395), ('orange', 3.988859484367232), ('window', 3.8139901789170003), ('t-shirt', 3.6452270196023133), ('asian', 2.8248856013892576), ('playing', 2.424777346762913), ('shirt', 2.3932738236486295), ('sitting', 2.035800490211344), ('wearing', 1.7973611440198323), ('group', 1.7402241248314396), ('blue', 1.6969028582496855), ('young', 1.6252667146762212)]\n",
            "italian [('sbarro', 12.491027775850407), ('taste', 10.906065275129249), ('entrance', 8.599734035292906), ('great', 7.9614083089730245), ('wine', 7.54889168232734), ('restaurant', 7.092077260739198), ('railing', 7.027371571351382), ('wait', 6.7736830195253965), ('reads', 6.536081038897383), ('station', 6.453702240161586), ('subway', 5.903643426246112), ('selling', 5.1887205188042405), ('ice', 5.157717820702167), ('food', 4.863505658441961), ('baseball', 4.418700643717515), ('jacket', 3.703269998623667), ('hat', 3.599063602010127), ('eating', 3.424200756051026), ('shirt', 2.514835803529543), ('outside', 2.473815252381315)]\n",
            "korean [('drama', 12.919155274569691), ('symbols', 11.427302178240017), ('historical', 10.953370989907606), ('shot', 7.349299666238745), ('foreground', 7.3266982373016125), ('see', 7.2440803541842484), ('flag', 6.512418791877969), ('costume', 6.501830156889773), ('flowers', 6.299852319154006), ('bright', 6.117446915653231), ('asian', 5.213927892135157), ('yellow', 3.6320922539053533), ('holding', 3.4890436646618372), ('red', 2.5227846292554146), ('girl', 2.249003484196221), ('group', 1.940232591187322), ('man', 1.2438082635954868)]\n",
            "spanish [('mosaic', 10.749389309123892), ('featuring', 9.603538442660438), ('words', 9.104305815965164), ('multicolored', 7.55243410171243), ('pass', 7.136560014969792), ('glass', 6.035436160501407), ('cars', 5.98656554703666), ('grassy', 5.717607465687565), ('hill', 5.658619945861573), ('window', 4.909783450782098), ('sign', 4.829914377915383), ('asian', 4.261715791089423), ('together', 4.004265085506978), ('behind', 3.9738057549317816), ('stands', 3.729384633463918), ('lady', 3.395327536865794), ('background', 3.3558847460096684), ('city', 3.30631351055226), ('front', 3.2184227141865387), ('hat', 3.116780758739309)]\n",
            "swiss [('vinyl', 14.942238887682734), ('logo', 11.852041078711157), ('cape', 11.731528271393923), ('fan', 10.995568390088861), ('attached', 9.95832587185037), ('wears', 8.826314253592788), ('flag', 8.489698715377886), ('like', 8.138628525872381), ('female', 7.028191380364972), ('smiling', 6.826314253592787), ('soccer', 6.480693429779518), ('looks', 6.334431334418057), ('small', 5.8566593488359295), ('hat', 5.709237796007389), ('ball', 5.654749910467985), ('red', 4.680636798397152), ('shirt', 4.381084414640716), ('white', 4.103212932514975), ('young', 3.9915889289220368)]\n",
            "polish [('gray-colored', 13.649694599576467), ('black-colored', 13.649694599576467), ('existing', 13.36018798238148), ('regrets', 12.797251787990323), ('layer', 12.234657100297623), ('nail', 12.118819614417609), ('nails', 10.26311354634685), ('applying', 9.713949141295762), ('shown', 7.977269257604971), ('tattoo', 7.486464250708162), ('bottle', 6.4590468195380835), ('hands', 5.5024543356823585), (\"'s\", 4.774125360488815), ('red', 3.101320860817137), ('blue', 2.854619602889129), ('woman', 2.4327698468380716), ('wearing', 1.701842831002413), ('black', 1.4921371286363228), ('young', 1.4673143548999845), ('girl', 1.383933064282329)]\n",
            "israeli [('cashews', 15.01379214870777), ('cigarettes', 11.640201933997913), ('sells', 9.332553736929963), ('counter', 8.41387930652064), ('younger', 8.394489193292083), ('shop', 7.3194342614863155), ('behind', 5.342582825002954), ('stands', 5.176164215536363), ('looking', 4.333762346379559), ('man', 1.338445137733562)]\n",
            "irish [('rottwieler', 13.923455412003317), ('setter', 13.762990739810073), ('jig', 13.093380413445631), ('dalmation', 11.876149697224964), ('flashlight', 11.26049039928089), ('retrieving', 10.49942912949722), ('doors', 8.978596966195779), ('practices', 8.61360014941653), ('ahead', 8.611177487149677), ('dancer', 8.318593353844458), ('pond', 7.645470664703554), ('wait', 7.158804940899953), ('safety', 6.9400817305907285), ('public', 6.599124826900651), ('vest', 6.093521308512972), ('open', 5.935907153049574), ('others', 5.934392114799669), ('running', 3.94724932185472), ('building', 3.86562291832006), ('one', 3.684545487149345)]\n",
            "greek [('writing', 8.544943788749588), ('bottle', 8.42038519916898), ('hand', 6.095497391511631), ('wall', 5.780517772230523), ('front', 4.451476951148594), ('water', 4.436965556132756), ('women', 4.225077919654329), ('standing', 3.881306034098024), ('shirt', 3.6806446964996233), ('black', 3.5465849126586995)]\n",
            "mongolian [('bbq', 13.761017394952543), ('shines', 11.581285635813309), ('aprons', 11.18896821303455), ('employees', 10.880845917672218), ('displays', 10.872334417816699), ('caps', 10.339210848615162), ('``', 7.312698651803631), (\"''\", 7.30874556788811), ('shirts', 7.146336702375355), ('restaurant', 6.993673556678204), ('sign', 6.627089325426434), ('workers', 6.511887510324962), ('green', 4.784372460477352), ('two', 3.569162003377953), ('white', 3.4885030883997667)]\n",
            "armenian [('genocide', 16.561044843375683), ('people', 3.318763893073241)]\n",
            "disabled [('man', 0.4495987175948044)]\n",
            "handicapped [('paraplegic', 13.308657681741398), ('versus', 12.77814296504262), ('touches', 9.705993179286784), ('seats', 9.505124470636204), ('athletes', 9.2417712019343), ('ear', 8.962882844899669), ('lead', 8.961897733874101), ('wheelchair', 8.879061292644865), ('touching', 8.016421271790842), ('chairs', 6.913480604823399), ('eyes', 6.910626607768246), ('sit', 6.021543877625734), ('elderly', 5.796173252639594), ('train', 5.73739662269931), ('race', 5.567003441781564), ('several', 4.808959407595437), ('dressed', 4.023683676660719), ('one', 3.5392330401886456), ('holding', 3.016762213548517), ('blue', 2.481873825326724)]\n",
            "lesbian [('couple', 6.5379471062027), ('two', 2.9809317888228857)]\n",
            "lesbians [('two', 3.9520190969076467)]\n",
            "gay [('pride', 11.803126645024323), ('rights', 11.082307246836269), ('marriage', 10.345341652670061), ('support', 8.822440120081156), ('rainbow', 8.031535718804147), ('parade', 7.529630880213329), ('flags', 6.507858673995855), ('hold', 6.389798802331395), ('show', 5.771261396155594), ('couple', 5.189424801303624), ('sign', 3.882049609219312), ('asian', 3.7383488509212626), ('city', 3.7089459889403233), ('men', 3.4924243483840693), ('another', 2.6748937744738037), ('holding', 2.627406191140864), ('group', 2.2131147829774624), ('walking', 2.1454569683010245), ('people', 2.1398276503359597), ('street', 1.9936236005028403)]\n",
            "straight [('spreading', 10.043515612945614), ('sketch', 9.5807249822184), ('razor', 9.42072103869872), ('ahead', 8.970024547679087), ('valley', 8.174521625095624), ('either', 6.88028526407731), ('shaving', 6.717585587500754), ('curly', 6.710699201915515), ('sticking', 6.709614876392175), ('porch', 6.312573806407179), ('touching', 6.1663167022739005), ('helmets', 5.9572319258605395), ('line', 5.758691512720992), ('legs', 5.569584424613202), ('boots', 5.28626451793476), ('bottle', 5.115902238741025), ('perform', 5.085892648813708), ('view', 5.0726108436149255), ('staring', 4.8963106880033855), ('adults', 4.478730994162088)]\n",
            "muslim [('denomination', 13.208184888936433), ('hijab', 11.50774517079534), ('bringing', 9.547934260911038), ('shines', 9.315100092852944), ('headdress', 9.03825988749412), ('gymnasium', 8.457119097725371), ('praying', 8.178437545542378), ('traditional', 7.384650039823393), ('doorway', 7.171618759705001), ('center', 7.133508202641935), ('sun', 5.491977854937023), ('alone', 5.451072721658449), ('open', 5.121100956431773), ('shopping', 4.946090043566252), ('area', 4.4875416000721575), ('walk', 3.959782882792996), ('couple', 3.926512394120352), ('city', 3.702373335016837), ('behind', 3.6244384064819566), ('walking', 3.1784126785641758)]\n",
            "christian [('dior', 14.26162414789789), ('store', 5.798917397227734), ('man', 0.7046718377259152)]\n",
            "jewish [('orthodox', 12.912729005410261), ('menorah', 12.550158926025553), ('armed', 10.636870559218883), ('guards', 9.45704952163407), ('traditional', 7.4851228326283605), ('seen', 7.242568491283627), ('alone', 5.892582432298484), ('family', 5.10611034008764), ('holds', 4.333413067830246), ('dress', 4.227770043816407), ('behind', 4.148410277313964), ('next', 3.381659512684306), ('standing', 1.7393954088253076), ('man', 1.7207735120175323), ('men', 1.6643269992668246), ('boy', 1.4098723446479164), ('young', 1.0667764253162564), ('people', 0.6743003806034231)]\n",
            "buddhist [('commerce', 13.948067966484931), ('widely', 13.195995479928518), ('dominated', 13.066712462983551), ('thai', 12.468075025365318), ('peacock', 12.129906289470746), ('highly', 11.929208939233616), ('monk', 11.680295641644475), ('oncoming', 11.162572478391068), ('temple', 11.119179882877686), ('feather', 10.656836668820487), ('monks', 9.996323135092153), ('wires', 9.91059326106627), ('telephone', 9.353645136514709), ('decorated', 8.53599958749854), ('center', 8.214428198025503), ('waving', 7.786604543790816), ('traffic', 7.555750543706172), ('office', 7.4503211559263836), ('desk', 7.418740164736595), ('colorful', 6.270441040054963)]\n",
            "old [('well-cut', 7.542073884855344), ('prave', 7.542073884855344), ('batiment', 7.542073884855344), ('bounded', 7.542073884855344), ('amorous', 7.448964480463863), ('ferrett', 7.442538211304429), ('combination', 7.3615016392135235), ('fashioned', 7.3572342094017475), ('quits', 7.27903947902155), ('inhabitable', 7.27903947902155), ('med-evil', 7.2010369670202765), ('garcia', 7.2010369670202765), ('cross-cut', 7.2010369670202765), ('condemned', 7.1270363855765), ('sellers', 6.989532861826565), ('years', 6.973545842219832), ('18', 6.912023494605649), ('treetops', 6.59098348533629), ('jerry', 6.59098348533629), ('bordering', 6.542073884855343)]\n",
            "elderly [('trench-coat', 8.722172671195818), ('orange-brown', 8.722172671195818), ('kabab', 8.722172671195818), ('echo', 8.629063266804335), ('implement', 8.541600425553996), ('hutch', 8.459138265362023), ('reefs', 8.307135171916974), ('conditioner', 8.286073556389145), ('clogs', 8.169631648167039), ('clutch', 7.928623548663244), ('twine', 7.80463483138779), ('biscuits', 7.6803524955011895), ('boutique', 7.49978024985937), ('shish', 7.419609901175386), ('streams', 7.343661047942087), ('canes', 7.33514954808657), ('clarinets', 7.320074227624471), ('shampoo', 7.317782416116482), ('clue', 7.2027985121022375), ('evergreen', 7.014353422689128)]\n",
            "teenage [('weedy', 10.579729406640611), ('dreams', 9.020301998026593), ('simultaneously', 7.69837390313923), ('teen', 7.188050203310831), ('teenager', 6.872575637029145), ('beanie', 6.514773964799842), ('pedestrian', 6.4013921653820995), ('story', 6.292381543463394), ('crossed', 6.18680948018181), ('knees', 6.069433705357471), ('skate', 5.4857755651016795), ('teenagers', 5.430249675708818), ('stunt', 5.18605670424984), ('skateboard', 5.074970326113999), ('females', 5.072292415092482), ('tricks', 5.019228963361367), ('says', 4.58686558792224), ('girls', 4.585790001938674), ('boys', 4.487346360119559), ('cellphone', 4.013430521321306)]\n",
            "young [('disbelieving', 5.084698333313519), ('dish-shaped', 5.084698333313519), ('supple', 5.084698333313519), ('midsentence', 5.084698333313519), ('two-thumbs-up', 5.084698333313519), ('mirthlessly', 5.084698333313519), ('silk-screened', 5.084698333313519), ('potrait', 5.084698333313519), ('wearubg', 5.084698333313519), ('partially-drunk', 5.084698333313519), ('well-cut', 5.084698333313519), ('gee', 5.084698333313519), ('socket', 5.084698333313519), ('semi-circular', 5.084698333313519), ('43rd', 5.084698333313519), ('leg-warmers', 5.084698333313519), ('trunks-', 5.084698333313519), ('seated-', 5.084698333313519), ('u.s.a.', 5.084698333313519), ('supermarkets', 5.084698333313519)]\n",
            "senior [('citizen', 12.54929270261863), ('citizens', 11.663654541421307), ('interviewing', 10.443421843603295), ('personal', 9.853066084111921), ('news', 8.505527345545522), ('jogging', 6.407049754213569), ('skateboarding', 6.155747605867775), ('elderly', 4.744892747695901), ('suit', 4.5208831286533115), ('home', 3.8549177435983317), ('couple', 3.467557778311302), ('old', 3.372148883413031), ('looks', 3.357151410918141), ('play', 3.284708832893464), ('another', 3.260896805381349), ('bench', 3.1541282293815485), ('group', 3.1101575926296348), ('park', 2.926460298683089), ('watching', 2.9133951760769548), ('person', 2.7393936137343444)]\n",
            "seniors [('people', 1.9497185108930495)]\n",
            "teenager [('reservoir', 11.055221879572837), ('graveled', 10.470259378851681), ('camouflaged', 9.294409543452263), ('screams', 8.754826946235116), ('adolescent', 8.569795052402595), ('partying', 8.067294711873412), ('teen', 7.9195410914297195), ('whose', 7.312257544785188), ('teenage', 6.872575637029145), ('teenagers', 6.471595826414496), ('shaking', 6.112794260020061), ('bandanna', 6.111983529433459), ('trumpet', 5.973743373019634), ('neck', 5.859796505836658), ('appear', 5.8392844803736885), ('walls', 5.755505063775633), ('skateboarding', 5.428008355000682), ('upside', 5.278240606558752), ('electric', 5.213546884331357), ('skate', 5.159678961667626)]\n",
            "teenagers [('fargo', 10.17709985880687), ('wells', 9.691673031636627), ('teens', 8.559781984773327), ('partying', 7.563568205888941), ('mini', 7.362891265708201), ('teenager', 6.471595826414496), ('pedestrian', 6.394691293879495), ('cameras', 6.247308861088271), ('electronic', 6.198904229125215), ('teenage', 5.430249675708818), ('bank', 5.392465013249347), ('4', 5.284708832893465), ('porch', 5.1831236464346375), ('enjoy', 4.56202202717764), ('skateboarding', 4.362402961408096), ('kicking', 4.2388140669228145), ('church', 4.0015752577169925), ('show', 3.8116062241038176), ('instruments', 3.778828705781549), ('school', 3.7545977237063077)]\n"
          ]
        }
      ]
    },
    {
      "cell_type": "code",
      "source": [
        "search_term = \"extravagant\"\n",
        "mask = snli_data_sub[\"sentence1\"].str.contains(search_term, case=False, na=False)\n",
        "pd.set_option('display.max_colwidth', 0)\n",
        "snli_data_sub[mask][[\"sentence1\",\"sentence2\"]]"
      ],
      "metadata": {
        "colab": {
          "base_uri": "https://localhost:8080/",
          "height": 1000
        },
        "id": "IUyIECAAjr5x",
        "outputId": "415d12ab-7fd3-463e-b6fa-062b60e68722"
      },
      "execution_count": null,
      "outputs": [
        {
          "output_type": "execute_result",
          "data": {
            "text/plain": [
              "                                                                                                         sentence1  \\\n",
              "20205   a indian women displaying her cultural heritage with painted red fingers and an extravagant head piece.      \n",
              "20206   a indian women displaying her cultural heritage with painted red fingers and an extravagant head piece.      \n",
              "20207   a indian women displaying her cultural heritage with painted red fingers and an extravagant head piece.      \n",
              "20208   a indian women displaying her cultural heritage with painted red fingers and an extravagant head piece.      \n",
              "20209   a indian women displaying her cultural heritage with painted red fingers and an extravagant head piece.      \n",
              "20210   a indian women displaying her cultural heritage with painted red fingers and an extravagant head piece.      \n",
              "20211   a indian women displaying her cultural heritage with painted red fingers and an extravagant head piece.      \n",
              "20212   a indian women displaying her cultural heritage with painted red fingers and an extravagant head piece.      \n",
              "20213   a indian women displaying her cultural heritage with painted red fingers and an extravagant head piece.      \n",
              "20214   a indian women displaying her cultural heritage with painted red fingers and an extravagant head piece.      \n",
              "20215   a indian women displaying her cultural heritage with painted red fingers and an extravagant head piece.      \n",
              "20216   a indian women displaying her cultural heritage with painted red fingers and an extravagant head piece.      \n",
              "20217   a indian women displaying her cultural heritage with painted red fingers and an extravagant head piece.      \n",
              "20218   a indian women displaying her cultural heritage with painted red fingers and an extravagant head piece.      \n",
              "20219   a indian women displaying her cultural heritage with painted red fingers and an extravagant head piece.      \n",
              "49056   a very happy singer in an extravagant outfit.                                                                \n",
              "49057   a very happy singer in an extravagant outfit.                                                                \n",
              "49058   a very happy singer in an extravagant outfit.                                                                \n",
              "68340   two well-dressed, elderly ladies wearing extravagant hats.                                                   \n",
              "68341   two well-dressed, elderly ladies wearing extravagant hats.                                                   \n",
              "68342   two well-dressed, elderly ladies wearing extravagant hats.                                                   \n",
              "80958   a woman taking off a large cloak revealing a extravagant dress                                               \n",
              "80959   a woman taking off a large cloak revealing a extravagant dress                                               \n",
              "80960   a woman taking off a large cloak revealing a extravagant dress                                               \n",
              "92013   a man enjoys some extravagant artwork.                                                                       \n",
              "92014   a man enjoys some extravagant artwork.                                                                       \n",
              "92015   a man enjoys some extravagant artwork.                                                                       \n",
              "242190  three people are doing ballet exercises in extravagant costumes.                                             \n",
              "242191  three people are doing ballet exercises in extravagant costumes.                                             \n",
              "242192  three people are doing ballet exercises in extravagant costumes.                                             \n",
              "422877  a room full of worshippers bows toward an extravagant display in the center of the crowd.                    \n",
              "422878  a room full of worshippers bows toward an extravagant display in the center of the crowd.                    \n",
              "422879  a room full of worshippers bows toward an extravagant display in the center of the crowd.                    \n",
              "477993  a man is placing jewelry on an extravagantly-haired and decorated female sculpture or stiffly-posed woman.   \n",
              "477994  a man is placing jewelry on an extravagantly-haired and decorated female sculpture or stiffly-posed woman.   \n",
              "477995  a man is placing jewelry on an extravagantly-haired and decorated female sculpture or stiffly-posed woman.   \n",
              "\n",
              "                                                                                                                           sentence2  \n",
              "20205   the woman is preparing for her wedding.                                                                                       \n",
              "20206   a woman dresses in western fashion, with unadorned fingers and head.                                                          \n",
              "20207   an indian lady is wearing a beautiful outfit.                                                                                 \n",
              "20208   an indian woman is wearing traditional styles.                                                                                \n",
              "20209   a woman shows off to a crowd of people.                                                                                       \n",
              "20210   a woman is ready for a national cultural celebration.                                                                         \n",
              "20211   a japanese woman is wearing a kimono.                                                                                         \n",
              "20212   a very colorfully robed female with fingers painted red, who's culture appears to be indian, has on an elaborate head piece.  \n",
              "20213   a woman is dressed in traditional, ethnic clothing.                                                                           \n",
              "20214   a woman wearing an old-fashioned apron holds an apple pie in her hands.                                                       \n",
              "20215   an exquisit head covering is being worn by a woman who is brightly colored.                                                   \n",
              "20216   a woman is outside the house looking drab and tired.                                                                          \n",
              "20217   a nun reads the bible.                                                                                                        \n",
              "20218   a woman sports red fingernails.                                                                                               \n",
              "20219   an indian woman is wearing cultural attire.                                                                                   \n",
              "49056   the singer is wearing crazy clothes to get people to notice her.                                                              \n",
              "49057   the person is in a happy mood.                                                                                                \n",
              "49058   the singer is dressed in a drab manner.                                                                                       \n",
              "68340   two people are wearing casual clothes.                                                                                        \n",
              "68341   two women are dressed nicely for church.                                                                                      \n",
              "68342   two older ladies are all dressed up.                                                                                          \n",
              "80958   female is revealing her gown that was hidden under her wrap.                                                                  \n",
              "80959   a woman is checking her coat at the formal gala event.                                                                        \n",
              "80960   a guy is putting on his overcoat.                                                                                             \n",
              "92013   a man is looking at some modern art.                                                                                          \n",
              "92014   a man is viewing art.                                                                                                         \n",
              "92015   a man is making art.                                                                                                          \n",
              "242190  the people are wearing clothes.                                                                                               \n",
              "242191  the people are all females.                                                                                                   \n",
              "242192  there is only one person wearing an extravagant costume.                                                                      \n",
              "422877  the faithful show reverence for a display                                                                                     \n",
              "422878  an angry mob wreck a display they deem as idolatry                                                                            \n",
              "422879  at an initiation ceremony, new converts pray                                                                                  \n",
              "477993  the sculptures are men dressed in pink.                                                                                       \n",
              "477994  the man is preparing for an exhibit.                                                                                          \n",
              "477995  a man is working with art pieces.                                                                                             "
            ],
            "text/html": [
              "\n",
              "  <div id=\"df-5949a073-925a-4cf6-ab8e-740c937b61b7\" class=\"colab-df-container\">\n",
              "    <div>\n",
              "<style scoped>\n",
              "    .dataframe tbody tr th:only-of-type {\n",
              "        vertical-align: middle;\n",
              "    }\n",
              "\n",
              "    .dataframe tbody tr th {\n",
              "        vertical-align: top;\n",
              "    }\n",
              "\n",
              "    .dataframe thead th {\n",
              "        text-align: right;\n",
              "    }\n",
              "</style>\n",
              "<table border=\"1\" class=\"dataframe\">\n",
              "  <thead>\n",
              "    <tr style=\"text-align: right;\">\n",
              "      <th></th>\n",
              "      <th>sentence1</th>\n",
              "      <th>sentence2</th>\n",
              "    </tr>\n",
              "  </thead>\n",
              "  <tbody>\n",
              "    <tr>\n",
              "      <th>20205</th>\n",
              "      <td>a indian women displaying her cultural heritage with painted red fingers and an extravagant head piece.</td>\n",
              "      <td>the woman is preparing for her wedding.</td>\n",
              "    </tr>\n",
              "    <tr>\n",
              "      <th>20206</th>\n",
              "      <td>a indian women displaying her cultural heritage with painted red fingers and an extravagant head piece.</td>\n",
              "      <td>a woman dresses in western fashion, with unadorned fingers and head.</td>\n",
              "    </tr>\n",
              "    <tr>\n",
              "      <th>20207</th>\n",
              "      <td>a indian women displaying her cultural heritage with painted red fingers and an extravagant head piece.</td>\n",
              "      <td>an indian lady is wearing a beautiful outfit.</td>\n",
              "    </tr>\n",
              "    <tr>\n",
              "      <th>20208</th>\n",
              "      <td>a indian women displaying her cultural heritage with painted red fingers and an extravagant head piece.</td>\n",
              "      <td>an indian woman is wearing traditional styles.</td>\n",
              "    </tr>\n",
              "    <tr>\n",
              "      <th>20209</th>\n",
              "      <td>a indian women displaying her cultural heritage with painted red fingers and an extravagant head piece.</td>\n",
              "      <td>a woman shows off to a crowd of people.</td>\n",
              "    </tr>\n",
              "    <tr>\n",
              "      <th>20210</th>\n",
              "      <td>a indian women displaying her cultural heritage with painted red fingers and an extravagant head piece.</td>\n",
              "      <td>a woman is ready for a national cultural celebration.</td>\n",
              "    </tr>\n",
              "    <tr>\n",
              "      <th>20211</th>\n",
              "      <td>a indian women displaying her cultural heritage with painted red fingers and an extravagant head piece.</td>\n",
              "      <td>a japanese woman is wearing a kimono.</td>\n",
              "    </tr>\n",
              "    <tr>\n",
              "      <th>20212</th>\n",
              "      <td>a indian women displaying her cultural heritage with painted red fingers and an extravagant head piece.</td>\n",
              "      <td>a very colorfully robed female with fingers painted red, who's culture appears to be indian, has on an elaborate head piece.</td>\n",
              "    </tr>\n",
              "    <tr>\n",
              "      <th>20213</th>\n",
              "      <td>a indian women displaying her cultural heritage with painted red fingers and an extravagant head piece.</td>\n",
              "      <td>a woman is dressed in traditional, ethnic clothing.</td>\n",
              "    </tr>\n",
              "    <tr>\n",
              "      <th>20214</th>\n",
              "      <td>a indian women displaying her cultural heritage with painted red fingers and an extravagant head piece.</td>\n",
              "      <td>a woman wearing an old-fashioned apron holds an apple pie in her hands.</td>\n",
              "    </tr>\n",
              "    <tr>\n",
              "      <th>20215</th>\n",
              "      <td>a indian women displaying her cultural heritage with painted red fingers and an extravagant head piece.</td>\n",
              "      <td>an exquisit head covering is being worn by a woman who is brightly colored.</td>\n",
              "    </tr>\n",
              "    <tr>\n",
              "      <th>20216</th>\n",
              "      <td>a indian women displaying her cultural heritage with painted red fingers and an extravagant head piece.</td>\n",
              "      <td>a woman is outside the house looking drab and tired.</td>\n",
              "    </tr>\n",
              "    <tr>\n",
              "      <th>20217</th>\n",
              "      <td>a indian women displaying her cultural heritage with painted red fingers and an extravagant head piece.</td>\n",
              "      <td>a nun reads the bible.</td>\n",
              "    </tr>\n",
              "    <tr>\n",
              "      <th>20218</th>\n",
              "      <td>a indian women displaying her cultural heritage with painted red fingers and an extravagant head piece.</td>\n",
              "      <td>a woman sports red fingernails.</td>\n",
              "    </tr>\n",
              "    <tr>\n",
              "      <th>20219</th>\n",
              "      <td>a indian women displaying her cultural heritage with painted red fingers and an extravagant head piece.</td>\n",
              "      <td>an indian woman is wearing cultural attire.</td>\n",
              "    </tr>\n",
              "    <tr>\n",
              "      <th>49056</th>\n",
              "      <td>a very happy singer in an extravagant outfit.</td>\n",
              "      <td>the singer is wearing crazy clothes to get people to notice her.</td>\n",
              "    </tr>\n",
              "    <tr>\n",
              "      <th>49057</th>\n",
              "      <td>a very happy singer in an extravagant outfit.</td>\n",
              "      <td>the person is in a happy mood.</td>\n",
              "    </tr>\n",
              "    <tr>\n",
              "      <th>49058</th>\n",
              "      <td>a very happy singer in an extravagant outfit.</td>\n",
              "      <td>the singer is dressed in a drab manner.</td>\n",
              "    </tr>\n",
              "    <tr>\n",
              "      <th>68340</th>\n",
              "      <td>two well-dressed, elderly ladies wearing extravagant hats.</td>\n",
              "      <td>two people are wearing casual clothes.</td>\n",
              "    </tr>\n",
              "    <tr>\n",
              "      <th>68341</th>\n",
              "      <td>two well-dressed, elderly ladies wearing extravagant hats.</td>\n",
              "      <td>two women are dressed nicely for church.</td>\n",
              "    </tr>\n",
              "    <tr>\n",
              "      <th>68342</th>\n",
              "      <td>two well-dressed, elderly ladies wearing extravagant hats.</td>\n",
              "      <td>two older ladies are all dressed up.</td>\n",
              "    </tr>\n",
              "    <tr>\n",
              "      <th>80958</th>\n",
              "      <td>a woman taking off a large cloak revealing a extravagant dress</td>\n",
              "      <td>female is revealing her gown that was hidden under her wrap.</td>\n",
              "    </tr>\n",
              "    <tr>\n",
              "      <th>80959</th>\n",
              "      <td>a woman taking off a large cloak revealing a extravagant dress</td>\n",
              "      <td>a woman is checking her coat at the formal gala event.</td>\n",
              "    </tr>\n",
              "    <tr>\n",
              "      <th>80960</th>\n",
              "      <td>a woman taking off a large cloak revealing a extravagant dress</td>\n",
              "      <td>a guy is putting on his overcoat.</td>\n",
              "    </tr>\n",
              "    <tr>\n",
              "      <th>92013</th>\n",
              "      <td>a man enjoys some extravagant artwork.</td>\n",
              "      <td>a man is looking at some modern art.</td>\n",
              "    </tr>\n",
              "    <tr>\n",
              "      <th>92014</th>\n",
              "      <td>a man enjoys some extravagant artwork.</td>\n",
              "      <td>a man is viewing art.</td>\n",
              "    </tr>\n",
              "    <tr>\n",
              "      <th>92015</th>\n",
              "      <td>a man enjoys some extravagant artwork.</td>\n",
              "      <td>a man is making art.</td>\n",
              "    </tr>\n",
              "    <tr>\n",
              "      <th>242190</th>\n",
              "      <td>three people are doing ballet exercises in extravagant costumes.</td>\n",
              "      <td>the people are wearing clothes.</td>\n",
              "    </tr>\n",
              "    <tr>\n",
              "      <th>242191</th>\n",
              "      <td>three people are doing ballet exercises in extravagant costumes.</td>\n",
              "      <td>the people are all females.</td>\n",
              "    </tr>\n",
              "    <tr>\n",
              "      <th>242192</th>\n",
              "      <td>three people are doing ballet exercises in extravagant costumes.</td>\n",
              "      <td>there is only one person wearing an extravagant costume.</td>\n",
              "    </tr>\n",
              "    <tr>\n",
              "      <th>422877</th>\n",
              "      <td>a room full of worshippers bows toward an extravagant display in the center of the crowd.</td>\n",
              "      <td>the faithful show reverence for a display</td>\n",
              "    </tr>\n",
              "    <tr>\n",
              "      <th>422878</th>\n",
              "      <td>a room full of worshippers bows toward an extravagant display in the center of the crowd.</td>\n",
              "      <td>an angry mob wreck a display they deem as idolatry</td>\n",
              "    </tr>\n",
              "    <tr>\n",
              "      <th>422879</th>\n",
              "      <td>a room full of worshippers bows toward an extravagant display in the center of the crowd.</td>\n",
              "      <td>at an initiation ceremony, new converts pray</td>\n",
              "    </tr>\n",
              "    <tr>\n",
              "      <th>477993</th>\n",
              "      <td>a man is placing jewelry on an extravagantly-haired and decorated female sculpture or stiffly-posed woman.</td>\n",
              "      <td>the sculptures are men dressed in pink.</td>\n",
              "    </tr>\n",
              "    <tr>\n",
              "      <th>477994</th>\n",
              "      <td>a man is placing jewelry on an extravagantly-haired and decorated female sculpture or stiffly-posed woman.</td>\n",
              "      <td>the man is preparing for an exhibit.</td>\n",
              "    </tr>\n",
              "    <tr>\n",
              "      <th>477995</th>\n",
              "      <td>a man is placing jewelry on an extravagantly-haired and decorated female sculpture or stiffly-posed woman.</td>\n",
              "      <td>a man is working with art pieces.</td>\n",
              "    </tr>\n",
              "  </tbody>\n",
              "</table>\n",
              "</div>\n",
              "    <div class=\"colab-df-buttons\">\n",
              "\n",
              "  <div class=\"colab-df-container\">\n",
              "    <button class=\"colab-df-convert\" onclick=\"convertToInteractive('df-5949a073-925a-4cf6-ab8e-740c937b61b7')\"\n",
              "            title=\"Convert this dataframe to an interactive table.\"\n",
              "            style=\"display:none;\">\n",
              "\n",
              "  <svg xmlns=\"http://www.w3.org/2000/svg\" height=\"24px\" viewBox=\"0 -960 960 960\">\n",
              "    <path d=\"M120-120v-720h720v720H120Zm60-500h600v-160H180v160Zm220 220h160v-160H400v160Zm0 220h160v-160H400v160ZM180-400h160v-160H180v160Zm440 0h160v-160H620v160ZM180-180h160v-160H180v160Zm440 0h160v-160H620v160Z\"/>\n",
              "  </svg>\n",
              "    </button>\n",
              "\n",
              "  <style>\n",
              "    .colab-df-container {\n",
              "      display:flex;\n",
              "      gap: 12px;\n",
              "    }\n",
              "\n",
              "    .colab-df-convert {\n",
              "      background-color: #E8F0FE;\n",
              "      border: none;\n",
              "      border-radius: 50%;\n",
              "      cursor: pointer;\n",
              "      display: none;\n",
              "      fill: #1967D2;\n",
              "      height: 32px;\n",
              "      padding: 0 0 0 0;\n",
              "      width: 32px;\n",
              "    }\n",
              "\n",
              "    .colab-df-convert:hover {\n",
              "      background-color: #E2EBFA;\n",
              "      box-shadow: 0px 1px 2px rgba(60, 64, 67, 0.3), 0px 1px 3px 1px rgba(60, 64, 67, 0.15);\n",
              "      fill: #174EA6;\n",
              "    }\n",
              "\n",
              "    .colab-df-buttons div {\n",
              "      margin-bottom: 4px;\n",
              "    }\n",
              "\n",
              "    [theme=dark] .colab-df-convert {\n",
              "      background-color: #3B4455;\n",
              "      fill: #D2E3FC;\n",
              "    }\n",
              "\n",
              "    [theme=dark] .colab-df-convert:hover {\n",
              "      background-color: #434B5C;\n",
              "      box-shadow: 0px 1px 3px 1px rgba(0, 0, 0, 0.15);\n",
              "      filter: drop-shadow(0px 1px 2px rgba(0, 0, 0, 0.3));\n",
              "      fill: #FFFFFF;\n",
              "    }\n",
              "  </style>\n",
              "\n",
              "    <script>\n",
              "      const buttonEl =\n",
              "        document.querySelector('#df-5949a073-925a-4cf6-ab8e-740c937b61b7 button.colab-df-convert');\n",
              "      buttonEl.style.display =\n",
              "        google.colab.kernel.accessAllowed ? 'block' : 'none';\n",
              "\n",
              "      async function convertToInteractive(key) {\n",
              "        const element = document.querySelector('#df-5949a073-925a-4cf6-ab8e-740c937b61b7');\n",
              "        const dataTable =\n",
              "          await google.colab.kernel.invokeFunction('convertToInteractive',\n",
              "                                                    [key], {});\n",
              "        if (!dataTable) return;\n",
              "\n",
              "        const docLinkHtml = 'Like what you see? Visit the ' +\n",
              "          '<a target=\"_blank\" href=https://colab.research.google.com/notebooks/data_table.ipynb>data table notebook</a>'\n",
              "          + ' to learn more about interactive tables.';\n",
              "        element.innerHTML = '';\n",
              "        dataTable['output_type'] = 'display_data';\n",
              "        await google.colab.output.renderOutput(dataTable, element);\n",
              "        const docLink = document.createElement('div');\n",
              "        docLink.innerHTML = docLinkHtml;\n",
              "        element.appendChild(docLink);\n",
              "      }\n",
              "    </script>\n",
              "  </div>\n",
              "\n",
              "\n",
              "<div id=\"df-f38a51dc-640d-4d7c-b9a4-13171761e94d\">\n",
              "  <button class=\"colab-df-quickchart\" onclick=\"quickchart('df-f38a51dc-640d-4d7c-b9a4-13171761e94d')\"\n",
              "            title=\"Suggest charts\"\n",
              "            style=\"display:none;\">\n",
              "\n",
              "<svg xmlns=\"http://www.w3.org/2000/svg\" height=\"24px\"viewBox=\"0 0 24 24\"\n",
              "     width=\"24px\">\n",
              "    <g>\n",
              "        <path d=\"M19 3H5c-1.1 0-2 .9-2 2v14c0 1.1.9 2 2 2h14c1.1 0 2-.9 2-2V5c0-1.1-.9-2-2-2zM9 17H7v-7h2v7zm4 0h-2V7h2v10zm4 0h-2v-4h2v4z\"/>\n",
              "    </g>\n",
              "</svg>\n",
              "  </button>\n",
              "\n",
              "<style>\n",
              "  .colab-df-quickchart {\n",
              "      --bg-color: #E8F0FE;\n",
              "      --fill-color: #1967D2;\n",
              "      --hover-bg-color: #E2EBFA;\n",
              "      --hover-fill-color: #174EA6;\n",
              "      --disabled-fill-color: #AAA;\n",
              "      --disabled-bg-color: #DDD;\n",
              "  }\n",
              "\n",
              "  [theme=dark] .colab-df-quickchart {\n",
              "      --bg-color: #3B4455;\n",
              "      --fill-color: #D2E3FC;\n",
              "      --hover-bg-color: #434B5C;\n",
              "      --hover-fill-color: #FFFFFF;\n",
              "      --disabled-bg-color: #3B4455;\n",
              "      --disabled-fill-color: #666;\n",
              "  }\n",
              "\n",
              "  .colab-df-quickchart {\n",
              "    background-color: var(--bg-color);\n",
              "    border: none;\n",
              "    border-radius: 50%;\n",
              "    cursor: pointer;\n",
              "    display: none;\n",
              "    fill: var(--fill-color);\n",
              "    height: 32px;\n",
              "    padding: 0;\n",
              "    width: 32px;\n",
              "  }\n",
              "\n",
              "  .colab-df-quickchart:hover {\n",
              "    background-color: var(--hover-bg-color);\n",
              "    box-shadow: 0 1px 2px rgba(60, 64, 67, 0.3), 0 1px 3px 1px rgba(60, 64, 67, 0.15);\n",
              "    fill: var(--button-hover-fill-color);\n",
              "  }\n",
              "\n",
              "  .colab-df-quickchart-complete:disabled,\n",
              "  .colab-df-quickchart-complete:disabled:hover {\n",
              "    background-color: var(--disabled-bg-color);\n",
              "    fill: var(--disabled-fill-color);\n",
              "    box-shadow: none;\n",
              "  }\n",
              "\n",
              "  .colab-df-spinner {\n",
              "    border: 2px solid var(--fill-color);\n",
              "    border-color: transparent;\n",
              "    border-bottom-color: var(--fill-color);\n",
              "    animation:\n",
              "      spin 1s steps(1) infinite;\n",
              "  }\n",
              "\n",
              "  @keyframes spin {\n",
              "    0% {\n",
              "      border-color: transparent;\n",
              "      border-bottom-color: var(--fill-color);\n",
              "      border-left-color: var(--fill-color);\n",
              "    }\n",
              "    20% {\n",
              "      border-color: transparent;\n",
              "      border-left-color: var(--fill-color);\n",
              "      border-top-color: var(--fill-color);\n",
              "    }\n",
              "    30% {\n",
              "      border-color: transparent;\n",
              "      border-left-color: var(--fill-color);\n",
              "      border-top-color: var(--fill-color);\n",
              "      border-right-color: var(--fill-color);\n",
              "    }\n",
              "    40% {\n",
              "      border-color: transparent;\n",
              "      border-right-color: var(--fill-color);\n",
              "      border-top-color: var(--fill-color);\n",
              "    }\n",
              "    60% {\n",
              "      border-color: transparent;\n",
              "      border-right-color: var(--fill-color);\n",
              "    }\n",
              "    80% {\n",
              "      border-color: transparent;\n",
              "      border-right-color: var(--fill-color);\n",
              "      border-bottom-color: var(--fill-color);\n",
              "    }\n",
              "    90% {\n",
              "      border-color: transparent;\n",
              "      border-bottom-color: var(--fill-color);\n",
              "    }\n",
              "  }\n",
              "</style>\n",
              "\n",
              "  <script>\n",
              "    async function quickchart(key) {\n",
              "      const quickchartButtonEl =\n",
              "        document.querySelector('#' + key + ' button');\n",
              "      quickchartButtonEl.disabled = true;  // To prevent multiple clicks.\n",
              "      quickchartButtonEl.classList.add('colab-df-spinner');\n",
              "      try {\n",
              "        const charts = await google.colab.kernel.invokeFunction(\n",
              "            'suggestCharts', [key], {});\n",
              "      } catch (error) {\n",
              "        console.error('Error during call to suggestCharts:', error);\n",
              "      }\n",
              "      quickchartButtonEl.classList.remove('colab-df-spinner');\n",
              "      quickchartButtonEl.classList.add('colab-df-quickchart-complete');\n",
              "    }\n",
              "    (() => {\n",
              "      let quickchartButtonEl =\n",
              "        document.querySelector('#df-f38a51dc-640d-4d7c-b9a4-13171761e94d button');\n",
              "      quickchartButtonEl.style.display =\n",
              "        google.colab.kernel.accessAllowed ? 'block' : 'none';\n",
              "    })();\n",
              "  </script>\n",
              "</div>\n",
              "\n",
              "    </div>\n",
              "  </div>\n"
            ],
            "application/vnd.google.colaboratory.intrinsic+json": {
              "type": "dataframe",
              "summary": "{\n  \"name\": \"snli_data_sub[mask][[\\\"sentence1\\\",\\\"sentence2\\\"]]\",\n  \"rows\": 36,\n  \"fields\": [\n    {\n      \"column\": \"sentence1\",\n      \"properties\": {\n        \"dtype\": \"category\",\n        \"num_unique_values\": 8,\n        \"samples\": [\n          \"a very happy singer in an extravagant outfit.\",\n          \"three people are doing ballet exercises in extravagant costumes.\",\n          \"a indian women displaying her cultural heritage with painted red fingers and an extravagant head piece.\"\n        ],\n        \"semantic_type\": \"\",\n        \"description\": \"\"\n      }\n    },\n    {\n      \"column\": \"sentence2\",\n      \"properties\": {\n        \"dtype\": \"string\",\n        \"num_unique_values\": 36,\n        \"samples\": [\n          \"a man is working with art pieces.\",\n          \"a woman sports red fingernails.\",\n          \"a man is making art.\"\n        ],\n        \"semantic_type\": \"\",\n        \"description\": \"\"\n      }\n    }\n  ]\n}"
            }
          },
          "metadata": {},
          "execution_count": 27
        }
      ]
    }
  ],
  "metadata": {
    "colab": {
      "provenance": []
    },
    "kernelspec": {
      "display_name": "Python 3",
      "name": "python3"
    },
    "language_info": {
      "name": "python"
    }
  },
  "nbformat": 4,
  "nbformat_minor": 0
}
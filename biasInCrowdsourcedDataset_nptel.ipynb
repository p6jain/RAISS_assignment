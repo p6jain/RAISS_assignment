{
  "cells": [
    {
      "cell_type": "markdown",
      "metadata": {
        "id": "FzjOxYC9R39L"
      },
      "source": [
        "**Goals**\n",
        "\n",
        "Crowdsourcing annotations has become a fundamental aspect of NLP research. The goal of this hands-on exercise is to explore the ethical implications of soliciting crowdsourced data, specifically social biases that may emerge when asking for generated sentences.\n",
        "\n",
        "**Overview**\n",
        "\n",
        "In this exercise, you will perform a “bias audit” of an NLP dataset produced by crowdsourcing. You will attempt to measure the presence of social stereotypes in this dataset that may have harmful effects if used to train classifiers in downstream tasks.\n",
        "\n",
        "We will use pointwise mutual information (PMI) to find which associations are being made with identity labels. PMI can be used as a measure of word association in a corpus, i.e. how frequently two words co-occur above what might just be expected based on their frequencies.\n",
        "\n",
        "See the [PMI Wikipedia page](https://en.wikipedia.org/wiki/Pointwise_mutual_information) for more details. Here we use PMI to measure which words co-occur with labels for identities. This allows us to see associations that may perpetuate stereotypes.\n",
        "\n",
        "After this analysis, you will present specific examples from the data that you speculate could be particularly biased and problematic.\n",
        "\n",
        "*Assignment design credits:* [11-830 Computational Ethics in NLP Course](https://maartensap.com/11830/Spring2024/hw1.html)"
      ]
    },
    {
      "cell_type": "markdown",
      "metadata": {
        "id": "hHOWZ5v4T1Fh"
      },
      "source": [
        "**Load and prepare dataset**"
      ]
    },
    {
      "cell_type": "code",
      "execution_count": 1,
      "metadata": {
        "colab": {
          "base_uri": "https://localhost:8080/"
        },
        "id": "9vRRv_ldU2J4",
        "outputId": "1eb2337d-ddec-496f-c894-47631b10d219"
      },
      "outputs": [
        {
          "name": "stdout",
          "output_type": "stream",
          "text": [
            "['woman', 'women', 'man', 'men', 'girl', 'girls', 'boy', 'boys', 'she', 'he', 'her', 'him', 'his', 'female', 'male', 'mother', 'father', 'sister', 'brother', 'daughter', 'son', 'feminine', 'masculine', 'androgynous', 'trans', 'transgender', 'transsexual', 'nonbinary', 'non-binary', 'two-spirit', 'hijra', 'genderqueer', 'black', 'asian', 'hispanic', 'white', 'african', 'american', 'latino', 'latina', 'caucasian', 'africans', 'middle-eastern', 'australian', 'australians', 'asians', 'european', 'europeans', 'chinese', 'indian', 'indonesian', 'brazilian', 'pakistani', 'bangladeshi', 'russian', 'nigerian', 'japanese', 'mexican', 'filipino ', 'vietnamese ', 'german', 'egyptian', 'ethiopian', 'turkish', 'iranian', 'thai', 'congolese', 'french', 'british ', 'italian', 'korean', 'burmese', 'canadian ', 'australian ', 'spanish', 'dutch', 'swiss', 'saudi', 'argentinian ', 'taiwanese ', 'swedish ', 'belgian', 'polish', 'israeli', 'irish', 'greek', 'ukrainian ', 'jamaican ', 'mongolian', 'armenian', 'disability', 'disabled', 'handicap', 'handicapped', 'mentally', 'mental', 'autistic', 'autism', 'lesbian', 'lesbians', 'gay', 'bisexual', 'pansexual', 'asexual', 'queer', 'straight', 'muslim', 'christian', 'jew', 'jewish', 'sikh', 'buddhist', 'hindu', 'atheist', 'muslims', 'christians', 'jews', 'sikhs', 'buddhists', 'hindus', 'atheists', 'old', 'elderly', 'retired', 'teenage', 'young', 'senior', 'seniors', 'teenager', 'teenagers', '']\n"
          ]
        }
      ],
      "source": [
        "#List of identity labels (based on Rudinger et al. 2017)\n",
        "#More comprehensive list can be obtained from Jain et al. 2024\n",
        "with open(\"ss-data/identity_labels.txt\", 'r') as f:\n",
        "    identity_labels = f.read().split(\"\\n\")\n",
        "print(identity_labels)"
      ]
    },
    {
      "cell_type": "code",
      "execution_count": 2,
      "metadata": {
        "colab": {
          "base_uri": "https://localhost:8080/",
          "height": 1000
        },
        "collapsed": true,
        "id": "XWD9q-oQQ1ZI",
        "outputId": "967a4367-6475-4314-c689-87b74229e247"
      },
      "outputs": [
        {
          "data": {
            "text/html": [
              "<div>\n",
              "<style scoped>\n",
              "    .dataframe tbody tr th:only-of-type {\n",
              "        vertical-align: middle;\n",
              "    }\n",
              "\n",
              "    .dataframe tbody tr th {\n",
              "        vertical-align: top;\n",
              "    }\n",
              "\n",
              "    .dataframe thead th {\n",
              "        text-align: right;\n",
              "    }\n",
              "</style>\n",
              "<table border=\"1\" class=\"dataframe\">\n",
              "  <thead>\n",
              "    <tr style=\"text-align: right;\">\n",
              "      <th></th>\n",
              "      <th>annotator_labels</th>\n",
              "      <th>captionID</th>\n",
              "      <th>gold_label</th>\n",
              "      <th>pairID</th>\n",
              "      <th>sentence1</th>\n",
              "      <th>sentence1_binary_parse</th>\n",
              "      <th>sentence1_parse</th>\n",
              "      <th>sentence2</th>\n",
              "      <th>sentence2_binary_parse</th>\n",
              "      <th>sentence2_parse</th>\n",
              "    </tr>\n",
              "  </thead>\n",
              "  <tbody>\n",
              "    <tr>\n",
              "      <th>0</th>\n",
              "      <td>[neutral]</td>\n",
              "      <td>3416050480.jpg#4</td>\n",
              "      <td>neutral</td>\n",
              "      <td>3416050480.jpg#4r1n</td>\n",
              "      <td>A person on a horse jumps over a broken down airplane.</td>\n",
              "      <td>( ( ( A person ) ( on ( a horse ) ) ) ( ( jumps ( over ( a ( broken ( down airplane ) ) ) ) ) . ) )</td>\n",
              "      <td>(ROOT (S (NP (NP (DT A) (NN person)) (PP (IN on) (NP (DT a) (NN horse)))) (VP (VBZ jumps) (PP (IN over) (NP (DT a) (JJ broken) (JJ down) (NN airplane)))) (. .)))</td>\n",
              "      <td>A person is training his horse for a competition.</td>\n",
              "      <td>( ( A person ) ( ( is ( ( training ( his horse ) ) ( for ( a competition ) ) ) ) . ) )</td>\n",
              "      <td>(ROOT (S (NP (DT A) (NN person)) (VP (VBZ is) (VP (VBG training) (NP (PRP$ his) (NN horse)) (PP (IN for) (NP (DT a) (NN competition))))) (. .)))</td>\n",
              "    </tr>\n",
              "    <tr>\n",
              "      <th>1</th>\n",
              "      <td>[contradiction]</td>\n",
              "      <td>3416050480.jpg#4</td>\n",
              "      <td>contradiction</td>\n",
              "      <td>3416050480.jpg#4r1c</td>\n",
              "      <td>A person on a horse jumps over a broken down airplane.</td>\n",
              "      <td>( ( ( A person ) ( on ( a horse ) ) ) ( ( jumps ( over ( a ( broken ( down airplane ) ) ) ) ) . ) )</td>\n",
              "      <td>(ROOT (S (NP (NP (DT A) (NN person)) (PP (IN on) (NP (DT a) (NN horse)))) (VP (VBZ jumps) (PP (IN over) (NP (DT a) (JJ broken) (JJ down) (NN airplane)))) (. .)))</td>\n",
              "      <td>A person is at a diner, ordering an omelette.</td>\n",
              "      <td>( ( A person ) ( ( ( ( is ( at ( a diner ) ) ) , ) ( ordering ( an omelette ) ) ) . ) )</td>\n",
              "      <td>(ROOT (S (NP (DT A) (NN person)) (VP (VBZ is) (PP (IN at) (NP (DT a) (NN diner))) (, ,) (S (VP (VBG ordering) (NP (DT an) (NN omelette))))) (. .)))</td>\n",
              "    </tr>\n",
              "    <tr>\n",
              "      <th>2</th>\n",
              "      <td>[entailment]</td>\n",
              "      <td>3416050480.jpg#4</td>\n",
              "      <td>entailment</td>\n",
              "      <td>3416050480.jpg#4r1e</td>\n",
              "      <td>A person on a horse jumps over a broken down airplane.</td>\n",
              "      <td>( ( ( A person ) ( on ( a horse ) ) ) ( ( jumps ( over ( a ( broken ( down airplane ) ) ) ) ) . ) )</td>\n",
              "      <td>(ROOT (S (NP (NP (DT A) (NN person)) (PP (IN on) (NP (DT a) (NN horse)))) (VP (VBZ jumps) (PP (IN over) (NP (DT a) (JJ broken) (JJ down) (NN airplane)))) (. .)))</td>\n",
              "      <td>A person is outdoors, on a horse.</td>\n",
              "      <td>( ( A person ) ( ( ( ( is outdoors ) , ) ( on ( a horse ) ) ) . ) )</td>\n",
              "      <td>(ROOT (S (NP (DT A) (NN person)) (VP (VBZ is) (ADVP (RB outdoors)) (, ,) (PP (IN on) (NP (DT a) (NN horse)))) (. .)))</td>\n",
              "    </tr>\n",
              "    <tr>\n",
              "      <th>3</th>\n",
              "      <td>[neutral]</td>\n",
              "      <td>2267923837.jpg#2</td>\n",
              "      <td>neutral</td>\n",
              "      <td>2267923837.jpg#2r1n</td>\n",
              "      <td>Children smiling and waving at camera</td>\n",
              "      <td>( Children ( ( ( smiling and ) waving ) ( at camera ) ) )</td>\n",
              "      <td>(ROOT (NP (S (NP (NNP Children)) (VP (VBG smiling) (CC and) (VBG waving) (PP (IN at) (NP (NN camera)))))))</td>\n",
              "      <td>They are smiling at their parents</td>\n",
              "      <td>( They ( are ( smiling ( at ( their parents ) ) ) ) )</td>\n",
              "      <td>(ROOT (S (NP (PRP They)) (VP (VBP are) (VP (VBG smiling) (PP (IN at) (NP (PRP$ their) (NNS parents)))))))</td>\n",
              "    </tr>\n",
              "    <tr>\n",
              "      <th>4</th>\n",
              "      <td>[entailment]</td>\n",
              "      <td>2267923837.jpg#2</td>\n",
              "      <td>entailment</td>\n",
              "      <td>2267923837.jpg#2r1e</td>\n",
              "      <td>Children smiling and waving at camera</td>\n",
              "      <td>( Children ( ( ( smiling and ) waving ) ( at camera ) ) )</td>\n",
              "      <td>(ROOT (NP (S (NP (NNP Children)) (VP (VBG smiling) (CC and) (VBG waving) (PP (IN at) (NP (NN camera)))))))</td>\n",
              "      <td>There are children present</td>\n",
              "      <td>( There ( ( are children ) present ) )</td>\n",
              "      <td>(ROOT (S (NP (EX There)) (VP (VBP are) (NP (NNS children)) (ADVP (RB present)))))</td>\n",
              "    </tr>\n",
              "    <tr>\n",
              "      <th>...</th>\n",
              "      <td>...</td>\n",
              "      <td>...</td>\n",
              "      <td>...</td>\n",
              "      <td>...</td>\n",
              "      <td>...</td>\n",
              "      <td>...</td>\n",
              "      <td>...</td>\n",
              "      <td>...</td>\n",
              "      <td>...</td>\n",
              "      <td>...</td>\n",
              "    </tr>\n",
              "    <tr>\n",
              "      <th>550147</th>\n",
              "      <td>[contradiction]</td>\n",
              "      <td>2267923837.jpg#3</td>\n",
              "      <td>contradiction</td>\n",
              "      <td>2267923837.jpg#3r1c</td>\n",
              "      <td>Four dirty and barefooted children.</td>\n",
              "      <td>( ( ( ( Four dirty ) and ) ( barefooted children ) ) . )</td>\n",
              "      <td>(ROOT (NP (NP (CD Four) (NNS dirty)) (CC and) (NP (VBN barefooted) (NNS children)) (. .)))</td>\n",
              "      <td>four kids won awards for 'cleanest feet'</td>\n",
              "      <td>( ( four kids ) ( ( won awards ) ( ( ( for ` ) ( cleanest feet ) ) ' ) ) )</td>\n",
              "      <td>(ROOT (S (NP (CD four) (NNS kids)) (VP (VBD won) (NP (NNS awards)) (PP (IN for) (`` `) (NP (JJ cleanest) (NNS feet)) ('' ')))))</td>\n",
              "    </tr>\n",
              "    <tr>\n",
              "      <th>550148</th>\n",
              "      <td>[neutral]</td>\n",
              "      <td>2267923837.jpg#3</td>\n",
              "      <td>neutral</td>\n",
              "      <td>2267923837.jpg#3r1n</td>\n",
              "      <td>Four dirty and barefooted children.</td>\n",
              "      <td>( ( ( ( Four dirty ) and ) ( barefooted children ) ) . )</td>\n",
              "      <td>(ROOT (NP (NP (CD Four) (NNS dirty)) (CC and) (NP (VBN barefooted) (NNS children)) (. .)))</td>\n",
              "      <td>four homeless children had their shoes stolen, so their feet are dirty.</td>\n",
              "      <td>( ( ( ( ( ( four ( homeless children ) ) ( had ( ( their shoes ) stolen ) ) ) , ) so ) ( ( their feet ) ( are dirty ) ) ) . )</td>\n",
              "      <td>(ROOT (S (S (NP (CD four) (JJ homeless) (NNS children)) (VP (VBD had) (NP (NP (PRP$ their) (NNS shoes)) (VP (VBN stolen))))) (, ,) (IN so) (S (NP (PRP$ their) (NNS feet)) (VP (VBP are) (ADJP (JJ dirty)))) (. .)))</td>\n",
              "    </tr>\n",
              "    <tr>\n",
              "      <th>550149</th>\n",
              "      <td>[neutral]</td>\n",
              "      <td>7979219683.jpg#2</td>\n",
              "      <td>neutral</td>\n",
              "      <td>7979219683.jpg#2r1n</td>\n",
              "      <td>A man is surfing in a bodysuit in beautiful blue water.</td>\n",
              "      <td>( ( A man ) ( ( is ( surfing ( in ( ( a bodysuit ) ( in ( beautiful ( blue water ) ) ) ) ) ) ) . ) )</td>\n",
              "      <td>(ROOT (S (NP (DT A) (NN man)) (VP (VBZ is) (VP (VBG surfing) (PP (IN in) (NP (NP (DT a) (NN bodysuit)) (PP (IN in) (NP (JJ beautiful) (JJ blue) (NN water))))))) (. .)))</td>\n",
              "      <td>A man in a bodysuit is competing in a surfing competition.</td>\n",
              "      <td>( ( ( A man ) ( in ( a bodysuit ) ) ) ( ( is ( competing ( in ( a ( surfing competition ) ) ) ) ) . ) )</td>\n",
              "      <td>(ROOT (S (NP (NP (DT A) (NN man)) (PP (IN in) (NP (DT a) (NN bodysuit)))) (VP (VBZ is) (VP (VBG competing) (PP (IN in) (NP (DT a) (VBG surfing) (NN competition))))) (. .)))</td>\n",
              "    </tr>\n",
              "    <tr>\n",
              "      <th>550150</th>\n",
              "      <td>[contradiction]</td>\n",
              "      <td>7979219683.jpg#2</td>\n",
              "      <td>contradiction</td>\n",
              "      <td>7979219683.jpg#2r1c</td>\n",
              "      <td>A man is surfing in a bodysuit in beautiful blue water.</td>\n",
              "      <td>( ( A man ) ( ( is ( surfing ( in ( ( a bodysuit ) ( in ( beautiful ( blue water ) ) ) ) ) ) ) . ) )</td>\n",
              "      <td>(ROOT (S (NP (DT A) (NN man)) (VP (VBZ is) (VP (VBG surfing) (PP (IN in) (NP (NP (DT a) (NN bodysuit)) (PP (IN in) (NP (JJ beautiful) (JJ blue) (NN water))))))) (. .)))</td>\n",
              "      <td>A man in a business suit is heading to a board meeting.</td>\n",
              "      <td>( ( ( A man ) ( in ( a ( business suit ) ) ) ) ( ( is ( heading ( to ( a ( board meeting ) ) ) ) ) . ) )</td>\n",
              "      <td>(ROOT (S (NP (NP (DT A) (NN man)) (PP (IN in) (NP (DT a) (NN business) (NN suit)))) (VP (VBZ is) (VP (VBG heading) (PP (TO to) (NP (DT a) (NN board) (NN meeting))))) (. .)))</td>\n",
              "    </tr>\n",
              "    <tr>\n",
              "      <th>550151</th>\n",
              "      <td>[entailment]</td>\n",
              "      <td>7979219683.jpg#2</td>\n",
              "      <td>entailment</td>\n",
              "      <td>7979219683.jpg#2r1e</td>\n",
              "      <td>A man is surfing in a bodysuit in beautiful blue water.</td>\n",
              "      <td>( ( A man ) ( ( is ( surfing ( in ( ( a bodysuit ) ( in ( beautiful ( blue water ) ) ) ) ) ) ) . ) )</td>\n",
              "      <td>(ROOT (S (NP (DT A) (NN man)) (VP (VBZ is) (VP (VBG surfing) (PP (IN in) (NP (NP (DT a) (NN bodysuit)) (PP (IN in) (NP (JJ beautiful) (JJ blue) (NN water))))))) (. .)))</td>\n",
              "      <td>On the beautiful blue water there is a man in a bodysuit surfing.</td>\n",
              "      <td>( ( On ( the ( beautiful ( blue water ) ) ) ) ( there ( ( is ( ( a man ) ( in ( a ( bodysuit surfing ) ) ) ) ) . ) ) )</td>\n",
              "      <td>(ROOT (S (PP (IN On) (NP (DT the) (JJ beautiful) (JJ blue) (NN water))) (NP (EX there)) (VP (VBZ is) (NP (NP (DT a) (NN man)) (PP (IN in) (NP (DT a) (JJ bodysuit) (NN surfing))))) (. .)))</td>\n",
              "    </tr>\n",
              "  </tbody>\n",
              "</table>\n",
              "<p>550152 rows × 10 columns</p>\n",
              "</div>"
            ],
            "text/plain": [
              "       annotator_labels         captionID     gold_label               pairID  \\\n",
              "0       [neutral]        3416050480.jpg#4  neutral        3416050480.jpg#4r1n   \n",
              "1       [contradiction]  3416050480.jpg#4  contradiction  3416050480.jpg#4r1c   \n",
              "2       [entailment]     3416050480.jpg#4  entailment     3416050480.jpg#4r1e   \n",
              "3       [neutral]        2267923837.jpg#2  neutral        2267923837.jpg#2r1n   \n",
              "4       [entailment]     2267923837.jpg#2  entailment     2267923837.jpg#2r1e   \n",
              "...              ...                  ...         ...                     ...   \n",
              "550147  [contradiction]  2267923837.jpg#3  contradiction  2267923837.jpg#3r1c   \n",
              "550148  [neutral]        2267923837.jpg#3  neutral        2267923837.jpg#3r1n   \n",
              "550149  [neutral]        7979219683.jpg#2  neutral        7979219683.jpg#2r1n   \n",
              "550150  [contradiction]  7979219683.jpg#2  contradiction  7979219683.jpg#2r1c   \n",
              "550151  [entailment]     7979219683.jpg#2  entailment     7979219683.jpg#2r1e   \n",
              "\n",
              "                                                      sentence1  \\\n",
              "0       A person on a horse jumps over a broken down airplane.    \n",
              "1       A person on a horse jumps over a broken down airplane.    \n",
              "2       A person on a horse jumps over a broken down airplane.    \n",
              "3       Children smiling and waving at camera                     \n",
              "4       Children smiling and waving at camera                     \n",
              "...                                       ...                     \n",
              "550147  Four dirty and barefooted children.                       \n",
              "550148  Four dirty and barefooted children.                       \n",
              "550149  A man is surfing in a bodysuit in beautiful blue water.   \n",
              "550150  A man is surfing in a bodysuit in beautiful blue water.   \n",
              "550151  A man is surfing in a bodysuit in beautiful blue water.   \n",
              "\n",
              "                                                                                      sentence1_binary_parse  \\\n",
              "0       ( ( ( A person ) ( on ( a horse ) ) ) ( ( jumps ( over ( a ( broken ( down airplane ) ) ) ) ) . ) )    \n",
              "1       ( ( ( A person ) ( on ( a horse ) ) ) ( ( jumps ( over ( a ( broken ( down airplane ) ) ) ) ) . ) )    \n",
              "2       ( ( ( A person ) ( on ( a horse ) ) ) ( ( jumps ( over ( a ( broken ( down airplane ) ) ) ) ) . ) )    \n",
              "3       ( Children ( ( ( smiling and ) waving ) ( at camera ) ) )                                              \n",
              "4       ( Children ( ( ( smiling and ) waving ) ( at camera ) ) )                                              \n",
              "...                                                           ...                                              \n",
              "550147  ( ( ( ( Four dirty ) and ) ( barefooted children ) ) . )                                               \n",
              "550148  ( ( ( ( Four dirty ) and ) ( barefooted children ) ) . )                                               \n",
              "550149  ( ( A man ) ( ( is ( surfing ( in ( ( a bodysuit ) ( in ( beautiful ( blue water ) ) ) ) ) ) ) . ) )   \n",
              "550150  ( ( A man ) ( ( is ( surfing ( in ( ( a bodysuit ) ( in ( beautiful ( blue water ) ) ) ) ) ) ) . ) )   \n",
              "550151  ( ( A man ) ( ( is ( surfing ( in ( ( a bodysuit ) ( in ( beautiful ( blue water ) ) ) ) ) ) ) . ) )   \n",
              "\n",
              "                                                                                                                                                                 sentence1_parse  \\\n",
              "0       (ROOT (S (NP (NP (DT A) (NN person)) (PP (IN on) (NP (DT a) (NN horse)))) (VP (VBZ jumps) (PP (IN over) (NP (DT a) (JJ broken) (JJ down) (NN airplane)))) (. .)))          \n",
              "1       (ROOT (S (NP (NP (DT A) (NN person)) (PP (IN on) (NP (DT a) (NN horse)))) (VP (VBZ jumps) (PP (IN over) (NP (DT a) (JJ broken) (JJ down) (NN airplane)))) (. .)))          \n",
              "2       (ROOT (S (NP (NP (DT A) (NN person)) (PP (IN on) (NP (DT a) (NN horse)))) (VP (VBZ jumps) (PP (IN over) (NP (DT a) (JJ broken) (JJ down) (NN airplane)))) (. .)))          \n",
              "3       (ROOT (NP (S (NP (NNP Children)) (VP (VBG smiling) (CC and) (VBG waving) (PP (IN at) (NP (NN camera)))))))                                                                 \n",
              "4       (ROOT (NP (S (NP (NNP Children)) (VP (VBG smiling) (CC and) (VBG waving) (PP (IN at) (NP (NN camera)))))))                                                                 \n",
              "...                                                                                                            ...                                                                 \n",
              "550147  (ROOT (NP (NP (CD Four) (NNS dirty)) (CC and) (NP (VBN barefooted) (NNS children)) (. .)))                                                                                 \n",
              "550148  (ROOT (NP (NP (CD Four) (NNS dirty)) (CC and) (NP (VBN barefooted) (NNS children)) (. .)))                                                                                 \n",
              "550149  (ROOT (S (NP (DT A) (NN man)) (VP (VBZ is) (VP (VBG surfing) (PP (IN in) (NP (NP (DT a) (NN bodysuit)) (PP (IN in) (NP (JJ beautiful) (JJ blue) (NN water))))))) (. .)))   \n",
              "550150  (ROOT (S (NP (DT A) (NN man)) (VP (VBZ is) (VP (VBG surfing) (PP (IN in) (NP (NP (DT a) (NN bodysuit)) (PP (IN in) (NP (JJ beautiful) (JJ blue) (NN water))))))) (. .)))   \n",
              "550151  (ROOT (S (NP (DT A) (NN man)) (VP (VBZ is) (VP (VBG surfing) (PP (IN in) (NP (NP (DT a) (NN bodysuit)) (PP (IN in) (NP (JJ beautiful) (JJ blue) (NN water))))))) (. .)))   \n",
              "\n",
              "                                                                      sentence2  \\\n",
              "0       A person is training his horse for a competition.                         \n",
              "1       A person is at a diner, ordering an omelette.                             \n",
              "2       A person is outdoors, on a horse.                                         \n",
              "3       They are smiling at their parents                                         \n",
              "4       There are children present                                                \n",
              "...                            ...                                                \n",
              "550147  four kids won awards for 'cleanest feet'                                  \n",
              "550148  four homeless children had their shoes stolen, so their feet are dirty.   \n",
              "550149  A man in a bodysuit is competing in a surfing competition.                \n",
              "550150  A man in a business suit is heading to a board meeting.                   \n",
              "550151  On the beautiful blue water there is a man in a bodysuit surfing.         \n",
              "\n",
              "                                                                                                               sentence2_binary_parse  \\\n",
              "0       ( ( A person ) ( ( is ( ( training ( his horse ) ) ( for ( a competition ) ) ) ) . ) )                                          \n",
              "1       ( ( A person ) ( ( ( ( is ( at ( a diner ) ) ) , ) ( ordering ( an omelette ) ) ) . ) )                                         \n",
              "2       ( ( A person ) ( ( ( ( is outdoors ) , ) ( on ( a horse ) ) ) . ) )                                                             \n",
              "3       ( They ( are ( smiling ( at ( their parents ) ) ) ) )                                                                           \n",
              "4       ( There ( ( are children ) present ) )                                                                                          \n",
              "...                                        ...                                                                                          \n",
              "550147  ( ( four kids ) ( ( won awards ) ( ( ( for ` ) ( cleanest feet ) ) ' ) ) )                                                      \n",
              "550148  ( ( ( ( ( ( four ( homeless children ) ) ( had ( ( their shoes ) stolen ) ) ) , ) so ) ( ( their feet ) ( are dirty ) ) ) . )   \n",
              "550149  ( ( ( A man ) ( in ( a bodysuit ) ) ) ( ( is ( competing ( in ( a ( surfing competition ) ) ) ) ) . ) )                         \n",
              "550150  ( ( ( A man ) ( in ( a ( business suit ) ) ) ) ( ( is ( heading ( to ( a ( board meeting ) ) ) ) ) . ) )                        \n",
              "550151  ( ( On ( the ( beautiful ( blue water ) ) ) ) ( there ( ( is ( ( a man ) ( in ( a ( bodysuit surfing ) ) ) ) ) . ) ) )          \n",
              "\n",
              "                                                                                                                                                                                                             sentence2_parse  \n",
              "0       (ROOT (S (NP (DT A) (NN person)) (VP (VBZ is) (VP (VBG training) (NP (PRP$ his) (NN horse)) (PP (IN for) (NP (DT a) (NN competition))))) (. .)))                                                                      \n",
              "1       (ROOT (S (NP (DT A) (NN person)) (VP (VBZ is) (PP (IN at) (NP (DT a) (NN diner))) (, ,) (S (VP (VBG ordering) (NP (DT an) (NN omelette))))) (. .)))                                                                   \n",
              "2       (ROOT (S (NP (DT A) (NN person)) (VP (VBZ is) (ADVP (RB outdoors)) (, ,) (PP (IN on) (NP (DT a) (NN horse)))) (. .)))                                                                                                 \n",
              "3       (ROOT (S (NP (PRP They)) (VP (VBP are) (VP (VBG smiling) (PP (IN at) (NP (PRP$ their) (NNS parents)))))))                                                                                                             \n",
              "4       (ROOT (S (NP (EX There)) (VP (VBP are) (NP (NNS children)) (ADVP (RB present)))))                                                                                                                                     \n",
              "...                                                                                   ...                                                                                                                                     \n",
              "550147  (ROOT (S (NP (CD four) (NNS kids)) (VP (VBD won) (NP (NNS awards)) (PP (IN for) (`` `) (NP (JJ cleanest) (NNS feet)) ('' ')))))                                                                                       \n",
              "550148  (ROOT (S (S (NP (CD four) (JJ homeless) (NNS children)) (VP (VBD had) (NP (NP (PRP$ their) (NNS shoes)) (VP (VBN stolen))))) (, ,) (IN so) (S (NP (PRP$ their) (NNS feet)) (VP (VBP are) (ADJP (JJ dirty)))) (. .)))  \n",
              "550149  (ROOT (S (NP (NP (DT A) (NN man)) (PP (IN in) (NP (DT a) (NN bodysuit)))) (VP (VBZ is) (VP (VBG competing) (PP (IN in) (NP (DT a) (VBG surfing) (NN competition))))) (. .)))                                          \n",
              "550150  (ROOT (S (NP (NP (DT A) (NN man)) (PP (IN in) (NP (DT a) (NN business) (NN suit)))) (VP (VBZ is) (VP (VBG heading) (PP (TO to) (NP (DT a) (NN board) (NN meeting))))) (. .)))                                         \n",
              "550151  (ROOT (S (PP (IN On) (NP (DT the) (JJ beautiful) (JJ blue) (NN water))) (NP (EX there)) (VP (VBZ is) (NP (NP (DT a) (NN man)) (PP (IN in) (NP (DT a) (JJ bodysuit) (NN surfing))))) (. .)))                           \n",
              "\n",
              "[550152 rows x 10 columns]"
            ]
          },
          "execution_count": 2,
          "metadata": {},
          "output_type": "execute_result"
        }
      ],
      "source": [
        "#Load SNLI dataset\n",
        "import pandas as pd\n",
        "snli_data = pd.read_json(path_or_buf=\"ss-data/snli_1.0_train.jsonl\", lines=True)\n",
        "pd.set_option('display.max_colwidth', 0)\n",
        "\n",
        "snli_data"
      ]
    },
    {
      "cell_type": "code",
      "execution_count": 3,
      "metadata": {
        "colab": {
          "base_uri": "https://localhost:8080/"
        },
        "id": "2hBd-Fp_5EqW",
        "outputId": "8c8c5fa3-50a7-4f2f-eb24-1607af1999d3"
      },
      "outputs": [
        {
          "name": "stdout",
          "output_type": "stream",
          "text": [
            "550152\n",
            "549526\n"
          ]
        },
        {
          "name": "stderr",
          "output_type": "stream",
          "text": [
            "/tmp/ipykernel_3081672/1005867814.py:4: SettingWithCopyWarning: \n",
            "A value is trying to be set on a copy of a slice from a DataFrame\n",
            "\n",
            "See the caveats in the documentation: https://pandas.pydata.org/pandas-docs/stable/user_guide/indexing.html#returning-a-view-versus-a-copy\n",
            "  snli_data_sub.drop_duplicates(subset=['sentence1', 'sentence2'], keep='last',inplace=True)\n"
          ]
        }
      ],
      "source": [
        "#De-duplicate\n",
        "snli_data_sub = snli_data[['sentence1','sentence2']]\n",
        "print(len(snli_data_sub))\n",
        "snli_data_sub.drop_duplicates(subset=['sentence1', 'sentence2'], keep='last',inplace=True)\n",
        "print(len(snli_data_sub))"
      ]
    },
    {
      "cell_type": "markdown",
      "metadata": {
        "id": "-1kH-0lkX7bx"
      },
      "source": [
        "**Data preparation**"
      ]
    },
    {
      "cell_type": "code",
      "execution_count": 4,
      "metadata": {
        "colab": {
          "base_uri": "https://localhost:8080/"
        },
        "id": "tu8bIW-9W6ic",
        "outputId": "2bcd64b7-f409-4122-9e5a-c28b89e5be72"
      },
      "outputs": [
        {
          "name": "stderr",
          "output_type": "stream",
          "text": [
            "[nltk_data] Downloading package punkt to\n",
            "[nltk_data]     /home/t-jainprachi/nltk_data...\n",
            "[nltk_data]   Package punkt is already up-to-date!\n",
            "[nltk_data] Downloading package stopwords to\n",
            "[nltk_data]     /home/t-jainprachi/nltk_data...\n",
            "[nltk_data]   Package stopwords is already up-to-date!\n"
          ]
        }
      ],
      "source": [
        "import nltk\n",
        "from nltk import word_tokenize\n",
        "from nltk.util import ngrams\n",
        "from collections import Counter\n",
        "nltk.download('punkt')\n",
        "\n",
        "from nltk.corpus import stopwords\n",
        "import string\n",
        "nltk.download('stopwords')\n",
        "\n",
        "from itertools import combinations\n",
        "from tqdm import tqdm"
      ]
    },
    {
      "cell_type": "code",
      "execution_count": 5,
      "metadata": {
        "id": "yqzAEv3o_flM"
      },
      "outputs": [],
      "source": [
        "#util functions\n",
        "def get_removal_list():\n",
        "  stop_words = set(stopwords.words('english'))\n",
        "  string.punctuation = string.punctuation +'\"'+'-'+'''+'''+'—'\n",
        "  string.punctuation\n",
        "  removal_list = list(stop_words) + list(string.punctuation)+ ['lt','rt']\n",
        "  return removal_list\n",
        "\n",
        "removal_list = get_removal_list()\n",
        "\n",
        "def remove_stopwords(sent_tokens):\n",
        "    for punct in list(string.punctuation):\n",
        "        sent_tokens = [word.strip(punct).strip() for word in sent_tokens]\n",
        "\n",
        "    #removal_list = get_removal_list()\n",
        "    filtered_words = [word.strip() for word in sent_tokens if word not in removal_list]\n",
        "\n",
        "    filtered_words = [ele for ele in filtered_words if ele]\n",
        "    return filtered_words\n",
        "\n",
        "# def remove_stopwords(sent_tokens):\n",
        "#     filtered_words = [word for word in sent_tokens if word not in removal_list]\n",
        "#     return filtered_words\n",
        "\n",
        "# def remove_stopwords(sent_tokens):\n",
        "#     # for punct in list(string.punctuation):\n",
        "#     #     sent_tokens = [word.strip(punct).strip() for word in sent_tokens]\n",
        "\n",
        "#     #removal_list = get_removal_list()\n",
        "#     filtered_words = [word.strip().strip(\"'\").strip('\"').strip(\".\").strip(\"!\").strip() for word in sent_tokens if word not in removal_list]\n",
        "\n",
        "#     filtered_words = [ele for ele in filtered_words if ele]\n",
        "#     return filtered_words"
      ]
    },
    {
      "cell_type": "code",
      "execution_count": 6,
      "metadata": {
        "colab": {
          "base_uri": "https://localhost:8080/",
          "height": 632
        },
        "collapsed": true,
        "id": "o8IkRKEU55a8",
        "outputId": "d533416b-b987-4bbf-b078-2836853c7ed3"
      },
      "outputs": [
        {
          "name": "stderr",
          "output_type": "stream",
          "text": [
            "/tmp/ipykernel_3081672/91705368.py:2: SettingWithCopyWarning: \n",
            "A value is trying to be set on a copy of a slice from a DataFrame.\n",
            "Try using .loc[row_indexer,col_indexer] = value instead\n",
            "\n",
            "See the caveats in the documentation: https://pandas.pydata.org/pandas-docs/stable/user_guide/indexing.html#returning-a-view-versus-a-copy\n",
            "  snli_data_sub['sentence1'] = snli_data_sub['sentence1'].map(str.lower)\n",
            "/tmp/ipykernel_3081672/91705368.py:3: SettingWithCopyWarning: \n",
            "A value is trying to be set on a copy of a slice from a DataFrame.\n",
            "Try using .loc[row_indexer,col_indexer] = value instead\n",
            "\n",
            "See the caveats in the documentation: https://pandas.pydata.org/pandas-docs/stable/user_guide/indexing.html#returning-a-view-versus-a-copy\n",
            "  snli_data_sub['sentence2'] = snli_data_sub['sentence2'].map(str.lower)\n"
          ]
        },
        {
          "data": {
            "text/html": [
              "<div>\n",
              "<style scoped>\n",
              "    .dataframe tbody tr th:only-of-type {\n",
              "        vertical-align: middle;\n",
              "    }\n",
              "\n",
              "    .dataframe tbody tr th {\n",
              "        vertical-align: top;\n",
              "    }\n",
              "\n",
              "    .dataframe thead th {\n",
              "        text-align: right;\n",
              "    }\n",
              "</style>\n",
              "<table border=\"1\" class=\"dataframe\">\n",
              "  <thead>\n",
              "    <tr style=\"text-align: right;\">\n",
              "      <th></th>\n",
              "      <th>sentence1</th>\n",
              "      <th>sentence2</th>\n",
              "    </tr>\n",
              "  </thead>\n",
              "  <tbody>\n",
              "    <tr>\n",
              "      <th>0</th>\n",
              "      <td>a person on a horse jumps over a broken down airplane.</td>\n",
              "      <td>a person is training his horse for a competition.</td>\n",
              "    </tr>\n",
              "    <tr>\n",
              "      <th>1</th>\n",
              "      <td>a person on a horse jumps over a broken down airplane.</td>\n",
              "      <td>a person is at a diner, ordering an omelette.</td>\n",
              "    </tr>\n",
              "    <tr>\n",
              "      <th>2</th>\n",
              "      <td>a person on a horse jumps over a broken down airplane.</td>\n",
              "      <td>a person is outdoors, on a horse.</td>\n",
              "    </tr>\n",
              "    <tr>\n",
              "      <th>3</th>\n",
              "      <td>children smiling and waving at camera</td>\n",
              "      <td>they are smiling at their parents</td>\n",
              "    </tr>\n",
              "    <tr>\n",
              "      <th>4</th>\n",
              "      <td>children smiling and waving at camera</td>\n",
              "      <td>there are children present</td>\n",
              "    </tr>\n",
              "    <tr>\n",
              "      <th>...</th>\n",
              "      <td>...</td>\n",
              "      <td>...</td>\n",
              "    </tr>\n",
              "    <tr>\n",
              "      <th>550147</th>\n",
              "      <td>four dirty and barefooted children.</td>\n",
              "      <td>four kids won awards for 'cleanest feet'</td>\n",
              "    </tr>\n",
              "    <tr>\n",
              "      <th>550148</th>\n",
              "      <td>four dirty and barefooted children.</td>\n",
              "      <td>four homeless children had their shoes stolen, so their feet are dirty.</td>\n",
              "    </tr>\n",
              "    <tr>\n",
              "      <th>550149</th>\n",
              "      <td>a man is surfing in a bodysuit in beautiful blue water.</td>\n",
              "      <td>a man in a bodysuit is competing in a surfing competition.</td>\n",
              "    </tr>\n",
              "    <tr>\n",
              "      <th>550150</th>\n",
              "      <td>a man is surfing in a bodysuit in beautiful blue water.</td>\n",
              "      <td>a man in a business suit is heading to a board meeting.</td>\n",
              "    </tr>\n",
              "    <tr>\n",
              "      <th>550151</th>\n",
              "      <td>a man is surfing in a bodysuit in beautiful blue water.</td>\n",
              "      <td>on the beautiful blue water there is a man in a bodysuit surfing.</td>\n",
              "    </tr>\n",
              "  </tbody>\n",
              "</table>\n",
              "<p>549526 rows × 2 columns</p>\n",
              "</div>"
            ],
            "text/plain": [
              "                                                      sentence1  \\\n",
              "0       a person on a horse jumps over a broken down airplane.    \n",
              "1       a person on a horse jumps over a broken down airplane.    \n",
              "2       a person on a horse jumps over a broken down airplane.    \n",
              "3       children smiling and waving at camera                     \n",
              "4       children smiling and waving at camera                     \n",
              "...                                       ...                     \n",
              "550147  four dirty and barefooted children.                       \n",
              "550148  four dirty and barefooted children.                       \n",
              "550149  a man is surfing in a bodysuit in beautiful blue water.   \n",
              "550150  a man is surfing in a bodysuit in beautiful blue water.   \n",
              "550151  a man is surfing in a bodysuit in beautiful blue water.   \n",
              "\n",
              "                                                                      sentence2  \n",
              "0       a person is training his horse for a competition.                        \n",
              "1       a person is at a diner, ordering an omelette.                            \n",
              "2       a person is outdoors, on a horse.                                        \n",
              "3       they are smiling at their parents                                        \n",
              "4       there are children present                                               \n",
              "...                            ...                                               \n",
              "550147  four kids won awards for 'cleanest feet'                                 \n",
              "550148  four homeless children had their shoes stolen, so their feet are dirty.  \n",
              "550149  a man in a bodysuit is competing in a surfing competition.               \n",
              "550150  a man in a business suit is heading to a board meeting.                  \n",
              "550151  on the beautiful blue water there is a man in a bodysuit surfing.        \n",
              "\n",
              "[549526 rows x 2 columns]"
            ]
          },
          "execution_count": 6,
          "metadata": {},
          "output_type": "execute_result"
        }
      ],
      "source": [
        "#Lowercase\n",
        "snli_data_sub['sentence1'] = snli_data_sub['sentence1'].map(str.lower)\n",
        "snli_data_sub['sentence2'] = snli_data_sub['sentence2'].map(str.lower)\n",
        "snli_data_sub"
      ]
    },
    {
      "cell_type": "code",
      "execution_count": 7,
      "metadata": {
        "colab": {
          "base_uri": "https://localhost:8080/",
          "height": 788
        },
        "collapsed": true,
        "id": "BFNIfzKl6rVK",
        "outputId": "7c97662f-3c9d-4684-bb3a-23060fc126e6"
      },
      "outputs": [
        {
          "name": "stderr",
          "output_type": "stream",
          "text": [
            "/tmp/ipykernel_3081672/2199046777.py:2: SettingWithCopyWarning: \n",
            "A value is trying to be set on a copy of a slice from a DataFrame.\n",
            "Try using .loc[row_indexer,col_indexer] = value instead\n",
            "\n",
            "See the caveats in the documentation: https://pandas.pydata.org/pandas-docs/stable/user_guide/indexing.html#returning-a-view-versus-a-copy\n",
            "  snli_data_sub['sentence1_token'] = snli_data_sub['sentence1'].apply(nltk.word_tokenize)\n",
            "/tmp/ipykernel_3081672/2199046777.py:3: SettingWithCopyWarning: \n",
            "A value is trying to be set on a copy of a slice from a DataFrame.\n",
            "Try using .loc[row_indexer,col_indexer] = value instead\n",
            "\n",
            "See the caveats in the documentation: https://pandas.pydata.org/pandas-docs/stable/user_guide/indexing.html#returning-a-view-versus-a-copy\n",
            "  snli_data_sub['sentence2_token'] = snli_data_sub['sentence2'].apply(nltk.word_tokenize)\n"
          ]
        },
        {
          "data": {
            "text/html": [
              "<div>\n",
              "<style scoped>\n",
              "    .dataframe tbody tr th:only-of-type {\n",
              "        vertical-align: middle;\n",
              "    }\n",
              "\n",
              "    .dataframe tbody tr th {\n",
              "        vertical-align: top;\n",
              "    }\n",
              "\n",
              "    .dataframe thead th {\n",
              "        text-align: right;\n",
              "    }\n",
              "</style>\n",
              "<table border=\"1\" class=\"dataframe\">\n",
              "  <thead>\n",
              "    <tr style=\"text-align: right;\">\n",
              "      <th></th>\n",
              "      <th>sentence1</th>\n",
              "      <th>sentence2</th>\n",
              "      <th>sentence1_token</th>\n",
              "      <th>sentence2_token</th>\n",
              "    </tr>\n",
              "  </thead>\n",
              "  <tbody>\n",
              "    <tr>\n",
              "      <th>0</th>\n",
              "      <td>a person on a horse jumps over a broken down airplane.</td>\n",
              "      <td>a person is training his horse for a competition.</td>\n",
              "      <td>[a, person, on, a, horse, jumps, over, a, broken, down, airplane, .]</td>\n",
              "      <td>[a, person, is, training, his, horse, for, a, competition, .]</td>\n",
              "    </tr>\n",
              "    <tr>\n",
              "      <th>1</th>\n",
              "      <td>a person on a horse jumps over a broken down airplane.</td>\n",
              "      <td>a person is at a diner, ordering an omelette.</td>\n",
              "      <td>[a, person, on, a, horse, jumps, over, a, broken, down, airplane, .]</td>\n",
              "      <td>[a, person, is, at, a, diner, ,, ordering, an, omelette, .]</td>\n",
              "    </tr>\n",
              "    <tr>\n",
              "      <th>2</th>\n",
              "      <td>a person on a horse jumps over a broken down airplane.</td>\n",
              "      <td>a person is outdoors, on a horse.</td>\n",
              "      <td>[a, person, on, a, horse, jumps, over, a, broken, down, airplane, .]</td>\n",
              "      <td>[a, person, is, outdoors, ,, on, a, horse, .]</td>\n",
              "    </tr>\n",
              "    <tr>\n",
              "      <th>3</th>\n",
              "      <td>children smiling and waving at camera</td>\n",
              "      <td>they are smiling at their parents</td>\n",
              "      <td>[children, smiling, and, waving, at, camera]</td>\n",
              "      <td>[they, are, smiling, at, their, parents]</td>\n",
              "    </tr>\n",
              "    <tr>\n",
              "      <th>4</th>\n",
              "      <td>children smiling and waving at camera</td>\n",
              "      <td>there are children present</td>\n",
              "      <td>[children, smiling, and, waving, at, camera]</td>\n",
              "      <td>[there, are, children, present]</td>\n",
              "    </tr>\n",
              "    <tr>\n",
              "      <th>...</th>\n",
              "      <td>...</td>\n",
              "      <td>...</td>\n",
              "      <td>...</td>\n",
              "      <td>...</td>\n",
              "    </tr>\n",
              "    <tr>\n",
              "      <th>550147</th>\n",
              "      <td>four dirty and barefooted children.</td>\n",
              "      <td>four kids won awards for 'cleanest feet'</td>\n",
              "      <td>[four, dirty, and, barefooted, children, .]</td>\n",
              "      <td>[four, kids, won, awards, for, 'cleanest, feet, ']</td>\n",
              "    </tr>\n",
              "    <tr>\n",
              "      <th>550148</th>\n",
              "      <td>four dirty and barefooted children.</td>\n",
              "      <td>four homeless children had their shoes stolen, so their feet are dirty.</td>\n",
              "      <td>[four, dirty, and, barefooted, children, .]</td>\n",
              "      <td>[four, homeless, children, had, their, shoes, stolen, ,, so, their, feet, are, dirty, .]</td>\n",
              "    </tr>\n",
              "    <tr>\n",
              "      <th>550149</th>\n",
              "      <td>a man is surfing in a bodysuit in beautiful blue water.</td>\n",
              "      <td>a man in a bodysuit is competing in a surfing competition.</td>\n",
              "      <td>[a, man, is, surfing, in, a, bodysuit, in, beautiful, blue, water, .]</td>\n",
              "      <td>[a, man, in, a, bodysuit, is, competing, in, a, surfing, competition, .]</td>\n",
              "    </tr>\n",
              "    <tr>\n",
              "      <th>550150</th>\n",
              "      <td>a man is surfing in a bodysuit in beautiful blue water.</td>\n",
              "      <td>a man in a business suit is heading to a board meeting.</td>\n",
              "      <td>[a, man, is, surfing, in, a, bodysuit, in, beautiful, blue, water, .]</td>\n",
              "      <td>[a, man, in, a, business, suit, is, heading, to, a, board, meeting, .]</td>\n",
              "    </tr>\n",
              "    <tr>\n",
              "      <th>550151</th>\n",
              "      <td>a man is surfing in a bodysuit in beautiful blue water.</td>\n",
              "      <td>on the beautiful blue water there is a man in a bodysuit surfing.</td>\n",
              "      <td>[a, man, is, surfing, in, a, bodysuit, in, beautiful, blue, water, .]</td>\n",
              "      <td>[on, the, beautiful, blue, water, there, is, a, man, in, a, bodysuit, surfing, .]</td>\n",
              "    </tr>\n",
              "  </tbody>\n",
              "</table>\n",
              "<p>549526 rows × 4 columns</p>\n",
              "</div>"
            ],
            "text/plain": [
              "                                                      sentence1  \\\n",
              "0       a person on a horse jumps over a broken down airplane.    \n",
              "1       a person on a horse jumps over a broken down airplane.    \n",
              "2       a person on a horse jumps over a broken down airplane.    \n",
              "3       children smiling and waving at camera                     \n",
              "4       children smiling and waving at camera                     \n",
              "...                                       ...                     \n",
              "550147  four dirty and barefooted children.                       \n",
              "550148  four dirty and barefooted children.                       \n",
              "550149  a man is surfing in a bodysuit in beautiful blue water.   \n",
              "550150  a man is surfing in a bodysuit in beautiful blue water.   \n",
              "550151  a man is surfing in a bodysuit in beautiful blue water.   \n",
              "\n",
              "                                                                      sentence2  \\\n",
              "0       a person is training his horse for a competition.                         \n",
              "1       a person is at a diner, ordering an omelette.                             \n",
              "2       a person is outdoors, on a horse.                                         \n",
              "3       they are smiling at their parents                                         \n",
              "4       there are children present                                                \n",
              "...                            ...                                                \n",
              "550147  four kids won awards for 'cleanest feet'                                  \n",
              "550148  four homeless children had their shoes stolen, so their feet are dirty.   \n",
              "550149  a man in a bodysuit is competing in a surfing competition.                \n",
              "550150  a man in a business suit is heading to a board meeting.                   \n",
              "550151  on the beautiful blue water there is a man in a bodysuit surfing.         \n",
              "\n",
              "                                                              sentence1_token  \\\n",
              "0       [a, person, on, a, horse, jumps, over, a, broken, down, airplane, .]    \n",
              "1       [a, person, on, a, horse, jumps, over, a, broken, down, airplane, .]    \n",
              "2       [a, person, on, a, horse, jumps, over, a, broken, down, airplane, .]    \n",
              "3       [children, smiling, and, waving, at, camera]                            \n",
              "4       [children, smiling, and, waving, at, camera]                            \n",
              "...                                              ...                            \n",
              "550147  [four, dirty, and, barefooted, children, .]                             \n",
              "550148  [four, dirty, and, barefooted, children, .]                             \n",
              "550149  [a, man, is, surfing, in, a, bodysuit, in, beautiful, blue, water, .]   \n",
              "550150  [a, man, is, surfing, in, a, bodysuit, in, beautiful, blue, water, .]   \n",
              "550151  [a, man, is, surfing, in, a, bodysuit, in, beautiful, blue, water, .]   \n",
              "\n",
              "                                                                                 sentence2_token  \n",
              "0       [a, person, is, training, his, horse, for, a, competition, .]                             \n",
              "1       [a, person, is, at, a, diner, ,, ordering, an, omelette, .]                               \n",
              "2       [a, person, is, outdoors, ,, on, a, horse, .]                                             \n",
              "3       [they, are, smiling, at, their, parents]                                                  \n",
              "4       [there, are, children, present]                                                           \n",
              "...                                 ...                                                           \n",
              "550147  [four, kids, won, awards, for, 'cleanest, feet, ']                                        \n",
              "550148  [four, homeless, children, had, their, shoes, stolen, ,, so, their, feet, are, dirty, .]  \n",
              "550149  [a, man, in, a, bodysuit, is, competing, in, a, surfing, competition, .]                  \n",
              "550150  [a, man, in, a, business, suit, is, heading, to, a, board, meeting, .]                    \n",
              "550151  [on, the, beautiful, blue, water, there, is, a, man, in, a, bodysuit, surfing, .]         \n",
              "\n",
              "[549526 rows x 4 columns]"
            ]
          },
          "execution_count": 7,
          "metadata": {},
          "output_type": "execute_result"
        }
      ],
      "source": [
        "#Tokenize\n",
        "snli_data_sub['sentence1_token'] = snli_data_sub['sentence1'].apply(nltk.word_tokenize)\n",
        "snli_data_sub['sentence2_token'] = snli_data_sub['sentence2'].apply(nltk.word_tokenize)\n",
        "\n",
        "snli_data_sub"
      ]
    },
    {
      "cell_type": "code",
      "execution_count": 8,
      "metadata": {
        "colab": {
          "base_uri": "https://localhost:8080/"
        },
        "collapsed": true,
        "id": "YuOQtgye74sk",
        "outputId": "d5ddfde8-294c-4319-99c3-1f802b578252"
      },
      "outputs": [
        {
          "name": "stderr",
          "output_type": "stream",
          "text": [
            "100%|██████████| 549526/549526 [00:22<00:00, 23915.07it/s]\n",
            "/tmp/ipykernel_3081672/1713195379.py:6: SettingWithCopyWarning: \n",
            "A value is trying to be set on a copy of a slice from a DataFrame.\n",
            "Try using .loc[row_indexer,col_indexer] = value instead\n",
            "\n",
            "See the caveats in the documentation: https://pandas.pydata.org/pandas-docs/stable/user_guide/indexing.html#returning-a-view-versus-a-copy\n",
            "  snli_data_sub['sentence1_token_nostopwords'] = snli_data_sub['sentence1_token'].progress_apply(remove_stopwords)\n",
            "100%|██████████| 549526/549526 [00:14<00:00, 37139.04it/s]\n",
            "/tmp/ipykernel_3081672/1713195379.py:7: SettingWithCopyWarning: \n",
            "A value is trying to be set on a copy of a slice from a DataFrame.\n",
            "Try using .loc[row_indexer,col_indexer] = value instead\n",
            "\n",
            "See the caveats in the documentation: https://pandas.pydata.org/pandas-docs/stable/user_guide/indexing.html#returning-a-view-versus-a-copy\n",
            "  snli_data_sub['sentence2_token_nostopwords'] = snli_data_sub['sentence2_token'].progress_apply(remove_stopwords)\n"
          ]
        },
        {
          "data": {
            "text/html": [
              "<div>\n",
              "<style scoped>\n",
              "    .dataframe tbody tr th:only-of-type {\n",
              "        vertical-align: middle;\n",
              "    }\n",
              "\n",
              "    .dataframe tbody tr th {\n",
              "        vertical-align: top;\n",
              "    }\n",
              "\n",
              "    .dataframe thead th {\n",
              "        text-align: right;\n",
              "    }\n",
              "</style>\n",
              "<table border=\"1\" class=\"dataframe\">\n",
              "  <thead>\n",
              "    <tr style=\"text-align: right;\">\n",
              "      <th></th>\n",
              "      <th>sentence1</th>\n",
              "      <th>sentence2</th>\n",
              "      <th>sentence1_token</th>\n",
              "      <th>sentence2_token</th>\n",
              "      <th>sentence1_token_nostopwords</th>\n",
              "      <th>sentence2_token_nostopwords</th>\n",
              "    </tr>\n",
              "  </thead>\n",
              "  <tbody>\n",
              "    <tr>\n",
              "      <th>0</th>\n",
              "      <td>a person on a horse jumps over a broken down airplane.</td>\n",
              "      <td>a person is training his horse for a competition.</td>\n",
              "      <td>[a, person, on, a, horse, jumps, over, a, broken, down, airplane, .]</td>\n",
              "      <td>[a, person, is, training, his, horse, for, a, competition, .]</td>\n",
              "      <td>[person, horse, jumps, broken, airplane]</td>\n",
              "      <td>[person, training, horse, competition]</td>\n",
              "    </tr>\n",
              "    <tr>\n",
              "      <th>1</th>\n",
              "      <td>a person on a horse jumps over a broken down airplane.</td>\n",
              "      <td>a person is at a diner, ordering an omelette.</td>\n",
              "      <td>[a, person, on, a, horse, jumps, over, a, broken, down, airplane, .]</td>\n",
              "      <td>[a, person, is, at, a, diner, ,, ordering, an, omelette, .]</td>\n",
              "      <td>[person, horse, jumps, broken, airplane]</td>\n",
              "      <td>[person, diner, ordering, omelette]</td>\n",
              "    </tr>\n",
              "    <tr>\n",
              "      <th>2</th>\n",
              "      <td>a person on a horse jumps over a broken down airplane.</td>\n",
              "      <td>a person is outdoors, on a horse.</td>\n",
              "      <td>[a, person, on, a, horse, jumps, over, a, broken, down, airplane, .]</td>\n",
              "      <td>[a, person, is, outdoors, ,, on, a, horse, .]</td>\n",
              "      <td>[person, horse, jumps, broken, airplane]</td>\n",
              "      <td>[person, outdoors, horse]</td>\n",
              "    </tr>\n",
              "    <tr>\n",
              "      <th>3</th>\n",
              "      <td>children smiling and waving at camera</td>\n",
              "      <td>they are smiling at their parents</td>\n",
              "      <td>[children, smiling, and, waving, at, camera]</td>\n",
              "      <td>[they, are, smiling, at, their, parents]</td>\n",
              "      <td>[children, smiling, waving, camera]</td>\n",
              "      <td>[smiling, parents]</td>\n",
              "    </tr>\n",
              "    <tr>\n",
              "      <th>4</th>\n",
              "      <td>children smiling and waving at camera</td>\n",
              "      <td>there are children present</td>\n",
              "      <td>[children, smiling, and, waving, at, camera]</td>\n",
              "      <td>[there, are, children, present]</td>\n",
              "      <td>[children, smiling, waving, camera]</td>\n",
              "      <td>[children, present]</td>\n",
              "    </tr>\n",
              "    <tr>\n",
              "      <th>...</th>\n",
              "      <td>...</td>\n",
              "      <td>...</td>\n",
              "      <td>...</td>\n",
              "      <td>...</td>\n",
              "      <td>...</td>\n",
              "      <td>...</td>\n",
              "    </tr>\n",
              "    <tr>\n",
              "      <th>550147</th>\n",
              "      <td>four dirty and barefooted children.</td>\n",
              "      <td>four kids won awards for 'cleanest feet'</td>\n",
              "      <td>[four, dirty, and, barefooted, children, .]</td>\n",
              "      <td>[four, kids, won, awards, for, 'cleanest, feet, ']</td>\n",
              "      <td>[four, dirty, barefooted, children]</td>\n",
              "      <td>[four, kids, awards, cleanest, feet]</td>\n",
              "    </tr>\n",
              "    <tr>\n",
              "      <th>550148</th>\n",
              "      <td>four dirty and barefooted children.</td>\n",
              "      <td>four homeless children had their shoes stolen, so their feet are dirty.</td>\n",
              "      <td>[four, dirty, and, barefooted, children, .]</td>\n",
              "      <td>[four, homeless, children, had, their, shoes, stolen, ,, so, their, feet, are, dirty, .]</td>\n",
              "      <td>[four, dirty, barefooted, children]</td>\n",
              "      <td>[four, homeless, children, shoes, stolen, feet, dirty]</td>\n",
              "    </tr>\n",
              "    <tr>\n",
              "      <th>550149</th>\n",
              "      <td>a man is surfing in a bodysuit in beautiful blue water.</td>\n",
              "      <td>a man in a bodysuit is competing in a surfing competition.</td>\n",
              "      <td>[a, man, is, surfing, in, a, bodysuit, in, beautiful, blue, water, .]</td>\n",
              "      <td>[a, man, in, a, bodysuit, is, competing, in, a, surfing, competition, .]</td>\n",
              "      <td>[man, surfing, bodysuit, beautiful, blue, water]</td>\n",
              "      <td>[man, bodysuit, competing, surfing, competition]</td>\n",
              "    </tr>\n",
              "    <tr>\n",
              "      <th>550150</th>\n",
              "      <td>a man is surfing in a bodysuit in beautiful blue water.</td>\n",
              "      <td>a man in a business suit is heading to a board meeting.</td>\n",
              "      <td>[a, man, is, surfing, in, a, bodysuit, in, beautiful, blue, water, .]</td>\n",
              "      <td>[a, man, in, a, business, suit, is, heading, to, a, board, meeting, .]</td>\n",
              "      <td>[man, surfing, bodysuit, beautiful, blue, water]</td>\n",
              "      <td>[man, business, suit, heading, board, meeting]</td>\n",
              "    </tr>\n",
              "    <tr>\n",
              "      <th>550151</th>\n",
              "      <td>a man is surfing in a bodysuit in beautiful blue water.</td>\n",
              "      <td>on the beautiful blue water there is a man in a bodysuit surfing.</td>\n",
              "      <td>[a, man, is, surfing, in, a, bodysuit, in, beautiful, blue, water, .]</td>\n",
              "      <td>[on, the, beautiful, blue, water, there, is, a, man, in, a, bodysuit, surfing, .]</td>\n",
              "      <td>[man, surfing, bodysuit, beautiful, blue, water]</td>\n",
              "      <td>[beautiful, blue, water, man, bodysuit, surfing]</td>\n",
              "    </tr>\n",
              "  </tbody>\n",
              "</table>\n",
              "<p>549526 rows × 6 columns</p>\n",
              "</div>"
            ],
            "text/plain": [
              "                                                      sentence1  \\\n",
              "0       a person on a horse jumps over a broken down airplane.    \n",
              "1       a person on a horse jumps over a broken down airplane.    \n",
              "2       a person on a horse jumps over a broken down airplane.    \n",
              "3       children smiling and waving at camera                     \n",
              "4       children smiling and waving at camera                     \n",
              "...                                       ...                     \n",
              "550147  four dirty and barefooted children.                       \n",
              "550148  four dirty and barefooted children.                       \n",
              "550149  a man is surfing in a bodysuit in beautiful blue water.   \n",
              "550150  a man is surfing in a bodysuit in beautiful blue water.   \n",
              "550151  a man is surfing in a bodysuit in beautiful blue water.   \n",
              "\n",
              "                                                                      sentence2  \\\n",
              "0       a person is training his horse for a competition.                         \n",
              "1       a person is at a diner, ordering an omelette.                             \n",
              "2       a person is outdoors, on a horse.                                         \n",
              "3       they are smiling at their parents                                         \n",
              "4       there are children present                                                \n",
              "...                            ...                                                \n",
              "550147  four kids won awards for 'cleanest feet'                                  \n",
              "550148  four homeless children had their shoes stolen, so their feet are dirty.   \n",
              "550149  a man in a bodysuit is competing in a surfing competition.                \n",
              "550150  a man in a business suit is heading to a board meeting.                   \n",
              "550151  on the beautiful blue water there is a man in a bodysuit surfing.         \n",
              "\n",
              "                                                              sentence1_token  \\\n",
              "0       [a, person, on, a, horse, jumps, over, a, broken, down, airplane, .]    \n",
              "1       [a, person, on, a, horse, jumps, over, a, broken, down, airplane, .]    \n",
              "2       [a, person, on, a, horse, jumps, over, a, broken, down, airplane, .]    \n",
              "3       [children, smiling, and, waving, at, camera]                            \n",
              "4       [children, smiling, and, waving, at, camera]                            \n",
              "...                                              ...                            \n",
              "550147  [four, dirty, and, barefooted, children, .]                             \n",
              "550148  [four, dirty, and, barefooted, children, .]                             \n",
              "550149  [a, man, is, surfing, in, a, bodysuit, in, beautiful, blue, water, .]   \n",
              "550150  [a, man, is, surfing, in, a, bodysuit, in, beautiful, blue, water, .]   \n",
              "550151  [a, man, is, surfing, in, a, bodysuit, in, beautiful, blue, water, .]   \n",
              "\n",
              "                                                                                 sentence2_token  \\\n",
              "0       [a, person, is, training, his, horse, for, a, competition, .]                              \n",
              "1       [a, person, is, at, a, diner, ,, ordering, an, omelette, .]                                \n",
              "2       [a, person, is, outdoors, ,, on, a, horse, .]                                              \n",
              "3       [they, are, smiling, at, their, parents]                                                   \n",
              "4       [there, are, children, present]                                                            \n",
              "...                                 ...                                                            \n",
              "550147  [four, kids, won, awards, for, 'cleanest, feet, ']                                         \n",
              "550148  [four, homeless, children, had, their, shoes, stolen, ,, so, their, feet, are, dirty, .]   \n",
              "550149  [a, man, in, a, bodysuit, is, competing, in, a, surfing, competition, .]                   \n",
              "550150  [a, man, in, a, business, suit, is, heading, to, a, board, meeting, .]                     \n",
              "550151  [on, the, beautiful, blue, water, there, is, a, man, in, a, bodysuit, surfing, .]          \n",
              "\n",
              "                             sentence1_token_nostopwords  \\\n",
              "0       [person, horse, jumps, broken, airplane]           \n",
              "1       [person, horse, jumps, broken, airplane]           \n",
              "2       [person, horse, jumps, broken, airplane]           \n",
              "3       [children, smiling, waving, camera]                \n",
              "4       [children, smiling, waving, camera]                \n",
              "...                                     ...                \n",
              "550147  [four, dirty, barefooted, children]                \n",
              "550148  [four, dirty, barefooted, children]                \n",
              "550149  [man, surfing, bodysuit, beautiful, blue, water]   \n",
              "550150  [man, surfing, bodysuit, beautiful, blue, water]   \n",
              "550151  [man, surfing, bodysuit, beautiful, blue, water]   \n",
              "\n",
              "                                   sentence2_token_nostopwords  \n",
              "0       [person, training, horse, competition]                  \n",
              "1       [person, diner, ordering, omelette]                     \n",
              "2       [person, outdoors, horse]                               \n",
              "3       [smiling, parents]                                      \n",
              "4       [children, present]                                     \n",
              "...                     ...                                     \n",
              "550147  [four, kids, awards, cleanest, feet]                    \n",
              "550148  [four, homeless, children, shoes, stolen, feet, dirty]  \n",
              "550149  [man, bodysuit, competing, surfing, competition]        \n",
              "550150  [man, business, suit, heading, board, meeting]          \n",
              "550151  [beautiful, blue, water, man, bodysuit, surfing]        \n",
              "\n",
              "[549526 rows x 6 columns]"
            ]
          },
          "execution_count": 8,
          "metadata": {},
          "output_type": "execute_result"
        }
      ],
      "source": [
        "#Remove stop-words\n",
        "from time import time\n",
        "from tqdm import tqdm\n",
        "tqdm.pandas()\n",
        "\n",
        "snli_data_sub['sentence1_token_nostopwords'] = snli_data_sub['sentence1_token'].progress_apply(remove_stopwords)\n",
        "snli_data_sub['sentence2_token_nostopwords'] = snli_data_sub['sentence2_token'].progress_apply(remove_stopwords)\n",
        "\n",
        "snli_data_sub"
      ]
    },
    {
      "cell_type": "code",
      "execution_count": 9,
      "metadata": {
        "collapsed": true,
        "id": "CYM5_vz484vq"
      },
      "outputs": [
        {
          "name": "stdout",
          "output_type": "stream",
          "text": [
            "549526\n"
          ]
        },
        {
          "name": "stderr",
          "output_type": "stream",
          "text": [
            "/tmp/ipykernel_3081672/817760109.py:3: SettingWithCopyWarning: \n",
            "A value is trying to be set on a copy of a slice from a DataFrame.\n",
            "Try using .loc[row_indexer,col_indexer] = value instead\n",
            "\n",
            "See the caveats in the documentation: https://pandas.pydata.org/pandas-docs/stable/user_guide/indexing.html#returning-a-view-versus-a-copy\n",
            "  snli_data_sub['sentence1_token_nostopwords_str'] = snli_data_sub['sentence1_token_nostopwords'].apply(lambda x: ' '.join(x))\n",
            "/tmp/ipykernel_3081672/817760109.py:4: SettingWithCopyWarning: \n",
            "A value is trying to be set on a copy of a slice from a DataFrame.\n",
            "Try using .loc[row_indexer,col_indexer] = value instead\n",
            "\n",
            "See the caveats in the documentation: https://pandas.pydata.org/pandas-docs/stable/user_guide/indexing.html#returning-a-view-versus-a-copy\n",
            "  snli_data_sub['sentence2_token_nostopwords_str'] = snli_data_sub['sentence2_token_nostopwords'].apply(lambda x: ' '.join(x))\n"
          ]
        },
        {
          "name": "stdout",
          "output_type": "stream",
          "text": [
            "547558\n"
          ]
        },
        {
          "name": "stderr",
          "output_type": "stream",
          "text": [
            "/tmp/ipykernel_3081672/817760109.py:7: SettingWithCopyWarning: \n",
            "A value is trying to be set on a copy of a slice from a DataFrame\n",
            "\n",
            "See the caveats in the documentation: https://pandas.pydata.org/pandas-docs/stable/user_guide/indexing.html#returning-a-view-versus-a-copy\n",
            "  snli_data_sub.drop_duplicates(subset=['sentence1_token_nostopwords_str', 'sentence2_token_nostopwords_str'], keep='last', inplace=True)\n"
          ]
        }
      ],
      "source": [
        "print(len(snli_data_sub))\n",
        "\n",
        "snli_data_sub['sentence1_token_nostopwords_str'] = snli_data_sub['sentence1_token_nostopwords'].apply(lambda x: ' '.join(x))\n",
        "snli_data_sub['sentence2_token_nostopwords_str'] = snli_data_sub['sentence2_token_nostopwords'].apply(lambda x: ' '.join(x))\n",
        "\n",
        "snli_data_sub.drop_duplicates(subset=['sentence1_token_nostopwords_str', 'sentence2_token_nostopwords_str'], keep='last', inplace=True)\n",
        "print(len(snli_data_sub))"
      ]
    },
    {
      "cell_type": "markdown",
      "metadata": {
        "id": "c8JO4SEVWQO9"
      },
      "source": [
        "**Word association analysis**\n",
        "\n",
        "$PMI(w_i, w_j)$ = $log_2 \\frac{p(w_i, w_j)}{P(w_i)P(w_j)}$ = $log_2\\frac{N\\cdot c(w_i, w_j)}{c(w_i)c(w_j)}$\n"
      ]
    },
    {
      "cell_type": "code",
      "execution_count": 10,
      "metadata": {
        "collapsed": true,
        "id": "ucEFurSB_ozM"
      },
      "outputs": [
        {
          "data": {
            "text/plain": [
              "[('man', 265138),\n",
              " ('woman', 137105),\n",
              " ('two', 121714),\n",
              " ('people', 120803),\n",
              " ('wearing', 80592),\n",
              " ('young', 61353),\n",
              " ('men', 60853),\n",
              " ('playing', 59219),\n",
              " ('girl', 59094),\n",
              " ('boy', 58042),\n",
              " ('white', 56793),\n",
              " ('shirt', 56204),\n",
              " ('black', 54824),\n",
              " ('dog', 53688),\n",
              " ('sitting', 53544),\n",
              " ('blue', 49040),\n",
              " ('standing', 46189),\n",
              " ('red', 43130),\n",
              " ('group', 43061),\n",
              " ('walking', 38681)]"
            ]
          },
          "execution_count": 10,
          "metadata": {},
          "output_type": "execute_result"
        }
      ],
      "source": [
        "#Computing Unigram frequency\n",
        "corpus = []\n",
        "for sent in (snli_data_sub['sentence1_token_nostopwords'].tolist() + snli_data_sub['sentence2_token_nostopwords'].tolist()):\n",
        "  corpus+=(sent)\n",
        "unigram_frequency = Counter(corpus)\n",
        "unigram_frequency.most_common(20)"
      ]
    },
    {
      "cell_type": "code",
      "execution_count": 11,
      "metadata": {
        "id": "ztFeh5FbYrEW"
      },
      "outputs": [
        {
          "name": "stdout",
          "output_type": "stream",
          "text": [
            "36193\n",
            "10638\n"
          ]
        }
      ],
      "source": [
        "#Remove words with less than 15 freq\n",
        "from itertools import dropwhile\n",
        "print(len(unigram_frequency))\n",
        "for key, count in dropwhile(lambda key_count: key_count[1] >= 15, unigram_frequency.most_common()):\n",
        "    del unigram_frequency[key]\n",
        "print(len(unigram_frequency))"
      ]
    },
    {
      "cell_type": "code",
      "execution_count": 12,
      "metadata": {
        "id": "2mIPHn9rIv8h"
      },
      "outputs": [
        {
          "name": "stdout",
          "output_type": "stream",
          "text": [
            "S1 547558\n",
            "S1 149532\n",
            "S2 547558\n",
            "S2 423258\n"
          ]
        },
        {
          "name": "stderr",
          "output_type": "stream",
          "text": [
            "100%|██████████| 572790/572790 [00:01<00:00, 349408.41it/s]\n"
          ]
        }
      ],
      "source": [
        "choice = \"separate_prem_hypo\"\n",
        "\n",
        "if choice == \"combine_prem_hypo\":\n",
        "  snli_data_sub['sentence1_sentence2_token_nostopwords'] = snli_data_sub['sentence1_token_nostopwords'] + snli_data_sub['sentence2_token_nostopwords']\n",
        "  ##MAIN\n",
        "  bigram_doc=[]\n",
        "  for ele in tqdm(snli_data_sub['sentence1_sentence2_token_nostopwords'].tolist()):\n",
        "    bigram_doc.append(list(set(list(nltk.bigrams(ele)))))\n",
        "  bigram=[]\n",
        "  for doc in bigram_doc:\n",
        "    bigram += doc\n",
        "  bigram_frequency = Counter(bigram)\n",
        "  bigram_frequency\n",
        "elif choice == \"separate_prem_hypo\":\n",
        "  ##\n",
        "  snli_data_sub_s1 = snli_data_sub[['sentence1_token_nostopwords']].copy()\n",
        "  snli_data_sub_s2 = snli_data_sub[['sentence2_token_nostopwords']].copy()\n",
        "\n",
        "  print(\"S1\",len(snli_data_sub_s1))\n",
        "  snli_data_sub_s1['sentence1_token_nostopwords_str'] = snli_data_sub_s1['sentence1_token_nostopwords'].apply(lambda x: ' '.join(x))\n",
        "  snli_data_sub_s1.drop_duplicates(subset=['sentence1_token_nostopwords_str'], keep='last',inplace=True)\n",
        "  print(\"S1\",len(snli_data_sub_s1))\n",
        "\n",
        "  print(\"S2\",len(snli_data_sub_s2))\n",
        "  snli_data_sub_s2['sentence2_token_nostopwords_str'] = snli_data_sub_s2['sentence2_token_nostopwords'].apply(lambda x: ' '.join(x))\n",
        "  snli_data_sub_s2.drop_duplicates(subset=['sentence2_token_nostopwords_str'], keep='last',inplace=True)\n",
        "  print(\"S2\",len(snli_data_sub_s2))\n",
        "  ##MAIN\n",
        "  bigram_doc=[]\n",
        "  for ele in tqdm(snli_data_sub_s1['sentence1_token_nostopwords'].tolist()+snli_data_sub_s2['sentence2_token_nostopwords'].tolist()):\n",
        "    bigram_doc.append(list(set(list(nltk.bigrams(ele)))))\n",
        "  bigram=[]\n",
        "  for doc in bigram_doc:\n",
        "    bigram += doc\n",
        "  bigram_frequency = Counter(bigram)\n",
        "  bigram_frequency"
      ]
    },
    {
      "cell_type": "code",
      "execution_count": 13,
      "metadata": {
        "id": "e3dt_05Rb4X7"
      },
      "outputs": [
        {
          "name": "stdout",
          "output_type": "stream",
          "text": [
            "659784\n",
            "29093\n"
          ]
        }
      ],
      "source": [
        "#Remove words-pair with less than 10 freq\n",
        "from itertools import dropwhile\n",
        "print(len(bigram_frequency))\n",
        "for key, count in dropwhile(lambda key_count: key_count[1] >= 10, bigram_frequency.most_common()):\n",
        "    del bigram_frequency[key]\n",
        "print(len(bigram_frequency))"
      ]
    },
    {
      "cell_type": "markdown",
      "metadata": {},
      "source": [
        "$PMI(w_i, w_j)$ = $log_2 \\frac{p(w_i, w_j)}{P(w_i)P(w_j)}$ = $log_2\\frac{N\\cdot c(w_i, w_j)}{c(w_i)c(w_j)}$\n"
      ]
    },
    {
      "cell_type": "code",
      "execution_count": 14,
      "metadata": {
        "id": "XWb3Lb44Ixg9"
      },
      "outputs": [],
      "source": [
        "#Calculate PMI\n",
        "import math\n",
        "\n",
        "def pmi(word1, word2, unigram_freq, bigram_freq):\n",
        "  if word1 in unigram_freq.keys() and word2 in unigram_freq.keys():\n",
        "    if (word1, word2) in bigram_freq.keys() or (word2, word1) in bigram_freq.keys():\n",
        "      prob_word1 = unigram_freq[word1] / float(sum(unigram_freq.values()))\n",
        "      prob_word2 = unigram_freq[word2] / float(sum(unigram_freq.values()))\n",
        "      prob_word1_word2 = (bigram_freq[(word1, word2)]) / float(sum(bigram_freq.values()))\n",
        "      if prob_word1_word2 >0:\n",
        "        return math.log(prob_word1_word2/float(prob_word1*prob_word2),2)\n"
      ]
    },
    {
      "cell_type": "code",
      "execution_count": 15,
      "metadata": {
        "id": "O4Xv6_8fXkB1"
      },
      "outputs": [
        {
          "data": {
            "text/plain": [
              "['woman',\n",
              " 'women',\n",
              " 'man',\n",
              " 'men',\n",
              " 'girl',\n",
              " 'girls',\n",
              " 'boy',\n",
              " 'boys',\n",
              " 'she',\n",
              " 'he',\n",
              " 'her',\n",
              " 'him',\n",
              " 'his',\n",
              " 'female',\n",
              " 'male',\n",
              " 'mother',\n",
              " 'father',\n",
              " 'sister',\n",
              " 'brother',\n",
              " 'daughter',\n",
              " 'son',\n",
              " 'feminine',\n",
              " 'masculine',\n",
              " 'androgynous',\n",
              " 'trans',\n",
              " 'transgender',\n",
              " 'transsexual',\n",
              " 'nonbinary',\n",
              " 'non-binary',\n",
              " 'two-spirit',\n",
              " 'hijra',\n",
              " 'genderqueer',\n",
              " 'black',\n",
              " 'asian',\n",
              " 'hispanic',\n",
              " 'white',\n",
              " 'african',\n",
              " 'american',\n",
              " 'latino',\n",
              " 'latina',\n",
              " 'caucasian',\n",
              " 'africans',\n",
              " 'middle-eastern',\n",
              " 'australian',\n",
              " 'australians',\n",
              " 'asians',\n",
              " 'european',\n",
              " 'europeans',\n",
              " 'chinese',\n",
              " 'indian',\n",
              " 'indonesian',\n",
              " 'brazilian',\n",
              " 'pakistani',\n",
              " 'bangladeshi',\n",
              " 'russian',\n",
              " 'nigerian',\n",
              " 'japanese',\n",
              " 'mexican',\n",
              " 'filipino ',\n",
              " 'vietnamese ',\n",
              " 'german',\n",
              " 'egyptian',\n",
              " 'ethiopian',\n",
              " 'turkish',\n",
              " 'iranian',\n",
              " 'thai',\n",
              " 'congolese',\n",
              " 'french',\n",
              " 'british ',\n",
              " 'italian',\n",
              " 'korean',\n",
              " 'burmese',\n",
              " 'canadian ',\n",
              " 'australian ',\n",
              " 'spanish',\n",
              " 'dutch',\n",
              " 'swiss',\n",
              " 'saudi',\n",
              " 'argentinian ',\n",
              " 'taiwanese ',\n",
              " 'swedish ',\n",
              " 'belgian',\n",
              " 'polish',\n",
              " 'israeli',\n",
              " 'irish',\n",
              " 'greek',\n",
              " 'ukrainian ',\n",
              " 'jamaican ',\n",
              " 'mongolian',\n",
              " 'armenian',\n",
              " 'disability',\n",
              " 'disabled',\n",
              " 'handicap',\n",
              " 'handicapped',\n",
              " 'mentally',\n",
              " 'mental',\n",
              " 'autistic',\n",
              " 'autism',\n",
              " 'lesbian',\n",
              " 'lesbians',\n",
              " 'gay',\n",
              " 'bisexual',\n",
              " 'pansexual',\n",
              " 'asexual',\n",
              " 'queer',\n",
              " 'straight',\n",
              " 'muslim',\n",
              " 'christian',\n",
              " 'jew',\n",
              " 'jewish',\n",
              " 'sikh',\n",
              " 'buddhist',\n",
              " 'hindu',\n",
              " 'atheist',\n",
              " 'muslims',\n",
              " 'christians',\n",
              " 'jews',\n",
              " 'sikhs',\n",
              " 'buddhists',\n",
              " 'hindus',\n",
              " 'atheists',\n",
              " 'old',\n",
              " 'elderly',\n",
              " 'retired',\n",
              " 'teenage',\n",
              " 'young',\n",
              " 'senior',\n",
              " 'seniors',\n",
              " 'teenager',\n",
              " 'teenagers',\n",
              " '']"
            ]
          },
          "execution_count": 15,
          "metadata": {},
          "output_type": "execute_result"
        }
      ],
      "source": [
        "identity_labels"
      ]
    },
    {
      "cell_type": "code",
      "execution_count": 16,
      "metadata": {
        "id": "-pu5JUuhXooV"
      },
      "outputs": [],
      "source": [
        "def Sort(tuple):\n",
        "    # reverse = None (Sorts in Ascending order)\n",
        "    return(sorted(tuple, key = lambda a: a[1], reverse = True))\n",
        "\n",
        "def get_pmi(identity_label,unigram_frequency,bigram_frequency):\n",
        "  pmi_identity_label=[]\n",
        "  for word in tqdm(unigram_frequency.keys()):\n",
        "    pmi_score = pmi(word1=identity_label.lower(), word2=word,unigram_freq=unigram_frequency,bigram_freq=bigram_frequency)\n",
        "    if pmi_score:\n",
        "      pmi_identity_label.append((word,pmi_score))\n",
        "\n",
        "  return Sort(pmi_identity_label)\n"
      ]
    },
    {
      "cell_type": "code",
      "execution_count": 30,
      "metadata": {},
      "outputs": [
        {
          "name": "stdout",
          "output_type": "stream",
          "text": [
            "woman\n"
          ]
        },
        {
          "name": "stderr",
          "output_type": "stream",
          "text": [
            "100%|██████████| 10638/10638 [00:01<00:00, 9923.30it/s]\n"
          ]
        },
        {
          "name": "stdout",
          "output_type": "stream",
          "text": [
            "women\n"
          ]
        },
        {
          "name": "stderr",
          "output_type": "stream",
          "text": [
            "100%|██████████| 10638/10638 [00:00<00:00, 26005.84it/s]\n"
          ]
        },
        {
          "name": "stdout",
          "output_type": "stream",
          "text": [
            "man\n"
          ]
        },
        {
          "name": "stderr",
          "output_type": "stream",
          "text": [
            "100%|██████████| 10638/10638 [00:01<00:00, 6244.35it/s]\n"
          ]
        },
        {
          "name": "stdout",
          "output_type": "stream",
          "text": [
            "men\n"
          ]
        },
        {
          "name": "stderr",
          "output_type": "stream",
          "text": [
            "100%|██████████| 10638/10638 [00:00<00:00, 18891.16it/s]\n"
          ]
        },
        {
          "name": "stdout",
          "output_type": "stream",
          "text": [
            "girl\n"
          ]
        },
        {
          "name": "stderr",
          "output_type": "stream",
          "text": [
            "100%|██████████| 10638/10638 [00:00<00:00, 17975.07it/s]\n"
          ]
        },
        {
          "name": "stdout",
          "output_type": "stream",
          "text": [
            "girls\n"
          ]
        },
        {
          "name": "stderr",
          "output_type": "stream",
          "text": [
            "100%|██████████| 10638/10638 [00:00<00:00, 46243.11it/s]\n"
          ]
        },
        {
          "name": "stdout",
          "output_type": "stream",
          "text": [
            "boy\n"
          ]
        },
        {
          "name": "stderr",
          "output_type": "stream",
          "text": [
            "100%|██████████| 10638/10638 [00:00<00:00, 19135.70it/s]\n"
          ]
        },
        {
          "name": "stdout",
          "output_type": "stream",
          "text": [
            "boys\n"
          ]
        },
        {
          "name": "stderr",
          "output_type": "stream",
          "text": [
            "100%|██████████| 10638/10638 [00:00<00:00, 68895.62it/s]\n"
          ]
        },
        {
          "name": "stdout",
          "output_type": "stream",
          "text": [
            "she\n"
          ]
        },
        {
          "name": "stderr",
          "output_type": "stream",
          "text": [
            "100%|██████████| 10638/10638 [00:00<00:00, 2357799.93it/s]\n"
          ]
        },
        {
          "name": "stdout",
          "output_type": "stream",
          "text": [
            "he\n"
          ]
        },
        {
          "name": "stderr",
          "output_type": "stream",
          "text": [
            "100%|██████████| 10638/10638 [00:00<00:00, 2491151.02it/s]\n"
          ]
        },
        {
          "name": "stdout",
          "output_type": "stream",
          "text": [
            "her\n"
          ]
        },
        {
          "name": "stderr",
          "output_type": "stream",
          "text": [
            "100%|██████████| 10638/10638 [00:00<00:00, 2545875.04it/s]\n"
          ]
        },
        {
          "name": "stdout",
          "output_type": "stream",
          "text": [
            "him\n"
          ]
        },
        {
          "name": "stderr",
          "output_type": "stream",
          "text": [
            "100%|██████████| 10638/10638 [00:00<00:00, 2395522.71it/s]\n"
          ]
        },
        {
          "name": "stdout",
          "output_type": "stream",
          "text": [
            "his\n"
          ]
        },
        {
          "name": "stderr",
          "output_type": "stream",
          "text": [
            "100%|██████████| 10638/10638 [00:00<00:00, 2794626.45it/s]\n"
          ]
        },
        {
          "name": "stdout",
          "output_type": "stream",
          "text": [
            "female\n"
          ]
        },
        {
          "name": "stderr",
          "output_type": "stream",
          "text": [
            "100%|██████████| 10638/10638 [00:00<00:00, 93667.75it/s]\n"
          ]
        },
        {
          "name": "stdout",
          "output_type": "stream",
          "text": [
            "male\n"
          ]
        },
        {
          "name": "stderr",
          "output_type": "stream",
          "text": [
            "100%|██████████| 10638/10638 [00:00<00:00, 96540.11it/s]\n"
          ]
        },
        {
          "name": "stdout",
          "output_type": "stream",
          "text": [
            "mother\n"
          ]
        },
        {
          "name": "stderr",
          "output_type": "stream",
          "text": [
            "100%|██████████| 10638/10638 [00:00<00:00, 184449.99it/s]\n"
          ]
        },
        {
          "name": "stdout",
          "output_type": "stream",
          "text": [
            "father\n"
          ]
        },
        {
          "name": "stderr",
          "output_type": "stream",
          "text": [
            "100%|██████████| 10638/10638 [00:00<00:00, 279951.85it/s]\n"
          ]
        },
        {
          "name": "stdout",
          "output_type": "stream",
          "text": [
            "sister\n"
          ]
        },
        {
          "name": "stderr",
          "output_type": "stream",
          "text": [
            "100%|██████████| 10638/10638 [00:00<00:00, 612158.46it/s]\n"
          ]
        },
        {
          "name": "stdout",
          "output_type": "stream",
          "text": [
            "brother\n"
          ]
        },
        {
          "name": "stderr",
          "output_type": "stream",
          "text": [
            "100%|██████████| 10638/10638 [00:00<00:00, 659244.79it/s]\n"
          ]
        },
        {
          "name": "stdout",
          "output_type": "stream",
          "text": [
            "daughter\n"
          ]
        },
        {
          "name": "stderr",
          "output_type": "stream",
          "text": [
            "100%|██████████| 10638/10638 [00:00<00:00, 259034.82it/s]\n"
          ]
        },
        {
          "name": "stdout",
          "output_type": "stream",
          "text": [
            "son\n"
          ]
        },
        {
          "name": "stderr",
          "output_type": "stream",
          "text": [
            "100%|██████████| 10638/10638 [00:00<00:00, 185139.57it/s]\n"
          ]
        },
        {
          "name": "stdout",
          "output_type": "stream",
          "text": [
            "feminine\n"
          ]
        },
        {
          "name": "stderr",
          "output_type": "stream",
          "text": [
            "100%|██████████| 10638/10638 [00:00<00:00, 2476907.18it/s]\n"
          ]
        },
        {
          "name": "stdout",
          "output_type": "stream",
          "text": [
            "masculine\n"
          ]
        },
        {
          "name": "stderr",
          "output_type": "stream",
          "text": [
            "100%|██████████| 10638/10638 [00:00<00:00, 2577941.18it/s]\n"
          ]
        },
        {
          "name": "stdout",
          "output_type": "stream",
          "text": [
            "androgynous\n"
          ]
        },
        {
          "name": "stderr",
          "output_type": "stream",
          "text": [
            "100%|██████████| 10638/10638 [00:00<00:00, 2604576.85it/s]\n"
          ]
        },
        {
          "name": "stdout",
          "output_type": "stream",
          "text": [
            "trans\n"
          ]
        },
        {
          "name": "stderr",
          "output_type": "stream",
          "text": [
            "100%|██████████| 10638/10638 [00:00<00:00, 2876789.55it/s]\n"
          ]
        },
        {
          "name": "stdout",
          "output_type": "stream",
          "text": [
            "transgender\n"
          ]
        },
        {
          "name": "stderr",
          "output_type": "stream",
          "text": [
            "100%|██████████| 10638/10638 [00:00<00:00, 2506263.32it/s]\n"
          ]
        },
        {
          "name": "stdout",
          "output_type": "stream",
          "text": [
            "transsexual\n"
          ]
        },
        {
          "name": "stderr",
          "output_type": "stream",
          "text": [
            "100%|██████████| 10638/10638 [00:00<00:00, 2527559.39it/s]\n"
          ]
        },
        {
          "name": "stdout",
          "output_type": "stream",
          "text": [
            "nonbinary\n"
          ]
        },
        {
          "name": "stderr",
          "output_type": "stream",
          "text": [
            "100%|██████████| 10638/10638 [00:00<00:00, 2440464.14it/s]\n"
          ]
        },
        {
          "name": "stdout",
          "output_type": "stream",
          "text": [
            "non-binary\n"
          ]
        },
        {
          "name": "stderr",
          "output_type": "stream",
          "text": [
            "100%|██████████| 10638/10638 [00:00<00:00, 2740051.95it/s]\n"
          ]
        },
        {
          "name": "stdout",
          "output_type": "stream",
          "text": [
            "two-spirit\n"
          ]
        },
        {
          "name": "stderr",
          "output_type": "stream",
          "text": [
            "100%|██████████| 10638/10638 [00:00<00:00, 2673397.60it/s]\n"
          ]
        },
        {
          "name": "stdout",
          "output_type": "stream",
          "text": [
            "hijra\n"
          ]
        },
        {
          "name": "stderr",
          "output_type": "stream",
          "text": [
            "100%|██████████| 10638/10638 [00:00<00:00, 2606098.12it/s]\n"
          ]
        },
        {
          "name": "stdout",
          "output_type": "stream",
          "text": [
            "genderqueer\n"
          ]
        },
        {
          "name": "stderr",
          "output_type": "stream",
          "text": [
            "100%|██████████| 10638/10638 [00:00<00:00, 2521132.67it/s]\n"
          ]
        },
        {
          "name": "stdout",
          "output_type": "stream",
          "text": [
            "black\n"
          ]
        },
        {
          "name": "stderr",
          "output_type": "stream",
          "text": [
            "100%|██████████| 10638/10638 [00:00<00:00, 35447.69it/s]\n"
          ]
        },
        {
          "name": "stdout",
          "output_type": "stream",
          "text": [
            "asian\n"
          ]
        },
        {
          "name": "stderr",
          "output_type": "stream",
          "text": [
            "100%|██████████| 10638/10638 [00:00<00:00, 130978.12it/s]\n"
          ]
        },
        {
          "name": "stdout",
          "output_type": "stream",
          "text": [
            "hispanic\n"
          ]
        },
        {
          "name": "stderr",
          "output_type": "stream",
          "text": [
            "100%|██████████| 10638/10638 [00:00<00:00, 866203.45it/s]\n"
          ]
        },
        {
          "name": "stdout",
          "output_type": "stream",
          "text": [
            "white\n"
          ]
        },
        {
          "name": "stderr",
          "output_type": "stream",
          "text": [
            "100%|██████████| 10638/10638 [00:00<00:00, 27675.28it/s]\n"
          ]
        },
        {
          "name": "stdout",
          "output_type": "stream",
          "text": [
            "african\n"
          ]
        },
        {
          "name": "stderr",
          "output_type": "stream",
          "text": [
            "100%|██████████| 10638/10638 [00:00<00:00, 283509.48it/s]\n"
          ]
        },
        {
          "name": "stdout",
          "output_type": "stream",
          "text": [
            "american\n"
          ]
        },
        {
          "name": "stderr",
          "output_type": "stream",
          "text": [
            "100%|██████████| 10638/10638 [00:00<00:00, 241804.67it/s]\n"
          ]
        },
        {
          "name": "stdout",
          "output_type": "stream",
          "text": [
            "latino\n"
          ]
        },
        {
          "name": "stderr",
          "output_type": "stream",
          "text": [
            "100%|██████████| 10638/10638 [00:00<00:00, 1194298.87it/s]\n"
          ]
        },
        {
          "name": "stdout",
          "output_type": "stream",
          "text": [
            "latina\n"
          ]
        },
        {
          "name": "stderr",
          "output_type": "stream",
          "text": [
            "100%|██████████| 10638/10638 [00:00<00:00, 1333662.30it/s]\n"
          ]
        },
        {
          "name": "stdout",
          "output_type": "stream",
          "text": [
            "caucasian\n"
          ]
        },
        {
          "name": "stderr",
          "output_type": "stream",
          "text": [
            "100%|██████████| 10638/10638 [00:00<00:00, 655188.70it/s]\n"
          ]
        },
        {
          "name": "stdout",
          "output_type": "stream",
          "text": [
            "africans\n"
          ]
        },
        {
          "name": "stderr",
          "output_type": "stream",
          "text": [
            "100%|██████████| 10638/10638 [00:00<00:00, 1393647.11it/s]\n"
          ]
        },
        {
          "name": "stdout",
          "output_type": "stream",
          "text": [
            "middle-eastern\n"
          ]
        },
        {
          "name": "stderr",
          "output_type": "stream",
          "text": [
            "100%|██████████| 10638/10638 [00:00<00:00, 1392864.02it/s]\n"
          ]
        },
        {
          "name": "stdout",
          "output_type": "stream",
          "text": [
            "australian\n"
          ]
        },
        {
          "name": "stderr",
          "output_type": "stream",
          "text": [
            "100%|██████████| 10638/10638 [00:00<00:00, 1549970.68it/s]\n"
          ]
        },
        {
          "name": "stdout",
          "output_type": "stream",
          "text": [
            "australians\n"
          ]
        },
        {
          "name": "stderr",
          "output_type": "stream",
          "text": [
            "100%|██████████| 10638/10638 [00:00<00:00, 2552282.69it/s]\n"
          ]
        },
        {
          "name": "stdout",
          "output_type": "stream",
          "text": [
            "asians\n"
          ]
        },
        {
          "name": "stderr",
          "output_type": "stream",
          "text": [
            "100%|██████████| 10638/10638 [00:00<00:00, 534609.05it/s]\n"
          ]
        },
        {
          "name": "stdout",
          "output_type": "stream",
          "text": [
            "european\n"
          ]
        },
        {
          "name": "stderr",
          "output_type": "stream",
          "text": [
            "100%|██████████| 10638/10638 [00:00<00:00, 892772.94it/s]\n"
          ]
        },
        {
          "name": "stdout",
          "output_type": "stream",
          "text": [
            "europeans\n"
          ]
        },
        {
          "name": "stderr",
          "output_type": "stream",
          "text": [
            "100%|██████████| 10638/10638 [00:00<00:00, 2204496.34it/s]\n"
          ]
        },
        {
          "name": "stdout",
          "output_type": "stream",
          "text": [
            "chinese\n"
          ]
        },
        {
          "name": "stderr",
          "output_type": "stream",
          "text": [
            "100%|██████████| 10638/10638 [00:00<00:00, 237047.65it/s]\n"
          ]
        },
        {
          "name": "stdout",
          "output_type": "stream",
          "text": [
            "indian\n"
          ]
        },
        {
          "name": "stderr",
          "output_type": "stream",
          "text": [
            "100%|██████████| 10638/10638 [00:00<00:00, 284801.56it/s]\n"
          ]
        },
        {
          "name": "stdout",
          "output_type": "stream",
          "text": [
            "indonesian\n"
          ]
        },
        {
          "name": "stderr",
          "output_type": "stream",
          "text": [
            "100%|██████████| 10638/10638 [00:00<00:00, 1971239.49it/s]\n"
          ]
        },
        {
          "name": "stdout",
          "output_type": "stream",
          "text": [
            "brazilian\n"
          ]
        },
        {
          "name": "stderr",
          "output_type": "stream",
          "text": [
            "100%|██████████| 10638/10638 [00:00<00:00, 1082933.01it/s]\n"
          ]
        },
        {
          "name": "stdout",
          "output_type": "stream",
          "text": [
            "pakistani\n"
          ]
        },
        {
          "name": "stderr",
          "output_type": "stream",
          "text": [
            "100%|██████████| 10638/10638 [00:00<00:00, 1206506.03it/s]\n"
          ]
        },
        {
          "name": "stdout",
          "output_type": "stream",
          "text": [
            "bangladeshi\n"
          ]
        },
        {
          "name": "stderr",
          "output_type": "stream",
          "text": [
            "100%|██████████| 10638/10638 [00:00<00:00, 2235309.15it/s]\n"
          ]
        },
        {
          "name": "stdout",
          "output_type": "stream",
          "text": [
            "russian\n"
          ]
        },
        {
          "name": "stderr",
          "output_type": "stream",
          "text": [
            "100%|██████████| 10638/10638 [00:00<00:00, 1011516.54it/s]\n"
          ]
        },
        {
          "name": "stdout",
          "output_type": "stream",
          "text": [
            "nigerian\n"
          ]
        },
        {
          "name": "stderr",
          "output_type": "stream",
          "text": [
            "100%|██████████| 10638/10638 [00:00<00:00, 2001390.78it/s]\n"
          ]
        },
        {
          "name": "stdout",
          "output_type": "stream",
          "text": [
            "japanese\n"
          ]
        },
        {
          "name": "stderr",
          "output_type": "stream",
          "text": [
            "100%|██████████| 10638/10638 [00:00<00:00, 533324.64it/s]\n"
          ]
        },
        {
          "name": "stdout",
          "output_type": "stream",
          "text": [
            "mexican\n"
          ]
        },
        {
          "name": "stderr",
          "output_type": "stream",
          "text": [
            "100%|██████████| 10638/10638 [00:00<00:00, 668389.45it/s]\n"
          ]
        },
        {
          "name": "stdout",
          "output_type": "stream",
          "text": [
            "filipino \n"
          ]
        },
        {
          "name": "stderr",
          "output_type": "stream",
          "text": [
            "100%|██████████| 10638/10638 [00:00<00:00, 2157070.63it/s]\n"
          ]
        },
        {
          "name": "stdout",
          "output_type": "stream",
          "text": [
            "vietnamese \n"
          ]
        },
        {
          "name": "stderr",
          "output_type": "stream",
          "text": [
            "100%|██████████| 10638/10638 [00:00<00:00, 2317509.27it/s]\n"
          ]
        },
        {
          "name": "stdout",
          "output_type": "stream",
          "text": [
            "german\n"
          ]
        },
        {
          "name": "stderr",
          "output_type": "stream",
          "text": [
            "100%|██████████| 10638/10638 [00:00<00:00, 825528.80it/s]\n"
          ]
        },
        {
          "name": "stdout",
          "output_type": "stream",
          "text": [
            "egyptian\n"
          ]
        },
        {
          "name": "stderr",
          "output_type": "stream",
          "text": [
            "100%|██████████| 10638/10638 [00:00<00:00, 1278664.74it/s]\n"
          ]
        },
        {
          "name": "stdout",
          "output_type": "stream",
          "text": [
            "ethiopian\n"
          ]
        },
        {
          "name": "stderr",
          "output_type": "stream",
          "text": [
            "100%|██████████| 10638/10638 [00:00<00:00, 2328029.11it/s]\n"
          ]
        },
        {
          "name": "stdout",
          "output_type": "stream",
          "text": [
            "turkish\n"
          ]
        },
        {
          "name": "stderr",
          "output_type": "stream",
          "text": [
            "100%|██████████| 10638/10638 [00:00<00:00, 2378665.42it/s]\n"
          ]
        },
        {
          "name": "stdout",
          "output_type": "stream",
          "text": [
            "iranian\n"
          ]
        },
        {
          "name": "stderr",
          "output_type": "stream",
          "text": [
            "100%|██████████| 10638/10638 [00:00<00:00, 2382348.55it/s]\n"
          ]
        },
        {
          "name": "stdout",
          "output_type": "stream",
          "text": [
            "thai\n"
          ]
        },
        {
          "name": "stderr",
          "output_type": "stream",
          "text": [
            "100%|██████████| 10638/10638 [00:00<00:00, 1333343.47it/s]\n"
          ]
        },
        {
          "name": "stdout",
          "output_type": "stream",
          "text": [
            "congolese\n"
          ]
        },
        {
          "name": "stderr",
          "output_type": "stream",
          "text": [
            "100%|██████████| 10638/10638 [00:00<00:00, 2366302.82it/s]\n"
          ]
        },
        {
          "name": "stdout",
          "output_type": "stream",
          "text": [
            "french\n"
          ]
        },
        {
          "name": "stderr",
          "output_type": "stream",
          "text": [
            "100%|██████████| 10638/10638 [00:00<00:00, 744096.56it/s]\n"
          ]
        },
        {
          "name": "stdout",
          "output_type": "stream",
          "text": [
            "british \n"
          ]
        },
        {
          "name": "stderr",
          "output_type": "stream",
          "text": [
            "100%|██████████| 10638/10638 [00:00<00:00, 2338644.90it/s]\n"
          ]
        },
        {
          "name": "stdout",
          "output_type": "stream",
          "text": [
            "italian\n"
          ]
        },
        {
          "name": "stderr",
          "output_type": "stream",
          "text": [
            "100%|██████████| 10638/10638 [00:00<00:00, 848802.59it/s]\n"
          ]
        },
        {
          "name": "stdout",
          "output_type": "stream",
          "text": [
            "korean\n"
          ]
        },
        {
          "name": "stderr",
          "output_type": "stream",
          "text": [
            "100%|██████████| 10638/10638 [00:00<00:00, 1285887.37it/s]\n"
          ]
        },
        {
          "name": "stdout",
          "output_type": "stream",
          "text": [
            "burmese\n"
          ]
        },
        {
          "name": "stderr",
          "output_type": "stream",
          "text": [
            "100%|██████████| 10638/10638 [00:00<00:00, 2370829.22it/s]\n"
          ]
        },
        {
          "name": "stdout",
          "output_type": "stream",
          "text": [
            "canadian \n"
          ]
        },
        {
          "name": "stderr",
          "output_type": "stream",
          "text": [
            "100%|██████████| 10638/10638 [00:00<00:00, 2378792.24it/s]\n"
          ]
        },
        {
          "name": "stdout",
          "output_type": "stream",
          "text": [
            "australian \n"
          ]
        },
        {
          "name": "stderr",
          "output_type": "stream",
          "text": [
            "100%|██████████| 10638/10638 [00:00<00:00, 2372468.01it/s]\n"
          ]
        },
        {
          "name": "stdout",
          "output_type": "stream",
          "text": [
            "spanish\n"
          ]
        },
        {
          "name": "stderr",
          "output_type": "stream",
          "text": [
            "100%|██████████| 10638/10638 [00:00<00:00, 1341279.56it/s]\n"
          ]
        },
        {
          "name": "stdout",
          "output_type": "stream",
          "text": [
            "dutch\n"
          ]
        },
        {
          "name": "stderr",
          "output_type": "stream",
          "text": [
            "100%|██████████| 10638/10638 [00:00<00:00, 2399129.26it/s]\n"
          ]
        },
        {
          "name": "stdout",
          "output_type": "stream",
          "text": [
            "swiss\n"
          ]
        },
        {
          "name": "stderr",
          "output_type": "stream",
          "text": [
            "100%|██████████| 10638/10638 [00:00<00:00, 1342692.24it/s]\n"
          ]
        },
        {
          "name": "stdout",
          "output_type": "stream",
          "text": [
            "saudi\n"
          ]
        },
        {
          "name": "stderr",
          "output_type": "stream",
          "text": [
            "100%|██████████| 10638/10638 [00:00<00:00, 2397195.83it/s]\n"
          ]
        },
        {
          "name": "stdout",
          "output_type": "stream",
          "text": [
            "argentinian \n"
          ]
        },
        {
          "name": "stderr",
          "output_type": "stream",
          "text": [
            "100%|██████████| 10638/10638 [00:00<00:00, 2395265.51it/s]\n"
          ]
        },
        {
          "name": "stdout",
          "output_type": "stream",
          "text": [
            "taiwanese \n"
          ]
        },
        {
          "name": "stderr",
          "output_type": "stream",
          "text": [
            "100%|██████████| 10638/10638 [00:00<00:00, 2434339.35it/s]\n"
          ]
        },
        {
          "name": "stdout",
          "output_type": "stream",
          "text": [
            "swedish \n"
          ]
        },
        {
          "name": "stderr",
          "output_type": "stream",
          "text": [
            "100%|██████████| 10638/10638 [00:00<00:00, 2372594.17it/s]\n"
          ]
        },
        {
          "name": "stdout",
          "output_type": "stream",
          "text": [
            "belgian\n"
          ]
        },
        {
          "name": "stderr",
          "output_type": "stream",
          "text": [
            "100%|██████████| 10638/10638 [00:00<00:00, 2370703.25it/s]\n"
          ]
        },
        {
          "name": "stdout",
          "output_type": "stream",
          "text": [
            "polish\n"
          ]
        },
        {
          "name": "stderr",
          "output_type": "stream",
          "text": [
            "100%|██████████| 10638/10638 [00:00<00:00, 1008977.57it/s]\n"
          ]
        },
        {
          "name": "stdout",
          "output_type": "stream",
          "text": [
            "israeli\n"
          ]
        },
        {
          "name": "stderr",
          "output_type": "stream",
          "text": [
            "100%|██████████| 10638/10638 [00:00<00:00, 1458709.49it/s]\n"
          ]
        },
        {
          "name": "stdout",
          "output_type": "stream",
          "text": [
            "irish\n"
          ]
        },
        {
          "name": "stderr",
          "output_type": "stream",
          "text": [
            "100%|██████████| 10638/10638 [00:00<00:00, 1402495.94it/s]\n"
          ]
        },
        {
          "name": "stdout",
          "output_type": "stream",
          "text": [
            "greek\n"
          ]
        },
        {
          "name": "stderr",
          "output_type": "stream",
          "text": [
            "100%|██████████| 10638/10638 [00:00<00:00, 1407983.78it/s]\n"
          ]
        },
        {
          "name": "stdout",
          "output_type": "stream",
          "text": [
            "ukrainian \n"
          ]
        },
        {
          "name": "stderr",
          "output_type": "stream",
          "text": [
            "100%|██████████| 10638/10638 [00:00<00:00, 2585110.43it/s]\n"
          ]
        },
        {
          "name": "stdout",
          "output_type": "stream",
          "text": [
            "jamaican \n"
          ]
        },
        {
          "name": "stderr",
          "output_type": "stream",
          "text": [
            "100%|██████████| 10638/10638 [00:00<00:00, 2654945.02it/s]\n"
          ]
        },
        {
          "name": "stdout",
          "output_type": "stream",
          "text": [
            "mongolian\n"
          ]
        },
        {
          "name": "stderr",
          "output_type": "stream",
          "text": [
            "100%|██████████| 10638/10638 [00:00<00:00, 1520912.36it/s]\n"
          ]
        },
        {
          "name": "stdout",
          "output_type": "stream",
          "text": [
            "armenian\n"
          ]
        },
        {
          "name": "stderr",
          "output_type": "stream",
          "text": [
            "100%|██████████| 10638/10638 [00:00<00:00, 1361248.58it/s]\n"
          ]
        },
        {
          "name": "stdout",
          "output_type": "stream",
          "text": [
            "disability\n"
          ]
        },
        {
          "name": "stderr",
          "output_type": "stream",
          "text": [
            "100%|██████████| 10638/10638 [00:00<00:00, 2462009.93it/s]\n"
          ]
        },
        {
          "name": "stdout",
          "output_type": "stream",
          "text": [
            "disabled\n"
          ]
        },
        {
          "name": "stderr",
          "output_type": "stream",
          "text": [
            "100%|██████████| 10638/10638 [00:00<00:00, 1222405.03it/s]\n"
          ]
        },
        {
          "name": "stdout",
          "output_type": "stream",
          "text": [
            "handicap\n"
          ]
        },
        {
          "name": "stderr",
          "output_type": "stream",
          "text": [
            "100%|██████████| 10638/10638 [00:00<00:00, 1591716.82it/s]\n"
          ]
        },
        {
          "name": "stdout",
          "output_type": "stream",
          "text": [
            "handicapped\n"
          ]
        },
        {
          "name": "stderr",
          "output_type": "stream",
          "text": [
            "100%|██████████| 10638/10638 [00:00<00:00, 1215313.12it/s]\n"
          ]
        },
        {
          "name": "stdout",
          "output_type": "stream",
          "text": [
            "mentally\n"
          ]
        },
        {
          "name": "stderr",
          "output_type": "stream",
          "text": [
            "100%|██████████| 10638/10638 [00:00<00:00, 2528992.01it/s]\n"
          ]
        },
        {
          "name": "stdout",
          "output_type": "stream",
          "text": [
            "mental\n"
          ]
        },
        {
          "name": "stderr",
          "output_type": "stream",
          "text": [
            "100%|██████████| 10638/10638 [00:00<00:00, 1232092.73it/s]\n"
          ]
        },
        {
          "name": "stdout",
          "output_type": "stream",
          "text": [
            "autistic\n"
          ]
        },
        {
          "name": "stderr",
          "output_type": "stream",
          "text": [
            "100%|██████████| 10638/10638 [00:00<00:00, 2318352.17it/s]\n"
          ]
        },
        {
          "name": "stdout",
          "output_type": "stream",
          "text": [
            "autism\n"
          ]
        },
        {
          "name": "stderr",
          "output_type": "stream",
          "text": [
            "100%|██████████| 10638/10638 [00:00<00:00, 2651946.86it/s]\n"
          ]
        },
        {
          "name": "stdout",
          "output_type": "stream",
          "text": [
            "lesbian\n"
          ]
        },
        {
          "name": "stderr",
          "output_type": "stream",
          "text": [
            "100%|██████████| 10638/10638 [00:00<00:00, 1188097.62it/s]\n"
          ]
        },
        {
          "name": "stdout",
          "output_type": "stream",
          "text": [
            "lesbians\n"
          ]
        },
        {
          "name": "stderr",
          "output_type": "stream",
          "text": [
            "100%|██████████| 10638/10638 [00:00<00:00, 1342369.08it/s]\n"
          ]
        },
        {
          "name": "stdout",
          "output_type": "stream",
          "text": [
            "gay\n"
          ]
        },
        {
          "name": "stderr",
          "output_type": "stream",
          "text": [
            "100%|██████████| 10638/10638 [00:00<00:00, 779344.06it/s]\n"
          ]
        },
        {
          "name": "stdout",
          "output_type": "stream",
          "text": [
            "bisexual\n"
          ]
        },
        {
          "name": "stderr",
          "output_type": "stream",
          "text": [
            "100%|██████████| 10638/10638 [00:00<00:00, 2460787.89it/s]\n"
          ]
        },
        {
          "name": "stdout",
          "output_type": "stream",
          "text": [
            "pansexual\n"
          ]
        },
        {
          "name": "stderr",
          "output_type": "stream",
          "text": [
            "100%|██████████| 10638/10638 [00:00<00:00, 2762273.63it/s]\n"
          ]
        },
        {
          "name": "stdout",
          "output_type": "stream",
          "text": [
            "asexual\n"
          ]
        },
        {
          "name": "stderr",
          "output_type": "stream",
          "text": [
            "100%|██████████| 10638/10638 [00:00<00:00, 2592319.66it/s]\n"
          ]
        },
        {
          "name": "stdout",
          "output_type": "stream",
          "text": [
            "queer\n"
          ]
        },
        {
          "name": "stderr",
          "output_type": "stream",
          "text": [
            "100%|██████████| 10638/10638 [00:00<00:00, 2670038.06it/s]\n"
          ]
        },
        {
          "name": "stdout",
          "output_type": "stream",
          "text": [
            "straight\n"
          ]
        },
        {
          "name": "stderr",
          "output_type": "stream",
          "text": [
            "100%|██████████| 10638/10638 [00:00<00:00, 694740.38it/s]\n"
          ]
        },
        {
          "name": "stdout",
          "output_type": "stream",
          "text": [
            "muslim\n"
          ]
        },
        {
          "name": "stderr",
          "output_type": "stream",
          "text": [
            "100%|██████████| 10638/10638 [00:00<00:00, 918710.36it/s]\n"
          ]
        },
        {
          "name": "stdout",
          "output_type": "stream",
          "text": [
            "christian\n"
          ]
        },
        {
          "name": "stderr",
          "output_type": "stream",
          "text": [
            "100%|██████████| 10638/10638 [00:00<00:00, 1386415.37it/s]\n"
          ]
        },
        {
          "name": "stdout",
          "output_type": "stream",
          "text": [
            "jew\n"
          ]
        },
        {
          "name": "stderr",
          "output_type": "stream",
          "text": [
            "100%|██████████| 10638/10638 [00:00<00:00, 2415232.54it/s]\n"
          ]
        },
        {
          "name": "stdout",
          "output_type": "stream",
          "text": [
            "jewish\n"
          ]
        },
        {
          "name": "stderr",
          "output_type": "stream",
          "text": [
            "100%|██████████| 10638/10638 [00:00<00:00, 1234103.33it/s]\n"
          ]
        },
        {
          "name": "stdout",
          "output_type": "stream",
          "text": [
            "sikh\n"
          ]
        },
        {
          "name": "stderr",
          "output_type": "stream",
          "text": [
            "100%|██████████| 10638/10638 [00:00<00:00, 2311147.10it/s]\n"
          ]
        },
        {
          "name": "stdout",
          "output_type": "stream",
          "text": [
            "buddhist\n"
          ]
        },
        {
          "name": "stderr",
          "output_type": "stream",
          "text": [
            "100%|██████████| 10638/10638 [00:00<00:00, 1028300.94it/s]\n"
          ]
        },
        {
          "name": "stdout",
          "output_type": "stream",
          "text": [
            "hindu\n"
          ]
        },
        {
          "name": "stderr",
          "output_type": "stream",
          "text": [
            "100%|██████████| 10638/10638 [00:00<00:00, 1380154.23it/s]\n"
          ]
        },
        {
          "name": "stdout",
          "output_type": "stream",
          "text": [
            "atheist\n"
          ]
        },
        {
          "name": "stderr",
          "output_type": "stream",
          "text": [
            "100%|██████████| 10638/10638 [00:00<00:00, 2591115.33it/s]\n"
          ]
        },
        {
          "name": "stdout",
          "output_type": "stream",
          "text": [
            "muslims\n"
          ]
        },
        {
          "name": "stderr",
          "output_type": "stream",
          "text": [
            "100%|██████████| 10638/10638 [00:00<00:00, 1454430.08it/s]\n"
          ]
        },
        {
          "name": "stdout",
          "output_type": "stream",
          "text": [
            "christians\n"
          ]
        },
        {
          "name": "stderr",
          "output_type": "stream",
          "text": [
            "100%|██████████| 10638/10638 [00:00<00:00, 1515488.28it/s]\n"
          ]
        },
        {
          "name": "stdout",
          "output_type": "stream",
          "text": [
            "jews\n"
          ]
        },
        {
          "name": "stderr",
          "output_type": "stream",
          "text": [
            "100%|██████████| 10638/10638 [00:00<00:00, 2422576.06it/s]\n"
          ]
        },
        {
          "name": "stdout",
          "output_type": "stream",
          "text": [
            "sikhs\n"
          ]
        },
        {
          "name": "stderr",
          "output_type": "stream",
          "text": [
            "100%|██████████| 10638/10638 [00:00<00:00, 2661120.41it/s]\n"
          ]
        },
        {
          "name": "stdout",
          "output_type": "stream",
          "text": [
            "buddhists\n"
          ]
        },
        {
          "name": "stderr",
          "output_type": "stream",
          "text": [
            "100%|██████████| 10638/10638 [00:00<00:00, 2820952.52it/s]\n"
          ]
        },
        {
          "name": "stdout",
          "output_type": "stream",
          "text": [
            "hindus\n"
          ]
        },
        {
          "name": "stderr",
          "output_type": "stream",
          "text": [
            "100%|██████████| 10638/10638 [00:00<00:00, 2430096.72it/s]\n"
          ]
        },
        {
          "name": "stdout",
          "output_type": "stream",
          "text": [
            "atheists\n"
          ]
        },
        {
          "name": "stderr",
          "output_type": "stream",
          "text": [
            "100%|██████████| 10638/10638 [00:00<00:00, 2737530.27it/s]\n"
          ]
        },
        {
          "name": "stdout",
          "output_type": "stream",
          "text": [
            "old\n"
          ]
        },
        {
          "name": "stderr",
          "output_type": "stream",
          "text": [
            "100%|██████████| 10638/10638 [00:00<00:00, 120571.05it/s]\n"
          ]
        },
        {
          "name": "stdout",
          "output_type": "stream",
          "text": [
            "elderly\n"
          ]
        },
        {
          "name": "stderr",
          "output_type": "stream",
          "text": [
            "100%|██████████| 10638/10638 [00:00<00:00, 356236.72it/s]\n"
          ]
        },
        {
          "name": "stdout",
          "output_type": "stream",
          "text": [
            "retired\n"
          ]
        },
        {
          "name": "stderr",
          "output_type": "stream",
          "text": [
            "100%|██████████| 10638/10638 [00:00<00:00, 1544123.96it/s]\n"
          ]
        },
        {
          "name": "stdout",
          "output_type": "stream",
          "text": [
            "teenage\n"
          ]
        },
        {
          "name": "stderr",
          "output_type": "stream",
          "text": [
            "100%|██████████| 10638/10638 [00:00<00:00, 567080.22it/s]\n"
          ]
        },
        {
          "name": "stdout",
          "output_type": "stream",
          "text": [
            "young\n"
          ]
        },
        {
          "name": "stderr",
          "output_type": "stream",
          "text": [
            "100%|██████████| 10638/10638 [00:00<00:00, 65195.01it/s]\n"
          ]
        },
        {
          "name": "stdout",
          "output_type": "stream",
          "text": [
            "senior\n"
          ]
        },
        {
          "name": "stderr",
          "output_type": "stream",
          "text": [
            "100%|██████████| 10638/10638 [00:00<00:00, 846371.37it/s]\n"
          ]
        },
        {
          "name": "stdout",
          "output_type": "stream",
          "text": [
            "seniors\n"
          ]
        },
        {
          "name": "stderr",
          "output_type": "stream",
          "text": [
            "100%|██████████| 10638/10638 [00:00<00:00, 1319308.28it/s]\n"
          ]
        },
        {
          "name": "stdout",
          "output_type": "stream",
          "text": [
            "teenager\n"
          ]
        },
        {
          "name": "stderr",
          "output_type": "stream",
          "text": [
            "100%|██████████| 10638/10638 [00:00<00:00, 743290.84it/s]\n"
          ]
        },
        {
          "name": "stdout",
          "output_type": "stream",
          "text": [
            "teenagers\n"
          ]
        },
        {
          "name": "stderr",
          "output_type": "stream",
          "text": [
            "100%|██████████| 10638/10638 [00:00<00:00, 355620.60it/s]\n"
          ]
        },
        {
          "name": "stdout",
          "output_type": "stream",
          "text": [
            "\n"
          ]
        },
        {
          "name": "stderr",
          "output_type": "stream",
          "text": [
            "100%|██████████| 10638/10638 [00:00<00:00, 2339503.25it/s]\n"
          ]
        }
      ],
      "source": [
        "from collections import defaultdict as dd\n",
        "pmi_identity_label = dd(list)\n",
        "for identity_label in (identity_labels):\n",
        "  print(identity_label)\n",
        "  for word in tqdm(unigram_frequency.keys()):\n",
        "    pmi_score = pmi(word1=identity_label, word2=word,unigram_freq=unigram_frequency,bigram_freq=bigram_frequency)\n",
        "    #print(\"PMI:\",pmi_score)\n",
        "    if pmi_score:\n",
        "      pmi_identity_label[identity_label].append((word,pmi_score))"
      ]
    },
    {
      "cell_type": "code",
      "execution_count": 31,
      "metadata": {},
      "outputs": [
        {
          "name": "stdout",
          "output_type": "stream",
          "text": [
            "woman [('buys', 5.864070952771102), ('ordered', 5.826092903207355), ('considering', 5.7607391652132565), ('knits', 5.489748035551119), ('weaves', 5.480287706302052), ('modeling', 5.416784763995894), ('applies', 5.40228519430078), ('flirting', 5.213251369910762), ('sips', 5.200651333131129), ('dries', 5.1881603889479315), ('sews', 5.169624437510505), ('frowns', 5.088624715397017), ('admires', 5.012718382538053), ('feeds', 4.944603357613442), ('shares', 4.817322693579623), ('likes', 4.769342664677802), ('calls', 4.748460835434819), ('owns', 4.714752959939076), ('ironing', 4.6907902876506915), ('gave', 4.61729808527163)]\n",
            "women [('gossiping', 8.184286926573977), ('bikinis', 6.583842998409607), ('discuss', 5.990145687710843), ('knitting', 5.624395126157468), ('strolling', 5.616330851158511), ('sunbathing', 5.605914235213173), ('discussing', 5.573367554751044), ('chatting', 5.504525353057125), ('chat', 5.490390054299658), ('arguing', 5.3394242707431605), ('jog', 5.245883502903738), ('dressing', 5.233002211607006), ('laugh', 5.178886938831388), ('compete', 5.126595984602067), ('converse', 5.123951263346504), ('talk', 5.062649808283064), ('sit', 5.053541408464765), ('sharing', 5.010609790270558), ('know', 4.953365838436082), ('examine', 4.8818764761483555)]\n",
            "man [('refueling', 5.45082292478485), ('owns', 5.2967228905042205), ('steals', 5.246682208004626), ('empties', 5.035785425506007), ('accepts', 5.007216273309235), ('buys', 4.943635578875798), ('shaves', 4.9340319267052735), ('piloting', 4.885225748930625), ('loads', 4.865860424063695), ('ponders', 4.809276895697327), ('videotaping', 4.798746228205157), ('changes', 4.772751019672213), ('accidentally', 4.772751019672213), ('calls', 4.748088965437944), ('destroying', 4.747215927565075), ('breakdances', 4.743003676278161), ('collects', 4.7371271099414916), ('contemplates', 4.722124946602245), ('afro', 4.7104667414178705), ('visits', 4.708620682252497)]\n",
            "men [('argue', 6.8636727029360625), ('turbans', 6.726169179186128), ('discuss', 6.653237656732277), ('tuxedos', 6.574166085741077), ('barbecuing', 5.9142415273386995), ('discussing', 5.744606427442804), ('constructing', 5.629307639933539), ('plowing', 5.53534683685055), ('arguing', 5.51066314343492), ('sawing', 5.472882749903897), ('inspect', 5.387080533140582), ('sweating', 5.323204512207859), ('planning', 5.285596587800145), ('engaging', 5.271603315720646), ('kickboxing', 5.206795020092548), ('wrestling', 5.172303975209967), ('loading', 5.141206678464972), ('inspecting', 5.069781100866951), ('chat', 5.033597704378375), ('boxing', 4.903843680233375)]\n",
            "girl [('pigtails', 6.539373891881064), ('learns', 6.478979293828895), ('skips', 6.388213829905713), ('bounces', 5.974936788491307), ('hates', 5.675376506632399), ('likes', 5.656375544702344), ('scouts', 5.579556248580474), ('smelling', 5.518872020952409), ('cries', 5.4490260717272685), ('scout', 5.353448411745037), ('draws', 5.244514040191873), ('blows', 5.188110679798377), ('loves', 5.167352119631579), ('afraid', 5.1570511989415335), ('coloring', 5.111247509328409), ('writes', 5.101909644749073), ('skipping', 5.099691819499254), ('sees', 5.080429917338622), ('closes', 5.080429917338622), ('builds', 5.0705144484735385)]\n",
            "girls [('cheerleading', 6.839218778633747), ('swimsuits', 6.58203344849664), ('bikinis', 6.52675101299545), ('sharing', 6.130822336664312), ('lay', 5.689870138634675), ('studying', 5.651296110933754), ('coloring', 5.315246907801739), ('pose', 5.24105183127767), ('sat', 5.213963571964557), ('matching', 5.119644787352826), ('play', 5.072657772478463), ('wear', 5.011315242208222), ('compete', 5.006494201662109), ('dresses', 4.970188938075822), ('competing', 4.92728894257918), ('sisters', 4.926681619884086), ('read', 4.8525671938917485), ('practice', 4.8407911984525), ('practicing', 4.796878244036855), ('ballet', 4.758984719333891)]\n",
            "boy [('scouts', 7.537083697698468), ('scout', 7.272447631926771), ('learns', 6.089856218648298), ('pretends', 5.837792930635507), ('hides', 5.676748746467853), ('loves', 5.57659518328133), ('crawls', 5.545823981982023), ('likes', 5.544786445050653), ('dribbles', 5.53806058186234), ('cries', 5.359463278405578), ('pretending', 5.23160921539959), ('tosses', 5.189538276963265), ('hiding', 5.1783440652994015), ('wants', 5.159314354975133), ('drowning', 5.1569704145068345), ('builds', 5.096428872571784), ('learning', 5.065750009167924), ('wiping', 5.05743474095592), ('knows', 5.021810831225198), ('picks', 5.016792756458574)]\n",
            "boys [('play', 5.893215237085119), ('splashing', 5.397852994096633), ('fun', 5.1107178080099285), ('wrestling', 5.10771596612435), ('playing', 4.938236908298335), ('practice', 4.9196451498862865), ('hold', 4.80993345086896), ('fighting', 4.779185136412742), ('swim', 4.751882401778388), ('competing', 4.743108488179172), ('learning', 4.74083234512346), ('fight', 4.738749030622971), ('practicing', 4.738228671720707), ('pose', 4.713387138623853), ('throwing', 4.626363524596035), ('digging', 4.518439923787012), ('sit', 4.323283825361068), ('posing', 4.2788254314572765), ('run', 4.2337841127775855), ('kicking', 4.178281091822564)]\n",
            "female [('vocalist', 8.734445848395154), ('gymnast', 8.05901866453808), ('athlete', 7.993596819741719), ('swimmer', 7.789972844278646), ('cheerleader', 7.723915180902984), ('speaker', 7.654967827185492), ('student', 6.801822656835523), ('runner', 6.797148983141419), ('dancer', 6.789381523880038), ('singer', 6.7186785325368374), ('athletes', 6.535943724043219), ('cheerleaders', 6.128787700750603), ('dancers', 6.094823542923649), ('figure', 5.961891497457887), ('performers', 5.9468541811589795), ('tennis', 5.66433965170688), ('artist', 5.601995552371504), ('teacher', 5.491000763445526), ('cyclist', 5.469735572955332), ('volleyball', 5.424044006888819)]\n",
            "male [('cheerleader', 7.520940213393776), ('gymnast', 7.019542429311752), ('athlete', 6.84929775956012), ('model', 6.5923545466859395), ('youth', 6.578716544672978), ('swimmer', 6.564630063740983), ('female', 6.469101281874159), ('dancer', 6.2930476136802405), ('guitarist', 6.14359314963357), ('drummer', 6.126920495384016), ('surfer', 5.987661867961552), ('figure', 5.8844474120325385), ('singer', 5.8193799553587695), ('musician', 5.740459311651608), ('runner', 5.687283420023694), ('teacher', 5.676591083853971), ('cheerleaders', 5.478353756270175), ('performer', 5.379315355189617), ('musicians', 5.366528211322789), ('photographer', 5.284206768990308)]\n",
            "mother [('daughter', 9.737128846353688), ('son', 8.501573149330808), ('helps', 7.576634130234367), ('pushes', 7.152497053358119), ('teaching', 6.898840979840186), ('father', 6.774828457876364), ('helping', 6.2716885384207215), ('watches', 5.849619617780075), ('child', 5.274472003950685), ('pushing', 5.194867211284791), ('holds', 5.131656496258116), ('takes', 4.777067817196561), ('baby', 4.411324803947218), ('looks', 4.089217762741528), ('taking', 4.060193423527776), ('making', 3.7987985195831246), ('watching', 3.770992409984201), ('holding', 3.484144422319017), ('carrying', 3.2645507667554616), ('sits', 3.232990163816292)]\n",
            "father [('son', 10.438014841451738), ('teaches', 9.973812226231205), ('daughter', 9.2577402279614), ('teaching', 8.55277089162802), ('helps', 7.586707852247475), ('shoulders', 6.93255026104495), ('helping', 6.644332339818538), ('watches', 6.054709322198326), ('takes', 5.131095940427031), ('holds', 4.871082628327557), ('child', 3.7820453854346114), ('plays', 3.574244431603888), ('taking', 3.5177261225121064), ('holding', 3.462509284604788), ('watching', 3.3660286327184656), ('children', 2.611152374733383), ('playing', 2.449068869252873), ('two', 1.1015834859131108), ('wearing', 0.8890151444155899)]\n",
            "sister [('wedding', 7.916212426817473), ('play', 6.485343406113203), ('playing', 4.088479153996405)]\n",
            "brother [('sister', 13.2482464022208), ('watches', 6.525480621072048)]\n",
            "daughter [('shoulders', 7.490762064728752), ('swing', 5.834183975914118), ('play', 5.307526734884852), ('enjoying', 5.1749267463291995), ('ride', 5.074501369599088), ('walk', 4.580071567781517), ('eating', 4.18398425220862), ('sitting', 3.1846262771148375), ('playing', 2.988664994769327), ('walking', 2.795745108853299), ('standing', 1.8617489843676098), ('wearing', 1.321696066015532)]\n",
            "son [('fix', 7.631057849348632), ('father', 5.86954046351915), ('swim', 5.85133586814156), ('play', 5.419483370503489), ('enjoying', 5.321648800108513), ('walk', 5.085247592473308), ('ride', 5.014772545910975), ('watch', 4.514693092656848), ('going', 4.416254820192232), ('look', 4.398731992944638), ('swimming', 3.962031083839001), ('watching', 3.945431608097721), ('eating', 3.8612210226867134), ('park', 3.733319551671344), ('air', 3.594449020743531), ('playing', 3.52442933929454), ('walking', 3.16485958396906), ('riding', 3.130911384668008), ('looking', 3.004275172932849), ('sitting', 2.0583298364877347)]\n",
            "black [('friday', 6.96569498143662), ('rimmed', 6.48183035803666), ('belts', 6.291727474656719), ('labrador', 6.272174677235318), ('poodle', 5.815935944298778), ('haired', 5.7116307291073785), ('leggings', 5.672490670807396), ('wetsuit', 5.657471801836571), ('leather', 5.606784092838795), ('tights', 5.5200691623243525), ('spots', 5.346175258679095), ('beret', 5.25562350097147), ('belt', 5.013407931430268), ('slacks', 4.9297512191292885), ('pants', 4.921112184866507), ('hoodie', 4.880033418452245), ('lab', 4.802620300998528), ('fedora', 4.675056114208224), ('boots', 4.641039320090748), ('cape', 4.582147768285592)]\n",
            "asian [('descent', 8.732876679215327), ('country', 6.178029743411501), ('marketplace', 5.725715927172817), ('teenagers', 5.417819352696636), ('tourists', 5.196382295305363), ('students', 5.101446309060823), ('market', 4.586346983240854), ('women', 4.475982340610433), ('couple', 4.346555587454682), ('city', 4.163058512848512), ('family', 4.0090927897747575), ('girls', 3.9912920810789907), ('girl', 3.8451304718516384), ('male', 3.80652591011285), ('ladies', 3.756322844611574), ('lady', 3.6770941270135125), ('woman', 3.61936345986145), ('children', 3.442067112737183), ('restaurant', 3.259139712903657), ('kids', 3.227271741218128)]\n",
            "hispanic [('women', 5.024415589795589), ('woman', 4.130688774963562), ('man', 2.764189006168789)]\n",
            "white [('undershirt', 6.108184176341242), ('poodle', 5.395796604895702), ('spotted', 5.295269728941737), ('t-shirts', 5.295269728941737), ('blouse', 5.252393020764234), ('paws', 5.188354525025225), ('rag', 5.069710028526607), ('t-shirt', 4.971910388856743), ('stripe', 4.9642312156096615), ('stripes', 4.931579109663114), ('robe', 4.873481187671813), ('jerseys', 4.810354405070911), ('polka', 4.792769388412554), ('shirts', 4.779184032778378), ('fluffy', 4.756742801210866), ('tank', 4.723883016401238), ('robes', 4.679563704789473), ('gown', 4.662436378601457), ('dresses', 4.586079476060828), ('spots', 4.52973498257876)]\n",
            "african [('american', 10.626029706599427), ('americans', 10.587590310378596), ('descent', 9.242464855619414), ('village', 8.340968994435636), ('children', 4.735926598085831), ('boys', 4.444707415459139), ('women', 3.267120645042051), ('child', 2.8050661099863254), ('woman', 2.637316321661821), ('boy', 2.5065906736698085), ('man', 1.5014294810084647), ('men', 1.1653410233273944), ('girl', 0.9446233493313538), ('people', 0.9130506281724987)]\n",
            "american [('footballer', 10.77633584430181), ('flag', 9.911276811044175), ('flags', 8.946526793513025), ('indian', 6.727426243820863), ('male', 5.088588128812764), ('football', 4.8506169874502065), ('child', 3.180088464309271), ('children', 2.7081625830320304), ('woman', 2.514253625943577), ('women', 2.335571945247554), ('boy', 2.0111410886819847), ('man', 1.9825053429159651), ('girl', 1.5491275497770665), ('men', 1.326238572297492)]\n",
            "caucasian [('male', 7.200153039910984), ('female', 6.3169713636704765), ('boy', 3.8304695898296477), ('woman', 3.0053950417321946), ('man', 2.928401890132407)]\n",
            "asians [('eating', 6.952696926443676), ('sitting', 4.76278261713545), ('walking', 4.521389061196469)]\n",
            "european [('city', 7.642244289457741), ('street', 5.592577789877066)]\n",
            "chinese [('lanterns', 10.680082846498438), ('characters', 10.33598125403054), ('dragon', 9.75877817676749), ('restaurant', 7.632228801848612), ('new', 6.9224603141451215), ('food', 6.833699123445188), ('flag', 6.234684743437608), ('market', 5.612479182806923), ('street', 2.7985722997780695), ('women', 2.5771415855845263), ('people', 2.566479391012789), ('girl', 2.468769095226677), ('men', 2.426452363388924), ('man', 2.233846539995583), ('woman', 2.1125524670761977)]\n",
            "indian [('style', 9.289347670609596), ('lady', 5.465446825266908), ('women', 5.210282135106922), ('couple', 4.167612450780783), ('children', 4.0650244680287795), ('woman', 3.9047855348299625), ('girls', 3.6047535249967235), ('men', 2.9892035850199217), ('man', 2.880810765529666), ('boy', 2.642397241677076), ('people', 2.115424813118756), ('girl', 1.7684859110238809)]\n",
            "japanese [('women', 4.165159565825954), ('people', 3.0841080433628183), ('woman', 2.749480047798572), ('man', 2.0204101996190906)]\n",
            "mexican [('flag', 9.105240241022422), ('restaurant', 8.680782601411419), ('food', 7.193292701752621), ('man', 2.2325583890710794)]\n",
            "german [('shepard', 15.110581137958674), ('shepherds', 14.310112601486308), ('shepherd', 14.158519422816253)]\n",
            "french [('fries', 15.171273967239708), ('horn', 13.210113709103068)]\n",
            "italian [('restaurant', 9.392861749788151), ('food', 7.47867143332493)]\n",
            "disabled [('man', 4.123658181531341)]\n",
            "handicapped [('man', 3.8467516011159897)]\n",
            "lesbian [('couple', 10.222060234803159)]\n",
            "gay [('pride', 14.912618001916487), ('rights', 14.634316839429383), ('couple', 8.765631104327385), ('men', 5.20219730835412)]\n",
            "straight [('razor', 12.281711929383256), ('ahead', 11.471934345058798), ('line', 8.221246871463816), ('hair', 6.422519094586877)]\n",
            "muslim [('men', 4.815174185244873), ('woman', 4.335170998442242)]\n",
            "jewish [('man', 4.1877885189510575)]\n",
            "buddhist [('monk', 14.032427010693649), ('temple', 13.623314345371911)]\n",
            "old [('fashioned', 10.081890214708807), ('folks', 7.341276843527457), ('fashion', 7.200264534000384), ('abandoned', 6.986927270947718), ('times', 6.640837125386365), ('lady', 6.209881534783646), ('tires', 6.171351842085145), ('ladies', 5.7670521545089555), ('buildings', 4.98299194834706), ('bearded', 4.736794892086878), ('friends', 4.706533006430405), ('couple', 4.644566849432535), ('man', 4.56030885032071), ('stone', 4.389992128560486), ('cars', 4.109632108952813), ('bald', 4.05671560110458), ('structure', 4.0356710539420275), ('asian', 3.7908675701450263), ('building', 3.780705172290898), ('woman', 3.7520886152005106)]\n",
            "elderly [('gentleman', 7.400133572814681), ('gentlemen', 7.175988180374482), ('couple', 5.940530240541225), ('lady', 5.442835128366536), ('asian', 4.945818651726643), ('ladies', 4.524326897473166), ('woman', 4.479209170951322), ('women', 4.1579230948124986), ('man', 3.966858535693095), ('person', 3.914472912918823), ('male', 3.619890496374319), ('men', 3.258078869442776), ('people', 2.605250544704152)]\n",
            "teenage [('boys', 7.106682294774772), ('girls', 7.080939679800549), ('boy', 6.190167807470654), ('girl', 5.65099234800544)]\n",
            "young [('adults', 5.287860992119303), ('boy', 5.182953865661007), ('asians', 5.040304835285587), ('boys', 4.977973435693496), ('girl', 4.972041581984973), ('girls', 4.651191970816124), ('blond-haired', 4.48340924305173), ('lady', 4.39822848929074), ('ladies', 4.346284178228165), ('adult', 4.227535495544748), ('caucasian', 4.2243641209315355), ('child', 4.151395246666245), ('males', 4.149164431991875), ('blonde', 4.021170485754301), ('blond', 3.9635384030388163), ('male', 3.9581686122453434), ('asian', 3.7055605360359443), ('couple', 3.6947860284457024), ('oriental', 3.6287879461855277), ('redheaded', 3.540334278116553)]\n",
            "senior [('citizen', 15.783285872784798), ('citizens', 14.84913604106103)]\n",
            "teenager [('plays', 5.314755959313067), ('riding', 4.529059134298782), ('sitting', 3.5964078472629835), ('wearing', 3.50399579004091), ('playing', 2.948572297458258)]\n",
            "teenagers [('sit', 5.256616993435492), ('play', 4.98609995292576), ('playing', 4.319314909389927), ('sitting', 3.6490746898028976), ('standing', 3.2183941075211546), ('outside', 3.1794277509419935), ('walking', 3.174758045035299), ('wearing', 2.115746501476375)]\n"
          ]
        }
      ],
      "source": [
        "for identity in pmi_identity_label.keys():\n",
        "    pmi_identity_label[identity] = Sort(pmi_identity_label[identity])\n",
        "\n",
        "for key in pmi_identity_label.keys():\n",
        "    print(key, pmi_identity_label[key][:20])"
      ]
    },
    {
      "cell_type": "code",
      "execution_count": 17,
      "metadata": {},
      "outputs": [
        {
          "name": "stderr",
          "output_type": "stream",
          "text": [
            "100%|██████████| 10638/10638 [00:01<00:00, 5449.38it/s]\n",
            "100%|██████████| 10638/10638 [00:01<00:00, 8777.62it/s]\n",
            "100%|██████████| 10638/10638 [00:00<00:00, 640378.41it/s]\n",
            "100%|██████████| 10638/10638 [00:00<00:00, 16602.59it/s]\n",
            "100%|██████████| 10638/10638 [00:00<00:00, 21943.05it/s]\n",
            "100%|██████████| 10638/10638 [00:00<00:00, 1039343.26it/s]\n",
            "100%|██████████| 10638/10638 [00:00<00:00, 55964.32it/s]\n"
          ]
        }
      ],
      "source": [
        "man_pmi_data = get_pmi('man',unigram_frequency,bigram_frequency)\n",
        "woman_pmi_data = get_pmi('woman',unigram_frequency,bigram_frequency)\n",
        "gay_pmi_data = get_pmi('gay',unigram_frequency,bigram_frequency)\n",
        "\n",
        "\n",
        "men_pmi_data = get_pmi('men',unigram_frequency,bigram_frequency)\n",
        "women_pmi_data = get_pmi('women',unigram_frequency,bigram_frequency)\n",
        "lesbian_pmi_data = get_pmi('lesbian',unigram_frequency,bigram_frequency)\n",
        "\n",
        "lady_pmi_data = get_pmi('lady',unigram_frequency,bigram_frequency)"
      ]
    },
    {
      "cell_type": "code",
      "execution_count": 18,
      "metadata": {},
      "outputs": [],
      "source": [
        "def filter_pmi_set(pmi_data,threshold):\n",
        "    return set([ele[0] for ele in pmi_data if ele[1]>threshold])\n",
        "    \n",
        "\n",
        "male_pmi_set = filter_pmi_set(man_pmi_data, 2.0).union(filter_pmi_set(men_pmi_data, 2.0))\n",
        "female_pmi_set = filter_pmi_set(woman_pmi_data, 2.0).union(filter_pmi_set(women_pmi_data, 2.0)).union(filter_pmi_set(lady_pmi_data, 2.0))\n",
        "lgbt_pmi_set = filter_pmi_set(gay_pmi_data, 2.0).union(filter_pmi_set(lesbian_pmi_data,2.0))"
      ]
    },
    {
      "cell_type": "code",
      "execution_count": 19,
      "metadata": {},
      "outputs": [
        {
          "data": {
            "text/plain": [
              "{'accepts',\n",
              " 'accidentally',\n",
              " 'acting',\n",
              " 'actually',\n",
              " 'adjusting',\n",
              " 'adjusts',\n",
              " 'admires',\n",
              " 'admiring',\n",
              " 'advertising',\n",
              " 'afraid',\n",
              " 'afro',\n",
              " 'aiming',\n",
              " 'almost',\n",
              " 'angrily',\n",
              " 'appear',\n",
              " 'approaches',\n",
              " 'approaching',\n",
              " 'argue',\n",
              " 'arguing',\n",
              " 'army',\n",
              " 'arranging',\n",
              " 'arrested',\n",
              " 'asked',\n",
              " 'asking',\n",
              " 'asks',\n",
              " 'asleep',\n",
              " 'ate',\n",
              " 'attempt',\n",
              " 'attempting',\n",
              " 'attempts',\n",
              " 'attending',\n",
              " 'attends',\n",
              " 'awake',\n",
              " 'backpack',\n",
              " 'backpacks',\n",
              " 'bad',\n",
              " 'baggy',\n",
              " 'baking',\n",
              " 'balancing',\n",
              " 'balcony',\n",
              " 'bar',\n",
              " 'barbecuing',\n",
              " 'beard',\n",
              " 'beating',\n",
              " 'begging',\n",
              " 'beige',\n",
              " 'bending',\n",
              " 'bends',\n",
              " 'bent',\n",
              " 'beret',\n",
              " 'best',\n",
              " 'bicycles',\n",
              " 'bicycling',\n",
              " 'biking',\n",
              " 'black',\n",
              " 'blowing',\n",
              " 'blows',\n",
              " 'blue',\n",
              " 'boat',\n",
              " 'bought',\n",
              " 'bowler',\n",
              " 'bowls',\n",
              " 'boxing',\n",
              " 'breakdances',\n",
              " 'breakdancing',\n",
              " 'breaking',\n",
              " 'breaks',\n",
              " 'bringing',\n",
              " 'brings',\n",
              " 'broke',\n",
              " 'brothers',\n",
              " 'browsing',\n",
              " 'brushing',\n",
              " 'build',\n",
              " 'builds',\n",
              " 'bundled',\n",
              " 'bungee',\n",
              " 'buried',\n",
              " 'burning',\n",
              " 'burns',\n",
              " 'business',\n",
              " 'buying',\n",
              " 'buys',\n",
              " 'ca',\n",
              " 'calling',\n",
              " 'calls',\n",
              " 'came',\n",
              " 'camouflage',\n",
              " 'camping',\n",
              " 'cane',\n",
              " 'canoe',\n",
              " 'carefully',\n",
              " 'carried',\n",
              " 'carries',\n",
              " 'carry',\n",
              " 'carrying',\n",
              " 'carves',\n",
              " 'carving',\n",
              " 'cast',\n",
              " 'casual',\n",
              " 'catches',\n",
              " 'catching',\n",
              " 'caught',\n",
              " 'celebrate',\n",
              " 'celebrates',\n",
              " 'celebrating',\n",
              " 'changes',\n",
              " 'changing',\n",
              " 'chased',\n",
              " 'chasing',\n",
              " 'chat',\n",
              " 'chatting',\n",
              " 'checkered',\n",
              " 'checking',\n",
              " 'checks',\n",
              " 'cherry',\n",
              " 'chiseling',\n",
              " 'chopping',\n",
              " 'chops',\n",
              " 'clean',\n",
              " 'cleaning',\n",
              " 'cleans',\n",
              " 'clearing',\n",
              " 'climb',\n",
              " 'climbed',\n",
              " 'climbing',\n",
              " 'climbs',\n",
              " 'closes',\n",
              " 'closing',\n",
              " 'collared',\n",
              " 'collecting',\n",
              " 'collects',\n",
              " 'compete',\n",
              " 'competes',\n",
              " 'competing',\n",
              " 'completely',\n",
              " 'concentrating',\n",
              " 'conducting',\n",
              " 'conducts',\n",
              " 'constructing',\n",
              " 'contemplates',\n",
              " 'contemplating',\n",
              " 'controlling',\n",
              " 'conversation',\n",
              " 'converse',\n",
              " 'conversing',\n",
              " 'cook',\n",
              " 'cooking',\n",
              " 'cooks',\n",
              " 'covers',\n",
              " 'crafting',\n",
              " 'crashes',\n",
              " 'crawling',\n",
              " 'crazy',\n",
              " 'creates',\n",
              " 'creating',\n",
              " 'cries',\n",
              " 'crosses',\n",
              " 'crossing',\n",
              " 'crouched',\n",
              " 'crouches',\n",
              " 'crouching',\n",
              " 'crutches',\n",
              " 'currently',\n",
              " 'cuts',\n",
              " 'cutting',\n",
              " 'cycling',\n",
              " 'dance',\n",
              " 'dances',\n",
              " 'dancing',\n",
              " 'dark',\n",
              " 'daughter',\n",
              " 'decides',\n",
              " 'deciding',\n",
              " 'decorating',\n",
              " 'delivering',\n",
              " 'delivers',\n",
              " 'demonstrates',\n",
              " 'demonstrating',\n",
              " 'denim',\n",
              " 'destroying',\n",
              " 'different',\n",
              " 'dig',\n",
              " 'digging',\n",
              " 'digs',\n",
              " 'directing',\n",
              " 'directs',\n",
              " 'discuss',\n",
              " 'discussing',\n",
              " 'discussion',\n",
              " 'dives',\n",
              " 'drag',\n",
              " 'dragging',\n",
              " 'drags',\n",
              " 'drawing',\n",
              " 'draws',\n",
              " 'dreadlocks',\n",
              " 'dreads',\n",
              " 'dressed',\n",
              " 'dressing',\n",
              " 'drilling',\n",
              " 'drink',\n",
              " 'drinking',\n",
              " 'drinks',\n",
              " 'drives',\n",
              " 'driving',\n",
              " 'dropped',\n",
              " 'drove',\n",
              " 'drowning',\n",
              " 'drunk',\n",
              " 'dumping',\n",
              " 'eat',\n",
              " 'eating',\n",
              " 'eats',\n",
              " 'embraces',\n",
              " 'empties',\n",
              " 'engaged',\n",
              " 'engaging',\n",
              " 'enjoy',\n",
              " 'enjoying',\n",
              " 'enjoys',\n",
              " 'entering',\n",
              " 'enters',\n",
              " 'entertaining',\n",
              " 'entertains',\n",
              " 'examine',\n",
              " 'examines',\n",
              " 'examining',\n",
              " 'excited',\n",
              " 'exercising',\n",
              " 'experienced',\n",
              " 'explaining',\n",
              " 'facial',\n",
              " 'facing',\n",
              " 'fall',\n",
              " 'fallen',\n",
              " 'falling',\n",
              " 'falls',\n",
              " 'fedora',\n",
              " 'feeding',\n",
              " 'feeds',\n",
              " 'feeling',\n",
              " 'feels',\n",
              " 'fell',\n",
              " 'fight',\n",
              " 'fighting',\n",
              " 'filling',\n",
              " 'fills',\n",
              " 'filmed',\n",
              " 'filming',\n",
              " 'films',\n",
              " 'finds',\n",
              " 'finished',\n",
              " 'finishes',\n",
              " 'finishing',\n",
              " 'fishes',\n",
              " 'fishing',\n",
              " 'fix',\n",
              " 'fixes',\n",
              " 'fixing',\n",
              " 'flannel',\n",
              " 'flipping',\n",
              " 'flips',\n",
              " 'flirting',\n",
              " 'floating',\n",
              " 'flying',\n",
              " 'follows',\n",
              " 'forgot',\n",
              " 'found',\n",
              " 'frowning',\n",
              " 'frowns',\n",
              " 'fully',\n",
              " 'fun',\n",
              " 'gather',\n",
              " 'gathered',\n",
              " 'gathering',\n",
              " 'gave',\n",
              " 'gazes',\n",
              " 'gazing',\n",
              " 'gestures',\n",
              " 'gesturing',\n",
              " 'gets',\n",
              " 'getting',\n",
              " 'girlfriend',\n",
              " 'given',\n",
              " 'gives',\n",
              " 'giving',\n",
              " 'glasses',\n",
              " 'go',\n",
              " 'goatee',\n",
              " 'goes',\n",
              " 'going',\n",
              " 'good',\n",
              " 'got',\n",
              " 'grabbing',\n",
              " 'grabs',\n",
              " 'gray',\n",
              " 'grey',\n",
              " 'grilling',\n",
              " 'grills',\n",
              " 'grinding',\n",
              " 'grinds',\n",
              " 'guiding',\n",
              " 'guitars',\n",
              " 'hammering',\n",
              " 'handing',\n",
              " 'handling',\n",
              " 'handstand',\n",
              " 'hang',\n",
              " 'hanging',\n",
              " 'hangs',\n",
              " 'happily',\n",
              " 'hard',\n",
              " 'harvesting',\n",
              " 'hates',\n",
              " 'hats',\n",
              " 'hawaiian',\n",
              " 'headed',\n",
              " 'heading',\n",
              " 'helmets',\n",
              " 'help',\n",
              " 'helping',\n",
              " 'helps',\n",
              " 'hiding',\n",
              " 'hikes',\n",
              " 'hiking',\n",
              " 'hits',\n",
              " 'hitting',\n",
              " 'hold',\n",
              " 'holding',\n",
              " 'holds',\n",
              " 'hopes',\n",
              " 'hoping',\n",
              " 'horseback',\n",
              " 'horses',\n",
              " 'hugging',\n",
              " 'hugs',\n",
              " 'hunched',\n",
              " 'hunting',\n",
              " 'hurt',\n",
              " 'ignoring',\n",
              " 'injured',\n",
              " 'inside',\n",
              " 'inspect',\n",
              " 'inspecting',\n",
              " 'inspects',\n",
              " 'installing',\n",
              " 'interested',\n",
              " 'interviewing',\n",
              " 'interviews',\n",
              " 'ironing',\n",
              " 'jean',\n",
              " 'jet',\n",
              " 'jogging',\n",
              " 'jogs',\n",
              " 'joyously',\n",
              " 'juggles',\n",
              " 'juggling',\n",
              " 'jump',\n",
              " 'jumped',\n",
              " 'jumps',\n",
              " 'karate',\n",
              " 'kayaking',\n",
              " 'kayaks',\n",
              " 'keeping',\n",
              " 'keeps',\n",
              " 'khaki',\n",
              " 'khakis',\n",
              " 'kickboxing',\n",
              " 'kicking',\n",
              " 'kicks',\n",
              " 'kilt',\n",
              " 'kisses',\n",
              " 'kissing',\n",
              " 'kneeling',\n",
              " 'kneels',\n",
              " 'knitting',\n",
              " 'know',\n",
              " 'knows',\n",
              " 'laughing',\n",
              " 'laughs',\n",
              " 'lay',\n",
              " 'laying',\n",
              " 'lays',\n",
              " 'leading',\n",
              " 'leads',\n",
              " 'leaning',\n",
              " 'leans',\n",
              " 'learning',\n",
              " 'learns',\n",
              " 'leather',\n",
              " 'leaving',\n",
              " 'licking',\n",
              " 'lies',\n",
              " 'lift',\n",
              " 'lifting',\n",
              " 'lifts',\n",
              " 'lighting',\n",
              " 'likes',\n",
              " 'lime',\n",
              " 'listen',\n",
              " 'listening',\n",
              " 'listens',\n",
              " 'lives',\n",
              " 'loading',\n",
              " 'loads',\n",
              " 'long',\n",
              " 'look',\n",
              " 'looked',\n",
              " 'looking',\n",
              " 'looks',\n",
              " 'losing',\n",
              " 'lost',\n",
              " 'lounges',\n",
              " 'lounging',\n",
              " 'love',\n",
              " 'loves',\n",
              " 'lunch',\n",
              " 'lying',\n",
              " 'make',\n",
              " 'makes',\n",
              " 'making',\n",
              " 'march',\n",
              " 'marches',\n",
              " 'marching',\n",
              " 'matching',\n",
              " 'meditating',\n",
              " 'meeting',\n",
              " 'might',\n",
              " 'military',\n",
              " 'missed',\n",
              " 'mixing',\n",
              " 'mohawk',\n",
              " 'mopping',\n",
              " 'motorcycles',\n",
              " 'moving',\n",
              " 'mowing',\n",
              " 'mows',\n",
              " 'mustache',\n",
              " \"n't\",\n",
              " 'named',\n",
              " 'napping',\n",
              " 'naps',\n",
              " 'navigates',\n",
              " 'navy',\n",
              " 'needs',\n",
              " 'never',\n",
              " 'observe',\n",
              " 'observes',\n",
              " 'observing',\n",
              " 'offering',\n",
              " 'offers',\n",
              " 'office',\n",
              " 'olive',\n",
              " 'one',\n",
              " 'opening',\n",
              " 'opens',\n",
              " 'operates',\n",
              " 'operating',\n",
              " 'opposing',\n",
              " 'orange',\n",
              " 'ordering',\n",
              " 'orders',\n",
              " 'overalls',\n",
              " 'owns',\n",
              " 'packing',\n",
              " 'paddles',\n",
              " 'paddling',\n",
              " 'paid',\n",
              " 'paint',\n",
              " 'painting',\n",
              " 'paints',\n",
              " 'parasailing',\n",
              " 'parks',\n",
              " 'part',\n",
              " 'participate',\n",
              " 'participates',\n",
              " 'participating',\n",
              " 'passed',\n",
              " 'passes',\n",
              " 'passing',\n",
              " 'paying',\n",
              " 'pedals',\n",
              " 'peeling',\n",
              " 'peering',\n",
              " 'peers',\n",
              " 'perform',\n",
              " 'performing',\n",
              " 'performs',\n",
              " 'pets',\n",
              " 'petting',\n",
              " 'photographing',\n",
              " 'photographs',\n",
              " 'picked',\n",
              " 'picking',\n",
              " 'picks',\n",
              " 'pierced',\n",
              " 'piloting',\n",
              " 'pitching',\n",
              " 'places',\n",
              " 'placing',\n",
              " 'plaid',\n",
              " 'planning',\n",
              " 'plans',\n",
              " 'planting',\n",
              " 'play',\n",
              " 'played',\n",
              " 'playing',\n",
              " 'plays',\n",
              " 'plowing',\n",
              " 'pointing',\n",
              " 'points',\n",
              " 'ponders',\n",
              " 'ponytail',\n",
              " 'pose',\n",
              " 'poses',\n",
              " 'posing',\n",
              " 'pouring',\n",
              " 'pours',\n",
              " 'practice',\n",
              " 'practices',\n",
              " 'practicing',\n",
              " 'praying',\n",
              " 'preforming',\n",
              " 'prepare',\n",
              " 'prepared',\n",
              " 'prepares',\n",
              " 'preparing',\n",
              " 'present',\n",
              " 'presenting',\n",
              " 'pretending',\n",
              " 'pretends',\n",
              " 'pro',\n",
              " 'professional',\n",
              " 'protecting',\n",
              " 'protesting',\n",
              " 'pulling',\n",
              " 'pulls',\n",
              " 'punches',\n",
              " 'punching',\n",
              " 'purchasing',\n",
              " 'push',\n",
              " 'pushes',\n",
              " 'pushing',\n",
              " 'put',\n",
              " 'puts',\n",
              " 'putting',\n",
              " 'races',\n",
              " 'racing',\n",
              " 'raises',\n",
              " 'raising',\n",
              " 'ran',\n",
              " 'reaches',\n",
              " 'reaching',\n",
              " 'read',\n",
              " 'reading',\n",
              " 'reads',\n",
              " 'really',\n",
              " 'receives',\n",
              " 'receiving',\n",
              " 'reclining',\n",
              " 'recording',\n",
              " 'records',\n",
              " 'reflective',\n",
              " 'refueling',\n",
              " 'relax',\n",
              " 'relaxes',\n",
              " 'relaxing',\n",
              " 'removing',\n",
              " 'repair',\n",
              " 'repairing',\n",
              " 'repairs',\n",
              " 'rest',\n",
              " 'resting',\n",
              " 'rests',\n",
              " 'returning',\n",
              " 'ride',\n",
              " 'rides',\n",
              " 'riding',\n",
              " 'robe',\n",
              " 'rode',\n",
              " 'rollerblades',\n",
              " 'rollerblading',\n",
              " 'rolls',\n",
              " 'rowing',\n",
              " 'rows',\n",
              " 'rubbing',\n",
              " 'run',\n",
              " 'running',\n",
              " 'runs',\n",
              " 'safety',\n",
              " 'sailing',\n",
              " 'sat',\n",
              " 'sawing',\n",
              " 'scaffold',\n",
              " 'scaffolding',\n",
              " 'scales',\n",
              " 'scaling',\n",
              " 'scared',\n",
              " 'scratching',\n",
              " 'scuba',\n",
              " 'sculpting',\n",
              " 'searches',\n",
              " 'searching',\n",
              " 'seated',\n",
              " 'seeing',\n",
              " 'seen',\n",
              " 'sees',\n",
              " 'sell',\n",
              " 'selling',\n",
              " 'sells',\n",
              " 'serves',\n",
              " 'serving',\n",
              " 'sets',\n",
              " 'setting',\n",
              " 'sewing',\n",
              " 'sews',\n",
              " 'shakes',\n",
              " 'shaking',\n",
              " 'share',\n",
              " 'sharing',\n",
              " 'shaved',\n",
              " 'shaves',\n",
              " 'shaving',\n",
              " 'shines',\n",
              " 'shooting',\n",
              " 'shoots',\n",
              " 'shops',\n",
              " 'shoulders',\n",
              " 'shouting',\n",
              " 'shoveling',\n",
              " 'shovels',\n",
              " 'showing',\n",
              " 'shows',\n",
              " 'sing',\n",
              " 'singing',\n",
              " 'sings',\n",
              " 'sipping',\n",
              " 'sips',\n",
              " 'sit',\n",
              " 'sits',\n",
              " 'sitting',\n",
              " 'skateboarding',\n",
              " 'skateboards',\n",
              " 'skating',\n",
              " 'skiing',\n",
              " 'skilled',\n",
              " 'skipping',\n",
              " 'skis',\n",
              " 'skydiving',\n",
              " 'sledding',\n",
              " 'sleep',\n",
              " 'sleeping',\n",
              " 'sleeps',\n",
              " 'slices',\n",
              " 'slicing',\n",
              " 'smiles',\n",
              " 'smokes',\n",
              " 'smoking',\n",
              " 'snowboarding',\n",
              " 'son',\n",
              " 'sons',\n",
              " 'sorting',\n",
              " 'sparring',\n",
              " 'speak',\n",
              " 'speaking',\n",
              " 'speaks',\n",
              " 'speedo',\n",
              " 'spending',\n",
              " 'spinning',\n",
              " 'splits',\n",
              " 'spraying',\n",
              " 'sprays',\n",
              " 'sprinting',\n",
              " 'squats',\n",
              " 'squatting',\n",
              " 'stacking',\n",
              " 'stand',\n",
              " 'standing',\n",
              " 'stands',\n",
              " 'stare',\n",
              " 'stares',\n",
              " 'staring',\n",
              " 'starting',\n",
              " 'starts',\n",
              " 'stealing',\n",
              " 'steals',\n",
              " 'steering',\n",
              " 'steers',\n",
              " 'stilts',\n",
              " 'stirring',\n",
              " 'stole',\n",
              " 'stood',\n",
              " 'stops',\n",
              " 'straw',\n",
              " 'stretches',\n",
              " 'stretching',\n",
              " 'striped',\n",
              " 'strolling',\n",
              " 'strolls',\n",
              " 'struggles',\n",
              " 'struggling',\n",
              " 'studies',\n",
              " 'studying',\n",
              " 'suit',\n",
              " 'suits',\n",
              " 'sunbathing',\n",
              " 'surfing',\n",
              " 'surfs',\n",
              " 'surprised',\n",
              " 'surveys',\n",
              " 'sweating',\n",
              " 'sweeping',\n",
              " 'sweeps',\n",
              " 'swim',\n",
              " 'swimming',\n",
              " 'swims',\n",
              " 'swinging',\n",
              " 'take',\n",
              " 'takes',\n",
              " 'taking',\n",
              " 'talk',\n",
              " 'talking',\n",
              " 'talks',\n",
              " 'tattoo',\n",
              " 'tattoos',\n",
              " 'teaches',\n",
              " 'teaching',\n",
              " 'telling',\n",
              " 'tells',\n",
              " 'tending',\n",
              " 'tends',\n",
              " 'testing',\n",
              " 'tests',\n",
              " 'texting',\n",
              " 'thinking',\n",
              " 'thinks',\n",
              " 'threw',\n",
              " 'throw',\n",
              " 'throwing',\n",
              " 'throws',\n",
              " 'ties',\n",
              " 'tired',\n",
              " 'took',\n",
              " 'tosses',\n",
              " 'tossing',\n",
              " 'touches',\n",
              " 'touching',\n",
              " 'traditional',\n",
              " 'training',\n",
              " 'transporting',\n",
              " 'travel',\n",
              " 'traveling',\n",
              " 'trench',\n",
              " 'tricks',\n",
              " 'tried',\n",
              " 'tries',\n",
              " 'trimming',\n",
              " 'trips',\n",
              " 'trouble',\n",
              " 'try',\n",
              " 'trying',\n",
              " 'tuning',\n",
              " 'turban',\n",
              " 'turbans',\n",
              " 'tuxedo',\n",
              " 'tuxedos',\n",
              " 'tying',\n",
              " 'typing',\n",
              " 'underwear',\n",
              " 'uniform',\n",
              " 'uniforms',\n",
              " 'unloading',\n",
              " 'upset',\n",
              " 'use',\n",
              " 'used',\n",
              " 'uses',\n",
              " 'using',\n",
              " 'vacuuming',\n",
              " 'videotaping',\n",
              " 'visiting',\n",
              " 'visits',\n",
              " 'wait',\n",
              " 'waiting',\n",
              " 'waits',\n",
              " 'wakeboard',\n",
              " 'wakeboarding',\n",
              " 'walk',\n",
              " 'walked',\n",
              " 'walking',\n",
              " 'walks',\n",
              " 'want',\n",
              " 'wanted',\n",
              " 'wants',\n",
              " 'washes',\n",
              " 'washing',\n",
              " 'watch',\n",
              " 'watches',\n",
              " 'watching',\n",
              " 'watering',\n",
              " 'waterskiing',\n",
              " 'waving',\n",
              " 'wear',\n",
              " 'wearing',\n",
              " 'wears',\n",
              " 'weaving',\n",
              " 'welding',\n",
              " 'welds',\n",
              " 'went',\n",
              " 'wetsuit',\n",
              " 'wheelchair',\n",
              " 'wheelie',\n",
              " 'whose',\n",
              " 'wife',\n",
              " 'winning',\n",
              " 'wins',\n",
              " 'wipes',\n",
              " 'wiping',\n",
              " 'without',\n",
              " 'women',\n",
              " 'wore',\n",
              " 'work',\n",
              " 'worked',\n",
              " 'working',\n",
              " 'works',\n",
              " 'wrestle',\n",
              " 'wrestling',\n",
              " 'writes',\n",
              " 'writing',\n",
              " 'yelling',\n",
              " 'yells',\n",
              " 'zombie'}"
            ]
          },
          "execution_count": 19,
          "metadata": {},
          "output_type": "execute_result"
        }
      ],
      "source": [
        "male_pmi_set"
      ]
    },
    {
      "cell_type": "code",
      "execution_count": 20,
      "metadata": {},
      "outputs": [
        {
          "data": {
            "text/plain": [
              "{'adjusting',\n",
              " 'adjusts',\n",
              " 'admires',\n",
              " 'admiring',\n",
              " 'advertising',\n",
              " 'afraid',\n",
              " 'alone',\n",
              " 'also',\n",
              " 'angry',\n",
              " 'applies',\n",
              " 'applying',\n",
              " 'arguing',\n",
              " 'asking',\n",
              " 'attending',\n",
              " 'attends',\n",
              " 'baking',\n",
              " 'balances',\n",
              " 'balancing',\n",
              " 'ballet',\n",
              " 'bathing',\n",
              " 'beige',\n",
              " 'bending',\n",
              " 'bends',\n",
              " 'bent',\n",
              " 'biking',\n",
              " 'bikini',\n",
              " 'bikinis',\n",
              " 'black',\n",
              " 'blond-hair',\n",
              " 'blonde',\n",
              " 'blow',\n",
              " 'blowing',\n",
              " 'blows',\n",
              " 'blue',\n",
              " 'bought',\n",
              " 'braids',\n",
              " 'breaking',\n",
              " 'breaks',\n",
              " 'bright',\n",
              " 'bringing',\n",
              " 'broke',\n",
              " 'brown',\n",
              " 'browsing',\n",
              " 'brushes',\n",
              " 'brushing',\n",
              " 'bundled',\n",
              " 'buying',\n",
              " 'buys',\n",
              " 'ca',\n",
              " 'calling',\n",
              " 'calls',\n",
              " 'camping',\n",
              " 'cane',\n",
              " 'carried',\n",
              " 'carries',\n",
              " 'carry',\n",
              " 'carrying',\n",
              " 'celebrates',\n",
              " 'celebrating',\n",
              " 'chat',\n",
              " 'chatting',\n",
              " 'checking',\n",
              " 'checks',\n",
              " 'cheering',\n",
              " 'chopping',\n",
              " 'cleaning',\n",
              " 'cleans',\n",
              " 'climbs',\n",
              " 'close',\n",
              " 'coffee',\n",
              " 'collecting',\n",
              " 'colorful',\n",
              " 'compete',\n",
              " 'competes',\n",
              " 'competing',\n",
              " 'considering',\n",
              " 'conversation',\n",
              " 'converse',\n",
              " 'conversing',\n",
              " 'cook',\n",
              " 'cooking',\n",
              " 'cooks',\n",
              " 'costumes',\n",
              " 'covering',\n",
              " 'covers',\n",
              " 'creating',\n",
              " 'cries',\n",
              " 'cross',\n",
              " 'crosses',\n",
              " 'crossing',\n",
              " 'crouches',\n",
              " 'crouching',\n",
              " 'crutches',\n",
              " 'crying',\n",
              " 'curly',\n",
              " 'currently',\n",
              " 'cuts',\n",
              " 'cutting',\n",
              " 'cycling',\n",
              " 'dance',\n",
              " 'dances',\n",
              " 'dancing',\n",
              " 'dark',\n",
              " 'date',\n",
              " 'daughter',\n",
              " 'daughters',\n",
              " 'delivering',\n",
              " 'demonstrating',\n",
              " 'denim',\n",
              " 'different',\n",
              " 'digging',\n",
              " 'directing',\n",
              " 'discuss',\n",
              " 'discussing',\n",
              " 'displaying',\n",
              " 'displays',\n",
              " 'dives',\n",
              " 'drawing',\n",
              " 'draws',\n",
              " 'dress',\n",
              " 'dressed',\n",
              " 'dresses',\n",
              " 'dressing',\n",
              " 'dries',\n",
              " 'drink',\n",
              " 'drinking',\n",
              " 'drinks',\n",
              " 'drives',\n",
              " 'driving',\n",
              " 'dropped',\n",
              " 'drops',\n",
              " 'drying',\n",
              " 'eat',\n",
              " 'eating',\n",
              " 'eats',\n",
              " 'embrace',\n",
              " 'embracing',\n",
              " 'enjoy',\n",
              " 'enjoying',\n",
              " 'enjoys',\n",
              " 'entering',\n",
              " 'entertaining',\n",
              " 'ethnic',\n",
              " 'examine',\n",
              " 'examines',\n",
              " 'examining',\n",
              " 'excited',\n",
              " 'exercising',\n",
              " 'exiting',\n",
              " 'facing',\n",
              " 'falling',\n",
              " 'falls',\n",
              " 'fancy',\n",
              " 'feeding',\n",
              " 'feeds',\n",
              " 'fell',\n",
              " 'fight',\n",
              " 'fighting',\n",
              " 'filling',\n",
              " 'filming',\n",
              " 'finished',\n",
              " 'fixes',\n",
              " 'fixing',\n",
              " 'flirting',\n",
              " 'floral',\n",
              " 'flowered',\n",
              " 'flying',\n",
              " 'formal',\n",
              " 'frowning',\n",
              " 'frowns',\n",
              " 'fun',\n",
              " 'gather',\n",
              " 'gathered',\n",
              " 'gathering',\n",
              " 'gave',\n",
              " 'gazes',\n",
              " 'gazing',\n",
              " 'get',\n",
              " 'gets',\n",
              " 'getting',\n",
              " 'gives',\n",
              " 'giving',\n",
              " 'glasses',\n",
              " 'go',\n",
              " 'goes',\n",
              " 'going',\n",
              " 'good',\n",
              " 'gossiping',\n",
              " 'got',\n",
              " 'grabbing',\n",
              " 'gray',\n",
              " 'green',\n",
              " 'grilling',\n",
              " 'guiding',\n",
              " 'hair',\n",
              " 'handing',\n",
              " 'hanging',\n",
              " 'hangs',\n",
              " 'happily',\n",
              " 'happy',\n",
              " 'hates',\n",
              " 'hats',\n",
              " 'headed',\n",
              " 'heading',\n",
              " 'headscarf',\n",
              " 'heels',\n",
              " 'helping',\n",
              " 'helps',\n",
              " 'hiding',\n",
              " 'hiking',\n",
              " 'hits',\n",
              " 'hitting',\n",
              " 'hold',\n",
              " 'holding',\n",
              " 'holds',\n",
              " 'horseback',\n",
              " 'hospital',\n",
              " 'hug',\n",
              " 'hugging',\n",
              " 'hugs',\n",
              " 'hula',\n",
              " 'husband',\n",
              " 'indoors',\n",
              " 'injured',\n",
              " 'inside',\n",
              " 'inspecting',\n",
              " 'interested',\n",
              " 'ironing',\n",
              " 'jog',\n",
              " 'jogging',\n",
              " 'jogs',\n",
              " 'joyously',\n",
              " 'juggling',\n",
              " 'kayaking',\n",
              " 'kimono',\n",
              " 'kiss',\n",
              " 'kisses',\n",
              " 'kissing',\n",
              " 'kitchen',\n",
              " 'kneeling',\n",
              " 'kneels',\n",
              " 'knees',\n",
              " 'knit',\n",
              " 'knits',\n",
              " 'knitting',\n",
              " 'know',\n",
              " 'knows',\n",
              " 'laugh',\n",
              " 'laughing',\n",
              " 'laughs',\n",
              " 'laundry',\n",
              " 'laying',\n",
              " 'lays',\n",
              " 'leading',\n",
              " 'leads',\n",
              " 'leaning',\n",
              " 'leans',\n",
              " 'learning',\n",
              " 'leaving',\n",
              " 'leopard',\n",
              " 'library',\n",
              " 'lies',\n",
              " 'lifting',\n",
              " 'lighting',\n",
              " 'likes',\n",
              " 'listening',\n",
              " 'listens',\n",
              " 'long',\n",
              " 'look',\n",
              " 'looking',\n",
              " 'looks',\n",
              " 'lost',\n",
              " 'lounging',\n",
              " 'loves',\n",
              " 'lunch',\n",
              " 'lying',\n",
              " 'made',\n",
              " 'make',\n",
              " 'makes',\n",
              " 'making',\n",
              " 'maroon',\n",
              " 'matching',\n",
              " 'meeting',\n",
              " 'mixing',\n",
              " 'modeling',\n",
              " 'moving',\n",
              " 'multicolored',\n",
              " \"n't\",\n",
              " 'napping',\n",
              " 'needs',\n",
              " 'never',\n",
              " 'observes',\n",
              " 'observing',\n",
              " 'one',\n",
              " 'opening',\n",
              " 'opens',\n",
              " 'operating',\n",
              " 'ordered',\n",
              " 'ordering',\n",
              " 'orders',\n",
              " 'owns',\n",
              " 'painting',\n",
              " 'paints',\n",
              " 'pajamas',\n",
              " 'participate',\n",
              " 'participating',\n",
              " 'pass',\n",
              " 'passed',\n",
              " 'passes',\n",
              " 'passing',\n",
              " 'paying',\n",
              " 'peers',\n",
              " 'perform',\n",
              " 'performing',\n",
              " 'performs',\n",
              " 'pet',\n",
              " 'pets',\n",
              " 'petting',\n",
              " 'photographed',\n",
              " 'photographing',\n",
              " 'photographs',\n",
              " 'picked',\n",
              " 'picking',\n",
              " 'picks',\n",
              " 'pink',\n",
              " 'places',\n",
              " 'placing',\n",
              " 'planning',\n",
              " 'planting',\n",
              " 'play',\n",
              " 'playing',\n",
              " 'plays',\n",
              " 'pointing',\n",
              " 'points',\n",
              " 'ponytail',\n",
              " 'pose',\n",
              " 'poses',\n",
              " 'posing',\n",
              " 'pouring',\n",
              " 'pours',\n",
              " 'practice',\n",
              " 'practices',\n",
              " 'practicing',\n",
              " 'praying',\n",
              " 'prepare',\n",
              " 'prepares',\n",
              " 'preparing',\n",
              " 'presenting',\n",
              " 'professional',\n",
              " 'protesting',\n",
              " 'pulling',\n",
              " 'pulls',\n",
              " 'purchasing',\n",
              " 'purple',\n",
              " 'purse',\n",
              " 'pushes',\n",
              " 'pushing',\n",
              " 'put',\n",
              " 'puts',\n",
              " 'putting',\n",
              " 'raises',\n",
              " 'raising',\n",
              " 'reaches',\n",
              " 'reaching',\n",
              " 'read',\n",
              " 'reading',\n",
              " 'reads',\n",
              " 'red',\n",
              " 'red-hair',\n",
              " 'relaxes',\n",
              " 'relaxing',\n",
              " 'repairing',\n",
              " 'resting',\n",
              " 'rests',\n",
              " 'returning',\n",
              " 'ride',\n",
              " 'rides',\n",
              " 'riding',\n",
              " 'rode',\n",
              " 'roller',\n",
              " 'rollerblading',\n",
              " 'rolling',\n",
              " 'rolls',\n",
              " 'rowing',\n",
              " 'run',\n",
              " 'running',\n",
              " 'runs',\n",
              " 'sat',\n",
              " 'saying',\n",
              " 'scratching',\n",
              " 'screaming',\n",
              " 'searching',\n",
              " 'seated',\n",
              " 'sees',\n",
              " 'sell',\n",
              " 'selling',\n",
              " 'sells',\n",
              " 'serves',\n",
              " 'serving',\n",
              " 'sets',\n",
              " 'sewing',\n",
              " 'sews',\n",
              " 'share',\n",
              " 'shares',\n",
              " 'sharing',\n",
              " 'shaving',\n",
              " 'shooting',\n",
              " 'shoots',\n",
              " 'shop',\n",
              " 'shopping',\n",
              " 'shops',\n",
              " 'short',\n",
              " 'showing',\n",
              " 'shows',\n",
              " 'sing',\n",
              " 'singing',\n",
              " 'sings',\n",
              " 'sips',\n",
              " 'sit',\n",
              " 'siting',\n",
              " 'sits',\n",
              " 'sitting',\n",
              " 'skates',\n",
              " 'skating',\n",
              " 'skipping',\n",
              " 'skirt',\n",
              " 'skirts',\n",
              " 'skis',\n",
              " 'sleeping',\n",
              " 'sleeps',\n",
              " 'smile',\n",
              " 'smiles',\n",
              " 'smiling',\n",
              " 'smokes',\n",
              " 'smoking',\n",
              " 'son',\n",
              " 'sorting',\n",
              " 'speak',\n",
              " 'speaking',\n",
              " 'speaks',\n",
              " 'squatting',\n",
              " 'stand',\n",
              " 'standing',\n",
              " 'stands',\n",
              " 'stares',\n",
              " 'staring',\n",
              " 'stealing',\n",
              " 'stirring',\n",
              " 'stirs',\n",
              " 'stood',\n",
              " 'stop',\n",
              " 'stopped',\n",
              " 'stops',\n",
              " 'stretches',\n",
              " 'stretching',\n",
              " 'strolling',\n",
              " 'studying',\n",
              " 'sunbathing',\n",
              " 'sunglasses',\n",
              " 'surprised',\n",
              " 'sweatpants',\n",
              " 'sweeping',\n",
              " 'sweeps',\n",
              " 'swim',\n",
              " 'swimming',\n",
              " 'swims',\n",
              " 'swimsuit',\n",
              " 'take',\n",
              " 'takes',\n",
              " 'taking',\n",
              " 'talk',\n",
              " 'talking',\n",
              " 'talks',\n",
              " 'tanning',\n",
              " 'tattoo',\n",
              " 'tattoos',\n",
              " 'teaches',\n",
              " 'teaching',\n",
              " 'teal',\n",
              " 'telling',\n",
              " 'texting',\n",
              " 'thinking',\n",
              " 'throwing',\n",
              " 'throws',\n",
              " 'tight',\n",
              " 'tired',\n",
              " 'took',\n",
              " 'touches',\n",
              " 'touching',\n",
              " 'traditional',\n",
              " 'training',\n",
              " 'traveling',\n",
              " 'tries',\n",
              " 'try',\n",
              " 'trying',\n",
              " 'turquoise',\n",
              " 'tying',\n",
              " 'typing',\n",
              " 'umbrellas',\n",
              " 'upset',\n",
              " 'use',\n",
              " 'used',\n",
              " 'uses',\n",
              " 'using',\n",
              " 'vacation',\n",
              " 'vacuuming',\n",
              " 'visiting',\n",
              " 'volleyball',\n",
              " 'wait',\n",
              " 'waiting',\n",
              " 'waits',\n",
              " 'walk',\n",
              " 'walked',\n",
              " 'walking',\n",
              " 'walks',\n",
              " 'wants',\n",
              " 'washes',\n",
              " 'washing',\n",
              " 'watch',\n",
              " 'watches',\n",
              " 'watching',\n",
              " 'waving',\n",
              " 'way',\n",
              " 'wear',\n",
              " 'wearing',\n",
              " 'wears',\n",
              " 'weaves',\n",
              " 'weaving',\n",
              " 'went',\n",
              " 'wheelchair',\n",
              " 'winning',\n",
              " 'wore',\n",
              " 'work',\n",
              " 'working',\n",
              " 'works',\n",
              " 'wrestling',\n",
              " 'writes',\n",
              " 'writing',\n",
              " 'yelling',\n",
              " 'yoga'}"
            ]
          },
          "execution_count": 20,
          "metadata": {},
          "output_type": "execute_result"
        }
      ],
      "source": [
        "female_pmi_set"
      ]
    },
    {
      "cell_type": "code",
      "execution_count": 21,
      "metadata": {},
      "outputs": [
        {
          "data": {
            "text/plain": [
              "{'accepts',\n",
              " 'accidentally',\n",
              " 'acting',\n",
              " 'actually',\n",
              " 'afro',\n",
              " 'aiming',\n",
              " 'almost',\n",
              " 'angrily',\n",
              " 'appear',\n",
              " 'approaches',\n",
              " 'approaching',\n",
              " 'argue',\n",
              " 'army',\n",
              " 'arranging',\n",
              " 'arrested',\n",
              " 'asked',\n",
              " 'asks',\n",
              " 'asleep',\n",
              " 'ate',\n",
              " 'attempt',\n",
              " 'attempting',\n",
              " 'attempts',\n",
              " 'awake',\n",
              " 'backpack',\n",
              " 'backpacks',\n",
              " 'bad',\n",
              " 'baggy',\n",
              " 'balcony',\n",
              " 'bar',\n",
              " 'barbecuing',\n",
              " 'beard',\n",
              " 'beating',\n",
              " 'begging',\n",
              " 'beret',\n",
              " 'best',\n",
              " 'bicycles',\n",
              " 'bicycling',\n",
              " 'boat',\n",
              " 'bowler',\n",
              " 'bowls',\n",
              " 'boxing',\n",
              " 'breakdances',\n",
              " 'breakdancing',\n",
              " 'brings',\n",
              " 'brothers',\n",
              " 'build',\n",
              " 'builds',\n",
              " 'bungee',\n",
              " 'buried',\n",
              " 'burning',\n",
              " 'burns',\n",
              " 'business',\n",
              " 'came',\n",
              " 'camouflage',\n",
              " 'canoe',\n",
              " 'carefully',\n",
              " 'carves',\n",
              " 'carving',\n",
              " 'cast',\n",
              " 'casual',\n",
              " 'catches',\n",
              " 'catching',\n",
              " 'caught',\n",
              " 'celebrate',\n",
              " 'changes',\n",
              " 'changing',\n",
              " 'chased',\n",
              " 'chasing',\n",
              " 'checkered',\n",
              " 'cherry',\n",
              " 'chiseling',\n",
              " 'chops',\n",
              " 'clean',\n",
              " 'clearing',\n",
              " 'climb',\n",
              " 'climbed',\n",
              " 'climbing',\n",
              " 'closes',\n",
              " 'closing',\n",
              " 'collared',\n",
              " 'collects',\n",
              " 'completely',\n",
              " 'concentrating',\n",
              " 'conducting',\n",
              " 'conducts',\n",
              " 'constructing',\n",
              " 'contemplates',\n",
              " 'contemplating',\n",
              " 'controlling',\n",
              " 'crafting',\n",
              " 'crashes',\n",
              " 'crawling',\n",
              " 'crazy',\n",
              " 'creates',\n",
              " 'crouched',\n",
              " 'decides',\n",
              " 'deciding',\n",
              " 'decorating',\n",
              " 'delivers',\n",
              " 'demonstrates',\n",
              " 'destroying',\n",
              " 'dig',\n",
              " 'digs',\n",
              " 'directs',\n",
              " 'discussion',\n",
              " 'drag',\n",
              " 'dragging',\n",
              " 'drags',\n",
              " 'dreadlocks',\n",
              " 'dreads',\n",
              " 'drilling',\n",
              " 'drove',\n",
              " 'drowning',\n",
              " 'drunk',\n",
              " 'dumping',\n",
              " 'embraces',\n",
              " 'empties',\n",
              " 'engaged',\n",
              " 'engaging',\n",
              " 'enters',\n",
              " 'entertains',\n",
              " 'experienced',\n",
              " 'explaining',\n",
              " 'facial',\n",
              " 'fall',\n",
              " 'fallen',\n",
              " 'fedora',\n",
              " 'feeling',\n",
              " 'feels',\n",
              " 'fills',\n",
              " 'filmed',\n",
              " 'films',\n",
              " 'finds',\n",
              " 'finishes',\n",
              " 'finishing',\n",
              " 'fishes',\n",
              " 'fishing',\n",
              " 'fix',\n",
              " 'flannel',\n",
              " 'flipping',\n",
              " 'flips',\n",
              " 'floating',\n",
              " 'follows',\n",
              " 'forgot',\n",
              " 'found',\n",
              " 'fully',\n",
              " 'gestures',\n",
              " 'gesturing',\n",
              " 'girlfriend',\n",
              " 'given',\n",
              " 'goatee',\n",
              " 'grabs',\n",
              " 'grey',\n",
              " 'grills',\n",
              " 'grinding',\n",
              " 'grinds',\n",
              " 'guitars',\n",
              " 'hammering',\n",
              " 'handling',\n",
              " 'handstand',\n",
              " 'hang',\n",
              " 'hard',\n",
              " 'harvesting',\n",
              " 'hawaiian',\n",
              " 'helmets',\n",
              " 'help',\n",
              " 'hikes',\n",
              " 'hopes',\n",
              " 'hoping',\n",
              " 'horses',\n",
              " 'hunched',\n",
              " 'hunting',\n",
              " 'hurt',\n",
              " 'ignoring',\n",
              " 'inspect',\n",
              " 'inspects',\n",
              " 'installing',\n",
              " 'interviewing',\n",
              " 'interviews',\n",
              " 'jean',\n",
              " 'jet',\n",
              " 'juggles',\n",
              " 'jump',\n",
              " 'jumped',\n",
              " 'jumps',\n",
              " 'karate',\n",
              " 'kayaks',\n",
              " 'keeping',\n",
              " 'keeps',\n",
              " 'khaki',\n",
              " 'khakis',\n",
              " 'kickboxing',\n",
              " 'kicking',\n",
              " 'kicks',\n",
              " 'kilt',\n",
              " 'lay',\n",
              " 'learns',\n",
              " 'leather',\n",
              " 'licking',\n",
              " 'lift',\n",
              " 'lifts',\n",
              " 'lime',\n",
              " 'listen',\n",
              " 'lives',\n",
              " 'loading',\n",
              " 'loads',\n",
              " 'looked',\n",
              " 'losing',\n",
              " 'lounges',\n",
              " 'love',\n",
              " 'march',\n",
              " 'marches',\n",
              " 'marching',\n",
              " 'meditating',\n",
              " 'might',\n",
              " 'military',\n",
              " 'missed',\n",
              " 'mohawk',\n",
              " 'mopping',\n",
              " 'motorcycles',\n",
              " 'mowing',\n",
              " 'mows',\n",
              " 'mustache',\n",
              " 'named',\n",
              " 'naps',\n",
              " 'navigates',\n",
              " 'navy',\n",
              " 'observe',\n",
              " 'offering',\n",
              " 'offers',\n",
              " 'office',\n",
              " 'olive',\n",
              " 'operates',\n",
              " 'opposing',\n",
              " 'orange',\n",
              " 'overalls',\n",
              " 'packing',\n",
              " 'paddles',\n",
              " 'paddling',\n",
              " 'paid',\n",
              " 'paint',\n",
              " 'parasailing',\n",
              " 'parks',\n",
              " 'part',\n",
              " 'participates',\n",
              " 'pedals',\n",
              " 'peeling',\n",
              " 'peering',\n",
              " 'pierced',\n",
              " 'piloting',\n",
              " 'pitching',\n",
              " 'plaid',\n",
              " 'plans',\n",
              " 'played',\n",
              " 'plowing',\n",
              " 'ponders',\n",
              " 'preforming',\n",
              " 'prepared',\n",
              " 'present',\n",
              " 'pretending',\n",
              " 'pretends',\n",
              " 'pro',\n",
              " 'protecting',\n",
              " 'punches',\n",
              " 'punching',\n",
              " 'push',\n",
              " 'races',\n",
              " 'racing',\n",
              " 'ran',\n",
              " 'really',\n",
              " 'receives',\n",
              " 'receiving',\n",
              " 'reclining',\n",
              " 'recording',\n",
              " 'records',\n",
              " 'reflective',\n",
              " 'refueling',\n",
              " 'relax',\n",
              " 'removing',\n",
              " 'repair',\n",
              " 'repairs',\n",
              " 'rest',\n",
              " 'robe',\n",
              " 'rollerblades',\n",
              " 'rows',\n",
              " 'rubbing',\n",
              " 'safety',\n",
              " 'sailing',\n",
              " 'sawing',\n",
              " 'scaffold',\n",
              " 'scaffolding',\n",
              " 'scales',\n",
              " 'scaling',\n",
              " 'scared',\n",
              " 'scuba',\n",
              " 'sculpting',\n",
              " 'searches',\n",
              " 'seeing',\n",
              " 'seen',\n",
              " 'setting',\n",
              " 'shakes',\n",
              " 'shaking',\n",
              " 'shaved',\n",
              " 'shaves',\n",
              " 'shines',\n",
              " 'shoulders',\n",
              " 'shouting',\n",
              " 'shoveling',\n",
              " 'shovels',\n",
              " 'sipping',\n",
              " 'skateboarding',\n",
              " 'skateboards',\n",
              " 'skiing',\n",
              " 'skilled',\n",
              " 'skydiving',\n",
              " 'sledding',\n",
              " 'sleep',\n",
              " 'slices',\n",
              " 'slicing',\n",
              " 'snowboarding',\n",
              " 'sons',\n",
              " 'sparring',\n",
              " 'speedo',\n",
              " 'spending',\n",
              " 'spinning',\n",
              " 'splits',\n",
              " 'spraying',\n",
              " 'sprays',\n",
              " 'sprinting',\n",
              " 'squats',\n",
              " 'stacking',\n",
              " 'stare',\n",
              " 'starting',\n",
              " 'starts',\n",
              " 'steals',\n",
              " 'steering',\n",
              " 'steers',\n",
              " 'stilts',\n",
              " 'stole',\n",
              " 'straw',\n",
              " 'striped',\n",
              " 'strolls',\n",
              " 'struggles',\n",
              " 'struggling',\n",
              " 'studies',\n",
              " 'suit',\n",
              " 'suits',\n",
              " 'surfing',\n",
              " 'surfs',\n",
              " 'surveys',\n",
              " 'sweating',\n",
              " 'swinging',\n",
              " 'tells',\n",
              " 'tending',\n",
              " 'tends',\n",
              " 'testing',\n",
              " 'tests',\n",
              " 'thinks',\n",
              " 'threw',\n",
              " 'throw',\n",
              " 'ties',\n",
              " 'tosses',\n",
              " 'tossing',\n",
              " 'transporting',\n",
              " 'travel',\n",
              " 'trench',\n",
              " 'tricks',\n",
              " 'tried',\n",
              " 'trimming',\n",
              " 'trips',\n",
              " 'trouble',\n",
              " 'tuning',\n",
              " 'turban',\n",
              " 'turbans',\n",
              " 'tuxedo',\n",
              " 'tuxedos',\n",
              " 'underwear',\n",
              " 'uniform',\n",
              " 'uniforms',\n",
              " 'unloading',\n",
              " 'videotaping',\n",
              " 'visits',\n",
              " 'wakeboard',\n",
              " 'wakeboarding',\n",
              " 'want',\n",
              " 'wanted',\n",
              " 'watering',\n",
              " 'waterskiing',\n",
              " 'welding',\n",
              " 'welds',\n",
              " 'wetsuit',\n",
              " 'wheelie',\n",
              " 'whose',\n",
              " 'wife',\n",
              " 'wins',\n",
              " 'wipes',\n",
              " 'wiping',\n",
              " 'without',\n",
              " 'women',\n",
              " 'worked',\n",
              " 'wrestle',\n",
              " 'yells',\n",
              " 'zombie'}"
            ]
          },
          "execution_count": 21,
          "metadata": {},
          "output_type": "execute_result"
        }
      ],
      "source": [
        "male_pmi_set - female_pmi_set"
      ]
    },
    {
      "cell_type": "code",
      "execution_count": 22,
      "metadata": {},
      "outputs": [
        {
          "data": {
            "text/plain": [
              "{'alone',\n",
              " 'also',\n",
              " 'angry',\n",
              " 'applies',\n",
              " 'applying',\n",
              " 'balances',\n",
              " 'ballet',\n",
              " 'bathing',\n",
              " 'bikini',\n",
              " 'bikinis',\n",
              " 'blond-hair',\n",
              " 'blonde',\n",
              " 'blow',\n",
              " 'braids',\n",
              " 'bright',\n",
              " 'brown',\n",
              " 'brushes',\n",
              " 'cheering',\n",
              " 'close',\n",
              " 'coffee',\n",
              " 'colorful',\n",
              " 'considering',\n",
              " 'costumes',\n",
              " 'covering',\n",
              " 'cross',\n",
              " 'crying',\n",
              " 'curly',\n",
              " 'date',\n",
              " 'daughters',\n",
              " 'displaying',\n",
              " 'displays',\n",
              " 'dress',\n",
              " 'dresses',\n",
              " 'dries',\n",
              " 'drops',\n",
              " 'drying',\n",
              " 'embrace',\n",
              " 'embracing',\n",
              " 'ethnic',\n",
              " 'exiting',\n",
              " 'fancy',\n",
              " 'floral',\n",
              " 'flowered',\n",
              " 'formal',\n",
              " 'get',\n",
              " 'gossiping',\n",
              " 'green',\n",
              " 'hair',\n",
              " 'happy',\n",
              " 'headscarf',\n",
              " 'heels',\n",
              " 'hospital',\n",
              " 'hug',\n",
              " 'hula',\n",
              " 'husband',\n",
              " 'indoors',\n",
              " 'jog',\n",
              " 'kimono',\n",
              " 'kiss',\n",
              " 'kitchen',\n",
              " 'knees',\n",
              " 'knit',\n",
              " 'knits',\n",
              " 'laugh',\n",
              " 'laundry',\n",
              " 'leopard',\n",
              " 'library',\n",
              " 'made',\n",
              " 'maroon',\n",
              " 'modeling',\n",
              " 'multicolored',\n",
              " 'ordered',\n",
              " 'pajamas',\n",
              " 'pass',\n",
              " 'pet',\n",
              " 'photographed',\n",
              " 'pink',\n",
              " 'purple',\n",
              " 'purse',\n",
              " 'red',\n",
              " 'red-hair',\n",
              " 'roller',\n",
              " 'rolling',\n",
              " 'saying',\n",
              " 'screaming',\n",
              " 'shares',\n",
              " 'shop',\n",
              " 'shopping',\n",
              " 'short',\n",
              " 'siting',\n",
              " 'skates',\n",
              " 'skirt',\n",
              " 'skirts',\n",
              " 'smile',\n",
              " 'smiling',\n",
              " 'stirs',\n",
              " 'stop',\n",
              " 'stopped',\n",
              " 'sunglasses',\n",
              " 'sweatpants',\n",
              " 'swimsuit',\n",
              " 'tanning',\n",
              " 'teal',\n",
              " 'tight',\n",
              " 'turquoise',\n",
              " 'umbrellas',\n",
              " 'vacation',\n",
              " 'volleyball',\n",
              " 'way',\n",
              " 'weaves',\n",
              " 'yoga'}"
            ]
          },
          "execution_count": 22,
          "metadata": {},
          "output_type": "execute_result"
        }
      ],
      "source": [
        "female_pmi_set - male_pmi_set"
      ]
    },
    {
      "cell_type": "code",
      "execution_count": 23,
      "metadata": {},
      "outputs": [
        {
          "data": {
            "text/plain": [
              "{'couple', 'men', 'pride', 'rights'}"
            ]
          },
          "execution_count": 23,
          "metadata": {},
          "output_type": "execute_result"
        }
      ],
      "source": [
        "lgbt_pmi_set - male_pmi_set.union(female_pmi_set)"
      ]
    },
    {
      "cell_type": "code",
      "execution_count": 27,
      "metadata": {
        "id": "IUyIECAAjr5x"
      },
      "outputs": [
        {
          "data": {
            "text/html": [
              "<div>\n",
              "<style scoped>\n",
              "    .dataframe tbody tr th:only-of-type {\n",
              "        vertical-align: middle;\n",
              "    }\n",
              "\n",
              "    .dataframe tbody tr th {\n",
              "        vertical-align: top;\n",
              "    }\n",
              "\n",
              "    .dataframe thead th {\n",
              "        text-align: right;\n",
              "    }\n",
              "</style>\n",
              "<table border=\"1\" class=\"dataframe\">\n",
              "  <thead>\n",
              "    <tr style=\"text-align: right;\">\n",
              "      <th></th>\n",
              "      <th>gold_label</th>\n",
              "      <th>sentence1</th>\n",
              "      <th>sentence2</th>\n",
              "    </tr>\n",
              "  </thead>\n",
              "  <tbody>\n",
              "    <tr>\n",
              "      <th>1857</th>\n",
              "      <td>neutral</td>\n",
              "      <td>a woman on a yellow shirt is on the floor.</td>\n",
              "      <td>A woman lying on her shirt so her pants wont get dirty.</td>\n",
              "    </tr>\n",
              "    <tr>\n",
              "      <th>5352</th>\n",
              "      <td>neutral</td>\n",
              "      <td>An old man wit a straw hat and umbrella is smiling while sitting and watching something in the distance.</td>\n",
              "      <td>The hat is dirty.</td>\n",
              "    </tr>\n",
              "    <tr>\n",
              "      <th>5358</th>\n",
              "      <td>contradiction</td>\n",
              "      <td>A young boy wearing a red shirt with yellow writing on it and a red sports cap is squatted in shallow water and touching a yellow pail filled with sand.</td>\n",
              "      <td>The little kid with a red shirt and yellow letters, stood on a foot stool to reach both his hands into the dirty water in the sink.</td>\n",
              "    </tr>\n",
              "    <tr>\n",
              "      <th>5518</th>\n",
              "      <td>contradiction</td>\n",
              "      <td>A father or family friend playing with baby in a very clean looking house.</td>\n",
              "      <td>The house is dirty looking.</td>\n",
              "    </tr>\n",
              "    <tr>\n",
              "      <th>6208</th>\n",
              "      <td>neutral</td>\n",
              "      <td>A man in orange shorts sits on some steps in front of a big blue door.</td>\n",
              "      <td>A young man in shorts sits on some dirty steps.</td>\n",
              "    </tr>\n",
              "    <tr>\n",
              "      <th>...</th>\n",
              "      <td>...</td>\n",
              "      <td>...</td>\n",
              "      <td>...</td>\n",
              "    </tr>\n",
              "    <tr>\n",
              "      <th>544008</th>\n",
              "      <td>contradiction</td>\n",
              "      <td>Children in festive attire walking with others on a street.</td>\n",
              "      <td>Kids in dirty blue jeans walk on the street.</td>\n",
              "    </tr>\n",
              "    <tr>\n",
              "      <th>547285</th>\n",
              "      <td>neutral</td>\n",
              "      <td>Three people with white gloves on picking up trash on a beach.</td>\n",
              "      <td>Three people pick up dirty needles on a beach.</td>\n",
              "    </tr>\n",
              "    <tr>\n",
              "      <th>548798</th>\n",
              "      <td>entailment</td>\n",
              "      <td>Two people are cleaning the road.</td>\n",
              "      <td>Two people are cleaning the dirty road.</td>\n",
              "    </tr>\n",
              "    <tr>\n",
              "      <th>550146</th>\n",
              "      <td>entailment</td>\n",
              "      <td>Four dirty and barefooted children.</td>\n",
              "      <td>four children have dirty feet.</td>\n",
              "    </tr>\n",
              "    <tr>\n",
              "      <th>550148</th>\n",
              "      <td>neutral</td>\n",
              "      <td>Four dirty and barefooted children.</td>\n",
              "      <td>four homeless children had their shoes stolen, so their feet are dirty.</td>\n",
              "    </tr>\n",
              "  </tbody>\n",
              "</table>\n",
              "<p>408 rows × 3 columns</p>\n",
              "</div>"
            ],
            "text/plain": [
              "           gold_label  \\\n",
              "1857    neutral         \n",
              "5352    neutral         \n",
              "5358    contradiction   \n",
              "5518    contradiction   \n",
              "6208    neutral         \n",
              "...         ...         \n",
              "544008  contradiction   \n",
              "547285  neutral         \n",
              "548798  entailment      \n",
              "550146  entailment      \n",
              "550148  neutral         \n",
              "\n",
              "                                                                                                                                                       sentence1  \\\n",
              "1857    a woman on a yellow shirt is on the floor.                                                                                                                 \n",
              "5352    An old man wit a straw hat and umbrella is smiling while sitting and watching something in the distance.                                                   \n",
              "5358    A young boy wearing a red shirt with yellow writing on it and a red sports cap is squatted in shallow water and touching a yellow pail filled with sand.   \n",
              "5518    A father or family friend playing with baby in a very clean looking house.                                                                                 \n",
              "6208    A man in orange shorts sits on some steps in front of a big blue door.                                                                                     \n",
              "...                                                                        ...                                                                                     \n",
              "544008  Children in festive attire walking with others on a street.                                                                                                \n",
              "547285  Three people with white gloves on picking up trash on a beach.                                                                                             \n",
              "548798  Two people are cleaning the road.                                                                                                                          \n",
              "550146  Four dirty and barefooted children.                                                                                                                        \n",
              "550148  Four dirty and barefooted children.                                                                                                                        \n",
              "\n",
              "                                                                                                                                  sentence2  \n",
              "1857    A woman lying on her shirt so her pants wont get dirty.                                                                              \n",
              "5352    The hat is dirty.                                                                                                                    \n",
              "5358    The little kid with a red shirt and yellow letters, stood on a foot stool to reach both his hands into the dirty water in the sink.  \n",
              "5518    The house is dirty looking.                                                                                                          \n",
              "6208    A young man in shorts sits on some dirty steps.                                                                                      \n",
              "...                                                 ...                                                                                      \n",
              "544008  Kids in dirty blue jeans walk on the street.                                                                                         \n",
              "547285  Three people pick up dirty needles on a beach.                                                                                       \n",
              "548798  Two people are cleaning the dirty road.                                                                                              \n",
              "550146  four children have dirty feet.                                                                                                       \n",
              "550148  four homeless children had their shoes stolen, so their feet are dirty.                                                              \n",
              "\n",
              "[408 rows x 3 columns]"
            ]
          },
          "execution_count": 27,
          "metadata": {},
          "output_type": "execute_result"
        }
      ],
      "source": [
        "search_term = \"dirty\"\n",
        "mask = snli_data[\"sentence2\"].str.contains(search_term, case=False, na=False)\n",
        "pd.set_option('display.max_colwidth', 0)\n",
        "#pd.set_option(\"display.max_rows\", None)\n",
        "snli_data[mask][[\"gold_label\",\"sentence1\",\"sentence2\"]]\n",
        "\n"
      ]
    },
    {
      "cell_type": "code",
      "execution_count": 28,
      "metadata": {},
      "outputs": [
        {
          "data": {
            "text/html": [
              "<div>\n",
              "<style scoped>\n",
              "    .dataframe tbody tr th:only-of-type {\n",
              "        vertical-align: middle;\n",
              "    }\n",
              "\n",
              "    .dataframe tbody tr th {\n",
              "        vertical-align: top;\n",
              "    }\n",
              "\n",
              "    .dataframe thead th {\n",
              "        text-align: right;\n",
              "    }\n",
              "</style>\n",
              "<table border=\"1\" class=\"dataframe\">\n",
              "  <thead>\n",
              "    <tr style=\"text-align: right;\">\n",
              "      <th></th>\n",
              "      <th>gold_label</th>\n",
              "      <th>sentence1</th>\n",
              "      <th>sentence2</th>\n",
              "    </tr>\n",
              "  </thead>\n",
              "  <tbody>\n",
              "    <tr>\n",
              "      <th>20205</th>\n",
              "      <td>neutral</td>\n",
              "      <td>A Indian women displaying her cultural heritage with painted red fingers and an extravagant head piece.</td>\n",
              "      <td>The woman is preparing for her wedding.</td>\n",
              "    </tr>\n",
              "    <tr>\n",
              "      <th>20206</th>\n",
              "      <td>contradiction</td>\n",
              "      <td>A Indian women displaying her cultural heritage with painted red fingers and an extravagant head piece.</td>\n",
              "      <td>A woman dresses in western fashion, with unadorned fingers and head.</td>\n",
              "    </tr>\n",
              "    <tr>\n",
              "      <th>20207</th>\n",
              "      <td>neutral</td>\n",
              "      <td>A Indian women displaying her cultural heritage with painted red fingers and an extravagant head piece.</td>\n",
              "      <td>An Indian lady is wearing a beautiful outfit.</td>\n",
              "    </tr>\n",
              "    <tr>\n",
              "      <th>20208</th>\n",
              "      <td>entailment</td>\n",
              "      <td>A Indian women displaying her cultural heritage with painted red fingers and an extravagant head piece.</td>\n",
              "      <td>An Indian woman is wearing traditional styles.</td>\n",
              "    </tr>\n",
              "    <tr>\n",
              "      <th>20209</th>\n",
              "      <td>neutral</td>\n",
              "      <td>A Indian women displaying her cultural heritage with painted red fingers and an extravagant head piece.</td>\n",
              "      <td>A woman shows off to a crowd of people.</td>\n",
              "    </tr>\n",
              "    <tr>\n",
              "      <th>20210</th>\n",
              "      <td>neutral</td>\n",
              "      <td>A Indian women displaying her cultural heritage with painted red fingers and an extravagant head piece.</td>\n",
              "      <td>A woman is ready for a national cultural celebration.</td>\n",
              "    </tr>\n",
              "    <tr>\n",
              "      <th>20211</th>\n",
              "      <td>contradiction</td>\n",
              "      <td>A Indian women displaying her cultural heritage with painted red fingers and an extravagant head piece.</td>\n",
              "      <td>A Japanese woman is wearing a kimono.</td>\n",
              "    </tr>\n",
              "    <tr>\n",
              "      <th>20212</th>\n",
              "      <td>entailment</td>\n",
              "      <td>A Indian women displaying her cultural heritage with painted red fingers and an extravagant head piece.</td>\n",
              "      <td>A very colorfully robed female with fingers painted red, who's culture appears to be Indian, has on an elaborate head piece.</td>\n",
              "    </tr>\n",
              "    <tr>\n",
              "      <th>20213</th>\n",
              "      <td>entailment</td>\n",
              "      <td>A Indian women displaying her cultural heritage with painted red fingers and an extravagant head piece.</td>\n",
              "      <td>A woman is dressed in traditional, ethnic clothing.</td>\n",
              "    </tr>\n",
              "    <tr>\n",
              "      <th>20214</th>\n",
              "      <td>contradiction</td>\n",
              "      <td>A Indian women displaying her cultural heritage with painted red fingers and an extravagant head piece.</td>\n",
              "      <td>A woman wearing an old-fashioned apron holds an apple pie in her hands.</td>\n",
              "    </tr>\n",
              "    <tr>\n",
              "      <th>20215</th>\n",
              "      <td>neutral</td>\n",
              "      <td>A Indian women displaying her cultural heritage with painted red fingers and an extravagant head piece.</td>\n",
              "      <td>An exquisit head covering is being worn by a woman who is brightly colored.</td>\n",
              "    </tr>\n",
              "    <tr>\n",
              "      <th>20216</th>\n",
              "      <td>contradiction</td>\n",
              "      <td>A Indian women displaying her cultural heritage with painted red fingers and an extravagant head piece.</td>\n",
              "      <td>A woman is outside the house looking drab and tired.</td>\n",
              "    </tr>\n",
              "    <tr>\n",
              "      <th>20217</th>\n",
              "      <td>contradiction</td>\n",
              "      <td>A Indian women displaying her cultural heritage with painted red fingers and an extravagant head piece.</td>\n",
              "      <td>A nun reads the bible.</td>\n",
              "    </tr>\n",
              "    <tr>\n",
              "      <th>20218</th>\n",
              "      <td>entailment</td>\n",
              "      <td>A Indian women displaying her cultural heritage with painted red fingers and an extravagant head piece.</td>\n",
              "      <td>A woman sports red fingernails.</td>\n",
              "    </tr>\n",
              "    <tr>\n",
              "      <th>20219</th>\n",
              "      <td>entailment</td>\n",
              "      <td>A Indian women displaying her cultural heritage with painted red fingers and an extravagant head piece.</td>\n",
              "      <td>An Indian woman is wearing cultural attire.</td>\n",
              "    </tr>\n",
              "    <tr>\n",
              "      <th>49056</th>\n",
              "      <td>neutral</td>\n",
              "      <td>A very happy singer in an extravagant outfit.</td>\n",
              "      <td>The singer is wearing crazy clothes to get people to notice her.</td>\n",
              "    </tr>\n",
              "    <tr>\n",
              "      <th>49057</th>\n",
              "      <td>entailment</td>\n",
              "      <td>A very happy singer in an extravagant outfit.</td>\n",
              "      <td>the person is in a happy mood.</td>\n",
              "    </tr>\n",
              "    <tr>\n",
              "      <th>49058</th>\n",
              "      <td>contradiction</td>\n",
              "      <td>A very happy singer in an extravagant outfit.</td>\n",
              "      <td>The singer is dressed in a drab manner.</td>\n",
              "    </tr>\n",
              "    <tr>\n",
              "      <th>68340</th>\n",
              "      <td>contradiction</td>\n",
              "      <td>Two well-dressed, elderly ladies wearing extravagant hats.</td>\n",
              "      <td>Two people are wearing casual clothes.</td>\n",
              "    </tr>\n",
              "    <tr>\n",
              "      <th>68341</th>\n",
              "      <td>neutral</td>\n",
              "      <td>Two well-dressed, elderly ladies wearing extravagant hats.</td>\n",
              "      <td>Two women are dressed nicely for church.</td>\n",
              "    </tr>\n",
              "    <tr>\n",
              "      <th>68342</th>\n",
              "      <td>entailment</td>\n",
              "      <td>Two well-dressed, elderly ladies wearing extravagant hats.</td>\n",
              "      <td>Two older ladies are all dressed up.</td>\n",
              "    </tr>\n",
              "    <tr>\n",
              "      <th>80958</th>\n",
              "      <td>entailment</td>\n",
              "      <td>A woman taking off a large cloak revealing a extravagant dress</td>\n",
              "      <td>Female is revealing her gown that was hidden under her wrap.</td>\n",
              "    </tr>\n",
              "    <tr>\n",
              "      <th>80959</th>\n",
              "      <td>neutral</td>\n",
              "      <td>A woman taking off a large cloak revealing a extravagant dress</td>\n",
              "      <td>A woman is checking her coat at the formal gala event.</td>\n",
              "    </tr>\n",
              "    <tr>\n",
              "      <th>80960</th>\n",
              "      <td>contradiction</td>\n",
              "      <td>A woman taking off a large cloak revealing a extravagant dress</td>\n",
              "      <td>A guy is putting on his overcoat.</td>\n",
              "    </tr>\n",
              "    <tr>\n",
              "      <th>92013</th>\n",
              "      <td>neutral</td>\n",
              "      <td>A man enjoys some extravagant artwork.</td>\n",
              "      <td>A man is looking at some modern art.</td>\n",
              "    </tr>\n",
              "    <tr>\n",
              "      <th>92014</th>\n",
              "      <td>entailment</td>\n",
              "      <td>A man enjoys some extravagant artwork.</td>\n",
              "      <td>A man is viewing art.</td>\n",
              "    </tr>\n",
              "    <tr>\n",
              "      <th>92015</th>\n",
              "      <td>contradiction</td>\n",
              "      <td>A man enjoys some extravagant artwork.</td>\n",
              "      <td>A man is making art.</td>\n",
              "    </tr>\n",
              "    <tr>\n",
              "      <th>242190</th>\n",
              "      <td>entailment</td>\n",
              "      <td>Three people are doing ballet exercises in extravagant costumes.</td>\n",
              "      <td>The people are wearing clothes.</td>\n",
              "    </tr>\n",
              "    <tr>\n",
              "      <th>242191</th>\n",
              "      <td>neutral</td>\n",
              "      <td>Three people are doing ballet exercises in extravagant costumes.</td>\n",
              "      <td>The people are all females.</td>\n",
              "    </tr>\n",
              "    <tr>\n",
              "      <th>242192</th>\n",
              "      <td>contradiction</td>\n",
              "      <td>Three people are doing ballet exercises in extravagant costumes.</td>\n",
              "      <td>There is only one person wearing an extravagant costume.</td>\n",
              "    </tr>\n",
              "    <tr>\n",
              "      <th>422877</th>\n",
              "      <td>entailment</td>\n",
              "      <td>A room full of worshippers bows toward an extravagant display in the center of the crowd.</td>\n",
              "      <td>The faithful show reverence for a display</td>\n",
              "    </tr>\n",
              "    <tr>\n",
              "      <th>422878</th>\n",
              "      <td>contradiction</td>\n",
              "      <td>A room full of worshippers bows toward an extravagant display in the center of the crowd.</td>\n",
              "      <td>An angry mob wreck a display they deem as idolatry</td>\n",
              "    </tr>\n",
              "    <tr>\n",
              "      <th>422879</th>\n",
              "      <td>neutral</td>\n",
              "      <td>A room full of worshippers bows toward an extravagant display in the center of the crowd.</td>\n",
              "      <td>At an initiation ceremony, new converts pray</td>\n",
              "    </tr>\n",
              "    <tr>\n",
              "      <th>477993</th>\n",
              "      <td>contradiction</td>\n",
              "      <td>A man is placing jewelry on an extravagantly-haired and decorated female sculpture or stiffly-posed woman.</td>\n",
              "      <td>The sculptures are men dressed in pink.</td>\n",
              "    </tr>\n",
              "    <tr>\n",
              "      <th>477994</th>\n",
              "      <td>neutral</td>\n",
              "      <td>A man is placing jewelry on an extravagantly-haired and decorated female sculpture or stiffly-posed woman.</td>\n",
              "      <td>The man is preparing for an exhibit.</td>\n",
              "    </tr>\n",
              "    <tr>\n",
              "      <th>477995</th>\n",
              "      <td>entailment</td>\n",
              "      <td>A man is placing jewelry on an extravagantly-haired and decorated female sculpture or stiffly-posed woman.</td>\n",
              "      <td>A man is working with art pieces.</td>\n",
              "    </tr>\n",
              "  </tbody>\n",
              "</table>\n",
              "</div>"
            ],
            "text/plain": [
              "           gold_label  \\\n",
              "20205   neutral         \n",
              "20206   contradiction   \n",
              "20207   neutral         \n",
              "20208   entailment      \n",
              "20209   neutral         \n",
              "20210   neutral         \n",
              "20211   contradiction   \n",
              "20212   entailment      \n",
              "20213   entailment      \n",
              "20214   contradiction   \n",
              "20215   neutral         \n",
              "20216   contradiction   \n",
              "20217   contradiction   \n",
              "20218   entailment      \n",
              "20219   entailment      \n",
              "49056   neutral         \n",
              "49057   entailment      \n",
              "49058   contradiction   \n",
              "68340   contradiction   \n",
              "68341   neutral         \n",
              "68342   entailment      \n",
              "80958   entailment      \n",
              "80959   neutral         \n",
              "80960   contradiction   \n",
              "92013   neutral         \n",
              "92014   entailment      \n",
              "92015   contradiction   \n",
              "242190  entailment      \n",
              "242191  neutral         \n",
              "242192  contradiction   \n",
              "422877  entailment      \n",
              "422878  contradiction   \n",
              "422879  neutral         \n",
              "477993  contradiction   \n",
              "477994  neutral         \n",
              "477995  entailment      \n",
              "\n",
              "                                                                                                         sentence1  \\\n",
              "20205   A Indian women displaying her cultural heritage with painted red fingers and an extravagant head piece.      \n",
              "20206   A Indian women displaying her cultural heritage with painted red fingers and an extravagant head piece.      \n",
              "20207   A Indian women displaying her cultural heritage with painted red fingers and an extravagant head piece.      \n",
              "20208   A Indian women displaying her cultural heritage with painted red fingers and an extravagant head piece.      \n",
              "20209   A Indian women displaying her cultural heritage with painted red fingers and an extravagant head piece.      \n",
              "20210   A Indian women displaying her cultural heritage with painted red fingers and an extravagant head piece.      \n",
              "20211   A Indian women displaying her cultural heritage with painted red fingers and an extravagant head piece.      \n",
              "20212   A Indian women displaying her cultural heritage with painted red fingers and an extravagant head piece.      \n",
              "20213   A Indian women displaying her cultural heritage with painted red fingers and an extravagant head piece.      \n",
              "20214   A Indian women displaying her cultural heritage with painted red fingers and an extravagant head piece.      \n",
              "20215   A Indian women displaying her cultural heritage with painted red fingers and an extravagant head piece.      \n",
              "20216   A Indian women displaying her cultural heritage with painted red fingers and an extravagant head piece.      \n",
              "20217   A Indian women displaying her cultural heritage with painted red fingers and an extravagant head piece.      \n",
              "20218   A Indian women displaying her cultural heritage with painted red fingers and an extravagant head piece.      \n",
              "20219   A Indian women displaying her cultural heritage with painted red fingers and an extravagant head piece.      \n",
              "49056   A very happy singer in an extravagant outfit.                                                                \n",
              "49057   A very happy singer in an extravagant outfit.                                                                \n",
              "49058   A very happy singer in an extravagant outfit.                                                                \n",
              "68340   Two well-dressed, elderly ladies wearing extravagant hats.                                                   \n",
              "68341   Two well-dressed, elderly ladies wearing extravagant hats.                                                   \n",
              "68342   Two well-dressed, elderly ladies wearing extravagant hats.                                                   \n",
              "80958   A woman taking off a large cloak revealing a extravagant dress                                               \n",
              "80959   A woman taking off a large cloak revealing a extravagant dress                                               \n",
              "80960   A woman taking off a large cloak revealing a extravagant dress                                               \n",
              "92013   A man enjoys some extravagant artwork.                                                                       \n",
              "92014   A man enjoys some extravagant artwork.                                                                       \n",
              "92015   A man enjoys some extravagant artwork.                                                                       \n",
              "242190  Three people are doing ballet exercises in extravagant costumes.                                             \n",
              "242191  Three people are doing ballet exercises in extravagant costumes.                                             \n",
              "242192  Three people are doing ballet exercises in extravagant costumes.                                             \n",
              "422877  A room full of worshippers bows toward an extravagant display in the center of the crowd.                    \n",
              "422878  A room full of worshippers bows toward an extravagant display in the center of the crowd.                    \n",
              "422879  A room full of worshippers bows toward an extravagant display in the center of the crowd.                    \n",
              "477993  A man is placing jewelry on an extravagantly-haired and decorated female sculpture or stiffly-posed woman.   \n",
              "477994  A man is placing jewelry on an extravagantly-haired and decorated female sculpture or stiffly-posed woman.   \n",
              "477995  A man is placing jewelry on an extravagantly-haired and decorated female sculpture or stiffly-posed woman.   \n",
              "\n",
              "                                                                                                                           sentence2  \n",
              "20205   The woman is preparing for her wedding.                                                                                       \n",
              "20206   A woman dresses in western fashion, with unadorned fingers and head.                                                          \n",
              "20207   An Indian lady is wearing a beautiful outfit.                                                                                 \n",
              "20208   An Indian woman is wearing traditional styles.                                                                                \n",
              "20209   A woman shows off to a crowd of people.                                                                                       \n",
              "20210   A woman is ready for a national cultural celebration.                                                                         \n",
              "20211   A Japanese woman is wearing a kimono.                                                                                         \n",
              "20212   A very colorfully robed female with fingers painted red, who's culture appears to be Indian, has on an elaborate head piece.  \n",
              "20213   A woman is dressed in traditional, ethnic clothing.                                                                           \n",
              "20214   A woman wearing an old-fashioned apron holds an apple pie in her hands.                                                       \n",
              "20215   An exquisit head covering is being worn by a woman who is brightly colored.                                                   \n",
              "20216   A woman is outside the house looking drab and tired.                                                                          \n",
              "20217   A nun reads the bible.                                                                                                        \n",
              "20218   A woman sports red fingernails.                                                                                               \n",
              "20219   An Indian woman is wearing cultural attire.                                                                                   \n",
              "49056   The singer is wearing crazy clothes to get people to notice her.                                                              \n",
              "49057   the person is in a happy mood.                                                                                                \n",
              "49058   The singer is dressed in a drab manner.                                                                                       \n",
              "68340   Two people are wearing casual clothes.                                                                                        \n",
              "68341   Two women are dressed nicely for church.                                                                                      \n",
              "68342   Two older ladies are all dressed up.                                                                                          \n",
              "80958   Female is revealing her gown that was hidden under her wrap.                                                                  \n",
              "80959   A woman is checking her coat at the formal gala event.                                                                        \n",
              "80960   A guy is putting on his overcoat.                                                                                             \n",
              "92013   A man is looking at some modern art.                                                                                          \n",
              "92014   A man is viewing art.                                                                                                         \n",
              "92015   A man is making art.                                                                                                          \n",
              "242190  The people are wearing clothes.                                                                                               \n",
              "242191  The people are all females.                                                                                                   \n",
              "242192  There is only one person wearing an extravagant costume.                                                                      \n",
              "422877  The faithful show reverence for a display                                                                                     \n",
              "422878  An angry mob wreck a display they deem as idolatry                                                                            \n",
              "422879  At an initiation ceremony, new converts pray                                                                                  \n",
              "477993  The sculptures are men dressed in pink.                                                                                       \n",
              "477994  The man is preparing for an exhibit.                                                                                          \n",
              "477995  A man is working with art pieces.                                                                                             "
            ]
          },
          "execution_count": 28,
          "metadata": {},
          "output_type": "execute_result"
        }
      ],
      "source": [
        "search_term = \"extravagant\"\n",
        "mask = snli_data[\"sentence1\"].str.contains(search_term, case=False, na=False)\n",
        "pd.set_option('display.max_colwidth', 0)\n",
        "snli_data[mask][[\"gold_label\",\"sentence1\",\"sentence2\"]]"
      ]
    },
    {
      "cell_type": "code",
      "execution_count": 29,
      "metadata": {},
      "outputs": [
        {
          "data": {
            "text/html": [
              "<div>\n",
              "<style scoped>\n",
              "    .dataframe tbody tr th:only-of-type {\n",
              "        vertical-align: middle;\n",
              "    }\n",
              "\n",
              "    .dataframe tbody tr th {\n",
              "        vertical-align: top;\n",
              "    }\n",
              "\n",
              "    .dataframe thead th {\n",
              "        text-align: right;\n",
              "    }\n",
              "</style>\n",
              "<table border=\"1\" class=\"dataframe\">\n",
              "  <thead>\n",
              "    <tr style=\"text-align: right;\">\n",
              "      <th></th>\n",
              "      <th>gold_label</th>\n",
              "      <th>sentence1</th>\n",
              "      <th>sentence2</th>\n",
              "    </tr>\n",
              "  </thead>\n",
              "  <tbody>\n",
              "    <tr>\n",
              "      <th>51534</th>\n",
              "      <td>neutral</td>\n",
              "      <td>People praying by a car while another reads something from a large piece of paper.</td>\n",
              "      <td>The people read the newspaper in horror of the recent American terrorist attacks.</td>\n",
              "    </tr>\n",
              "    <tr>\n",
              "      <th>54040</th>\n",
              "      <td>contradiction</td>\n",
              "      <td>A young woman is standing in a darkly-lit room with two red lamps hanging overhead.</td>\n",
              "      <td>George Washington has released a video claiming responsibility for the most recent terrorist attack.</td>\n",
              "    </tr>\n",
              "    <tr>\n",
              "      <th>82780</th>\n",
              "      <td>contradiction</td>\n",
              "      <td>Children sitting and writing.</td>\n",
              "      <td>Children writing bomb threats to mail to terrorists.</td>\n",
              "    </tr>\n",
              "    <tr>\n",
              "      <th>97940</th>\n",
              "      <td>contradiction</td>\n",
              "      <td>A man holds up a tiny sign reading \"I'm a photographer not a terrorist.\"</td>\n",
              "      <td>A cat is a terrorist.</td>\n",
              "    </tr>\n",
              "    <tr>\n",
              "      <th>98016</th>\n",
              "      <td>contradiction</td>\n",
              "      <td>A man is holding a souvenir that says \"I'm a photographer not a terrorist\" at what appears to be a rally somewhere in Europe.</td>\n",
              "      <td>A man is stealing someones souvenir that says \"I'm a terrorist not a photographer please shoot me\".</td>\n",
              "    </tr>\n",
              "    <tr>\n",
              "      <th>98018</th>\n",
              "      <td>entailment</td>\n",
              "      <td>A man is holding a souvenir that says \"I'm a photographer not a terrorist\" at what appears to be a rally somewhere in Europe.</td>\n",
              "      <td>Ar a rally in Europe a man is holding a souvenir that says \"I'm a photographer not a terrorist\".</td>\n",
              "    </tr>\n",
              "    <tr>\n",
              "      <th>117324</th>\n",
              "      <td>neutral</td>\n",
              "      <td>A man holds a flying national flag amid debris and smoke.</td>\n",
              "      <td>The flag is raised as a symbol of strength after the terrorist attack.</td>\n",
              "    </tr>\n",
              "    <tr>\n",
              "      <th>119273</th>\n",
              "      <td>neutral</td>\n",
              "      <td>A group of people are congregating outside with a wave flying and a banner of foreign writing on it.</td>\n",
              "      <td>The people are terrorists</td>\n",
              "    </tr>\n",
              "    <tr>\n",
              "      <th>130270</th>\n",
              "      <td>neutral</td>\n",
              "      <td>Several Muslim worshipers march towards Mecca.</td>\n",
              "      <td>The Muslims are terrorists.</td>\n",
              "    </tr>\n",
              "    <tr>\n",
              "      <th>135622</th>\n",
              "      <td>neutral</td>\n",
              "      <td>Military personnel patrol an area.</td>\n",
              "      <td>Soldiers are looking for an escaped terrorist.</td>\n",
              "    </tr>\n",
              "    <tr>\n",
              "      <th>149999</th>\n",
              "      <td>neutral</td>\n",
              "      <td>An unidentified curved street with three people walking away from the camera.</td>\n",
              "      <td>an unidentified curved street with three peoples are terrorist</td>\n",
              "    </tr>\n",
              "    <tr>\n",
              "      <th>152209</th>\n",
              "      <td>contradiction</td>\n",
              "      <td>Two men pushing wheelbarrows, two men looking at them, they are in the desert near some block construction buildings.</td>\n",
              "      <td>A terrorist group plotting what to do next.</td>\n",
              "    </tr>\n",
              "    <tr>\n",
              "      <th>155904</th>\n",
              "      <td>contradiction</td>\n",
              "      <td>A man in a t-shirt and shorts poses in front of a police squad wearing full S.W.A.T. gear.</td>\n",
              "      <td>A man is fighting invisible terrorists</td>\n",
              "    </tr>\n",
              "    <tr>\n",
              "      <th>162873</th>\n",
              "      <td>neutral</td>\n",
              "      <td>Two people holding weapons, Wearing black uniforms facing each other.</td>\n",
              "      <td>two people terrorist</td>\n",
              "    </tr>\n",
              "    <tr>\n",
              "      <th>178450</th>\n",
              "      <td>neutral</td>\n",
              "      <td>This memorial is to remember victims of a tragedy.</td>\n",
              "      <td>A memorial for the 9/11 terrorist attacks.</td>\n",
              "    </tr>\n",
              "    <tr>\n",
              "      <th>186290</th>\n",
              "      <td>neutral</td>\n",
              "      <td>Protesters walking down the street holding Palestinian flags.</td>\n",
              "      <td>The protesters are terrorists.</td>\n",
              "    </tr>\n",
              "    <tr>\n",
              "      <th>226961</th>\n",
              "      <td>neutral</td>\n",
              "      <td>Military arrest a man in the middle of the street.</td>\n",
              "      <td>MP's arrest a terrorist.</td>\n",
              "    </tr>\n",
              "    <tr>\n",
              "      <th>249647</th>\n",
              "      <td>contradiction</td>\n",
              "      <td>A man holds up a small sticker that says \"I am a photographer, not a terrorist\" while standing among a large group of protesters.</td>\n",
              "      <td>the man is a terrorist.</td>\n",
              "    </tr>\n",
              "    <tr>\n",
              "      <th>269199</th>\n",
              "      <td>contradiction</td>\n",
              "      <td>Three people are standing in front of a sign that has an american flag on it.</td>\n",
              "      <td>A group of terrorists blowing themselves up.</td>\n",
              "    </tr>\n",
              "    <tr>\n",
              "      <th>295048</th>\n",
              "      <td>contradiction</td>\n",
              "      <td>A woman inside a building is wearing a headscarf and looking out of a window through a mounted telescope.</td>\n",
              "      <td>A woman is planning a terrorist attack and looking at targets through a mounted telescope.</td>\n",
              "    </tr>\n",
              "    <tr>\n",
              "      <th>334065</th>\n",
              "      <td>contradiction</td>\n",
              "      <td>A man who has his face covered with a turban is carrying a weapon.</td>\n",
              "      <td>The terrorists have licorice.</td>\n",
              "    </tr>\n",
              "    <tr>\n",
              "      <th>399931</th>\n",
              "      <td>contradiction</td>\n",
              "      <td>A child leans over a display made up of blue and yellow plastic, while an adult looks on.</td>\n",
              "      <td>the baby is planning a terrorist attack</td>\n",
              "    </tr>\n",
              "    <tr>\n",
              "      <th>403323</th>\n",
              "      <td>neutral</td>\n",
              "      <td>A man in a blue-collared shirt is seen watching a man at his cart in the evening.</td>\n",
              "      <td>The FBI agent watches the potential terrorist closely.</td>\n",
              "    </tr>\n",
              "    <tr>\n",
              "      <th>437377</th>\n",
              "      <td>neutral</td>\n",
              "      <td>A young boy crawling under a police barrier.</td>\n",
              "      <td>The boy is a terrorist.</td>\n",
              "    </tr>\n",
              "    <tr>\n",
              "      <th>444218</th>\n",
              "      <td>contradiction</td>\n",
              "      <td>Tourists are walking the streets and looking at the shops' goods.</td>\n",
              "      <td>The tourists are planning an terrorist attack.</td>\n",
              "    </tr>\n",
              "    <tr>\n",
              "      <th>445839</th>\n",
              "      <td>neutral</td>\n",
              "      <td>Two soldiers are taking refuge behind some guard rails.</td>\n",
              "      <td>men are fighting terrorists</td>\n",
              "    </tr>\n",
              "    <tr>\n",
              "      <th>462727</th>\n",
              "      <td>neutral</td>\n",
              "      <td>Two asian security forces conducting a patrol.</td>\n",
              "      <td>They hunt terrorists.</td>\n",
              "    </tr>\n",
              "    <tr>\n",
              "      <th>486546</th>\n",
              "      <td>neutral</td>\n",
              "      <td>A man wearing a gas mask is cleaning a toilet.</td>\n",
              "      <td>A terrorist removes volatile materials from a toilet.</td>\n",
              "    </tr>\n",
              "    <tr>\n",
              "      <th>513847</th>\n",
              "      <td>neutral</td>\n",
              "      <td>Two men are approaching a gold colored statue of Gandhi.</td>\n",
              "      <td>Two terrorists are walking to the statue of Gandhi to tear it down.</td>\n",
              "    </tr>\n",
              "    <tr>\n",
              "      <th>548652</th>\n",
              "      <td>contradiction</td>\n",
              "      <td>A young man in a subway walking.</td>\n",
              "      <td>a young man is chasing a terrorist through the subway tunnel.</td>\n",
              "    </tr>\n",
              "  </tbody>\n",
              "</table>\n",
              "</div>"
            ],
            "text/plain": [
              "           gold_label  \\\n",
              "51534   neutral         \n",
              "54040   contradiction   \n",
              "82780   contradiction   \n",
              "97940   contradiction   \n",
              "98016   contradiction   \n",
              "98018   entailment      \n",
              "117324  neutral         \n",
              "119273  neutral         \n",
              "130270  neutral         \n",
              "135622  neutral         \n",
              "149999  neutral         \n",
              "152209  contradiction   \n",
              "155904  contradiction   \n",
              "162873  neutral         \n",
              "178450  neutral         \n",
              "186290  neutral         \n",
              "226961  neutral         \n",
              "249647  contradiction   \n",
              "269199  contradiction   \n",
              "295048  contradiction   \n",
              "334065  contradiction   \n",
              "399931  contradiction   \n",
              "403323  neutral         \n",
              "437377  neutral         \n",
              "444218  contradiction   \n",
              "445839  neutral         \n",
              "462727  neutral         \n",
              "486546  neutral         \n",
              "513847  neutral         \n",
              "548652  contradiction   \n",
              "\n",
              "                                                                                                                                sentence1  \\\n",
              "51534   People praying by a car while another reads something from a large piece of paper.                                                  \n",
              "54040   A young woman is standing in a darkly-lit room with two red lamps hanging overhead.                                                 \n",
              "82780   Children sitting and writing.                                                                                                       \n",
              "97940   A man holds up a tiny sign reading \"I'm a photographer not a terrorist.\"                                                            \n",
              "98016   A man is holding a souvenir that says \"I'm a photographer not a terrorist\" at what appears to be a rally somewhere in Europe.       \n",
              "98018   A man is holding a souvenir that says \"I'm a photographer not a terrorist\" at what appears to be a rally somewhere in Europe.       \n",
              "117324  A man holds a flying national flag amid debris and smoke.                                                                           \n",
              "119273  A group of people are congregating outside with a wave flying and a banner of foreign writing on it.                                \n",
              "130270  Several Muslim worshipers march towards Mecca.                                                                                      \n",
              "135622  Military personnel patrol an area.                                                                                                  \n",
              "149999  An unidentified curved street with three people walking away from the camera.                                                       \n",
              "152209  Two men pushing wheelbarrows, two men looking at them, they are in the desert near some block construction buildings.               \n",
              "155904  A man in a t-shirt and shorts poses in front of a police squad wearing full S.W.A.T. gear.                                          \n",
              "162873  Two people holding weapons, Wearing black uniforms facing each other.                                                               \n",
              "178450  This memorial is to remember victims of a tragedy.                                                                                  \n",
              "186290  Protesters walking down the street holding Palestinian flags.                                                                       \n",
              "226961  Military arrest a man in the middle of the street.                                                                                  \n",
              "249647  A man holds up a small sticker that says \"I am a photographer, not a terrorist\" while standing among a large group of protesters.   \n",
              "269199  Three people are standing in front of a sign that has an american flag on it.                                                       \n",
              "295048  A woman inside a building is wearing a headscarf and looking out of a window through a mounted telescope.                           \n",
              "334065  A man who has his face covered with a turban is carrying a weapon.                                                                  \n",
              "399931  A child leans over a display made up of blue and yellow plastic, while an adult looks on.                                           \n",
              "403323  A man in a blue-collared shirt is seen watching a man at his cart in the evening.                                                   \n",
              "437377  A young boy crawling under a police barrier.                                                                                        \n",
              "444218  Tourists are walking the streets and looking at the shops' goods.                                                                   \n",
              "445839  Two soldiers are taking refuge behind some guard rails.                                                                             \n",
              "462727  Two asian security forces conducting a patrol.                                                                                      \n",
              "486546  A man wearing a gas mask is cleaning a toilet.                                                                                      \n",
              "513847  Two men are approaching a gold colored statue of Gandhi.                                                                            \n",
              "548652  A young man in a subway walking.                                                                                                    \n",
              "\n",
              "                                                                                                   sentence2  \n",
              "51534   The people read the newspaper in horror of the recent American terrorist attacks.                     \n",
              "54040   George Washington has released a video claiming responsibility for the most recent terrorist attack.  \n",
              "82780   Children writing bomb threats to mail to terrorists.                                                  \n",
              "97940   A cat is a terrorist.                                                                                 \n",
              "98016   A man is stealing someones souvenir that says \"I'm a terrorist not a photographer please shoot me\".   \n",
              "98018   Ar a rally in Europe a man is holding a souvenir that says \"I'm a photographer not a terrorist\".      \n",
              "117324  The flag is raised as a symbol of strength after the terrorist attack.                                \n",
              "119273  The people are terrorists                                                                             \n",
              "130270  The Muslims are terrorists.                                                                           \n",
              "135622  Soldiers are looking for an escaped terrorist.                                                        \n",
              "149999  an unidentified curved street with three peoples are terrorist                                        \n",
              "152209  A terrorist group plotting what to do next.                                                           \n",
              "155904  A man is fighting invisible terrorists                                                                \n",
              "162873  two people terrorist                                                                                  \n",
              "178450  A memorial for the 9/11 terrorist attacks.                                                            \n",
              "186290  The protesters are terrorists.                                                                        \n",
              "226961  MP's arrest a terrorist.                                                                              \n",
              "249647  the man is a terrorist.                                                                               \n",
              "269199  A group of terrorists blowing themselves up.                                                          \n",
              "295048  A woman is planning a terrorist attack and looking at targets through a mounted telescope.            \n",
              "334065  The terrorists have licorice.                                                                         \n",
              "399931  the baby is planning a terrorist attack                                                               \n",
              "403323  The FBI agent watches the potential terrorist closely.                                                \n",
              "437377  The boy is a terrorist.                                                                               \n",
              "444218  The tourists are planning an terrorist attack.                                                        \n",
              "445839  men are fighting terrorists                                                                           \n",
              "462727  They hunt terrorists.                                                                                 \n",
              "486546  A terrorist removes volatile materials from a toilet.                                                 \n",
              "513847  Two terrorists are walking to the statue of Gandhi to tear it down.                                   \n",
              "548652  a young man is chasing a terrorist through the subway tunnel.                                         "
            ]
          },
          "execution_count": 29,
          "metadata": {},
          "output_type": "execute_result"
        }
      ],
      "source": [
        "search_term = \"terrorist\"\n",
        "mask = snli_data[\"sentence2\"].str.contains(search_term, case=False, na=False)\n",
        "pd.set_option('display.max_colwidth', 0)\n",
        "#pd.set_option(\"display.max_rows\", None)\n",
        "snli_data[mask][[\"gold_label\",\"sentence1\",\"sentence2\"]]\n",
        "\n"
      ]
    }
  ],
  "metadata": {
    "colab": {
      "provenance": []
    },
    "kernelspec": {
      "display_name": "Python 3",
      "name": "python3"
    },
    "language_info": {
      "codemirror_mode": {
        "name": "ipython",
        "version": 3
      },
      "file_extension": ".py",
      "mimetype": "text/x-python",
      "name": "python",
      "nbconvert_exporter": "python",
      "pygments_lexer": "ipython3",
      "version": "3.12.3"
    }
  },
  "nbformat": 4,
  "nbformat_minor": 0
}
